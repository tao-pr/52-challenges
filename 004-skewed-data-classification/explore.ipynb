{
 "cells": [
  {
   "cell_type": "code",
   "execution_count": 1,
   "metadata": {},
   "outputs": [],
   "source": [
    "import numpy as np\n",
    "import pandas as pd\n",
    "import seaborn as sns\n",
    "import importlib\n",
    "import os\n",
    "\n",
    "import matplotlib.pyplot as plt\n",
    "import plotly.graph_objects as go\n",
    "\n",
    "from datetime import datetime\n",
    "\n",
    "from libdata import wrangle\n",
    "from libdata import func"
   ]
  },
  {
   "cell_type": "code",
   "execution_count": 2,
   "metadata": {},
   "outputs": [],
   "source": [
    "%load_ext autoreload\n",
    "%autoreload 3"
   ]
  },
  {
   "cell_type": "markdown",
   "metadata": {},
   "source": [
    "# Read data"
   ]
  },
  {
   "cell_type": "code",
   "execution_count": 3,
   "metadata": {},
   "outputs": [],
   "source": [
    "city_temp_file = os.path.join(\n",
    "    os.environ['HOME'], \n",
    "    'data',\n",
    "    'global-temperature',\n",
    "    'GlobalLandTemperaturesByCity.csv')\n",
    "global_temp_file = os.path.join(\n",
    "    os.environ['HOME'], \n",
    "    'data',\n",
    "    'global-temperature',\n",
    "    'GlobalTemperatures.csv')"
   ]
  },
  {
   "cell_type": "code",
   "execution_count": 4,
   "metadata": {},
   "outputs": [],
   "source": [
    "city_temp = pd.read_csv(city_temp_file)\n",
    "global_temp = pd.read_csv(global_temp_file)"
   ]
  },
  {
   "cell_type": "code",
   "execution_count": 5,
   "metadata": {},
   "outputs": [
    {
     "data": {
      "text/html": [
       "<div>\n",
       "<style scoped>\n",
       "    .dataframe tbody tr th:only-of-type {\n",
       "        vertical-align: middle;\n",
       "    }\n",
       "\n",
       "    .dataframe tbody tr th {\n",
       "        vertical-align: top;\n",
       "    }\n",
       "\n",
       "    .dataframe thead th {\n",
       "        text-align: right;\n",
       "    }\n",
       "</style>\n",
       "<table border=\"1\" class=\"dataframe\">\n",
       "  <thead>\n",
       "    <tr style=\"text-align: right;\">\n",
       "      <th></th>\n",
       "      <th>dt</th>\n",
       "      <th>AverageTemperature</th>\n",
       "      <th>AverageTemperatureUncertainty</th>\n",
       "      <th>City</th>\n",
       "      <th>Country</th>\n",
       "      <th>Latitude</th>\n",
       "      <th>Longitude</th>\n",
       "    </tr>\n",
       "  </thead>\n",
       "  <tbody>\n",
       "    <tr>\n",
       "      <th>0</th>\n",
       "      <td>1743-11-01</td>\n",
       "      <td>6.068</td>\n",
       "      <td>1.737</td>\n",
       "      <td>Århus</td>\n",
       "      <td>Denmark</td>\n",
       "      <td>57.05N</td>\n",
       "      <td>10.33E</td>\n",
       "    </tr>\n",
       "    <tr>\n",
       "      <th>1</th>\n",
       "      <td>1743-12-01</td>\n",
       "      <td>NaN</td>\n",
       "      <td>NaN</td>\n",
       "      <td>Århus</td>\n",
       "      <td>Denmark</td>\n",
       "      <td>57.05N</td>\n",
       "      <td>10.33E</td>\n",
       "    </tr>\n",
       "    <tr>\n",
       "      <th>2</th>\n",
       "      <td>1744-01-01</td>\n",
       "      <td>NaN</td>\n",
       "      <td>NaN</td>\n",
       "      <td>Århus</td>\n",
       "      <td>Denmark</td>\n",
       "      <td>57.05N</td>\n",
       "      <td>10.33E</td>\n",
       "    </tr>\n",
       "    <tr>\n",
       "      <th>3</th>\n",
       "      <td>1744-02-01</td>\n",
       "      <td>NaN</td>\n",
       "      <td>NaN</td>\n",
       "      <td>Århus</td>\n",
       "      <td>Denmark</td>\n",
       "      <td>57.05N</td>\n",
       "      <td>10.33E</td>\n",
       "    </tr>\n",
       "    <tr>\n",
       "      <th>4</th>\n",
       "      <td>1744-03-01</td>\n",
       "      <td>NaN</td>\n",
       "      <td>NaN</td>\n",
       "      <td>Århus</td>\n",
       "      <td>Denmark</td>\n",
       "      <td>57.05N</td>\n",
       "      <td>10.33E</td>\n",
       "    </tr>\n",
       "  </tbody>\n",
       "</table>\n",
       "</div>"
      ],
      "text/plain": [
       "           dt  AverageTemperature  AverageTemperatureUncertainty   City  \\\n",
       "0  1743-11-01               6.068                          1.737  Århus   \n",
       "1  1743-12-01                 NaN                            NaN  Århus   \n",
       "2  1744-01-01                 NaN                            NaN  Århus   \n",
       "3  1744-02-01                 NaN                            NaN  Århus   \n",
       "4  1744-03-01                 NaN                            NaN  Århus   \n",
       "\n",
       "   Country Latitude Longitude  \n",
       "0  Denmark   57.05N    10.33E  \n",
       "1  Denmark   57.05N    10.33E  \n",
       "2  Denmark   57.05N    10.33E  \n",
       "3  Denmark   57.05N    10.33E  \n",
       "4  Denmark   57.05N    10.33E  "
      ]
     },
     "execution_count": 5,
     "metadata": {},
     "output_type": "execute_result"
    }
   ],
   "source": [
    "city_temp[:5]"
   ]
  },
  {
   "cell_type": "code",
   "execution_count": 6,
   "metadata": {},
   "outputs": [
    {
     "data": {
      "text/html": [
       "<div>\n",
       "<style scoped>\n",
       "    .dataframe tbody tr th:only-of-type {\n",
       "        vertical-align: middle;\n",
       "    }\n",
       "\n",
       "    .dataframe tbody tr th {\n",
       "        vertical-align: top;\n",
       "    }\n",
       "\n",
       "    .dataframe thead th {\n",
       "        text-align: right;\n",
       "    }\n",
       "</style>\n",
       "<table border=\"1\" class=\"dataframe\">\n",
       "  <thead>\n",
       "    <tr style=\"text-align: right;\">\n",
       "      <th></th>\n",
       "      <th>dt</th>\n",
       "      <th>LandAverageTemperature</th>\n",
       "      <th>LandAverageTemperatureUncertainty</th>\n",
       "      <th>LandMaxTemperature</th>\n",
       "      <th>LandMaxTemperatureUncertainty</th>\n",
       "      <th>LandMinTemperature</th>\n",
       "      <th>LandMinTemperatureUncertainty</th>\n",
       "      <th>LandAndOceanAverageTemperature</th>\n",
       "      <th>LandAndOceanAverageTemperatureUncertainty</th>\n",
       "    </tr>\n",
       "  </thead>\n",
       "  <tbody>\n",
       "    <tr>\n",
       "      <th>0</th>\n",
       "      <td>1750-01-01</td>\n",
       "      <td>3.034</td>\n",
       "      <td>3.574</td>\n",
       "      <td>NaN</td>\n",
       "      <td>NaN</td>\n",
       "      <td>NaN</td>\n",
       "      <td>NaN</td>\n",
       "      <td>NaN</td>\n",
       "      <td>NaN</td>\n",
       "    </tr>\n",
       "    <tr>\n",
       "      <th>1</th>\n",
       "      <td>1750-02-01</td>\n",
       "      <td>3.083</td>\n",
       "      <td>3.702</td>\n",
       "      <td>NaN</td>\n",
       "      <td>NaN</td>\n",
       "      <td>NaN</td>\n",
       "      <td>NaN</td>\n",
       "      <td>NaN</td>\n",
       "      <td>NaN</td>\n",
       "    </tr>\n",
       "    <tr>\n",
       "      <th>2</th>\n",
       "      <td>1750-03-01</td>\n",
       "      <td>5.626</td>\n",
       "      <td>3.076</td>\n",
       "      <td>NaN</td>\n",
       "      <td>NaN</td>\n",
       "      <td>NaN</td>\n",
       "      <td>NaN</td>\n",
       "      <td>NaN</td>\n",
       "      <td>NaN</td>\n",
       "    </tr>\n",
       "    <tr>\n",
       "      <th>3</th>\n",
       "      <td>1750-04-01</td>\n",
       "      <td>8.490</td>\n",
       "      <td>2.451</td>\n",
       "      <td>NaN</td>\n",
       "      <td>NaN</td>\n",
       "      <td>NaN</td>\n",
       "      <td>NaN</td>\n",
       "      <td>NaN</td>\n",
       "      <td>NaN</td>\n",
       "    </tr>\n",
       "    <tr>\n",
       "      <th>4</th>\n",
       "      <td>1750-05-01</td>\n",
       "      <td>11.573</td>\n",
       "      <td>2.072</td>\n",
       "      <td>NaN</td>\n",
       "      <td>NaN</td>\n",
       "      <td>NaN</td>\n",
       "      <td>NaN</td>\n",
       "      <td>NaN</td>\n",
       "      <td>NaN</td>\n",
       "    </tr>\n",
       "  </tbody>\n",
       "</table>\n",
       "</div>"
      ],
      "text/plain": [
       "           dt  LandAverageTemperature  LandAverageTemperatureUncertainty  \\\n",
       "0  1750-01-01                   3.034                              3.574   \n",
       "1  1750-02-01                   3.083                              3.702   \n",
       "2  1750-03-01                   5.626                              3.076   \n",
       "3  1750-04-01                   8.490                              2.451   \n",
       "4  1750-05-01                  11.573                              2.072   \n",
       "\n",
       "   LandMaxTemperature  LandMaxTemperatureUncertainty  LandMinTemperature  \\\n",
       "0                 NaN                            NaN                 NaN   \n",
       "1                 NaN                            NaN                 NaN   \n",
       "2                 NaN                            NaN                 NaN   \n",
       "3                 NaN                            NaN                 NaN   \n",
       "4                 NaN                            NaN                 NaN   \n",
       "\n",
       "   LandMinTemperatureUncertainty  LandAndOceanAverageTemperature  \\\n",
       "0                            NaN                             NaN   \n",
       "1                            NaN                             NaN   \n",
       "2                            NaN                             NaN   \n",
       "3                            NaN                             NaN   \n",
       "4                            NaN                             NaN   \n",
       "\n",
       "   LandAndOceanAverageTemperatureUncertainty  \n",
       "0                                        NaN  \n",
       "1                                        NaN  \n",
       "2                                        NaN  \n",
       "3                                        NaN  \n",
       "4                                        NaN  "
      ]
     },
     "execution_count": 6,
     "metadata": {},
     "output_type": "execute_result"
    }
   ],
   "source": [
    "global_temp[:5]"
   ]
  },
  {
   "cell_type": "markdown",
   "metadata": {},
   "source": [
    "# Explore distributions"
   ]
  },
  {
   "cell_type": "markdown",
   "metadata": {},
   "source": [
    "## Global temperature (by month)"
   ]
  },
  {
   "cell_type": "code",
   "execution_count": 7,
   "metadata": {},
   "outputs": [],
   "source": [
    "global_temp = wrangle.split_month_year(global_temp)"
   ]
  },
  {
   "cell_type": "code",
   "execution_count": 8,
   "metadata": {},
   "outputs": [
    {
     "data": {
      "text/plain": [
       "Index(['dt', 'LandAverageTemperature', 'LandAverageTemperatureUncertainty',\n",
       "       'LandMaxTemperature', 'LandMaxTemperatureUncertainty',\n",
       "       'LandMinTemperature', 'LandMinTemperatureUncertainty',\n",
       "       'LandAndOceanAverageTemperature',\n",
       "       'LandAndOceanAverageTemperatureUncertainty', 'year', 'month'],\n",
       "      dtype='object')"
      ]
     },
     "execution_count": 8,
     "metadata": {},
     "output_type": "execute_result"
    }
   ],
   "source": [
    "global_temp.columns"
   ]
  },
  {
   "cell_type": "code",
   "execution_count": 9,
   "metadata": {},
   "outputs": [
    {
     "data": {
      "text/plain": [
       "(1750, 2015)"
      ]
     },
     "execution_count": 9,
     "metadata": {},
     "output_type": "execute_result"
    }
   ],
   "source": [
    "(min(global_temp.year), max(global_temp.year))"
   ]
  },
  {
   "cell_type": "code",
   "execution_count": 27,
   "metadata": {},
   "outputs": [
    {
     "data": {
      "text/html": [
       "<div>\n",
       "<style scoped>\n",
       "    .dataframe tbody tr th:only-of-type {\n",
       "        vertical-align: middle;\n",
       "    }\n",
       "\n",
       "    .dataframe tbody tr th {\n",
       "        vertical-align: top;\n",
       "    }\n",
       "\n",
       "    .dataframe thead th {\n",
       "        text-align: right;\n",
       "    }\n",
       "</style>\n",
       "<table border=\"1\" class=\"dataframe\">\n",
       "  <thead>\n",
       "    <tr style=\"text-align: right;\">\n",
       "      <th></th>\n",
       "      <th>year</th>\n",
       "      <th>month</th>\n",
       "      <th>AverageTemperature</th>\n",
       "    </tr>\n",
       "  </thead>\n",
       "  <tbody>\n",
       "    <tr>\n",
       "      <th>3187</th>\n",
       "      <td>2015</td>\n",
       "      <td>8</td>\n",
       "      <td>14.755</td>\n",
       "    </tr>\n",
       "    <tr>\n",
       "      <th>3188</th>\n",
       "      <td>2015</td>\n",
       "      <td>9</td>\n",
       "      <td>12.999</td>\n",
       "    </tr>\n",
       "    <tr>\n",
       "      <th>3189</th>\n",
       "      <td>2015</td>\n",
       "      <td>10</td>\n",
       "      <td>10.801</td>\n",
       "    </tr>\n",
       "    <tr>\n",
       "      <th>3190</th>\n",
       "      <td>2015</td>\n",
       "      <td>11</td>\n",
       "      <td>7.433</td>\n",
       "    </tr>\n",
       "    <tr>\n",
       "      <th>3191</th>\n",
       "      <td>2015</td>\n",
       "      <td>12</td>\n",
       "      <td>5.518</td>\n",
       "    </tr>\n",
       "  </tbody>\n",
       "</table>\n",
       "</div>"
      ],
      "text/plain": [
       "      year  month  AverageTemperature\n",
       "3187  2015      8              14.755\n",
       "3188  2015      9              12.999\n",
       "3189  2015     10              10.801\n",
       "3190  2015     11               7.433\n",
       "3191  2015     12               5.518"
      ]
     },
     "execution_count": 27,
     "metadata": {},
     "output_type": "execute_result"
    }
   ],
   "source": [
    "# Aggregate by year for plotting\n",
    "monthly_global_temp = global_temp.groupby(['year','month']).agg({\n",
    "    'LandAverageTemperature': ['min']\n",
    "})\n",
    "monthly_global_temp.reset_index(inplace=True)\n",
    "monthly_global_temp.columns = ['year','month','AverageTemperature']\n",
    "monthly_global_temp[-5:]"
   ]
  },
  {
   "cell_type": "markdown",
   "metadata": {},
   "source": [
    "Min/Max temperatures of each year"
   ]
  },
  {
   "cell_type": "code",
   "execution_count": 64,
   "metadata": {},
   "outputs": [
    {
     "data": {
      "text/html": [
       "<div>\n",
       "<style scoped>\n",
       "    .dataframe tbody tr th:only-of-type {\n",
       "        vertical-align: middle;\n",
       "    }\n",
       "\n",
       "    .dataframe tbody tr th {\n",
       "        vertical-align: top;\n",
       "    }\n",
       "\n",
       "    .dataframe thead tr th {\n",
       "        text-align: left;\n",
       "    }\n",
       "</style>\n",
       "<table border=\"1\" class=\"dataframe\">\n",
       "  <thead>\n",
       "    <tr>\n",
       "      <th></th>\n",
       "      <th>year</th>\n",
       "      <th colspan=\"2\" halign=\"left\">LandAverageTemperature</th>\n",
       "    </tr>\n",
       "    <tr>\n",
       "      <th></th>\n",
       "      <th></th>\n",
       "      <th>min</th>\n",
       "      <th>max</th>\n",
       "    </tr>\n",
       "  </thead>\n",
       "  <tbody>\n",
       "    <tr>\n",
       "      <th>0</th>\n",
       "      <td>1750</td>\n",
       "      <td>2.772</td>\n",
       "      <td>15.868</td>\n",
       "    </tr>\n",
       "    <tr>\n",
       "      <th>1</th>\n",
       "      <td>1751</td>\n",
       "      <td>0.963</td>\n",
       "      <td>14.405</td>\n",
       "    </tr>\n",
       "    <tr>\n",
       "      <th>2</th>\n",
       "      <td>1752</td>\n",
       "      <td>0.348</td>\n",
       "      <td>8.265</td>\n",
       "    </tr>\n",
       "    <tr>\n",
       "      <th>3</th>\n",
       "      <td>1753</td>\n",
       "      <td>0.559</td>\n",
       "      <td>15.092</td>\n",
       "    </tr>\n",
       "    <tr>\n",
       "      <th>4</th>\n",
       "      <td>1754</td>\n",
       "      <td>-1.249</td>\n",
       "      <td>14.681</td>\n",
       "    </tr>\n",
       "  </tbody>\n",
       "</table>\n",
       "</div>"
      ],
      "text/plain": [
       "   year LandAverageTemperature        \n",
       "                           min     max\n",
       "0  1750                  2.772  15.868\n",
       "1  1751                  0.963  14.405\n",
       "2  1752                  0.348   8.265\n",
       "3  1753                  0.559  15.092\n",
       "4  1754                 -1.249  14.681"
      ]
     },
     "execution_count": 64,
     "metadata": {},
     "output_type": "execute_result"
    }
   ],
   "source": [
    "bound_global_temp = global_temp.groupby('year').agg({\n",
    "    'LandAverageTemperature': ['min','max']\n",
    "}).reset_index(drop=False)\n",
    "bound_global_temp[:5]"
   ]
  },
  {
   "cell_type": "code",
   "execution_count": 72,
   "metadata": {},
   "outputs": [
    {
     "data": {
      "image/png": "[encoded data removed]",
      "text/plain": [
       "<Figure size 432x288 with 1 Axes>"
      ]
     },
     "metadata": {
      "needs_background": "light"
     },
     "output_type": "display_data"
    }
   ],
   "source": [
    "fig = plt.figure()\n",
    "# split into 4 quaters of the year \n",
    "# and plot comparison\n",
    "\n",
    "mgt = monthly_global_temp[monthly_global_temp['year'] >= 1900]\n",
    "bound = bound_global_temp[bound_global_temp['year'] >= 1900]\n",
    "\n",
    "q = [1,4,7,10,13]\n",
    "t = mgt['year'].drop_duplicates(keep='first')\n",
    "Q = {1: 'Winter', 4: 'Spring', 7: 'Summer', 10: 'Autumn'}\n",
    "\n",
    "for lower, upper in [(a,b-1) for a,b in zip(q,q[1:])]:\n",
    "    y = mgt[(mgt['month'] >= lower) & (mgt['month'] <= upper)]\n",
    "    y = y.groupby('year').agg({'AverageTemperature':'mean'})\n",
    "    plt.plot(t, y['AverageTemperature'], label=Q[lower])\n",
    "    \n",
    "plt.plot(t, bound['LandAverageTemperature']['min'], 'g--', label='min', alpha=0.1)\n",
    "plt.plot(t, bound['LandAverageTemperature']['max'], 'g--', label='max', alpha=0.3)\n",
    "plt.fill_between(\n",
    "    t, \n",
    "    bound['LandAverageTemperature']['min'], \n",
    "    bound['LandAverageTemperature']['max'],\n",
    "    facecolor='green', alpha=0.1)\n",
    "\n",
    "plt.title('Average Temperature 1900-2020')\n",
    "plt.legend()\n",
    "plt.show()"
   ]
  },
  {
   "cell_type": "code",
   "execution_count": 79,
   "metadata": {},
   "outputs": [
    {
     "data": {
      "application/vnd.plotly.v1+json": {
       "config": {
        "plotlyServerURL": "https://plot.ly"
       },
       "data": [
        {
         "close": [
          8.764666666666667,
          8.768666666666668,
          8.728416666666666,
          8.755083333333333,
          8.845,
          8.584833333333332,
          8.676916666666669,
          8.797083333333333,
          8.74675,
          8.586749999999999,
          8.365250000000001,
          8.625666666666666,
          8.638250000000001,
          8.873750000000001,
          8.560666666666666,
          8.62625,
          8.279583333333333,
          8.7325,
          8.77375,
          8.732666666666665,
          8.58375,
          8.797666666666666,
          8.745916666666666,
          8.856,
          8.409666666666666,
          8.527416666666667,
          8.599333333333332,
          8.700083333333334,
          8.516333333333334,
          8.595083333333333,
          8.700916666666666,
          8.59925,
          8.499583333333334,
          8.948249999999998,
          8.4675,
          8.744833333333334,
          8.347249999999999,
          8.850249999999999,
          8.692749999999998,
          8.733416666666665,
          8.980333333333332,
          9.165833333333333,
          8.639166666666666,
          9.028166666666666,
          8.691833333333335,
          8.658,
          8.833583333333332,
          8.994416666666668,
          9.201583333333334,
          8.921999999999999,
          9.234166666666667,
          9.179416666666667,
          8.836583333333332,
          8.866583333333333,
          9.038749999999999,
          9.347083333333332,
          9.038916666666667,
          9.202583333333333,
          9.522666666666666,
          9.285083333333333,
          9.201166666666667,
          9.414583333333335,
          9.570416666666667,
          9.525583333333334,
          9.324583333333333,
          9.700916666666666,
          9.532499999999999,
          9.732166666666664,
          9.431750000000001,
          9.505250000000002,
          9.703083333333332,
          9.516,
          9.507333333333333,
          9.606499999999999,
          9.570666666666666,
          9.830999999999998
         ],
         "high": [
          14.571,
          14.694,
          14.242,
          14.46,
          14.468,
          14.313,
          14.409,
          14.349,
          14.445,
          14.199000000000002,
          14.14,
          14.324000000000002,
          14.549,
          14.392,
          14.241,
          14.283,
          14.18,
          14.129,
          14.438,
          14.449000000000002,
          14.198,
          14.288,
          14.205,
          14.505999999999998,
          14.300999999999998,
          14.078,
          14.569,
          14.331,
          14.026,
          14.218,
          14.395,
          14.139,
          14.231,
          14.435,
          14.288,
          14.351,
          14.155,
          14.630999999999998,
          14.364,
          14.114,
          14.742,
          14.738,
          14.545,
          14.408,
          14.429,
          14.059,
          14.293,
          14.89,
          14.798,
          14.612,
          14.784,
          14.987,
          14.139,
          14.595,
          14.658,
          15.116,
          14.827,
          14.565,
          15.34,
          14.853,
          14.848,
          15.161,
          15.354000000000001,
          14.983,
          14.312,
          15.19,
          15.042,
          15.23,
          15.174,
          15.231,
          15.213,
          15.482,
          15.076,
          15.003,
          14.875,
          15.050999999999998
         ],
         "low": [
          2.335,
          2.7350000000000003,
          2.857,
          2.396,
          3.4339999999999997,
          2.525,
          2.979,
          2.597,
          3.22,
          2.759,
          2.008,
          2.138,
          3.049,
          2.964,
          2.059,
          3.137,
          2.466,
          2.488,
          3.5740000000000003,
          2.959,
          2.713,
          2.926,
          3.003,
          2.9010000000000002,
          2.8810000000000002,
          2.862,
          2.49,
          2.71,
          2.353,
          1.966,
          2.8360000000000003,
          2.867,
          1.882,
          3.0380000000000003,
          2.261,
          3.059,
          2.884,
          2.492,
          2.705,
          2.6790000000000003,
          2.9560000000000004,
          3.785,
          2.5580000000000003,
          3.4450000000000003,
          2.9410000000000003,
          2.7039999999999997,
          3.315,
          3.139,
          3.422,
          2.71,
          3.2430000000000003,
          3.1950000000000003,
          3.579,
          3.301,
          2.81,
          3.54,
          2.862,
          3.165,
          3.3520000000000003,
          3.544,
          2.95,
          3.3360000000000003,
          4.026,
          3.981,
          3.5250000000000004,
          3.808,
          3.286,
          4.221,
          2.8440000000000003,
          3.687,
          3.737,
          3.282,
          3.157,
          3.685,
          3.5,
          3.8810000000000002
         ],
         "open": [
          8.764666666666667,
          8.768666666666668,
          8.728416666666666,
          8.755083333333333,
          8.845,
          8.584833333333332,
          8.676916666666669,
          8.797083333333333,
          8.74675,
          8.586749999999999,
          8.365250000000001,
          8.625666666666666,
          8.638250000000001,
          8.873750000000001,
          8.560666666666666,
          8.62625,
          8.279583333333333,
          8.7325,
          8.77375,
          8.732666666666665,
          8.58375,
          8.797666666666666,
          8.745916666666666,
          8.856,
          8.409666666666666,
          8.527416666666667,
          8.599333333333332,
          8.700083333333334,
          8.516333333333334,
          8.595083333333333,
          8.700916666666666,
          8.59925,
          8.499583333333334,
          8.948249999999998,
          8.4675,
          8.744833333333334,
          8.347249999999999,
          8.850249999999999,
          8.692749999999998,
          8.733416666666665,
          8.980333333333332,
          9.165833333333333,
          8.639166666666666,
          9.028166666666666,
          8.691833333333335,
          8.658,
          8.833583333333332,
          8.994416666666668,
          9.201583333333334,
          8.921999999999999,
          9.234166666666667,
          9.179416666666667,
          8.836583333333332,
          8.866583333333333,
          9.038749999999999,
          9.347083333333332,
          9.038916666666667,
          9.202583333333333,
          9.522666666666666,
          9.285083333333333,
          9.201166666666667,
          9.414583333333335,
          9.570416666666667,
          9.525583333333334,
          9.324583333333333,
          9.700916666666666,
          9.532499999999999,
          9.732166666666664,
          9.431750000000001,
          9.505250000000002,
          9.703083333333332,
          9.516,
          9.507333333333333,
          9.606499999999999,
          9.570666666666666,
          9.830999999999998
         ],
         "type": "candlestick",
         "x": [
          1940,
          1941,
          1942,
          1943,
          1944,
          1945,
          1946,
          1947,
          1948,
          1949,
          1950,
          1951,
          1952,
          1953,
          1954,
          1955,
          1956,
          1957,
          1958,
          1959,
          1960,
          1961,
          1962,
          1963,
          1964,
          1965,
          1966,
          1967,
          1968,
          1969,
          1970,
          1971,
          1972,
          1973,
          1974,
          1975,
          1976,
          1977,
          1978,
          1979,
          1980,
          1981,
          1982,
          1983,
          1984,
          1985,
          1986,
          1987,
          1988,
          1989,
          1990,
          1991,
          1992,
          1993,
          1994,
          1995,
          1996,
          1997,
          1998,
          1999,
          2000,
          2001,
          2002,
          2003,
          2004,
          2005,
          2006,
          2007,
          2008,
          2009,
          2010,
          2011,
          2012,
          2013,
          2014,
          2015
         ]
        }
       ],
       "layout": {
        "template": {
         "data": {
          "bar": [
           {
            "error_x": {
             "color": "#2a3f5f"
            },
            "error_y": {
             "color": "#2a3f5f"
            },
            "marker": {
             "line": {
              "color": "#E5ECF6",
              "width": 0.5
             }
            },
            "type": "bar"
           }
          ],
          "barpolar": [
           {
            "marker": {
             "line": {
              "color": "#E5ECF6",
              "width": 0.5
             }
            },
            "type": "barpolar"
           }
          ],
          "carpet": [
           {
            "aaxis": {
             "endlinecolor": "#2a3f5f",
             "gridcolor": "white",
             "linecolor": "white",
             "minorgridcolor": "white",
             "startlinecolor": "#2a3f5f"
            },
            "baxis": {
             "endlinecolor": "#2a3f5f",
             "gridcolor": "white",
             "linecolor": "white",
             "minorgridcolor": "white",
             "startlinecolor": "#2a3f5f"
            },
            "type": "carpet"
           }
          ],
          "choropleth": [
           {
            "colorbar": {
             "outlinewidth": 0,
             "ticks": ""
            },
            "type": "choropleth"
           }
          ],
          "contour": [
           {
            "colorbar": {
             "outlinewidth": 0,
             "ticks": ""
            },
            "colorscale": [
             [
              0,
              "#0d0887"
             ],
             [
              0.1111111111111111,
              "#46039f"
             ],
             [
              0.2222222222222222,
              "#7201a8"
             ],
             [
              0.3333333333333333,
              "#9c179e"
             ],
             [
              0.4444444444444444,
              "#bd3786"
             ],
             [
              0.5555555555555556,
              "#d8576b"
             ],
             [
              0.6666666666666666,
              "#ed7953"
             ],
             [
              0.7777777777777778,
              "#fb9f3a"
             ],
             [
              0.8888888888888888,
              "#fdca26"
             ],
             [
              1,
              "#f0f921"
             ]
            ],
            "type": "contour"
           }
          ],
          "contourcarpet": [
           {
            "colorbar": {
             "outlinewidth": 0,
             "ticks": ""
            },
            "type": "contourcarpet"
           }
          ],
          "heatmap": [
           {
            "colorbar": {
             "outlinewidth": 0,
             "ticks": ""
            },
            "colorscale": [
             [
              0,
              "#0d0887"
             ],
             [
              0.1111111111111111,
              "#46039f"
             ],
             [
              0.2222222222222222,
              "#7201a8"
             ],
             [
              0.3333333333333333,
              "#9c179e"
             ],
             [
              0.4444444444444444,
              "#bd3786"
             ],
             [
              0.5555555555555556,
              "#d8576b"
             ],
             [
              0.6666666666666666,
              "#ed7953"
             ],
             [
              0.7777777777777778,
              "#fb9f3a"
             ],
             [
              0.8888888888888888,
              "#fdca26"
             ],
             [
              1,
              "#f0f921"
             ]
            ],
            "type": "heatmap"
           }
          ],
          "heatmapgl": [
           {
            "colorbar": {
             "outlinewidth": 0,
             "ticks": ""
            },
            "colorscale": [
             [
              0,
              "#0d0887"
             ],
             [
              0.1111111111111111,
              "#46039f"
             ],
             [
              0.2222222222222222,
              "#7201a8"
             ],
             [
              0.3333333333333333,
              "#9c179e"
             ],
             [
              0.4444444444444444,
              "#bd3786"
             ],
             [
              0.5555555555555556,
              "#d8576b"
             ],
             [
              0.6666666666666666,
              "#ed7953"
             ],
             [
              0.7777777777777778,
              "#fb9f3a"
             ],
             [
              0.8888888888888888,
              "#fdca26"
             ],
             [
              1,
              "#f0f921"
             ]
            ],
            "type": "heatmapgl"
           }
          ],
          "histogram": [
           {
            "marker": {
             "colorbar": {
              "outlinewidth": 0,
              "ticks": ""
             }
            },
            "type": "histogram"
           }
          ],
          "histogram2d": [
           {
            "colorbar": {
             "outlinewidth": 0,
             "ticks": ""
            },
            "colorscale": [
             [
              0,
              "#0d0887"
             ],
             [
              0.1111111111111111,
              "#46039f"
             ],
             [
              0.2222222222222222,
              "#7201a8"
             ],
             [
              0.3333333333333333,
              "#9c179e"
             ],
             [
              0.4444444444444444,
              "#bd3786"
             ],
             [
              0.5555555555555556,
              "#d8576b"
             ],
             [
              0.6666666666666666,
              "#ed7953"
             ],
             [
              0.7777777777777778,
              "#fb9f3a"
             ],
             [
              0.8888888888888888,
              "#fdca26"
             ],
             [
              1,
              "#f0f921"
             ]
            ],
            "type": "histogram2d"
           }
          ],
          "histogram2dcontour": [
           {
            "colorbar": {
             "outlinewidth": 0,
             "ticks": ""
            },
            "colorscale": [
             [
              0,
              "#0d0887"
             ],
             [
              0.1111111111111111,
              "#46039f"
             ],
             [
              0.2222222222222222,
              "#7201a8"
             ],
             [
              0.3333333333333333,
              "#9c179e"
             ],
             [
              0.4444444444444444,
              "#bd3786"
             ],
             [
              0.5555555555555556,
              "#d8576b"
             ],
             [
              0.6666666666666666,
              "#ed7953"
             ],
             [
              0.7777777777777778,
              "#fb9f3a"
             ],
             [
              0.8888888888888888,
              "#fdca26"
             ],
             [
              1,
              "#f0f921"
             ]
            ],
            "type": "histogram2dcontour"
           }
          ],
          "mesh3d": [
           {
            "colorbar": {
             "outlinewidth": 0,
             "ticks": ""
            },
            "type": "mesh3d"
           }
          ],
          "parcoords": [
           {
            "line": {
             "colorbar": {
              "outlinewidth": 0,
              "ticks": ""
             }
            },
            "type": "parcoords"
           }
          ],
          "scatter": [
           {
            "marker": {
             "colorbar": {
              "outlinewidth": 0,
              "ticks": ""
             }
            },
            "type": "scatter"
           }
          ],
          "scatter3d": [
           {
            "line": {
             "colorbar": {
              "outlinewidth": 0,
              "ticks": ""
             }
            },
            "marker": {
             "colorbar": {
              "outlinewidth": 0,
              "ticks": ""
             }
            },
            "type": "scatter3d"
           }
          ],
          "scattercarpet": [
           {
            "marker": {
             "colorbar": {
              "outlinewidth": 0,
              "ticks": ""
             }
            },
            "type": "scattercarpet"
           }
          ],
          "scattergeo": [
           {
            "marker": {
             "colorbar": {
              "outlinewidth": 0,
              "ticks": ""
             }
            },
            "type": "scattergeo"
           }
          ],
          "scattergl": [
           {
            "marker": {
             "colorbar": {
              "outlinewidth": 0,
              "ticks": ""
             }
            },
            "type": "scattergl"
           }
          ],
          "scattermapbox": [
           {
            "marker": {
             "colorbar": {
              "outlinewidth": 0,
              "ticks": ""
             }
            },
            "type": "scattermapbox"
           }
          ],
          "scatterpolar": [
           {
            "marker": {
             "colorbar": {
              "outlinewidth": 0,
              "ticks": ""
             }
            },
            "type": "scatterpolar"
           }
          ],
          "scatterpolargl": [
           {
            "marker": {
             "colorbar": {
              "outlinewidth": 0,
              "ticks": ""
             }
            },
            "type": "scatterpolargl"
           }
          ],
          "scatterternary": [
           {
            "marker": {
             "colorbar": {
              "outlinewidth": 0,
              "ticks": ""
             }
            },
            "type": "scatterternary"
           }
          ],
          "surface": [
           {
            "colorbar": {
             "outlinewidth": 0,
             "ticks": ""
            },
            "colorscale": [
             [
              0,
              "#0d0887"
             ],
             [
              0.1111111111111111,
              "#46039f"
             ],
             [
              0.2222222222222222,
              "#7201a8"
             ],
             [
              0.3333333333333333,
              "#9c179e"
             ],
             [
              0.4444444444444444,
              "#bd3786"
             ],
             [
              0.5555555555555556,
              "#d8576b"
             ],
             [
              0.6666666666666666,
              "#ed7953"
             ],
             [
              0.7777777777777778,
              "#fb9f3a"
             ],
             [
              0.8888888888888888,
              "#fdca26"
             ],
             [
              1,
              "#f0f921"
             ]
            ],
            "type": "surface"
           }
          ],
          "table": [
           {
            "cells": {
             "fill": {
              "color": "#EBF0F8"
             },
             "line": {
              "color": "white"
             }
            },
            "header": {
             "fill": {
              "color": "#C8D4E3"
             },
             "line": {
              "color": "white"
             }
            },
            "type": "table"
           }
          ]
         },
         "layout": {
          "annotationdefaults": {
           "arrowcolor": "#2a3f5f",
           "arrowhead": 0,
           "arrowwidth": 1
          },
          "colorscale": {
           "diverging": [
            [
             0,
             "#8e0152"
            ],
            [
             0.1,
             "#c51b7d"
            ],
            [
             0.2,
             "#de77ae"
            ],
            [
             0.3,
             "#f1b6da"
            ],
            [
             0.4,
             "#fde0ef"
            ],
            [
             0.5,
             "#f7f7f7"
            ],
            [
             0.6,
             "#e6f5d0"
            ],
            [
             0.7,
             "#b8e186"
            ],
            [
             0.8,
             "#7fbc41"
            ],
            [
             0.9,
             "#4d9221"
            ],
            [
             1,
             "#276419"
            ]
           ],
           "sequential": [
            [
             0,
             "#0d0887"
            ],
            [
             0.1111111111111111,
             "#46039f"
            ],
            [
             0.2222222222222222,
             "#7201a8"
            ],
            [
             0.3333333333333333,
             "#9c179e"
            ],
            [
             0.4444444444444444,
             "#bd3786"
            ],
            [
             0.5555555555555556,
             "#d8576b"
            ],
            [
             0.6666666666666666,
             "#ed7953"
            ],
            [
             0.7777777777777778,
             "#fb9f3a"
            ],
            [
             0.8888888888888888,
             "#fdca26"
            ],
            [
             1,
             "#f0f921"
            ]
           ],
           "sequentialminus": [
            [
             0,
             "#0d0887"
            ],
            [
             0.1111111111111111,
             "#46039f"
            ],
            [
             0.2222222222222222,
             "#7201a8"
            ],
            [
             0.3333333333333333,
             "#9c179e"
            ],
            [
             0.4444444444444444,
             "#bd3786"
            ],
            [
             0.5555555555555556,
             "#d8576b"
            ],
            [
             0.6666666666666666,
             "#ed7953"
            ],
            [
             0.7777777777777778,
             "#fb9f3a"
            ],
            [
             0.8888888888888888,
             "#fdca26"
            ],
            [
             1,
             "#f0f921"
            ]
           ]
          },
          "colorway": [
           "#636efa",
           "#EF553B",
           "#00cc96",
           "#ab63fa",
           "#FFA15A",
           "#19d3f3",
           "#FF6692",
           "#B6E880",
           "#FF97FF",
           "#FECB52"
          ],
          "font": {
           "color": "#2a3f5f"
          },
          "geo": {
           "bgcolor": "white",
           "lakecolor": "white",
           "landcolor": "#E5ECF6",
           "showlakes": true,
           "showland": true,
           "subunitcolor": "white"
          },
          "hoverlabel": {
           "align": "left"
          },
          "hovermode": "closest",
          "mapbox": {
           "style": "light"
          },
          "paper_bgcolor": "white",
          "plot_bgcolor": "#E5ECF6",
          "polar": {
           "angularaxis": {
            "gridcolor": "white",
            "linecolor": "white",
            "ticks": ""
           },
           "bgcolor": "#E5ECF6",
           "radialaxis": {
            "gridcolor": "white",
            "linecolor": "white",
            "ticks": ""
           }
          },
          "scene": {
           "xaxis": {
            "backgroundcolor": "#E5ECF6",
            "gridcolor": "white",
            "gridwidth": 2,
            "linecolor": "white",
            "showbackground": true,
            "ticks": "",
            "zerolinecolor": "white"
           },
           "yaxis": {
            "backgroundcolor": "#E5ECF6",
            "gridcolor": "white",
            "gridwidth": 2,
            "linecolor": "white",
            "showbackground": true,
            "ticks": "",
            "zerolinecolor": "white"
           },
           "zaxis": {
            "backgroundcolor": "#E5ECF6",
            "gridcolor": "white",
            "gridwidth": 2,
            "linecolor": "white",
            "showbackground": true,
            "ticks": "",
            "zerolinecolor": "white"
           }
          },
          "shapedefaults": {
           "line": {
            "color": "#2a3f5f"
           }
          },
          "ternary": {
           "aaxis": {
            "gridcolor": "white",
            "linecolor": "white",
            "ticks": ""
           },
           "baxis": {
            "gridcolor": "white",
            "linecolor": "white",
            "ticks": ""
           },
           "bgcolor": "#E5ECF6",
           "caxis": {
            "gridcolor": "white",
            "linecolor": "white",
            "ticks": ""
           }
          },
          "title": {
           "x": 0.05
          },
          "xaxis": {
           "automargin": true,
           "gridcolor": "white",
           "linecolor": "white",
           "ticks": "",
           "zerolinecolor": "white",
           "zerolinewidth": 2
          },
          "yaxis": {
           "automargin": true,
           "gridcolor": "white",
           "linecolor": "white",
           "ticks": "",
           "zerolinecolor": "white",
           "zerolinewidth": 2
          }
         }
        },
        "title": {
         "text": "Annual Global Temperature 1940-2020"
        },
        "xaxis": {
         "title": {
          "text": "year"
         }
        },
        "yaxis": {
         "title": {
          "text": "°C"
         }
        }
       }
      },
      "text/html": [
       "<div>\n",
       "        \n",
       "        \n",
       "            <div id=\"5297ddb4-4254-4779-b1e4-2aa9ea41e49c\" class=\"plotly-graph-div\" style=\"height:525px; width:100%;\"></div>\n",
       "            <script type=\"text/javascript\">\n",
       "                require([\"plotly\"], function(Plotly) {\n",
       "                    window.PLOTLYENV=window.PLOTLYENV || {};\n",
       "                    \n",
       "                if (document.getElementById(\"5297ddb4-4254-4779-b1e4-2aa9ea41e49c\")) {\n",
       "                    Plotly.newPlot(\n",
       "                        '5297ddb4-4254-4779-b1e4-2aa9ea41e49c',\n",
       "                        [{\"close\": [8.764666666666667, 8.768666666666668, 8.728416666666666, 8.755083333333333, 8.845, 8.584833333333332, 8.676916666666669, 8.797083333333333, 8.74675, 8.586749999999999, 8.365250000000001, 8.625666666666666, 8.638250000000001, 8.873750000000001, 8.560666666666666, 8.62625, 8.279583333333333, 8.7325, 8.77375, 8.732666666666665, 8.58375, 8.797666666666666, 8.745916666666666, 8.856, 8.409666666666666, 8.527416666666667, 8.599333333333332, 8.700083333333334, 8.516333333333334, 8.595083333333333, 8.700916666666666, 8.59925, 8.499583333333334, 8.948249999999998, 8.4675, 8.744833333333334, 8.347249999999999, 8.850249999999999, 8.692749999999998, 8.733416666666665, 8.980333333333332, 9.165833333333333, 8.639166666666666, 9.028166666666666, 8.691833333333335, 8.658, 8.833583333333332, 8.994416666666668, 9.201583333333334, 8.921999999999999, 9.234166666666667, 9.179416666666667, 8.836583333333332, 8.866583333333333, 9.038749999999999, 9.347083333333332, 9.038916666666667, 9.202583333333333, 9.522666666666666, 9.285083333333333, 9.201166666666667, 9.414583333333335, 9.570416666666667, 9.525583333333334, 9.324583333333333, 9.700916666666666, 9.532499999999999, 9.732166666666664, 9.431750000000001, 9.505250000000002, 9.703083333333332, 9.516, 9.507333333333333, 9.606499999999999, 9.570666666666666, 9.830999999999998], \"high\": [14.571, 14.694, 14.242, 14.46, 14.468, 14.313, 14.409, 14.349, 14.445, 14.199000000000002, 14.14, 14.324000000000002, 14.549, 14.392, 14.241, 14.283, 14.18, 14.129, 14.438, 14.449000000000002, 14.198, 14.288, 14.205, 14.505999999999998, 14.300999999999998, 14.078, 14.569, 14.331, 14.026, 14.218, 14.395, 14.139, 14.231, 14.435, 14.288, 14.351, 14.155, 14.630999999999998, 14.364, 14.114, 14.742, 14.738, 14.545, 14.408, 14.429, 14.059, 14.293, 14.89, 14.798, 14.612, 14.784, 14.987, 14.139, 14.595, 14.658, 15.116, 14.827, 14.565, 15.34, 14.853, 14.848, 15.161, 15.354000000000001, 14.983, 14.312, 15.19, 15.042, 15.23, 15.174, 15.231, 15.213, 15.482, 15.076, 15.003, 14.875, 15.050999999999998], \"low\": [2.335, 2.7350000000000003, 2.857, 2.396, 3.4339999999999997, 2.525, 2.979, 2.597, 3.22, 2.759, 2.008, 2.138, 3.049, 2.964, 2.059, 3.137, 2.466, 2.488, 3.5740000000000003, 2.959, 2.713, 2.926, 3.003, 2.9010000000000002, 2.8810000000000002, 2.862, 2.49, 2.71, 2.353, 1.966, 2.8360000000000003, 2.867, 1.882, 3.0380000000000003, 2.261, 3.059, 2.884, 2.492, 2.705, 2.6790000000000003, 2.9560000000000004, 3.785, 2.5580000000000003, 3.4450000000000003, 2.9410000000000003, 2.7039999999999997, 3.315, 3.139, 3.422, 2.71, 3.2430000000000003, 3.1950000000000003, 3.579, 3.301, 2.81, 3.54, 2.862, 3.165, 3.3520000000000003, 3.544, 2.95, 3.3360000000000003, 4.026, 3.981, 3.5250000000000004, 3.808, 3.286, 4.221, 2.8440000000000003, 3.687, 3.737, 3.282, 3.157, 3.685, 3.5, 3.8810000000000002], \"open\": [8.764666666666667, 8.768666666666668, 8.728416666666666, 8.755083333333333, 8.845, 8.584833333333332, 8.676916666666669, 8.797083333333333, 8.74675, 8.586749999999999, 8.365250000000001, 8.625666666666666, 8.638250000000001, 8.873750000000001, 8.560666666666666, 8.62625, 8.279583333333333, 8.7325, 8.77375, 8.732666666666665, 8.58375, 8.797666666666666, 8.745916666666666, 8.856, 8.409666666666666, 8.527416666666667, 8.599333333333332, 8.700083333333334, 8.516333333333334, 8.595083333333333, 8.700916666666666, 8.59925, 8.499583333333334, 8.948249999999998, 8.4675, 8.744833333333334, 8.347249999999999, 8.850249999999999, 8.692749999999998, 8.733416666666665, 8.980333333333332, 9.165833333333333, 8.639166666666666, 9.028166666666666, 8.691833333333335, 8.658, 8.833583333333332, 8.994416666666668, 9.201583333333334, 8.921999999999999, 9.234166666666667, 9.179416666666667, 8.836583333333332, 8.866583333333333, 9.038749999999999, 9.347083333333332, 9.038916666666667, 9.202583333333333, 9.522666666666666, 9.285083333333333, 9.201166666666667, 9.414583333333335, 9.570416666666667, 9.525583333333334, 9.324583333333333, 9.700916666666666, 9.532499999999999, 9.732166666666664, 9.431750000000001, 9.505250000000002, 9.703083333333332, 9.516, 9.507333333333333, 9.606499999999999, 9.570666666666666, 9.830999999999998], \"type\": \"candlestick\", \"x\": [1940, 1941, 1942, 1943, 1944, 1945, 1946, 1947, 1948, 1949, 1950, 1951, 1952, 1953, 1954, 1955, 1956, 1957, 1958, 1959, 1960, 1961, 1962, 1963, 1964, 1965, 1966, 1967, 1968, 1969, 1970, 1971, 1972, 1973, 1974, 1975, 1976, 1977, 1978, 1979, 1980, 1981, 1982, 1983, 1984, 1985, 1986, 1987, 1988, 1989, 1990, 1991, 1992, 1993, 1994, 1995, 1996, 1997, 1998, 1999, 2000, 2001, 2002, 2003, 2004, 2005, 2006, 2007, 2008, 2009, 2010, 2011, 2012, 2013, 2014, 2015]}],\n",
       "                        {\"template\": {\"data\": {\"bar\": [{\"error_x\": {\"color\": \"#2a3f5f\"}, \"error_y\": {\"color\": \"#2a3f5f\"}, \"marker\": {\"line\": {\"color\": \"#E5ECF6\", \"width\": 0.5}}, \"type\": \"bar\"}], \"barpolar\": [{\"marker\": {\"line\": {\"color\": \"#E5ECF6\", \"width\": 0.5}}, \"type\": \"barpolar\"}], \"carpet\": [{\"aaxis\": {\"endlinecolor\": \"#2a3f5f\", \"gridcolor\": \"white\", \"linecolor\": \"white\", \"minorgridcolor\": \"white\", \"startlinecolor\": \"#2a3f5f\"}, \"baxis\": {\"endlinecolor\": \"#2a3f5f\", \"gridcolor\": \"white\", \"linecolor\": \"white\", \"minorgridcolor\": \"white\", \"startlinecolor\": \"#2a3f5f\"}, \"type\": \"carpet\"}], \"choropleth\": [{\"colorbar\": {\"outlinewidth\": 0, \"ticks\": \"\"}, \"type\": \"choropleth\"}], \"contour\": [{\"colorbar\": {\"outlinewidth\": 0, \"ticks\": \"\"}, \"colorscale\": [[0.0, \"#0d0887\"], [0.1111111111111111, \"#46039f\"], [0.2222222222222222, \"#7201a8\"], [0.3333333333333333, \"#9c179e\"], [0.4444444444444444, \"#bd3786\"], [0.5555555555555556, \"#d8576b\"], [0.6666666666666666, \"#ed7953\"], [0.7777777777777778, \"#fb9f3a\"], [0.8888888888888888, \"#fdca26\"], [1.0, \"#f0f921\"]], \"type\": \"contour\"}], \"contourcarpet\": [{\"colorbar\": {\"outlinewidth\": 0, \"ticks\": \"\"}, \"type\": \"contourcarpet\"}], \"heatmap\": [{\"colorbar\": {\"outlinewidth\": 0, \"ticks\": \"\"}, \"colorscale\": [[0.0, \"#0d0887\"], [0.1111111111111111, \"#46039f\"], [0.2222222222222222, \"#7201a8\"], [0.3333333333333333, \"#9c179e\"], [0.4444444444444444, \"#bd3786\"], [0.5555555555555556, \"#d8576b\"], [0.6666666666666666, \"#ed7953\"], [0.7777777777777778, \"#fb9f3a\"], [0.8888888888888888, \"#fdca26\"], [1.0, \"#f0f921\"]], \"type\": \"heatmap\"}], \"heatmapgl\": [{\"colorbar\": {\"outlinewidth\": 0, \"ticks\": \"\"}, \"colorscale\": [[0.0, \"#0d0887\"], [0.1111111111111111, \"#46039f\"], [0.2222222222222222, \"#7201a8\"], [0.3333333333333333, \"#9c179e\"], [0.4444444444444444, \"#bd3786\"], [0.5555555555555556, \"#d8576b\"], [0.6666666666666666, \"#ed7953\"], [0.7777777777777778, \"#fb9f3a\"], [0.8888888888888888, \"#fdca26\"], [1.0, \"#f0f921\"]], \"type\": \"heatmapgl\"}], \"histogram\": [{\"marker\": {\"colorbar\": {\"outlinewidth\": 0, \"ticks\": \"\"}}, \"type\": \"histogram\"}], \"histogram2d\": [{\"colorbar\": {\"outlinewidth\": 0, \"ticks\": \"\"}, \"colorscale\": [[0.0, \"#0d0887\"], [0.1111111111111111, \"#46039f\"], [0.2222222222222222, \"#7201a8\"], [0.3333333333333333, \"#9c179e\"], [0.4444444444444444, \"#bd3786\"], [0.5555555555555556, \"#d8576b\"], [0.6666666666666666, \"#ed7953\"], [0.7777777777777778, \"#fb9f3a\"], [0.8888888888888888, \"#fdca26\"], [1.0, \"#f0f921\"]], \"type\": \"histogram2d\"}], \"histogram2dcontour\": [{\"colorbar\": {\"outlinewidth\": 0, \"ticks\": \"\"}, \"colorscale\": [[0.0, \"#0d0887\"], [0.1111111111111111, \"#46039f\"], [0.2222222222222222, \"#7201a8\"], [0.3333333333333333, \"#9c179e\"], [0.4444444444444444, \"#bd3786\"], [0.5555555555555556, \"#d8576b\"], [0.6666666666666666, \"#ed7953\"], [0.7777777777777778, \"#fb9f3a\"], [0.8888888888888888, \"#fdca26\"], [1.0, \"#f0f921\"]], \"type\": \"histogram2dcontour\"}], \"mesh3d\": [{\"colorbar\": {\"outlinewidth\": 0, \"ticks\": \"\"}, \"type\": \"mesh3d\"}], \"parcoords\": [{\"line\": {\"colorbar\": {\"outlinewidth\": 0, \"ticks\": \"\"}}, \"type\": \"parcoords\"}], \"scatter\": [{\"marker\": {\"colorbar\": {\"outlinewidth\": 0, \"ticks\": \"\"}}, \"type\": \"scatter\"}], \"scatter3d\": [{\"line\": {\"colorbar\": {\"outlinewidth\": 0, \"ticks\": \"\"}}, \"marker\": {\"colorbar\": {\"outlinewidth\": 0, \"ticks\": \"\"}}, \"type\": \"scatter3d\"}], \"scattercarpet\": [{\"marker\": {\"colorbar\": {\"outlinewidth\": 0, \"ticks\": \"\"}}, \"type\": \"scattercarpet\"}], \"scattergeo\": [{\"marker\": {\"colorbar\": {\"outlinewidth\": 0, \"ticks\": \"\"}}, \"type\": \"scattergeo\"}], \"scattergl\": [{\"marker\": {\"colorbar\": {\"outlinewidth\": 0, \"ticks\": \"\"}}, \"type\": \"scattergl\"}], \"scattermapbox\": [{\"marker\": {\"colorbar\": {\"outlinewidth\": 0, \"ticks\": \"\"}}, \"type\": \"scattermapbox\"}], \"scatterpolar\": [{\"marker\": {\"colorbar\": {\"outlinewidth\": 0, \"ticks\": \"\"}}, \"type\": \"scatterpolar\"}], \"scatterpolargl\": [{\"marker\": {\"colorbar\": {\"outlinewidth\": 0, \"ticks\": \"\"}}, \"type\": \"scatterpolargl\"}], \"scatterternary\": [{\"marker\": {\"colorbar\": {\"outlinewidth\": 0, \"ticks\": \"\"}}, \"type\": \"scatterternary\"}], \"surface\": [{\"colorbar\": {\"outlinewidth\": 0, \"ticks\": \"\"}, \"colorscale\": [[0.0, \"#0d0887\"], [0.1111111111111111, \"#46039f\"], [0.2222222222222222, \"#7201a8\"], [0.3333333333333333, \"#9c179e\"], [0.4444444444444444, \"#bd3786\"], [0.5555555555555556, \"#d8576b\"], [0.6666666666666666, \"#ed7953\"], [0.7777777777777778, \"#fb9f3a\"], [0.8888888888888888, \"#fdca26\"], [1.0, \"#f0f921\"]], \"type\": \"surface\"}], \"table\": [{\"cells\": {\"fill\": {\"color\": \"#EBF0F8\"}, \"line\": {\"color\": \"white\"}}, \"header\": {\"fill\": {\"color\": \"#C8D4E3\"}, \"line\": {\"color\": \"white\"}}, \"type\": \"table\"}]}, \"layout\": {\"annotationdefaults\": {\"arrowcolor\": \"#2a3f5f\", \"arrowhead\": 0, \"arrowwidth\": 1}, \"colorscale\": {\"diverging\": [[0, \"#8e0152\"], [0.1, \"#c51b7d\"], [0.2, \"#de77ae\"], [0.3, \"#f1b6da\"], [0.4, \"#fde0ef\"], [0.5, \"#f7f7f7\"], [0.6, \"#e6f5d0\"], [0.7, \"#b8e186\"], [0.8, \"#7fbc41\"], [0.9, \"#4d9221\"], [1, \"#276419\"]], \"sequential\": [[0.0, \"#0d0887\"], [0.1111111111111111, \"#46039f\"], [0.2222222222222222, \"#7201a8\"], [0.3333333333333333, \"#9c179e\"], [0.4444444444444444, \"#bd3786\"], [0.5555555555555556, \"#d8576b\"], [0.6666666666666666, \"#ed7953\"], [0.7777777777777778, \"#fb9f3a\"], [0.8888888888888888, \"#fdca26\"], [1.0, \"#f0f921\"]], \"sequentialminus\": [[0.0, \"#0d0887\"], [0.1111111111111111, \"#46039f\"], [0.2222222222222222, \"#7201a8\"], [0.3333333333333333, \"#9c179e\"], [0.4444444444444444, \"#bd3786\"], [0.5555555555555556, \"#d8576b\"], [0.6666666666666666, \"#ed7953\"], [0.7777777777777778, \"#fb9f3a\"], [0.8888888888888888, \"#fdca26\"], [1.0, \"#f0f921\"]]}, \"colorway\": [\"#636efa\", \"#EF553B\", \"#00cc96\", \"#ab63fa\", \"#FFA15A\", \"#19d3f3\", \"#FF6692\", \"#B6E880\", \"#FF97FF\", \"#FECB52\"], \"font\": {\"color\": \"#2a3f5f\"}, \"geo\": {\"bgcolor\": \"white\", \"lakecolor\": \"white\", \"landcolor\": \"#E5ECF6\", \"showlakes\": true, \"showland\": true, \"subunitcolor\": \"white\"}, \"hoverlabel\": {\"align\": \"left\"}, \"hovermode\": \"closest\", \"mapbox\": {\"style\": \"light\"}, \"paper_bgcolor\": \"white\", \"plot_bgcolor\": \"#E5ECF6\", \"polar\": {\"angularaxis\": {\"gridcolor\": \"white\", \"linecolor\": \"white\", \"ticks\": \"\"}, \"bgcolor\": \"#E5ECF6\", \"radialaxis\": {\"gridcolor\": \"white\", \"linecolor\": \"white\", \"ticks\": \"\"}}, \"scene\": {\"xaxis\": {\"backgroundcolor\": \"#E5ECF6\", \"gridcolor\": \"white\", \"gridwidth\": 2, \"linecolor\": \"white\", \"showbackground\": true, \"ticks\": \"\", \"zerolinecolor\": \"white\"}, \"yaxis\": {\"backgroundcolor\": \"#E5ECF6\", \"gridcolor\": \"white\", \"gridwidth\": 2, \"linecolor\": \"white\", \"showbackground\": true, \"ticks\": \"\", \"zerolinecolor\": \"white\"}, \"zaxis\": {\"backgroundcolor\": \"#E5ECF6\", \"gridcolor\": \"white\", \"gridwidth\": 2, \"linecolor\": \"white\", \"showbackground\": true, \"ticks\": \"\", \"zerolinecolor\": \"white\"}}, \"shapedefaults\": {\"line\": {\"color\": \"#2a3f5f\"}}, \"ternary\": {\"aaxis\": {\"gridcolor\": \"white\", \"linecolor\": \"white\", \"ticks\": \"\"}, \"baxis\": {\"gridcolor\": \"white\", \"linecolor\": \"white\", \"ticks\": \"\"}, \"bgcolor\": \"#E5ECF6\", \"caxis\": {\"gridcolor\": \"white\", \"linecolor\": \"white\", \"ticks\": \"\"}}, \"title\": {\"x\": 0.05}, \"xaxis\": {\"automargin\": true, \"gridcolor\": \"white\", \"linecolor\": \"white\", \"ticks\": \"\", \"zerolinecolor\": \"white\", \"zerolinewidth\": 2}, \"yaxis\": {\"automargin\": true, \"gridcolor\": \"white\", \"linecolor\": \"white\", \"ticks\": \"\", \"zerolinecolor\": \"white\", \"zerolinewidth\": 2}}}, \"title\": {\"text\": \"Annual Global Temperature 1940-2020\"}, \"xaxis\": {\"title\": {\"text\": \"year\"}}, \"yaxis\": {\"title\": {\"text\": \"\\u00b0C\"}}},\n",
       "                        {\"responsive\": true}\n",
       "                    ).then(function(){\n",
       "                            \n",
       "var gd = document.getElementById('5297ddb4-4254-4779-b1e4-2aa9ea41e49c');\n",
       "var x = new MutationObserver(function (mutations, observer) {{\n",
       "        var display = window.getComputedStyle(gd).display;\n",
       "        if (!display || display === 'none') {{\n",
       "            console.log([gd, 'removed!']);\n",
       "            Plotly.purge(gd);\n",
       "            observer.disconnect();\n",
       "        }}\n",
       "}});\n",
       "\n",
       "// Listen for the removal of the full notebook cells\n",
       "var notebookContainer = gd.closest('#notebook-container');\n",
       "if (notebookContainer) {{\n",
       "    x.observe(notebookContainer, {childList: true});\n",
       "}}\n",
       "\n",
       "// Listen for the clearing of the current output cell\n",
       "var outputEl = gd.closest('.output');\n",
       "if (outputEl) {{\n",
       "    x.observe(outputEl, {childList: true});\n",
       "}}\n",
       "\n",
       "                        })\n",
       "                };\n",
       "                });\n",
       "            </script>\n",
       "        </div>"
      ]
     },
     "metadata": {},
     "output_type": "display_data"
    }
   ],
   "source": [
    "temp = monthly_global_temp[monthly_global_temp['year']>=1940]\n",
    "\n",
    "tt = temp.groupby('year').agg({'AverageTemperature': ['min','max','mean']}).reset_index(drop=False)\n",
    "\n",
    "fig = go.Figure(data=[\n",
    "    go.Candlestick(x=tt['year'],\n",
    "    open=tt['AverageTemperature']['mean'],\n",
    "    close=tt['AverageTemperature']['mean'],\n",
    "    high=tt['AverageTemperature']['max'],\n",
    "    low=tt['AverageTemperature']['min'])\n",
    "])\n",
    "\n",
    "fig.update_layout(\n",
    "    title='Annual Global Temperature 1940-2020',\n",
    "    yaxis_title='°C',\n",
    "    xaxis_title='year',\n",
    "    \n",
    ")\n",
    "fig.show()"
   ]
  },
  {
   "cell_type": "markdown",
   "metadata": {},
   "source": [
    "## Temperature by city"
   ]
  },
  {
   "cell_type": "code",
   "execution_count": 12,
   "metadata": {},
   "outputs": [],
   "source": [
    "city_temp = wrangle.split_month_year(city_temp)"
   ]
  },
  {
   "cell_type": "code",
   "execution_count": 13,
   "metadata": {},
   "outputs": [
    {
     "data": {
      "text/plain": [
       "Index(['dt', 'AverageTemperature', 'AverageTemperatureUncertainty', 'City',\n",
       "       'Country', 'Latitude', 'Longitude', 'year', 'month'],\n",
       "      dtype='object')"
      ]
     },
     "execution_count": 13,
     "metadata": {},
     "output_type": "execute_result"
    }
   ],
   "source": [
    "city_temp.columns"
   ]
  },
  {
   "cell_type": "code",
   "execution_count": 14,
   "metadata": {},
   "outputs": [
    {
     "data": {
      "text/plain": [
       "3448"
      ]
     },
     "execution_count": 14,
     "metadata": {},
     "output_type": "execute_result"
    }
   ],
   "source": [
    "len(set(city_temp.City))"
   ]
  },
  {
   "cell_type": "code",
   "execution_count": 15,
   "metadata": {},
   "outputs": [],
   "source": [
    "#importlib.reload(func)\n",
    "#importlib.reload(wrangle)"
   ]
  },
  {
   "cell_type": "code",
   "execution_count": 16,
   "metadata": {},
   "outputs": [
    {
     "data": {
      "text/html": [
       "<div>\n",
       "<style scoped>\n",
       "    .dataframe tbody tr th:only-of-type {\n",
       "        vertical-align: middle;\n",
       "    }\n",
       "\n",
       "    .dataframe tbody tr th {\n",
       "        vertical-align: top;\n",
       "    }\n",
       "\n",
       "    .dataframe thead th {\n",
       "        text-align: right;\n",
       "    }\n",
       "</style>\n",
       "<table border=\"1\" class=\"dataframe\">\n",
       "  <thead>\n",
       "    <tr style=\"text-align: right;\">\n",
       "      <th></th>\n",
       "      <th>AverageTemperature</th>\n",
       "      <th>month</th>\n",
       "      <th>City</th>\n",
       "      <th>Country</th>\n",
       "      <th>Latitude</th>\n",
       "      <th>Longitude</th>\n",
       "    </tr>\n",
       "  </thead>\n",
       "  <tbody>\n",
       "    <tr>\n",
       "      <th>3230</th>\n",
       "      <td>-0.344</td>\n",
       "      <td>1</td>\n",
       "      <td>Århus</td>\n",
       "      <td>Denmark</td>\n",
       "      <td>57.05N</td>\n",
       "      <td>10.33E</td>\n",
       "    </tr>\n",
       "    <tr>\n",
       "      <th>3231</th>\n",
       "      <td>-0.390</td>\n",
       "      <td>2</td>\n",
       "      <td>Århus</td>\n",
       "      <td>Denmark</td>\n",
       "      <td>57.05N</td>\n",
       "      <td>10.33E</td>\n",
       "    </tr>\n",
       "    <tr>\n",
       "      <th>3232</th>\n",
       "      <td>-0.474</td>\n",
       "      <td>3</td>\n",
       "      <td>Århus</td>\n",
       "      <td>Denmark</td>\n",
       "      <td>57.05N</td>\n",
       "      <td>10.33E</td>\n",
       "    </tr>\n",
       "  </tbody>\n",
       "</table>\n",
       "</div>"
      ],
      "text/plain": [
       "      AverageTemperature  month   City  Country Latitude Longitude\n",
       "3230              -0.344      1  Århus  Denmark   57.05N    10.33E\n",
       "3231              -0.390      2  Århus  Denmark   57.05N    10.33E\n",
       "3232              -0.474      3  Århus  Denmark   57.05N    10.33E"
      ]
     },
     "execution_count": 16,
     "metadata": {},
     "output_type": "execute_result"
    }
   ],
   "source": [
    "latest_city_temp = wrangle.take_last_year(city_temp)\n",
    "latest_city_temp[:3]"
   ]
  },
  {
   "cell_type": "code",
   "execution_count": 17,
   "metadata": {},
   "outputs": [
    {
     "data": {
      "text/plain": [
       "{'0.80N-103.66E': ('Johor Bahru', 'Malaysia'),\n",
       " '0.80N-108.48E': ('Singkawang', 'Indonesia'),\n",
       " '0.80N-110.09E': ('Kuching', 'Malaysia'),\n",
       " '0.80N-118.13E': ('Bontang', 'Indonesia'),\n",
       " '0.80N-122.95E': ('Gorontalo', 'Indonesia'),\n",
       " '0.80N-124.55E': ('Bitung', 'Indonesia'),\n",
       " '0.80N-127.77E': ('Ternate', 'Indonesia'),\n",
       " '0.80N-18.48E': ('Mbandaka', 'Congo (Democratic Republic Of The)'),\n",
       " '0.80N-24.91E': ('Kisangani', 'Congo (Democratic Republic Of The)'),\n",
       " '0.80N-29.73E': ('Butembo', 'Congo (Democratic Republic Of The)'),\n",
       " '0.80N-32.95E': ('Kampala', 'Uganda'),\n",
       " '0.80N-34.55E': ('Eldoret', 'Kenya'),\n",
       " '0.80N-42.59E': ('Jamame', 'Somalia'),\n",
       " '0.80N-50.63W': ('Macapá', 'Brazil'),\n",
       " '0.80N-77.95W': ('Ibarra', 'Ecuador'),\n",
       " '0.80N-8.84E': ('Libreville', 'Gabon'),\n",
       " '0.80S-100.45E': ('Padang', 'Indonesia'),\n",
       " '0.80S-103.66E': ('Jambi', 'Indonesia'),\n",
       " '0.80S-110.09E': ('Pontianak', 'Indonesia'),\n",
       " '0.80S-116.52E': ('Balikpapan', 'Indonesia'),\n",
       " '0.80S-119.73E': ('Palu', 'Indonesia'),\n",
       " '0.80S-130.98E': ('Sorong', 'Indonesia'),\n",
       " '0.80S-34.55E': ('Kisumu', 'Kenya'),\n",
       " '0.80S-36.16E': ('Nairobi', 'Kenya'),\n",
       " '0.80S-37.77E': ('Ruiru', 'Kenya'),\n",
       " '0.80S-42.59E': ('Kismayo', 'Somalia'),\n",
       " '0.80S-47.41W': ('Castanhal', 'Brazil'),\n",
       " '0.80S-49.02W': ('Ananindeua', 'Brazil'),\n",
       " '0.80S-77.95W': ('Ambato', 'Ecuador'),\n",
       " '0.80S-79.55W': ('Quevedo', 'Ecuador'),\n",
       " '0.80S-8.84E': ('Port Gentil', 'Gabon'),\n",
       " '0.80S-81.16W': ('Manta', 'Ecuador'),\n",
       " '10.45N-10.64E': ('Bauchi', 'Nigeria'),\n",
       " '10.45N-105.55E': ('Can Tho', 'Vietnam'),\n",
       " '10.45N-107.18E': ('Biên Hòa', 'Vietnam'),\n",
       " '10.45N-118.64E': ('Puerto Princesa', 'Philippines'),\n",
       " '10.45N-12.27W': ('Kindia', 'Guinea'),\n",
       " '10.45N-121.91E': ('Iloilo', 'Philippines'),\n",
       " '10.45N-123.55E': ('Bacolod', 'Philippines'),\n",
       " '10.45N-13.91E': ('Maroua', 'Cameroon'),\n",
       " '10.45N-2.45E': ('Djougou', 'Benin'),\n",
       " '10.45N-4.09W': ('Bobo Dioulasso', 'Burkina Faso'),\n",
       " '10.45N-40.09E': ('Dese', 'Ethiopia'),\n",
       " '10.45N-41.73E': ('Dire Dawa', 'Ethiopia'),\n",
       " '10.45N-45.00E': ('Berbera', 'Somalia'),\n",
       " '10.45N-5.73W': ('Sikasso', 'Mali'),\n",
       " '10.45N-63.00W': ('Carúpano', 'Venezuela'),\n",
       " '10.45N-64.64W': ('Barcelona', 'Venezuela'),\n",
       " '10.45N-66.27W': ('Baruta', 'Venezuela'),\n",
       " '10.45N-67.91W': ('Cagua', 'Venezuela'),\n",
       " '10.45N-69.55W': ('Barquisimeto', 'Venezuela'),\n",
       " '10.45N-7.36E': ('Kaduna', 'Nigeria'),\n",
       " '10.45N-71.18W': ('Cabimas', 'Venezuela'),\n",
       " '10.45N-72.82W': ('Valledupar', 'Colombia'),\n",
       " '10.45N-74.45W': ('Barranquilla', 'Colombia'),\n",
       " '10.45N-76.09E': ('Kochi', 'India'),\n",
       " '10.45N-76.09W': ('Cartagena', 'Colombia'),\n",
       " '10.45N-77.73E': ('Dindigul', 'India'),\n",
       " '10.45N-79.36E': ('Kumbakonam', 'India'),\n",
       " '10.45N-84.27W': ('San José', 'Costa Rica'),\n",
       " '10.45N-9.00E': ('Jos', 'Nigeria'),\n",
       " '10.45N-9.00W': ('Kankan', 'Guinea'),\n",
       " '10.45S-123.55E': ('Kupang', 'Indonesia'),\n",
       " '10.45S-27.00E': ('Likasi', 'Congo (Democratic Republic Of The)'),\n",
       " '10.45S-35.18E': ('Songea', 'Tanzania'),\n",
       " '10.45S-35.18W': ('Maceió', 'Brazil'),\n",
       " '10.45S-36.82W': ('Aracaju', 'Brazil'),\n",
       " '10.45S-48.27W': ('Palmas', 'Brazil'),\n",
       " '10.45S-61.36W': ('Ji Paraná', 'Brazil'),\n",
       " '10.45S-67.91W': ('Rio Branco', 'Brazil'),\n",
       " '10.45S-76.09W': ('Huánuco', 'Peru'),\n",
       " '12.05N-1.64W': ('Ouagadougou', 'Burkina Faso'),\n",
       " '12.05N-101.92E': ('Rayong', 'Thailand'),\n",
       " '12.05N-105.21E': ('Phnum Pénh', 'Cambodia'),\n",
       " '12.05N-108.49E': ('Buon Me Thuot', 'Vietnam'),\n",
       " '12.05N-11.51E': ('Damaturu', 'Nigeria'),\n",
       " '12.05N-123.29E': ('Roxas', 'Philippines'),\n",
       " '12.05N-124.93E': ('Tacloban', 'Philippines'),\n",
       " '12.05N-13.15E': ('Bama', 'Nigeria'),\n",
       " '12.05N-14.79E': ('Kousséri', 'Cameroon'),\n",
       " '12.05N-14.79W': ('Bissau', 'Guinea Bissau'),\n",
       " '12.05N-16.44W': ('Ziguinchor', 'Senegal'),\n",
       " '12.05N-37.81E': ('Bahir Dar', 'Ethiopia'),\n",
       " '12.05N-4.93E': ('Birnin Kebbi', 'Nigeria'),\n",
       " '12.05N-42.74E': ('Jibuti', 'Djibouti'),\n",
       " '12.05N-6.58E': ('Funtua', 'Nigeria'),\n",
       " '12.05N-69.04W': ('Coro', 'Venezuela'),\n",
       " '12.05N-70.68W': ('Punto Fijo', 'Venezuela'),\n",
       " '12.05N-72.33W': ('Maicao', 'Colombia'),\n",
       " '12.05N-77.26E': ('Bangalore', 'India'),\n",
       " '12.05N-78.90E': ('Ambur', 'India'),\n",
       " '12.05N-8.22E': ('Kano', 'Nigeria'),\n",
       " '12.05N-8.22W': ('Bamako', 'Mali'),\n",
       " '12.05N-80.55E': ('Gudalur', 'India'),\n",
       " '12.05N-85.48W': ('Managua', 'Nicaragua'),\n",
       " '12.05N-87.12W': ('Chinandega', 'Nicaragua'),\n",
       " '12.05N-9.86E': ('Azare', 'Nigeria'),\n",
       " '12.05N-92.05E': ('Port Blair', 'India'),\n",
       " '12.05N-98.63E': ('Mergui', 'Burma'),\n",
       " '12.05S-13.15E': ('Benguela', 'Angola'),\n",
       " '12.05S-16.44E': ('Kuito', 'Angola'),\n",
       " '12.05S-27.95E': ('Chingola', 'Zambia'),\n",
       " '12.05S-37.81W': ('Alagoinhas', 'Brazil'),\n",
       " '12.05S-39.45W': ('Feira De Santana', 'Brazil'),\n",
       " '12.05S-44.38W': ('Barreiras', 'Brazil'),\n",
       " '12.05S-75.62W': ('Huancayo', 'Peru'),\n",
       " '12.05S-77.26W': ('Chosica', 'Peru'),\n",
       " '13.66N-10.73E': ('Gashua', 'Nigeria'),\n",
       " '13.66N-101.56E': ('Chon Buri', 'Thailand'),\n",
       " '13.66N-108.17E': ('Plây Cu', 'Vietnam'),\n",
       " '13.66N-109.82E': ('Qui Nhon', 'Vietnam'),\n",
       " '13.66N-121.38E': ('Batangas', 'Philippines'),\n",
       " '13.66N-123.03E': ('Legaspi', 'Philippines'),\n",
       " '13.66N-15.69W': ('Kaolack', 'Senegal'),\n",
       " '13.66N-17.34W': ('Brikama', 'Gambia'),\n",
       " '13.66N-2.48E': ('Niamey', 'Niger'),\n",
       " '13.66N-32.20E': ('Kusti', 'Sudan'),\n",
       " '13.66N-33.85E': ('Sinnar', 'Sudan'),\n",
       " '13.66N-43.76E': ('Ibb', 'Yemen'),\n",
       " '13.66N-45.41E': ('Aden', 'Yemen'),\n",
       " '13.66N-5.78E': ('Sokoto', 'Nigeria'),\n",
       " '13.66N-7.43E': ('Katsina', 'Nigeria'),\n",
       " '13.66N-75.14E': ('Bhadravati', 'India'),\n",
       " '13.66N-76.79E': ('Chitradurga', 'India'),\n",
       " '13.66N-78.44E': ('Kolar', 'India'),\n",
       " '13.66N-80.09E': ('Alandur', 'India'),\n",
       " '13.66N-86.70W': ('Tegucigalpa', 'Honduras'),\n",
       " '13.66N-88.35W': ('Soyapango', 'El Salvador'),\n",
       " '13.66N-9.08E': ('Zinder', 'Niger'),\n",
       " '13.66N-90.00W': ('Apopa', 'El Salvador'),\n",
       " '13.66N-98.26E': ('Dawei', 'Burma'),\n",
       " '13.66N-99.91E': ('Bangkok', 'Thailand'),\n",
       " '13.66S-15.69E': ('Huambo', 'Angola'),\n",
       " '13.66S-28.90E': ('Kabwe', 'Zambia'),\n",
       " '13.66S-33.85E': ('Lilongwe', 'Malawi'),\n",
       " '13.66S-35.50E': ('Lichinga', 'Mozambique'),\n",
       " '13.66S-38.81W': ('Salvador', 'Brazil'),\n",
       " '13.66S-40.46E': ('Pemba', 'Mozambique'),\n",
       " '13.66S-40.46W': ('Jequié', 'Brazil'),\n",
       " '13.66S-71.83W': ('Cusco', 'Peru'),\n",
       " '13.66S-73.49W': ('Ayacucho', 'Peru'),\n",
       " '13.66S-75.14W': ('Ica', 'Peru'),\n",
       " '13.66S-76.79W': ('Chincha Alta', 'Peru'),\n",
       " '15.27N-102.50E': ('Nakhon Ratchasima', 'Thailand'),\n",
       " '15.27N-104.17E': ('Ubon Ratchathani', 'Thailand'),\n",
       " '15.27N-107.50E': ('Da Nang', 'Vietnam'),\n",
       " '15.27N-120.83E': ('Angeles', 'Philippines'),\n",
       " '15.27N-15.83W': ('Diourbel', 'Senegal'),\n",
       " '15.27N-17.50W': ('Dakar', 'Senegal'),\n",
       " '15.27N-32.50E': ('Khartoum', 'Sudan'),\n",
       " '15.27N-35.83E': ('Kassala', 'Sudan'),\n",
       " '15.27N-39.17E': ('Asmara', 'Eritrea'),\n",
       " '15.27N-4.17W': ('Mopti', 'Mali'),\n",
       " '15.27N-74.17E': ('Belgaum', 'India'),\n",
       " '15.27N-75.83E': ('Gadag', 'India'),\n",
       " '15.27N-77.50E': ('Adoni', 'India'),\n",
       " '15.27N-79.17E': ('Cuddapah', 'India'),\n",
       " '15.27N-80.83E': ('Machilipatnam', 'India'),\n",
       " '15.27N-87.50W': ('Choloma', 'Honduras'),\n",
       " '15.27N-90.83W': ('Escuintla', 'Guatemala'),\n",
       " '15.27N-92.50W': ('Tapachula', 'Mexico'),\n",
       " '15.27S-14.17E': ('Lubango', 'Angola'),\n",
       " '15.27S-27.50E': ('Lusaka', 'Zambia'),\n",
       " '15.27S-35.83E': ('Blantyre', 'Malawi'),\n",
       " '15.27S-39.17E': ('Nampula', 'Mozambique'),\n",
       " '15.27S-39.17W': ('Ilhéus', 'Brazil'),\n",
       " '15.27S-40.83E': ('Nacala', 'Mozambique'),\n",
       " '15.27S-40.83W': ('Vitória Da Conquista', 'Brazil'),\n",
       " '15.27S-45.83E': ('Mahajanga', 'Madagascar'),\n",
       " '15.27S-47.50W': ('Brasília', 'Brazil'),\n",
       " '15.27S-55.83W': ('Cuiabá', 'Brazil'),\n",
       " '15.27S-70.83W': ('Juliaca', 'Peru'),\n",
       " '16.87N-100.47E': ('Phitsanulok', 'Thailand'),\n",
       " '16.87N-100.47W': ('Acapulco', 'Mexico'),\n",
       " '16.87N-102.14E': ('Khon Kaen', 'Thailand'),\n",
       " '16.87N-107.16E': ('Hue', 'Vietnam'),\n",
       " '16.87N-120.56E': ('Baguio', 'Philippines'),\n",
       " '16.87N-122.23E': ('Santiago', 'Philippines'),\n",
       " '16.87N-16.74W': ('Saint Louis', 'Senegal'),\n",
       " '16.87N-43.53E': ('Najran', 'Saudi Arabia'),\n",
       " '16.87N-53.58E': ('Salalah', 'Oman'),\n",
       " '16.87N-73.67E': ('Ichalkaranji', 'India'),\n",
       " '16.87N-75.35E': ('Bijapur', 'India'),\n",
       " '16.87N-77.02E': ('Gulbarga', 'India'),\n",
       " '16.87N-78.70E': ('Hyderabad', 'India'),\n",
       " '16.87N-80.37E': ('Eluru', 'India'),\n",
       " '16.87N-82.05E': ('Bhimavaram', 'India'),\n",
       " '16.87N-93.77W': ('Tuxtla Gutiérrez', 'Mexico'),\n",
       " '16.87N-95.44E': ('Henzada', 'Burma'),\n",
       " '16.87N-97.12E': ('Bago', 'Burma'),\n",
       " '16.87N-97.12W': ('Oaxaca', 'Mexico'),\n",
       " '16.87S-145.67E': ('Cairns', 'Australia'),\n",
       " '16.87S-33.49E': ('Tete', 'Mozambique'),\n",
       " '16.87S-38.51W': ('Pôrto Seguro', 'Brazil'),\n",
       " '16.87S-43.53W': ('Montes Claros', 'Brazil'),\n",
       " '16.87S-48.56W': ('Anápolis', 'Brazil'),\n",
       " '16.87S-55.26W': ('Rondonópolis', 'Brazil'),\n",
       " '16.87S-66.98W': ('Cochabamba', 'Bolivia'),\n",
       " '16.87S-68.65W': ('La Paz', 'Bolivia'),\n",
       " '16.87S-72.00W': ('Arequipa', 'Peru'),\n",
       " '18.48N-103.10E': ('Vientiane', 'Laos'),\n",
       " '18.48N-104.79W': ('Manzanillo', 'Mexico'),\n",
       " '18.48N-106.48E': ('Vinh', 'Vietnam'),\n",
       " '18.48N-120.00E': ('Laoag', 'Philippines'),\n",
       " '18.48N-121.69E': ('Tuguegarao', 'Philippines'),\n",
       " '18.48N-15.21W': ('Nouakchott', 'Mauritania'),\n",
       " '18.48N-42.25E': ('Abha', 'Saudi Arabia'),\n",
       " '18.48N-65.92W': ('Carolina', 'Puerto Rico'),\n",
       " '18.48N-69.30W': ('Higüey', 'Dominican Republic'),\n",
       " '18.48N-70.99W': ('La Vega', 'Dominican Republic'),\n",
       " '18.48N-72.68E': ('Ambarnath', 'India'),\n",
       " '18.48N-72.68W': ('Carrefour', 'Haiti'),\n",
       " '18.48N-74.37E': ('Ahmadnagar', 'India'),\n",
       " '18.48N-76.06E': ('Barsi', 'India'),\n",
       " '18.48N-76.06W': ('Kingston', 'Jamaica'),\n",
       " '18.48N-77.75E': ('Bidar', 'India'),\n",
       " '18.48N-77.75W': ('Spanish Town', 'Jamaica'),\n",
       " '18.48N-79.44E': ('Karimnagar', 'India'),\n",
       " '18.48N-82.82E': ('Visakhapatnam', 'India'),\n",
       " '18.48N-84.51E': ('Brahmapur', 'India'),\n",
       " '18.48N-87.89W': ('Chetumal', 'Mexico'),\n",
       " '18.48N-91.27W': ('Carmen', 'Mexico'),\n",
       " '18.48N-92.96W': ('Villahermosa', 'Mexico'),\n",
       " '18.48N-94.65E': ('Pyay', 'Burma'),\n",
       " '18.48N-94.65W': ('Coatzacoalcos', 'Mexico'),\n",
       " '18.48N-96.34E': ('Toungoo', 'Burma'),\n",
       " '18.48N-96.34W': ('Córdoba', 'Mexico'),\n",
       " '18.48N-98.03W': ('Puebla', 'Mexico'),\n",
       " '18.48N-99.72E': ('Chiang Mai', 'Thailand'),\n",
       " '18.48N-99.72W': ('Chilpancingo', 'Mexico'),\n",
       " '18.48S-147.04E': ('Townsville', 'Australia'),\n",
       " '18.48S-25.35E': ('Livingstone', 'Zambia'),\n",
       " '18.48S-30.42E': ('Chitungwiza', 'Zimbabwe'),\n",
       " '18.48S-32.11E': ('Mutare', 'Zimbabwe'),\n",
       " '18.48S-33.80E': ('Chimoio', 'Mozambique'),\n",
       " '18.48S-37.18E': ('Quelimane', 'Mozambique'),\n",
       " '18.48S-42.25W': ('Governador Valadares', 'Brazil'),\n",
       " '18.48S-47.32E': ('Antananarivo', 'Madagascar'),\n",
       " '18.48S-47.32W': ('Patos De Minas', 'Brazil'),\n",
       " '18.48S-49.01E': ('Toamasina', 'Madagascar'),\n",
       " '18.48S-49.01W': ('Uberlândia', 'Brazil'),\n",
       " '18.48S-65.92W': ('Sucre', 'Bolivia'),\n",
       " '18.48S-67.61W': ('Oruro', 'Bolivia'),\n",
       " '18.48S-70.99W': ('Arica', 'Chile'),\n",
       " '2.41N-10.45E': ('Bata', 'Equatorial Guinea'),\n",
       " '2.41N-100.45E': ('Rantauprapat', 'Indonesia'),\n",
       " '2.41N-102.05E': ('Bandar Maharani', 'Malaysia'),\n",
       " '2.41N-103.66E': ('Bandar Penggaram', 'Malaysia'),\n",
       " '2.41N-111.70E': ('Sibu', 'Malaysia'),\n",
       " '2.41N-113.30E': ('Bintulu', 'Malaysia'),\n",
       " '2.41N-28.13E': ('Isiro', 'Congo (Democratic Republic Of The)'),\n",
       " '2.41N-32.95E': ('Gulu', 'Uganda'),\n",
       " '2.41N-45.80E': ('Mogadishu', 'Somalia'),\n",
       " '2.41N-60.27W': ('Boa Vista', 'Brazil'),\n",
       " '2.41N-74.73W': ('Neiva', 'Colombia'),\n",
       " '2.41N-76.34W': ('Florencia', 'Colombia'),\n",
       " '2.41N-98.84E': ('Kisaran', 'Indonesia'),\n",
       " '2.41S-105.27E': ('Palembang', 'Indonesia'),\n",
       " '2.41S-26.52E': ('Kindu', 'Congo (Democratic Republic Of The)'),\n",
       " '2.41S-28.13E': ('Bukavu', 'Congo (Democratic Republic Of The)'),\n",
       " '2.41S-29.73E': ('Goma', 'Congo (Democratic Republic Of The)'),\n",
       " '2.41S-32.95E': ('Mwanza', 'Tanzania'),\n",
       " '2.41S-40.98W': ('Parnaíba', 'Brazil'),\n",
       " '2.41S-44.20W': ('São Luís', 'Brazil'),\n",
       " '2.41S-55.45W': ('Santarém', 'Brazil'),\n",
       " '2.41S-60.27W': ('Manaus', 'Brazil'),\n",
       " '2.41S-77.95W': ('Riobamba', 'Ecuador'),\n",
       " '2.41S-79.55W': ('Cuenca', 'Ecuador'),\n",
       " '20.09N-100.66W': ('Celaya', 'Mexico'),\n",
       " '20.09N-102.37W': ('Uruapan', 'Mexico'),\n",
       " '20.09N-104.08W': ('Colima', 'Mexico'),\n",
       " '20.09N-105.78E': ('Hòa Bình', 'Vietnam'),\n",
       " '20.09N-105.78W': ('Puerto Vallarta', 'Mexico'),\n",
       " '20.09N-110.90E': ('Dongli', 'China'),\n",
       " '20.09N-69.95W': ('Puerto Plata', 'Dominican Republic'),\n",
       " '20.09N-71.66W': ('Cap Haïtien', 'Haiti'),\n",
       " '20.09N-73.36E': ('Bhiwandi', 'India'),\n",
       " '20.09N-75.07E': ('Aurangabad', 'India'),\n",
       " '20.09N-75.07W': ('Guantánamo', 'Cuba'),\n",
       " '20.09N-76.78E': ('Akola', 'India'),\n",
       " '20.09N-76.78W': ('Bayamo', 'Cuba'),\n",
       " '20.09N-78.48E': ('Adilabad', 'India'),\n",
       " '20.09N-85.31E': ('Bhubaneswar', 'India'),\n",
       " '20.09N-90.43W': ('Campeche', 'Mexico'),\n",
       " '20.09N-92.13E': ('Akyab', 'Burma'),\n",
       " '20.09N-95.55E': ('Meiktila', 'Burma'),\n",
       " '20.09N-97.25E': ('Taunggyi', 'Burma'),\n",
       " '20.09N-97.25W': ('Xalapa', 'Mexico'),\n",
       " '20.09N-98.96W': ('Chalco', 'Mexico'),\n",
       " '20.09S-29.00E': ('Bulawayo', 'Zimbabwe'),\n",
       " '20.09S-34.12E': ('Beira', 'Mozambique'),\n",
       " '20.09S-39.24W': ('Linhares', 'Brazil'),\n",
       " '20.09S-40.95W': ('Cachoeiro De Itapemirim', 'Brazil'),\n",
       " '20.09S-42.65W': ('Coronel Fabriciano', 'Brazil'),\n",
       " '20.09S-44.36W': ('Belo Horizonte', 'Brazil'),\n",
       " '20.09S-47.77E': ('Antsirabe', 'Madagascar'),\n",
       " '20.09S-47.77W': ('Barretos', 'Brazil'),\n",
       " '20.09S-49.48W': ('São José Do Rio Prêto', 'Brazil'),\n",
       " '20.09S-54.60W': ('Campo Grande', 'Brazil'),\n",
       " '20.09S-58.01E': ('Port Louis', 'Mauritius'),\n",
       " '20.09S-66.54W': ('Potosí', 'Bolivia'),\n",
       " '20.09S-69.95W': ('Iquique', 'Chile'),\n",
       " '21.70N-101.25W': ('León', 'Mexico'),\n",
       " '21.70N-102.98W': ('Aguascalientes', 'Mexico'),\n",
       " '21.70N-104.71W': ('Tepic', 'Mexico'),\n",
       " '21.70N-106.44E': ('Ha Noi', 'Vietnam'),\n",
       " '21.70N-108.17E': ('Cam Pha', 'Vietnam'),\n",
       " '21.70N-109.90E': ('Beihai', 'China'),\n",
       " '21.70N-111.63E': ('Chuncheng', 'China'),\n",
       " '21.70N-113.37E': ('Sanbu', 'China'),\n",
       " '21.70N-38.94E': ('Jiddah', 'Saudi Arabia'),\n",
       " '21.70N-40.67E': ('Mecca', 'Saudi Arabia'),\n",
       " '21.70N-70.10E': ('Gondal', 'India'),\n",
       " '21.70N-71.83E': ('Bhavnagar', 'India'),\n",
       " '21.70N-73.56E': ('Bharuch', 'India'),\n",
       " '21.70N-75.29E': ('Bhusawal', 'India'),\n",
       " '21.70N-77.02E': ('Achalpur', 'India'),\n",
       " '21.70N-77.02W': ('Las Tunas', 'Cuba'),\n",
       " '21.70N-78.75E': ('Chhindwara', 'India'),\n",
       " '21.70N-78.75W': ('Camagüey', 'Cuba'),\n",
       " '21.70N-80.48E': ('Durg', 'India'),\n",
       " '21.70N-80.48W': ('Cienfuegos', 'Cuba'),\n",
       " '21.70N-82.21E': ('Bhilai', 'India'),\n",
       " '21.70N-83.94E': ('Raigarh', 'India'),\n",
       " '21.70N-83.94W': ('Pinar Del Río', 'Cuba'),\n",
       " '21.70N-85.67E': ('Raurkela', 'India'),\n",
       " '21.70N-87.40E': ('Baleshwar', 'India'),\n",
       " '21.70N-87.40W': ('Cancún', 'Mexico'),\n",
       " '21.70N-89.13W': ('Mérida', 'Mexico'),\n",
       " '21.70N-94.33E': ('Monywa', 'Burma'),\n",
       " '21.70N-96.06E': ('Mandalay', 'Burma'),\n",
       " '21.70N-97.79W': ('Tampico', 'Mexico'),\n",
       " '21.70N-99.52W': ('Ciudad Valles', 'Mexico'),\n",
       " '21.70S-40.67W': ('Campos', 'Brazil'),\n",
       " '21.70S-42.40W': ('Macaé', 'Brazil'),\n",
       " '21.70S-44.13W': ('Barbacena', 'Brazil'),\n",
       " '21.70S-45.87W': ('Poços De Caldas', 'Brazil'),\n",
       " '21.70S-47.60E': ('Fianarantsoa', 'Madagascar'),\n",
       " '21.70S-47.60W': ('Araraquara', 'Brazil'),\n",
       " '21.70S-49.33W': ('Bauru', 'Brazil'),\n",
       " '21.70S-51.06W': ('Araçatuba', 'Brazil'),\n",
       " '21.70S-54.52W': ('Dourados', 'Brazil'),\n",
       " '21.70S-56.25E': ('Saint Denis', 'Reunion'),\n",
       " '21.70S-64.90W': ('Tarija', 'Bolivia'),\n",
       " '23.31N-102.23W': ('Fresnillo', 'Mexico'),\n",
       " '23.31N-103.98E': ('Gejiu', 'China'),\n",
       " '23.31N-105.73W': ('Mazatlán', 'Mexico'),\n",
       " '23.31N-107.48E': ('Nanning', 'China'),\n",
       " '23.31N-110.97E': ('Wuzhou', 'China'),\n",
       " '23.31N-112.72E': ('Daliang', 'China'),\n",
       " '23.31N-114.47E': ('Danshui', 'China'),\n",
       " '23.31N-116.21E': ('Anbu', 'China'),\n",
       " '23.31N-119.71E': ('Fengshan', 'Taiwan'),\n",
       " '23.31N-121.46E': ('Nantou', 'Taiwan'),\n",
       " '23.31N-32.33E': ('Aswan', 'Egypt'),\n",
       " '23.31N-69.03E': ('Bhuj', 'India'),\n",
       " '23.31N-70.78E': ('Gandhidham', 'India'),\n",
       " '23.31N-72.52E': ('Ahmadabad', 'India'),\n",
       " '23.31N-74.27E': ('Godhra', 'India'),\n",
       " '23.31N-76.02E': ('Dewas', 'India'),\n",
       " '23.31N-77.77E': ('Bhopal', 'India'),\n",
       " '23.31N-79.51E': ('Damoh', 'India'),\n",
       " '23.31N-81.26E': ('Murwara', 'India'),\n",
       " '23.31N-81.26W': ('Matanzas', 'Cuba'),\n",
       " '23.31N-84.76E': ('Hazaribag', 'India'),\n",
       " '23.31N-86.50E': ('Asansol', 'India'),\n",
       " '23.31N-88.25E': ('Baharampur', 'India'),\n",
       " '23.31N-90.00E': ('Barisal', 'Bangladesh'),\n",
       " '23.31N-91.75E': ('Agartala', 'India'),\n",
       " '23.31N-93.50E': ('Aizawl', 'India'),\n",
       " '23.31N-96.99E': ('Lashio', 'Burma'),\n",
       " '23.31S-16.60E': ('Windhoek', 'Namibia'),\n",
       " '23.31S-28.83E': ('Pietersburg', 'South Africa'),\n",
       " '23.31S-30.58E': ('Phalaborwa', 'South Africa'),\n",
       " '23.31S-35.83E': ('Maxixe', 'Mozambique'),\n",
       " '23.31S-42.82E': ('Toliary', 'Madagascar'),\n",
       " '23.31S-42.82W': ('Araruama', 'Brazil'),\n",
       " '23.31S-44.56W': ('Angra Dos Reis', 'Brazil'),\n",
       " '23.31S-46.31W': ('Atibaia', 'Brazil'),\n",
       " '23.31S-48.06W': ('Americana', 'Brazil'),\n",
       " '23.31S-51.55W': ('Apucarana', 'Brazil'),\n",
       " '23.31S-69.03W': ('Calama', 'Chile'),\n",
       " '23.31S-70.78W': ('Antofagasta', 'Chile'),\n",
       " '24.92N-101.08W': ('Saltillo', 'Mexico'),\n",
       " '24.92N-102.86E': ('Haikou', 'China'),\n",
       " '24.92N-102.86W': ('Gómez Palacio', 'Mexico'),\n",
       " '24.92N-104.63E': ('Qujing', 'China'),\n",
       " '24.92N-104.63W': ('Durango', 'Mexico'),\n",
       " '24.92N-108.18E': ('Jinchengjiang', 'China'),\n",
       " '24.92N-108.18W': ('Culiacán', 'Mexico'),\n",
       " '24.92N-109.95E': ('Guilin', 'China'),\n",
       " '24.92N-109.95W': ('La Paz', 'Mexico'),\n",
       " '24.92N-113.50E': ('Maba', 'China'),\n",
       " '24.92N-117.04E': ('Longyan', 'China'),\n",
       " '24.92N-118.82E': ('Bantou', 'China'),\n",
       " '24.92N-120.59E': ('Chungho', 'Taiwan'),\n",
       " '24.92N-122.36E': ('Hsichih', 'Taiwan'),\n",
       " '24.92N-46.11E': ('Riyadh', 'Saudi Arabia'),\n",
       " '24.92N-51.43E': ('Doha', 'Qatar'),\n",
       " '24.92N-54.98E': ('Abu Dhabi', 'United Arab Emirates'),\n",
       " '24.92N-67.39E': ('Karachi', 'Pakistan'),\n",
       " '24.92N-69.16E': ('Hyderabad', 'Pakistan'),\n",
       " '24.92N-72.71E': ('Palanpur', 'India'),\n",
       " '24.92N-74.48E': ('Bhilwara', 'India'),\n",
       " '24.92N-76.26E': ('Kota', 'India'),\n",
       " '24.92N-78.03E': ('Guna', 'India'),\n",
       " '24.92N-78.03W': ('Nassau', 'Bahamas'),\n",
       " '24.92N-79.80E': ('Banda', 'India'),\n",
       " '24.92N-81.58E': ('Allahabad', 'India'),\n",
       " '24.92N-83.35E': ('Dehri', 'India'),\n",
       " '24.92N-85.12E': ('Ara', 'India'),\n",
       " '24.92N-86.90E': ('Begusarai', 'India'),\n",
       " '24.92N-88.67E': ('Balurghat', 'India'),\n",
       " '24.92N-90.44E': ('Bhairab Bazar', 'Bangladesh'),\n",
       " '24.92N-92.22E': ('Shillong', 'India'),\n",
       " '24.92N-93.99E': ('Imphal', 'India'),\n",
       " '24.92S-26.60E': ('Gaborone', 'Botswana'),\n",
       " '24.92S-28.37E': ('Brits', 'South Africa'),\n",
       " '24.92S-30.15E': ('Nelspruit', 'South Africa'),\n",
       " '24.92S-33.69E': ('Xai Xai', 'Mozambique'),\n",
       " '24.92S-47.88W': ('Paranaguá', 'Brazil'),\n",
       " '24.92S-49.66W': ('Araucária', 'Brazil'),\n",
       " '24.92S-51.43W': ('Guarapuava', 'Brazil'),\n",
       " '24.92S-53.20W': ('Cascavel', 'Brazil'),\n",
       " '24.92S-54.98W': ('Foz Do Iguaçu', 'Brazil'),\n",
       " '24.92S-56.75W': ('Capiatá', 'Paraguay'),\n",
       " '24.92S-58.52W': ('Asunción', 'Paraguay'),\n",
       " '24.92S-65.62W': ('Jujuy', 'Argentina'),\n",
       " '26.52N-100.30E': ('Dali', 'China'),\n",
       " '26.52N-100.30W': ('Apodaca', 'Mexico'),\n",
       " '26.52N-102.09E': ('Panzhihua', 'China'),\n",
       " '26.52N-102.09W': ('Monclova', 'Mexico'),\n",
       " '26.52N-103.88E': ('Rongcheng', 'China'),\n",
       " '26.52N-105.67E': ('Anshun', 'China'),\n",
       " '26.52N-107.46E': ('Guiyang', 'China'),\n",
       " '26.52N-109.25W': ('Los Mochis', 'Mexico'),\n",
       " '26.52N-111.04E': ('Shaoyang', 'China'),\n",
       " '26.52N-112.84E': ('Chenzhou', 'China'),\n",
       " '26.52N-114.63E': ('Ganzhou', 'China'),\n",
       " '26.52N-118.21E': ('Sanming', 'China'),\n",
       " '26.52N-120.00E': ('Fuzhou', 'China'),\n",
       " '26.52N-14.33E': ('Sabha', 'Libya'),\n",
       " '26.52N-30.45E': ('Asyut', 'Egypt'),\n",
       " '26.52N-32.24E': ('Luxor', 'Egypt'),\n",
       " '26.52N-44.78E': ('Buraydah', 'Saudi Arabia'),\n",
       " '26.52N-50.15E': ('Manama', 'Bahrain'),\n",
       " '26.52N-60.90E': ('Iranshahr', 'Iran'),\n",
       " '26.52N-68.06E': ('Dadu', 'Pakistan'),\n",
       " '26.52N-73.43E': ('Beawar', 'India'),\n",
       " '26.52N-75.22E': ('Ajmer', 'India'),\n",
       " '26.52N-77.01E': ('Bharatpur', 'India'),\n",
       " '26.52N-78.81E': ('Agra', 'India'),\n",
       " '26.52N-80.60E': ('Fatehpur', 'India'),\n",
       " '26.52N-80.60W': ('Coral Springs', 'United States'),\n",
       " '26.52N-82.39E': ('Azamgarh', 'India'),\n",
       " '26.52N-82.39W': ('Cape Coral', 'United States'),\n",
       " '26.52N-84.18E': ('Bagaha', 'India'),\n",
       " '26.52N-85.97E': ('Darbhanga', 'India'),\n",
       " '26.52N-87.76E': ('Biratnagar', 'Nepal'),\n",
       " '26.52N-89.55E': ('Jalpaiguri', 'India'),\n",
       " '26.52N-91.34E': ('Guwahati', 'India'),\n",
       " '26.52N-93.13E': ('Dimapur', 'India'),\n",
       " '26.52N-96.72W': ('Brownsville', 'United States'),\n",
       " '26.52N-98.51W': ('Reynosa', 'Mexico'),\n",
       " '26.52S-26.87E': ('Klerksdorp', 'South Africa'),\n",
       " '26.52S-28.66E': ('Alberton', 'South Africa'),\n",
       " '26.52S-32.24E': ('Manzini', 'Swaziland'),\n",
       " '26.52S-48.36W': ('Blumenau', 'Brazil'),\n",
       " '26.52S-53.73W': ('Chapecó', 'Brazil'),\n",
       " '26.52S-57.31W': ('Formosa', 'Argentina'),\n",
       " '26.52S-64.48W': ('Tucuman', 'Argentina'),\n",
       " '28.13N-100.91W': ('Piedras Negras', 'Mexico'),\n",
       " '28.13N-102.73E': ('Xichang', 'China'),\n",
       " '28.13N-104.55E': ('Wufeng', 'China'),\n",
       " '28.13N-106.36E': ('Zunyi', 'China'),\n",
       " '28.13N-106.36W': ('Chihuahua', 'Mexico'),\n",
       " '28.13N-110.00E': ('Huaihua', 'China'),\n",
       " '28.13N-110.00W': ('Guaymas', 'Mexico'),\n",
       " '28.13N-111.82E': ('Changde', 'China'),\n",
       " '28.13N-113.64E': ('Pingxiang', 'China'),\n",
       " '28.13N-115.45E': ('Linchuan', 'China'),\n",
       " '28.13N-117.27E': ('Shangrao', 'China'),\n",
       " '28.13N-120.91E': ('Huangyan', 'China'),\n",
       " '28.13N-15.45W': ('Las Palmas', 'Spain'),\n",
       " '28.13N-37.27E': ('Tabuk', 'Saudi Arabia'),\n",
       " '28.13N-53.64E': ('Jahrom', 'Iran'),\n",
       " '28.13N-57.27E': ('Jiroft', 'Iran'),\n",
       " '28.13N-66.36E': ('Khuzdar', 'Pakistan'),\n",
       " '28.13N-68.18E': ('Jacobabad', 'Pakistan'),\n",
       " '28.13N-70.00E': ('Khanpur', 'Pakistan'),\n",
       " '28.13N-73.64E': ('Bikaner', 'India'),\n",
       " '28.13N-75.45E': ('Bhiwani', 'India'),\n",
       " '28.13N-77.27E': ('Aligarh', 'India'),\n",
       " '28.13N-79.09E': ('Amroha', 'India'),\n",
       " '28.13N-80.91E': ('Bahraich', 'India'),\n",
       " '28.13N-80.91W': ('Orlando', 'United States'),\n",
       " '28.13N-82.73W': ('Clearwater', 'United States'),\n",
       " '28.13N-84.55E': ('Bharatpur', 'Nepal'),\n",
       " '28.13N-95.45E': ('Dibrugarh', 'India'),\n",
       " '28.13N-97.27W': ('Corpus Christi', 'United States'),\n",
       " '28.13N-99.09W': ('Laredo', 'United States'),\n",
       " '28.13S-153.64E': ('Brisbane', 'Australia'),\n",
       " '28.13S-24.55E': ('Kimberley', 'South Africa'),\n",
       " '28.13S-26.36E': ('Kroonstad', 'South Africa'),\n",
       " '28.13S-30.00E': ('Newcastle', 'South Africa'),\n",
       " '28.13S-31.82E': ('Richards Bay', 'South Africa'),\n",
       " '28.13S-48.18W': ('Florianópolis', 'Brazil'),\n",
       " '28.13S-50.00W': ('Criciúma', 'Brazil'),\n",
       " '28.13S-51.82W': ('Passo Fundo', 'Brazil'),\n",
       " '28.13S-55.45W': ('Posadas', 'Argentina'),\n",
       " '28.13S-59.09W': ('Corrientes', 'Argentina'),\n",
       " '28.13S-64.55W': ('Santiago Del Estero', 'Argentina'),\n",
       " '28.13S-66.36W': ('Catamarca', 'Argentina'),\n",
       " '28.13S-70.00W': ('Copiapo', 'Chile'),\n",
       " '29.74N-101.54W': ('Acuña', 'Mexico'),\n",
       " '29.74N-103.38E': ('Leshan', 'China'),\n",
       " '29.74N-105.23E': ('Daan', 'China'),\n",
       " '29.74N-107.08E': ('Beibei', 'China'),\n",
       " '29.74N-110.77E': ('Zhicheng', 'China'),\n",
       " '29.74N-110.77W': ('Hermosillo', 'Mexico'),\n",
       " '29.74N-112.62E': ('Buhe', 'China'),\n",
       " '29.74N-114.46E': ('Ezhou', 'China'),\n",
       " '29.74N-116.31E': ('Jingdezhen', 'China'),\n",
       " '29.74N-120.00E': ('Hangzhou', 'China'),\n",
       " '29.74N-121.85E': ('Ningbo', 'China'),\n",
       " '29.74N-31.38E': ('Benha', 'Egypt'),\n",
       " '29.74N-33.23E': ('Suez', 'Egypt'),\n",
       " '29.74N-48.00E': ('Abadan', 'Iran'),\n",
       " '29.74N-51.69E': ('Bushehr', 'Iran'),\n",
       " '29.74N-53.54E': ('Marv Dasht', 'Iran'),\n",
       " '29.74N-55.38E': ('Rafsanjan', 'Iran'),\n",
       " '29.74N-57.23E': ('Kerman', 'Iran'),\n",
       " '29.74N-66.46E': ('Quetta', 'Pakistan'),\n",
       " '29.74N-70.15E': ('Dera Ghazi Khan', 'Pakistan'),\n",
       " '29.74N-72.00E': ('Ahmadpur East', 'Pakistan'),\n",
       " '29.74N-73.85E': ('Abohar', 'India'),\n",
       " '29.74N-75.69E': ('Barnala', 'India'),\n",
       " '29.74N-77.54E': ('Ambala', 'India'),\n",
       " '29.74N-79.38E': ('Haldwani', 'India'),\n",
       " '29.74N-81.23W': ('Jacksonville', 'United States'),\n",
       " '29.74N-83.08W': ('Gainesville', 'United States'),\n",
       " '29.74N-84.92W': ('Tallahassee', 'United States'),\n",
       " '29.74N-9.23W': ('Agadir', 'Morocco'),\n",
       " '29.74N-90.46E': ('Lasa', 'China'),\n",
       " '29.74N-90.46W': ('Baton Rouge', 'United States'),\n",
       " '29.74N-92.31W': ('Lafayette', 'United States'),\n",
       " '29.74N-94.15W': ('Beaumont', 'United States'),\n",
       " '29.74N-96.00W': ('Houston', 'United States'),\n",
       " '29.74N-97.85W': ('Austin', 'United States'),\n",
       " '29.74S-25.85E': ('Bloemfontein', 'South Africa'),\n",
       " '29.74S-27.69E': ('Botshabelo', 'South Africa'),\n",
       " '29.74S-29.54E': ('Pietermaritzburg', 'South Africa'),\n",
       " '29.74S-31.38E': ('Durban', 'South Africa'),\n",
       " '29.74S-51.69W': ('Cachoeirinha', 'Brazil'),\n",
       " '29.74S-53.54W': ('Santa Maria', 'Brazil'),\n",
       " '29.74S-57.23W': ('Uruguaiana', 'Brazil'),\n",
       " '29.74S-66.46W': ('La Rioja', 'Argentina'),\n",
       " '29.74S-72.00W': ('Coquimbo', 'Chile'),\n",
       " '31.35N-103.66E': ('Chengdu', 'China'),\n",
       " '31.35N-105.55E': ('Jiangyou', 'China'),\n",
       " '31.35N-105.55W': ('El Paso', 'United States'),\n",
       " '31.35N-107.43E': ('Daxian', 'China'),\n",
       " '31.35N-109.32E': ('Wanxian', 'China'),\n",
       " '31.35N-111.20E': ('Yichang', 'China'),\n",
       " '31.35N-111.20W': ('Nogales', 'United States'),\n",
       " '31.35N-113.09E': ('Guangshui', 'China'),\n",
       " '31.35N-114.97E': ('Macheng', 'China'),\n",
       " '31.35N-116.86E': ('Anqing', 'China'),\n",
       " '31.35N-116.86W': ('Ensenada', 'Mexico'),\n",
       " '31.35N-118.74E': ('Chaohu', 'China'),\n",
       " '31.35N-120.63E': ('Changzhou', 'China'),\n",
       " '31.35N-131.94E': ('Miyakonojo', 'Japan'),\n",
       " '31.35N-16.96E': ('Surt', 'Libya'),\n",
       " '31.35N-20.73E': ('Ajdabiya', 'Libya'),\n",
       " '31.35N-24.50E': ('Tubruq', 'Libya'),\n",
       " '31.35N-30.16E': ('Alexandria', 'Egypt'),\n",
       " '31.35N-32.04E': ('Dekernes', 'Egypt'),\n",
       " '31.35N-33.93E': ('Ashdod', 'Israel'),\n",
       " '31.35N-35.81E': ('Jerusalem', 'Israel'),\n",
       " '31.35N-49.01E': ('Ahvaz', 'Iran'),\n",
       " '31.35N-5.65E': ('Warqla', 'Algeria'),\n",
       " '31.35N-52.77E': ('Shahreza', 'Iran'),\n",
       " '31.35N-54.66E': ('Yazd', 'Iran'),\n",
       " '31.35N-62.20E': ('Zabol', 'Iran'),\n",
       " '31.35N-65.97E': ('Qandahar', 'Afghanistan'),\n",
       " '31.35N-7.54W': ('Marrakesh', 'Morocco'),\n",
       " '31.35N-71.62E': ('Dera Ismail Khan', 'Pakistan'),\n",
       " '31.35N-73.51E': ('Chiniot', 'Pakistan'),\n",
       " '31.35N-75.39E': ('Amritsar', 'India'),\n",
       " '31.35N-77.28E': ('Chandigarh', 'India'),\n",
       " '31.35N-81.05W': ('Savannah', 'United States'),\n",
       " '31.35N-88.59W': ('Mobile', 'United States'),\n",
       " '31.35N-98.01W': ('Killeen', 'United States'),\n",
       " '31.35S-114.97E': ('Perth', 'Australia'),\n",
       " '31.35S-26.39E': ('Queenstown', 'South Africa'),\n",
       " '31.35S-52.77W': ('Pelotas', 'Brazil'),\n",
       " '31.35S-58.43W': ('Concordia', 'Argentina'),\n",
       " '31.35S-60.31W': ('Parana', 'Argentina'),\n",
       " '31.35S-64.08W': ('Cordoba', 'Argentina'),\n",
       " '31.35S-67.85W': ('San Juan', 'Argentina'),\n",
       " '32.95N-100.53W': ('Abilene', 'United States'),\n",
       " '32.95N-102.45W': ('Lubbock', 'United States'),\n",
       " '32.95N-106.28E': ('Guangyuan', 'China'),\n",
       " '32.95N-108.19E': ('Ankang', 'China'),\n",
       " '32.95N-110.11E': ('Shiyan', 'China'),\n",
       " '32.95N-112.02E': ('Laohekou', 'China'),\n",
       " '32.95N-112.02W': ('Chandler', 'United States'),\n",
       " '32.95N-113.94E': ('Luohe', 'China'),\n",
       " '32.95N-113.94W': ('San Luis Río Colorado', 'Mexico'),\n",
       " '32.95N-115.85E': ('Bozhou', 'China'),\n",
       " '32.95N-115.85W': ('Mexicali', 'Mexico'),\n",
       " '32.95N-117.77E': ('Bengbu', 'China'),\n",
       " '32.95N-117.77W': ('Anaheim', 'United States'),\n",
       " '32.95N-119.68E': ('Dongtai', 'China'),\n",
       " '32.95N-12.45E': ('Sabratah', 'Libya'),\n",
       " '32.95N-129.26E': ('Sasebo', 'Japan'),\n",
       " '32.95N-131.17E': ('Beppu', 'Japan'),\n",
       " '32.95N-14.36E': ('Misratah', 'Libya'),\n",
       " '32.95N-20.11E': ('Benghazi', 'Libya'),\n",
       " '32.95N-35.43E': ('Bene Beraq', 'Israel'),\n",
       " '32.95N-37.34E': ('Duma', 'Syria'),\n",
       " '32.95N-45.00E': ('Baghdad', 'Iraq'),\n",
       " '32.95N-46.91E': ('Ilam', 'Iran'),\n",
       " '32.95N-48.83E': ('Dezful', 'Iran'),\n",
       " '32.95N-50.74E': ('Esfahan', 'Iran'),\n",
       " '32.95N-58.40E': ('Birjand', 'Iran'),\n",
       " '32.95N-6.70W': ('Casablanca', 'Morocco'),\n",
       " '32.95N-67.98E': ('Gazni', 'Afghanistan'),\n",
       " '32.95N-69.89E': ('Gardez', 'Afghanistan'),\n",
       " '32.95N-71.81E': ('Khushab', 'Pakistan'),\n",
       " '32.95N-73.72E': ('Chakwal', 'Pakistan'),\n",
       " '32.95N-75.64E': ('Jammu', 'India'),\n",
       " '32.95N-79.47W': ('Charleston', 'United States'),\n",
       " '32.95N-8.62W': ('Asfi', 'Morocco'),\n",
       " '32.95N-85.21W': ('Columbus', 'United States'),\n",
       " '32.95N-87.13W': ('Birmingham', 'United States'),\n",
       " '32.95N-90.96W': ('Jackson', 'United States'),\n",
       " '32.95N-92.87W': ('Shreveport', 'United States'),\n",
       " '32.95N-96.70W': ('Arlington', 'United States'),\n",
       " '32.95S-152.23E': ('Newcastle', 'Australia'),\n",
       " '32.95S-18.19E': ('Cape Town', 'South Africa'),\n",
       " '32.95S-20.11E': ('Worcester', 'South Africa'),\n",
       " '32.95S-27.77E': ('Bisho', 'South Africa'),\n",
       " '32.95S-60.32W': ('Rosario', 'Argentina'),\n",
       " '32.95S-64.15W': ('Rio Cuarto', 'Argentina'),\n",
       " '32.95S-66.06W': ('Mercedes', 'Argentina'),\n",
       " '32.95S-67.98W': ('Mendoza', 'Argentina'),\n",
       " '32.95S-69.89W': ('San Bernardo', 'Chile'),\n",
       " '32.95S-71.81W': ('Quilpue', 'Chile'),\n",
       " '34.56N-101.19W': ('Amarillo', 'United States'),\n",
       " '34.56N-107.03E': ('Baoji', 'China'),\n",
       " '34.56N-107.03W': ('Albuquerque', 'United States'),\n",
       " '34.56N-108.97E': ('Tongchuan', 'China'),\n",
       " '34.56N-11.68E': ('Safaqis', 'Tunisia'),\n",
       " '34.56N-110.92E': ('Sanmenxia', 'China'),\n",
       " '34.56N-112.86E': ('Jiaozuo', 'China'),\n",
       " '34.56N-114.81E': ('Heze', 'China'),\n",
       " '34.56N-116.76E': ('Huaibei', 'China'),\n",
       " '34.56N-116.76W': ('Fontana', 'United States'),\n",
       " '34.56N-118.70E': ('Xinpu', 'China'),\n",
       " '34.56N-118.70W': ('Burbank', 'United States'),\n",
       " '34.56N-130.38E': ('Kitakyushu', 'Japan'),\n",
       " '34.56N-132.32E': ('Hiroshima', 'Japan'),\n",
       " '34.56N-134.27E': ('Akashi', 'Japan'),\n",
       " '34.56N-136.22E': ('Amagasaki', 'Japan'),\n",
       " '34.56N-138.16E': ('Fuji', 'Japan'),\n",
       " '34.56N-140.11E': ('Ichihara', 'Japan'),\n",
       " '34.56N-25.30E': ('Iráklion', 'Greece'),\n",
       " '34.56N-3.89W': ('Nador', 'Morocco'),\n",
       " '34.56N-33.08E': ('Lemesos', 'Cyprus'),\n",
       " '34.56N-35.03E': ('Bayrut', 'Lebanon'),\n",
       " '34.56N-46.70E': ('Kermanshah', 'Iran'),\n",
       " '34.56N-48.65E': ('Borujerd', 'Iran'),\n",
       " '34.56N-5.84W': ('Fez', 'Morocco'),\n",
       " '34.56N-50.59E': ('Arak', 'Iran'),\n",
       " '34.56N-62.27E': ('Herat', 'Afghanistan'),\n",
       " '34.56N-70.05E': ('Jalalabad', 'Afghanistan'),\n",
       " '34.56N-72.00E': ('Mardan', 'Pakistan'),\n",
       " '34.56N-73.95E': ('Srinagar', 'India'),\n",
       " '34.56N-79.78W': ('Fayetteville', 'United States'),\n",
       " '34.56N-81.73W': ('Charlotte', 'United States'),\n",
       " '34.56N-83.68W': ('Atlanta', 'United States'),\n",
       " '34.56N-85.62W': ('Chattanooga', 'United States'),\n",
       " '34.56N-89.51W': ('Memphis', 'United States'),\n",
       " '34.56N-9.73E': ('Qabis', 'Tunisia'),\n",
       " '34.56N-91.46W': ('Little Rock', 'United States'),\n",
       " '34.56N-97.30W': ('Norman', 'United States'),\n",
       " '34.56N-99.24W': ('Wichita Falls', 'United States'),\n",
       " '34.56S-138.16E': ('Adelaide', 'Australia'),\n",
       " '34.56S-151.78E': ('Sydney', 'Australia'),\n",
       " '34.56S-19.46E': ('Paarl', 'South Africa'),\n",
       " '34.56S-23.35E': ('George', 'South Africa'),\n",
       " '34.56S-25.30E': ('Port Elizabeth', 'South Africa'),\n",
       " '34.56S-56.43W': ('Montevideo', 'Uruguay'),\n",
       " '34.56S-58.38W': ('La Plata', 'Argentina'),\n",
       " '34.56S-68.11W': ('San Rafael', 'Argentina'),\n",
       " '34.56S-70.05W': ('Rancagua', 'Chile'),\n",
       " '34.56S-72.00W': ('Curico', 'Chile'),\n",
       " '36.17N-0.00W': ('Wahran', 'Algeria'),\n",
       " '36.17N-1.99E': ('Médéa', 'Algeria'),\n",
       " '36.17N-1.99W': ('Almería', 'Spain'),\n",
       " '36.17N-101.44E': ('Xining', 'China'),\n",
       " '36.17N-103.43E': ('Baiyin', 'China'),\n",
       " '36.17N-107.40E': ('Pingliang', 'China'),\n",
       " '36.17N-109.39E': ('Yanan', 'China'),\n",
       " '36.17N-111.38E': ('Houma', 'China'),\n",
       " '36.17N-113.37E': ('Anyang', 'China'),\n",
       " '36.17N-115.36E': ('Handan', 'China'),\n",
       " '36.17N-115.36W': ('Henderson', 'United States'),\n",
       " '36.17N-117.35E': ('Boshan', 'China'),\n",
       " '36.17N-119.34E': ('Anqiu', 'China'),\n",
       " '36.17N-119.34W': ('Bakersfield', 'United States'),\n",
       " '36.17N-121.33E': ('Laiyang', 'China'),\n",
       " '36.17N-121.33W': ('Salinas', 'United States'),\n",
       " '36.17N-133.26E': ('Yonago', 'Japan'),\n",
       " '36.17N-137.24E': ('Iida', 'Japan'),\n",
       " '36.17N-139.23E': ('Abiko', 'Japan'),\n",
       " '36.17N-141.22E': ('Hitachi', 'Japan'),\n",
       " '36.17N-3.98E': ('Algiers', 'Algeria'),\n",
       " '36.17N-3.98W': ('Málaga', 'Spain'),\n",
       " '36.17N-31.82E': ('Alanya', 'Turkey'),\n",
       " '36.17N-33.81E': ('Mersin', 'Turkey'),\n",
       " '36.17N-35.80E': ('Adana', 'Turkey'),\n",
       " '36.17N-37.79E': ('Aleppo', 'Syria'),\n",
       " '36.17N-43.76E': ('Dahuk', 'Iraq'),\n",
       " '36.17N-45.75E': ('Baneh', 'Iran'),\n",
       " '36.17N-47.73E': ('Zanjan', 'Iran'),\n",
       " '36.17N-49.72E': ('Qazvin', 'Iran'),\n",
       " '36.17N-5.97E': ('Constantine', 'Algeria'),\n",
       " '36.17N-5.97W': ('Algeciras', 'Spain'),\n",
       " '36.17N-51.71E': ('Amol', 'Iran'),\n",
       " '36.17N-53.70E': ('Gorgan', 'Iran'),\n",
       " '36.17N-55.69E': ('Shahrud', 'Iran'),\n",
       " '36.17N-57.68E': ('Sabzevar', 'Iran'),\n",
       " '36.17N-59.67E': ('Mashhad', 'Iran'),\n",
       " '36.17N-69.61E': ('Baglan', 'Afghanistan'),\n",
       " '36.17N-75.58W': ('Chesapeake', 'United States'),\n",
       " '36.17N-79.56W': ('Cary', 'United States'),\n",
       " '36.17N-83.54W': ('Knoxville', 'United States'),\n",
       " '36.17N-87.51W': ('Clarksville', 'United States'),\n",
       " '36.17N-9.94E': ('Aryanah', 'Tunisia'),\n",
       " '36.17N-95.47W': ('Tulsa', 'United States'),\n",
       " '36.17N-97.46W': ('Oklahoma City', 'United States'),\n",
       " '36.17S-147.18E': ('Albury', 'Australia'),\n",
       " '36.17S-149.17E': ('Canberra', 'Australia'),\n",
       " '36.17S-175.03E': ('Auckland', 'New Zealand'),\n",
       " '36.17S-71.60W': ('Chillan', 'Chile'),\n",
       " '36.17S-73.59W': ('Concepcion', 'Chile'),\n",
       " '37.78N-0.00W': ('Cartagena', 'Spain'),\n",
       " '37.78N-101.69E': ('Jinchang', 'China'),\n",
       " '37.78N-103.73W': ('Pueblo', 'United States'),\n",
       " '37.78N-105.76E': ('Yinchuan', 'China'),\n",
       " '37.78N-111.86E': ('Taiyuan', 'China'),\n",
       " '37.78N-113.90E': ('Luancheng', 'China'),\n",
       " '37.78N-115.93E': ('Cangzhou', 'China'),\n",
       " '37.78N-117.97E': ('Binzhou', 'China'),\n",
       " '37.78N-120.00E': ('Zhaocheng', 'China'),\n",
       " '37.78N-120.00W': ('Modesto', 'United States'),\n",
       " '37.78N-122.03E': ('Weihai', 'China'),\n",
       " '37.78N-122.03W': ('Antioch', 'United States'),\n",
       " '37.78N-126.10E': ('Seoul', 'South Korea'),\n",
       " '37.78N-138.31E': ('Joetsu', 'Japan'),\n",
       " '37.78N-14.24E': ('Catania', 'Italy'),\n",
       " '37.78N-140.34E': ('Iwaki', 'Japan'),\n",
       " '37.78N-16.27E': ('Messina', 'Italy'),\n",
       " '37.78N-2.03W': ('Murcia', 'Spain'),\n",
       " '37.78N-22.37E': ('Pátrai', 'Greece'),\n",
       " '37.78N-24.41E': ('Athens', 'Greece'),\n",
       " '37.78N-26.44E': ('Izmir', 'Turkey'),\n",
       " '37.78N-28.47E': ('Denizli', 'Turkey'),\n",
       " '37.78N-30.51E': ('Antalya', 'Turkey'),\n",
       " '37.78N-32.54E': ('Karaman', 'Turkey'),\n",
       " '37.78N-34.58E': ('Aksaray', 'Turkey'),\n",
       " '37.78N-36.61E': ('Gaziantep', 'Turkey'),\n",
       " '37.78N-38.64E': ('Malatya', 'Turkey'),\n",
       " '37.78N-4.07W': ('Córdoba', 'Spain'),\n",
       " '37.78N-40.68E': ('Batman', 'Turkey'),\n",
       " '37.78N-42.71E': ('Siirt', 'Turkey'),\n",
       " '37.78N-44.75E': ('Khoy', 'Iran'),\n",
       " '37.78N-46.78E': ('Maragheh', 'Iran'),\n",
       " '37.78N-48.81E': ('Ardabil', 'Iran'),\n",
       " '37.78N-54.92E': ('Gonbad E Qabus', 'Iran'),\n",
       " '37.78N-56.95E': ('Bojnurd', 'Iran'),\n",
       " '37.78N-58.98E': ('Asgabat', 'Turkmenistan'),\n",
       " '37.78N-6.10W': ('Dos Hermanas', 'Spain'),\n",
       " '37.78N-67.12E': ('Termiz', 'Uzbekistan'),\n",
       " '37.78N-77.29W': ('Newport News', 'United States'),\n",
       " '37.78N-85.42W': ('Lexington Fayette', 'United States'),\n",
       " '37.78N-87.46W': ('Evansville', 'United States'),\n",
       " '37.78N-93.56W': ('Springfield', 'United States'),\n",
       " '37.78N-97.63W': ('Wichita', 'United States'),\n",
       " '37.78S-144.41E': ('Geelong', 'Australia'),\n",
       " '37.78S-174.92E': ('Hamilton', 'New Zealand'),\n",
       " '37.78S-176.95E': ('Tauranga', 'New Zealand'),\n",
       " '37.78S-56.95W': ('Mar Del Plata', 'Argentina'),\n",
       " '37.78S-58.98W': ('Tandil', 'Argentina'),\n",
       " '37.78S-73.22W': ('Los Angeles', 'Chile'),\n",
       " '39.38N-0.00W': ('Valencia', 'Spain'),\n",
       " '39.38N-104.05W': ('Aurora', 'United States'),\n",
       " '39.38N-106.13E': ('Dawukou', 'China'),\n",
       " '39.38N-106.13W': ('Arvada', 'United States'),\n",
       " '39.38N-112.37W': ('Provo', 'United States'),\n",
       " '39.38N-114.45E': ('Baoding', 'China'),\n",
       " '39.38N-116.53E': ('Huangcun', 'China'),\n",
       " '39.38N-118.61E': ('Hangu', 'China'),\n",
       " '39.38N-120.69E': ('Dalian', 'China'),\n",
       " '39.38N-120.69W': ('Reno', 'United States'),\n",
       " '39.38N-122.77E': ('Pulandian', 'China'),\n",
       " '39.38N-124.86E': ('Dandong', 'China'),\n",
       " '39.38N-139.42E': ('Akita', 'Japan'),\n",
       " '39.38N-141.50E': ('Ishinomaki', 'Japan'),\n",
       " '39.38N-2.08E': ('Palma', 'Spain'),\n",
       " '39.38N-2.08W': ('Albacete', 'Spain'),\n",
       " '39.38N-22.89E': ('Lárisa', 'Greece'),\n",
       " '39.38N-27.05E': ('Manisa', 'Turkey'),\n",
       " '39.38N-29.13E': ('Bursa', 'Turkey'),\n",
       " '39.38N-31.21E': ('Afyonkarahisar', 'Turkey'),\n",
       " '39.38N-33.29E': ('Ankara', 'Turkey'),\n",
       " '39.38N-35.38E': ('Kayseri', 'Turkey'),\n",
       " '39.38N-37.46E': ('Sivas', 'Turkey'),\n",
       " '39.38N-39.54E': ('Erzincan', 'Turkey'),\n",
       " '39.38N-41.62E': ('Erzurum', 'Turkey'),\n",
       " '39.38N-45.78E': ('Marand', 'Iran'),\n",
       " '39.38N-47.86E': ('Parsabad', 'Iran'),\n",
       " '39.38N-6.24W': ('Badajoz', 'Spain'),\n",
       " '39.38N-64.51E': ('Navoi', 'Uzbekistan'),\n",
       " '39.38N-66.59E': ('Samarkand', 'Uzbekistan'),\n",
       " '39.38N-68.67E': ('Dushanbe', 'Tajikistan'),\n",
       " '39.38N-74.91W': ('Philadelphia', 'United States'),\n",
       " '39.38N-76.99E': ('Kashi', 'China'),\n",
       " '39.38N-76.99W': ('Alexandria', 'United States'),\n",
       " '39.38N-8.32E': ('Cagliari', 'Italy'),\n",
       " '39.38N-8.32W': ('Amadora', 'Portugal'),\n",
       " '39.38N-83.24W': ('Columbus', 'United States'),\n",
       " '39.38N-85.32W': ('Cincinnati', 'United States'),\n",
       " '39.38N-89.48W': ('Saint Louis', 'United States'),\n",
       " '39.38N-93.64W': ('Independence', 'United States'),\n",
       " '39.38N-95.72W': ('Olathe', 'United States'),\n",
       " '39.38N-97.80E': ('Jiayuguan', 'China'),\n",
       " '39.38S-62.43W': ('Bahia Blanca', 'Argentina'),\n",
       " '39.38S-68.67W': ('Neuquen', 'Argentina'),\n",
       " '39.38S-72.83W': ('Temuco', 'Chile'),\n",
       " '4.02N-10.45E': ('Douala', 'Cameroon'),\n",
       " '4.02N-100.45E': ('Ipoh', 'Malaysia'),\n",
       " '4.02N-102.05E': ('Rawang', 'Malaysia'),\n",
       " '4.02N-103.66E': ('Kuantan', 'Malaysia'),\n",
       " '4.02N-113.30E': ('Miri', 'Malaysia'),\n",
       " '4.02N-118.13E': ('Tawau', 'Malaysia'),\n",
       " '4.02N-12.05E': ('Yaoundé', 'Cameroon'),\n",
       " '4.02N-13.66E': ('Bertoua', 'Cameroon'),\n",
       " '4.02N-18.48E': ('Bangui', 'Central African Republic'),\n",
       " '4.02N-20.09E': ('Gemena', 'Congo (Democratic Republic Of The)'),\n",
       " '4.02N-31.34E': ('Juba', 'Sudan'),\n",
       " '4.02N-7.23E': ('Bugama', 'Nigeria'),\n",
       " '4.02N-73.13W': ('Villavicencio', 'Colombia'),\n",
       " '4.02N-74.73W': ('Bogotá', 'Colombia'),\n",
       " '4.02N-76.34W': ('Armenia', 'Colombia'),\n",
       " '4.02N-8.84E': ('Kumba', 'Cameroon'),\n",
       " '4.02N-98.84E': ('Belawan', 'Indonesia'),\n",
       " '4.02S-102.05E': ('Bengkulu', 'Indonesia'),\n",
       " '4.02S-103.66E': ('Baturaja', 'Indonesia'),\n",
       " '4.02S-114.91E': ('Banjarmasin', 'Indonesia'),\n",
       " '4.02S-122.95E': ('Kendari', 'Indonesia'),\n",
       " '4.02S-127.77E': ('Ambon', 'Indonesia'),\n",
       " '4.02S-15.27E': ('Brazzaville', 'Congo'),\n",
       " '4.02S-16.88E': ('Bandundu', 'Congo (Democratic Republic Of The)'),\n",
       " '4.02S-20.09E': ('Ilebo', 'Congo (Democratic Republic Of The)'),\n",
       " '4.02S-29.73E': ('Bujumbura', 'Burundi'),\n",
       " '4.02S-32.95E': ('Shinyanga', 'Tanzania'),\n",
       " '4.02S-36.16E': ('Arusha', 'Tanzania'),\n",
       " '4.02S-37.77E': ('Moshi', 'Tanzania'),\n",
       " '4.02S-39.38E': ('Mombasa', 'Kenya'),\n",
       " '4.02S-39.38W': ('Caucaia', 'Brazil'),\n",
       " '4.02S-40.98W': ('Fortaleza', 'Brazil'),\n",
       " '4.02S-73.13W': ('Iquitos', 'Peru'),\n",
       " '4.02S-79.55W': ('Loja', 'Ecuador'),\n",
       " '4.02S-81.16W': ('Talara', 'Peru'),\n",
       " '40.99N-0.00W': ('Lleida', 'Spain'),\n",
       " '40.99N-104.38W': ('Fort Collins', 'United States'),\n",
       " '40.99N-110.77E': ('Hohhot', 'China'),\n",
       " '40.99N-112.90E': ('Datong', 'China'),\n",
       " '40.99N-112.90W': ('Salt Lake City', 'United States'),\n",
       " '40.99N-115.03E': ('Xuanhua', 'China'),\n",
       " '40.99N-117.16E': ('Chengde', 'China'),\n",
       " '40.99N-12.78E': ('Latina', 'Italy'),\n",
       " '40.99N-121.42E': ('Beipiao', 'China'),\n",
       " '40.99N-123.55E': ('Anshan', 'China'),\n",
       " '40.99N-14.91E': ('Foggia', 'Italy'),\n",
       " '40.99N-140.59E': ('Hachinohe', 'Japan'),\n",
       " '40.99N-17.04E': ('Bari', 'Italy'),\n",
       " '40.99N-19.17E': ('Durrës', 'Albania'),\n",
       " '40.99N-2.13E': ('Badalona', 'Spain'),\n",
       " '40.99N-23.43E': ('Thessaloníki', 'Greece'),\n",
       " '40.99N-27.69E': ('Çorlu', 'Turkey'),\n",
       " '40.99N-29.82E': ('Gebze', 'Turkey'),\n",
       " '40.99N-31.95E': ('Zonguldak', 'Turkey'),\n",
       " '40.99N-34.08E': ('Çorum', 'Turkey'),\n",
       " '40.99N-36.21E': ('Samsun', 'Turkey'),\n",
       " '40.99N-38.34E': ('Ordu', 'Turkey'),\n",
       " '40.99N-4.26W': ('Alcalá De Henares', 'Spain'),\n",
       " '40.99N-40.47E': ('Trabzon', 'Turkey'),\n",
       " '40.99N-44.73E': ('Gyumri', 'Armenia'),\n",
       " '40.99N-48.99E': ('Baku', 'Azerbaijan'),\n",
       " '40.99N-59.64E': ('Dasoguz', 'Turkmenistan'),\n",
       " '40.99N-6.39W': ('Salamanca', 'Spain'),\n",
       " '40.99N-70.30E': ('Angren', 'Uzbekistan'),\n",
       " '40.99N-72.43E': ('Andijon', 'Uzbekistan'),\n",
       " '40.99N-72.43W': ('Bridgeport', 'United States'),\n",
       " '40.99N-74.56W': ('Allentown', 'United States'),\n",
       " '40.99N-8.52E': ('Sassari', 'Italy'),\n",
       " '40.99N-8.52W': ('Braga', 'Portugal'),\n",
       " '40.99N-80.95E': ('Aksu', 'China'),\n",
       " '40.99N-80.95W': ('Akron', 'United States'),\n",
       " '40.99N-83.08W': ('Toledo', 'United States'),\n",
       " '40.99N-85.21E': ('Korla', 'China'),\n",
       " '40.99N-85.21W': ('Fort Wayne', 'United States'),\n",
       " '40.99N-87.34W': ('Aurora', 'United States'),\n",
       " '40.99N-89.47W': ('Peoria', 'United States'),\n",
       " '40.99N-93.73W': ('Des Moines', 'United States'),\n",
       " '40.99N-95.86W': ('Lincoln', 'United States'),\n",
       " '40.99S-174.67E': ('Lower Hutt', 'New Zealand'),\n",
       " '40.99S-70.30W': ('San Carlos De Bariloche', 'Argentina'),\n",
       " '40.99S-72.43W': ('Osorno', 'Chile'),\n",
       " '42.59N-120.00E': ('Chifeng', 'China'),\n",
       " '42.59N-122.18E': ('Fuxin', 'China'),\n",
       " '42.59N-124.36E': ('Tieling', 'China'),\n",
       " '42.59N-126.55E': ('Badaojiang', 'China'),\n",
       " '42.59N-128.73E': ('Dunhua', 'China'),\n",
       " '42.59N-13.09E': ('Perugia', 'Italy'),\n",
       " '42.59N-130.91E': ('Vladivostok', 'Russia'),\n",
       " '42.59N-133.09E': ('Nakhodka', 'Russia'),\n",
       " '42.59N-141.82E': ('Ebetsu', 'Japan'),\n",
       " '42.59N-144.00E': ('Obihiro', 'Japan'),\n",
       " '42.59N-15.27E': ('Pescara', 'Italy'),\n",
       " '42.59N-17.45E': ('Mostar', 'Bosnia And Herzegovina'),\n",
       " '42.59N-19.64E': ('Podgorica', 'Montenegro'),\n",
       " '42.59N-2.18E': ('Perpignan', 'France'),\n",
       " '42.59N-2.18W': ('Bilbao', 'Spain'),\n",
       " '42.59N-21.82E': ('Kumanovo', 'Macedonia'),\n",
       " '42.59N-24.00E': ('Plovdiv', 'Bulgaria'),\n",
       " '42.59N-26.18E': ('Edirne', 'Turkey'),\n",
       " '42.59N-28.36E': ('Burgas', 'Bulgaria'),\n",
       " '42.59N-4.36W': ('Burgos', 'Spain'),\n",
       " '42.59N-43.64E': ('Nalchik', 'Russia'),\n",
       " '42.59N-48.00E': ('Derbent', 'Russia'),\n",
       " '42.59N-58.91E': ('Nukus', 'Uzbekistan'),\n",
       " '42.59N-6.55E': ('Marseille', 'France'),\n",
       " '42.59N-6.55W': ('León', 'Spain'),\n",
       " '42.59N-69.82E': ('Shymkent', 'Kazakhstan'),\n",
       " '42.59N-72.00E': ('Taraz', 'Kazakhstan'),\n",
       " '42.59N-72.00W': ('Boston', 'United States'),\n",
       " '42.59N-76.36E': ('Almaty', 'Kazakhstan'),\n",
       " '42.59N-76.36W': ('Syracuse', 'United States'),\n",
       " '42.59N-78.55W': ('Buffalo', 'United States'),\n",
       " '42.59N-8.73W': ('A Coruña', 'Spain'),\n",
       " '42.59N-80.73W': ('Hamilton', 'Canada'),\n",
       " '42.59N-82.91W': ('Ann Arbor', 'United States'),\n",
       " '42.59N-85.09W': ('Grand Rapids', 'United States'),\n",
       " '42.59N-87.27W': ('Chicago', 'United States'),\n",
       " '42.59N-89.45W': ('Madison', 'United States'),\n",
       " '42.59N-91.64W': ('Cedar Rapids', 'United States'),\n",
       " '42.59N-93.82E': ('Hami', 'China'),\n",
       " '42.59S-148.36E': ('Hobart', 'Australia'),\n",
       " '42.59S-65.45W': ('Trelew', 'Argentina'),\n",
       " '44.20N-0.00W': ('Bordeaux', 'France'),\n",
       " '44.20N-11.18E': ('Bologna', 'Italy'),\n",
       " '44.20N-122.98E': ('Tongliao', 'China'),\n",
       " '44.20N-122.98W': ('Eugene', 'United States'),\n",
       " '44.20N-125.22E': ('Changchun', 'China'),\n",
       " '44.20N-127.45E': ('Jiaohe', 'China'),\n",
       " '44.20N-129.69E': ('Mudanjiang', 'China'),\n",
       " '44.20N-13.42E': ('Ancona', 'Italy'),\n",
       " '44.20N-131.93E': ('Ussuriysk', 'Russia'),\n",
       " '44.20N-143.11E': ('Asahikawa', 'Japan'),\n",
       " '44.20N-15.65E': ('Split', 'Croatia'),\n",
       " '44.20N-17.89E': ('Banja Luka', 'Bosnia And Herzegovina'),\n",
       " '44.20N-2.24E': ('Toulouse', 'France'),\n",
       " '44.20N-20.12E': ('Belgrade', 'Serbia'),\n",
       " '44.20N-22.36E': ('Drobeta Turnu Severin', 'Romania'),\n",
       " '44.20N-24.60E': ('Craiova', 'Romania'),\n",
       " '44.20N-26.83E': ('Bucharest', 'Romania'),\n",
       " '44.20N-29.07E': ('Constanta', 'Romania'),\n",
       " '44.20N-38.01E': ('Novorossiysk', 'Russia'),\n",
       " '44.20N-4.47E': ('Aix En Provence', 'France'),\n",
       " '44.20N-4.47W': ('Santander', 'Spain'),\n",
       " '44.20N-40.25E': ('Maykop', 'Russia'),\n",
       " '44.20N-42.48E': ('Cherkessk', 'Russia'),\n",
       " '44.20N-44.72E': ('Nazran', 'Russia'),\n",
       " '44.20N-51.43E': ('Aktau', 'Kazakhstan'),\n",
       " '44.20N-6.71E': ('Nice', 'France'),\n",
       " '44.20N-6.71W': ('Gijón', 'Spain'),\n",
       " '44.20N-62.61W': ('Halifax', 'Canada'),\n",
       " '44.20N-76.02W': ('Kingston', 'Canada'),\n",
       " '44.20N-78.26W': ('Oshawa', 'Canada'),\n",
       " '44.20N-8.94E': ('Genoa', 'Italy'),\n",
       " '44.20N-80.50E': ('Yining', 'China'),\n",
       " '44.20N-80.50W': ('Barrie', 'Canada'),\n",
       " '44.20N-84.97E': ('Kuytun', 'China'),\n",
       " '44.20N-87.20E': ('Ürümqi', 'China'),\n",
       " '44.20N-87.20W': ('Green Bay', 'United States'),\n",
       " ...}"
      ]
     },
     "execution_count": 17,
     "metadata": {},
     "output_type": "execute_result"
    }
   ],
   "source": [
    "map_city_latlng = wrangle.create_city_latlng_map(latest_city_temp)\n",
    "map_city_latlng"
   ]
  },
  {
   "cell_type": "code",
   "execution_count": 18,
   "metadata": {},
   "outputs": [
    {
     "data": {
      "text/plain": [
       "1366"
      ]
     },
     "execution_count": 18,
     "metadata": {},
     "output_type": "execute_result"
    }
   ],
   "source": [
    "len(map_city_latlng)"
   ]
  },
  {
   "cell_type": "code",
   "execution_count": 20,
   "metadata": {},
   "outputs": [
    {
     "data": {
      "text/html": [
       "<div>\n",
       "<style scoped>\n",
       "    .dataframe tbody tr th:only-of-type {\n",
       "        vertical-align: middle;\n",
       "    }\n",
       "\n",
       "    .dataframe tbody tr th {\n",
       "        vertical-align: top;\n",
       "    }\n",
       "\n",
       "    .dataframe thead tr th {\n",
       "        text-align: left;\n",
       "    }\n",
       "</style>\n",
       "<table border=\"1\" class=\"dataframe\">\n",
       "  <thead>\n",
       "    <tr>\n",
       "      <th></th>\n",
       "      <th>Latitude</th>\n",
       "      <th>Longitude</th>\n",
       "      <th colspan=\"3\" halign=\"left\">AverageTemperature</th>\n",
       "    </tr>\n",
       "    <tr>\n",
       "      <th></th>\n",
       "      <th></th>\n",
       "      <th></th>\n",
       "      <th>min</th>\n",
       "      <th>max</th>\n",
       "      <th>collect</th>\n",
       "    </tr>\n",
       "  </thead>\n",
       "  <tbody>\n",
       "    <tr>\n",
       "      <th>0</th>\n",
       "      <td>0.80N</td>\n",
       "      <td>103.66E</td>\n",
       "      <td>26.563</td>\n",
       "      <td>28.662</td>\n",
       "      <td>[26.836, 26.563000000000002, 28.053, 27.767000...</td>\n",
       "    </tr>\n",
       "    <tr>\n",
       "      <th>1</th>\n",
       "      <td>0.80N</td>\n",
       "      <td>108.48E</td>\n",
       "      <td>27.127</td>\n",
       "      <td>29.231</td>\n",
       "      <td>[27.275, 27.127, 28.277, 28.217, 28.483, 29.23...</td>\n",
       "    </tr>\n",
       "    <tr>\n",
       "      <th>2</th>\n",
       "      <td>0.80N</td>\n",
       "      <td>110.09E</td>\n",
       "      <td>26.472</td>\n",
       "      <td>27.875</td>\n",
       "      <td>[26.684, 26.472, 27.38600000000001, 27.0269999...</td>\n",
       "    </tr>\n",
       "    <tr>\n",
       "      <th>3</th>\n",
       "      <td>0.80N</td>\n",
       "      <td>118.13E</td>\n",
       "      <td>26.814</td>\n",
       "      <td>28.220</td>\n",
       "      <td>[27.096, 26.814, 27.932, 27.745, 27.795, 28.22...</td>\n",
       "    </tr>\n",
       "    <tr>\n",
       "      <th>4</th>\n",
       "      <td>0.80N</td>\n",
       "      <td>122.95E</td>\n",
       "      <td>26.076</td>\n",
       "      <td>27.460</td>\n",
       "      <td>[26.442, 26.54, 27.46, 27.042, 27.088, 27.087,...</td>\n",
       "    </tr>\n",
       "  </tbody>\n",
       "</table>\n",
       "</div>"
      ],
      "text/plain": [
       "  Latitude Longitude AverageTemperature          \\\n",
       "                                    min     max   \n",
       "0    0.80N   103.66E             26.563  28.662   \n",
       "1    0.80N   108.48E             27.127  29.231   \n",
       "2    0.80N   110.09E             26.472  27.875   \n",
       "3    0.80N   118.13E             26.814  28.220   \n",
       "4    0.80N   122.95E             26.076  27.460   \n",
       "\n",
       "                                                      \n",
       "                                             collect  \n",
       "0  [26.836, 26.563000000000002, 28.053, 27.767000...  \n",
       "1  [27.275, 27.127, 28.277, 28.217, 28.483, 29.23...  \n",
       "2  [26.684, 26.472, 27.38600000000001, 27.0269999...  \n",
       "3  [27.096, 26.814, 27.932, 27.745, 27.795, 28.22...  \n",
       "4  [26.442, 26.54, 27.46, 27.042, 27.088, 27.087,...  "
      ]
     },
     "execution_count": 20,
     "metadata": {},
     "output_type": "execute_result"
    }
   ],
   "source": [
    "climate = wrangle.agg_monthly_climate(latest_city_temp)\n",
    "climate[:5]"
   ]
  },
  {
   "cell_type": "markdown",
   "metadata": {},
   "source": [
    "# TODOs\n",
    "- Strata sampling\n",
    "- Re-explore distributions after sampling\n",
    "- Fill N/As"
   ]
  },
  {
   "cell_type": "code",
   "execution_count": null,
   "metadata": {},
   "outputs": [],
   "source": []
  }
 ],
 "metadata": {
  "kernelspec": {
   "display_name": "004",
   "language": "python",
   "name": "004"
  },
  "language_info": {
   "codemirror_mode": {
    "name": "ipython",
    "version": 3
   },
   "file_extension": ".py",
   "mimetype": "text/x-python",
   "name": "python",
   "nbconvert_exporter": "python",
   "pygments_lexer": "ipython3",
   "version": "3.7.4"
  }
 },
 "nbformat": 4,
 "nbformat_minor": 2
}
