{
 "cells": [
  {
   "cell_type": "code",
   "execution_count": 36,
   "metadata": {},
   "outputs": [],
   "source": [
    "import numpy as np\n",
    "import rdflib\n",
    "import json\n",
    "import xml\n",
    "import os\n",
    "import gmaps\n",
    "\n",
    "import xml.etree.ElementTree as Tree"
   ]
  },
  {
   "cell_type": "markdown",
   "metadata": {},
   "source": [
    "# Load data"
   ]
  },
  {
   "cell_type": "code",
   "execution_count": 37,
   "metadata": {},
   "outputs": [
    {
     "name": "stdout",
     "output_type": "stream",
     "text": [
      "Q_II_10_j15_SH_korr.xlsx\r\n",
      "Q_II_10_j16_SH_korr.xlsx\r\n",
      "Q_II_10_j17_SH.xlsx\r\n",
      "abfallentsorgung-in-schleswig-holstein-2015-anlagen-der-abfallentsorgung-korrektur.rdf\r\n",
      "abfallentsorgung-in-schleswig-holstein-2016-anlagen-der-abfallentsorgung-korrektur.rdf\r\n",
      "abfallentsorgung-in-schleswig-holstein-2017-anlagen-der-abfallentsorgung-korrektur.rdf\r\n"
     ]
    }
   ],
   "source": [
    "!ls ~/data/waste-disposal-schleswig-holstein/"
   ]
  },
  {
   "cell_type": "code",
   "execution_count": 38,
   "metadata": {},
   "outputs": [
    {
     "name": "stdout",
     "output_type": "stream",
     "text": [
      "<?xml version=\"1.0\" encoding=\"utf-8\"?>\r\n",
      "<rdf:RDF\r\n",
      "  xmlns:foaf=\"http://xmlns.com/foaf/0.1/\"\r\n",
      "  xmlns:locn=\"http://www.w3.org/ns/locn#\"\r\n",
      "  xmlns:rdf=\"http://www.w3.org/1999/02/22-rdf-syntax-ns#\"\r\n",
      "  xmlns:dcat=\"http://www.w3.org/ns/dcat#\"\r\n",
      "  xmlns:dct=\"http://purl.org/dc/terms/\"\r\n",
      "  xmlns:skos=\"http://www.w3.org/2004/02/skos/core#\"\r\n",
      "  xmlns:vcard=\"http://www.w3.org/2006/vcard/ns#\"\r\n",
      "  xmlns:dcatde=\"http://dcat-ap.de/def/dcatde/\"\r\n"
     ]
    }
   ],
   "source": [
    "!head -n10 ~/data/waste-disposal-schleswig-holstein/abfallentsorgung-in-schleswig-holstein-2015-anlagen-der-abfallentsorgung-korrektur.rdf"
   ]
  },
  {
   "cell_type": "code",
   "execution_count": 39,
   "metadata": {},
   "outputs": [],
   "source": [
    "DATA_PATH = os.path.join(\n",
    "    os. environ['HOME'],\n",
    "    'data/waste-disposal-schleswig-holstein/')\n",
    "YEARS = [2015,2016,2017]\n",
    "FILENAME = 'abfallentsorgung-in-schleswig-holstein-{}-anlagen-der-abfallentsorgung-korrektur.rdf'"
   ]
  },
  {
   "cell_type": "code",
   "execution_count": 55,
   "metadata": {},
   "outputs": [],
   "source": [
    "def load_rdf(year):\n",
    "    XPATH_DATASET = '{http://www.w3.org/ns/dcat#}Dataset[1]' \n",
    "    XPATH_SPATIAL = '{http://purl.org/dc/terms/}spatial[1]'\n",
    "    XPATH_LOCATION = '{http://purl.org/dc/terms/}Location[1]'\n",
    "    XPATH_GEOMETRY = '{http://www.w3.org/ns/locn#}geometry'\n",
    "    XPATH_ATTR_DATATYPE = '{http://www.w3.org/1999/02/22-rdf-syntax-ns#}datatype'\n",
    "    OPENGIS = 'https://www.iana.org/assignments/media-types/application/vnd.geo+json'\n",
    "    \n",
    "    filename = FILENAME.format(year)\n",
    "    tree = Tree.parse(os.path.join(DATA_PATH, filename))\n",
    "    node = tree.getroot().findall('{}/{}/{}/{}[@{}=\"{}\"]'.format(\n",
    "        XPATH_DATASET, \n",
    "        XPATH_SPATIAL,\n",
    "        XPATH_LOCATION,\n",
    "        XPATH_GEOMETRY,\n",
    "        XPATH_ATTR_DATATYPE,\n",
    "        OPENGIS))[0]\n",
    "    jsondata = json.loads(node.text)\n",
    "    # https://gis.stackexchange.com/a/121462\n",
    "    features = {\n",
    "        \"type\": \"FeatureCollection\",\n",
    "        \"features\": [{\n",
    "            \"type\": \"Feature\",\n",
    "            \"geometry\": {\n",
    "                \"type\": \"MultiPolygon\",\n",
    "                \"coordinates\": jsondata['coordinates']\n",
    "            }\n",
    "        }]\n",
    "    }\n",
    "    return (year, features)\n",
    "\n",
    "annual_coords = map(load_rdf, YEARS)"
   ]
  },
  {
   "cell_type": "code",
   "execution_count": 56,
   "metadata": {},
   "outputs": [
    {
     "data": {
      "text/plain": [
       "\"\\n(2015,\\n {'type': 'FeatureCollection',\\n  'features': [{'type': 'Feature',\\n    'geometry': {'type': 'MultiPolygon',\\n     'coordinates': [[[[8.5633, 54.7523],\\n        [8.5859, 54.744],\\n        [8.5887, 54.741],\\n        [8.5843, 54.7304],\\n        [8.597, 54.719],\\n        [8.5818, 54.7102],\\n        ...\\n        ...\\n\""
      ]
     },
     "execution_count": 56,
     "metadata": {},
     "output_type": "execute_result"
    }
   ],
   "source": [
    "# next(annual_coords)\n",
    "\"\"\"\n",
    "(2015,\n",
    " {'type': 'FeatureCollection',\n",
    "  'features': [{'type': 'Feature',\n",
    "    'geometry': {'type': 'MultiPolygon',\n",
    "     'coordinates': [[[[8.5633, 54.7523],\n",
    "        [8.5859, 54.744],\n",
    "        [8.5887, 54.741],\n",
    "        [8.5843, 54.7304],\n",
    "        [8.597, 54.719],\n",
    "        [8.5818, 54.7102],\n",
    "        ...\n",
    "        ...\n",
    "\"\"\""
   ]
  },
  {
   "cell_type": "markdown",
   "metadata": {},
   "source": [
    "# Plot coordinates on GoogleMap"
   ]
  },
  {
   "cell_type": "code",
   "execution_count": 57,
   "metadata": {},
   "outputs": [],
   "source": [
    "# Configure Google API key\n",
    "with open('../google_api_key', 'r') as f:\n",
    "    google_api_key = f.readline()[:-1]\n",
    "gmaps.configure(api_key=google_api_key)"
   ]
  },
  {
   "cell_type": "code",
   "execution_count": 58,
   "metadata": {},
   "outputs": [],
   "source": [
    "colors = {2015: 'yellow', 2016: 'green', 2017: 'blue'}\n",
    "figures = {}\n",
    "for year, poly in annual_coords:\n",
    "    figures[year] = gmaps.figure()\n",
    "    layer = gmaps.geojson_layer(\n",
    "        poly,\n",
    "        fill_color=colors[year],\n",
    "        stroke_color=colors[year],\n",
    "        fill_opacity=0.33)\n",
    "    figures[year].add_layer(layer)"
   ]
  },
  {
   "cell_type": "code",
   "execution_count": 59,
   "metadata": {},
   "outputs": [
    {
     "data": {
      "text/plain": [
       "{2015: Figure(layout=FigureLayout(height='420px')),\n",
       " 2016: Figure(layout=FigureLayout(height='420px')),\n",
       " 2017: Figure(layout=FigureLayout(height='420px'))}"
      ]
     },
     "execution_count": 59,
     "metadata": {},
     "output_type": "execute_result"
    }
   ],
   "source": [
    "figures"
   ]
  },
  {
   "cell_type": "code",
   "execution_count": 60,
   "metadata": {},
   "outputs": [
    {
     "data": {
      "application/vnd.jupyter.widget-view+json": {
       "model_id": "db3d6d1544714efdbed98c4ef97759f6",
       "version_major": 2,
       "version_minor": 0
      },
      "text/plain": [
       "Figure(layout=FigureLayout(height='420px'))"
      ]
     },
     "metadata": {},
     "output_type": "display_data"
    }
   ],
   "source": [
    "figures[2015]"
   ]
  },
  {
   "cell_type": "code",
   "execution_count": 61,
   "metadata": {},
   "outputs": [
    {
     "data": {
      "application/vnd.jupyter.widget-view+json": {
       "model_id": "c937d52d5cec409bb312597b3b28896d",
       "version_major": 2,
       "version_minor": 0
      },
      "text/plain": [
       "Figure(layout=FigureLayout(height='420px'))"
      ]
     },
     "metadata": {},
     "output_type": "display_data"
    }
   ],
   "source": [
    "figures[2016]"
   ]
  },
  {
   "cell_type": "code",
   "execution_count": 62,
   "metadata": {},
   "outputs": [
    {
     "data": {
      "application/vnd.jupyter.widget-view+json": {
       "model_id": "d6055291000d42d696850b288cdd1f73",
       "version_major": 2,
       "version_minor": 0
      },
      "text/plain": [
       "Figure(layout=FigureLayout(height='420px'))"
      ]
     },
     "metadata": {},
     "output_type": "display_data"
    }
   ],
   "source": [
    "figures[2017]"
   ]
  },
  {
   "cell_type": "code",
   "execution_count": null,
   "metadata": {},
   "outputs": [],
   "source": []
  }
 ],
 "metadata": {
  "kernelspec": {
   "display_name": "003",
   "language": "python",
   "name": "003"
  },
  "language_info": {
   "codemirror_mode": {
    "name": "ipython",
    "version": 3
   },
   "file_extension": ".py",
   "mimetype": "text/x-python",
   "name": "python",
   "nbconvert_exporter": "python",
   "pygments_lexer": "ipython3",
   "version": "3.7.4"
  }
 },
 "nbformat": 4,
 "nbformat_minor": 2
}
