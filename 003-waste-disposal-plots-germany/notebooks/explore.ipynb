{
 "cells": [
  {
   "cell_type": "code",
   "execution_count": 199,
   "metadata": {},
   "outputs": [],
   "source": [
    "import numpy as np\n",
    "import pandas as pd\n",
    "import rdflib\n",
    "import json\n",
    "import xml\n",
    "import os\n",
    "\n",
    "import xml.etree.ElementTree as Tree"
   ]
  },
  {
   "cell_type": "markdown",
   "metadata": {},
   "source": [
    "# Load data"
   ]
  },
  {
   "cell_type": "code",
   "execution_count": 18,
   "metadata": {},
   "outputs": [
    {
     "name": "stdout",
     "output_type": "stream",
     "text": [
      "Q_II_10_j15_SH_korr.xlsx\r\n",
      "Q_II_10_j16_SH_korr.xlsx\r\n",
      "Q_II_10_j17_SH.xlsx\r\n",
      "abfallentsorgung-in-schleswig-holstein-2015-anlagen-der-abfallentsorgung-korrektur.rdf\r\n",
      "abfallentsorgung-in-schleswig-holstein-2016-anlagen-der-abfallentsorgung-korrektur.rdf\r\n",
      "abfallentsorgung-in-schleswig-holstein-2017-anlagen-der-abfallentsorgung-korrektur.rdf\r\n"
     ]
    }
   ],
   "source": [
    "!ls ~/data/waste-disposal-schleswig-holstein/"
   ]
  },
  {
   "cell_type": "code",
   "execution_count": 82,
   "metadata": {},
   "outputs": [
    {
     "name": "stdout",
     "output_type": "stream",
     "text": [
      "<?xml version=\"1.0\" encoding=\"utf-8\"?>\r\n",
      "<rdf:RDF\r\n",
      "  xmlns:foaf=\"http://xmlns.com/foaf/0.1/\"\r\n",
      "  xmlns:locn=\"http://www.w3.org/ns/locn#\"\r\n",
      "  xmlns:rdf=\"http://www.w3.org/1999/02/22-rdf-syntax-ns#\"\r\n",
      "  xmlns:dcat=\"http://www.w3.org/ns/dcat#\"\r\n",
      "  xmlns:dct=\"http://purl.org/dc/terms/\"\r\n",
      "  xmlns:skos=\"http://www.w3.org/2004/02/skos/core#\"\r\n",
      "  xmlns:vcard=\"http://www.w3.org/2006/vcard/ns#\"\r\n",
      "  xmlns:dcatde=\"http://dcat-ap.de/def/dcatde/\"\r\n"
     ]
    }
   ],
   "source": [
    "!head -n10 ~/data/waste-disposal-schleswig-holstein/abfallentsorgung-in-schleswig-holstein-2015-anlagen-der-abfallentsorgung-korrektur.rdf"
   ]
  },
  {
   "cell_type": "code",
   "execution_count": 160,
   "metadata": {},
   "outputs": [],
   "source": [
    "DATA_PATH = os.path.join(\n",
    "    os. environ['HOME'],\n",
    "    'data/waste-disposal-schleswig-holstein/')\n",
    "YEARS = [2015,2016,2017]\n",
    "FILENAME = 'abfallentsorgung-in-schleswig-holstein-$-anlagen-der-abfallentsorgung-korrektur.rdf'"
   ]
  },
  {
   "cell_type": "code",
   "execution_count": 205,
   "metadata": {},
   "outputs": [],
   "source": [
    "def load_rdf(year):\n",
    "    XPATH_DATASET = '{http://www.w3.org/ns/dcat#}Dataset[1]' \n",
    "    XPATH_SPATIAL = '{http://purl.org/dc/terms/}spatial[1]'\n",
    "    XPATH_LOCATION = '{http://purl.org/dc/terms/}Location[1]'\n",
    "    XPATH_GEOMETRY = '{http://www.w3.org/ns/locn#}geometry'\n",
    "    XPATH_ATTR_DATATYPE = '{http://www.w3.org/1999/02/22-rdf-syntax-ns#}datatype'\n",
    "    OPENGIS = 'https://www.iana.org/assignments/media-types/application/vnd.geo+json'\n",
    "    \n",
    "    filename = FILENAME.replace('$', str(year))\n",
    "    tree = Tree.parse(os.path.join(DATA_PATH, filename))\n",
    "    node = tree.getroot().findall('{}/{}/{}/{}[@{}=\"{}\"]'.format(\n",
    "        XPATH_DATASET, \n",
    "        XPATH_SPATIAL,\n",
    "        XPATH_LOCATION,\n",
    "        XPATH_GEOMETRY,\n",
    "        XPATH_ATTR_DATATYPE,\n",
    "        OPENGIS))[0]\n",
    "    jsondata = json.loads(node.text)\n",
    "    coords = jsondata['coordinates'] # Type: OpenGIS - Multipolygon\n",
    "    return (year, coords)\n",
    "\n",
    "annual_coords = map(load_rdf, YEARS)"
   ]
  },
  {
   "cell_type": "markdown",
   "metadata": {},
   "source": [
    "# Parse Coords into Pandas"
   ]
  },
  {
   "cell_type": "code",
   "execution_count": 163,
   "metadata": {},
   "outputs": [
    {
     "ename": "KeyError",
     "evalue": "'http'",
     "output_type": "error",
     "traceback": [
      "\u001b[0;31m----------------\u001b[0m",
      "\u001b[0;31mKeyError\u001b[0mTraceback (most recent call last)",
      "\u001b[0;32m<ipython-input-163-1083156c071c>\u001b[0m in \u001b[0;36m<module>\u001b[0;34m\u001b[0m\n\u001b[1;32m      1\u001b[0m \u001b[0mcd\u001b[0m \u001b[0;34m=\u001b[0m \u001b[0mnext\u001b[0m\u001b[0;34m(\u001b[0m\u001b[0mannual_coords\u001b[0m\u001b[0;34m)\u001b[0m\u001b[0;34m\u001b[0m\u001b[0;34m\u001b[0m\u001b[0m\n\u001b[0;32m----> 2\u001b[0;31m \u001b[0mv\u001b[0m \u001b[0;34m=\u001b[0m \u001b[0mrdf_to_pandas\u001b[0m\u001b[0;34m(\u001b[0m\u001b[0mcd\u001b[0m\u001b[0;34m)\u001b[0m\u001b[0;34m\u001b[0m\u001b[0;34m\u001b[0m\u001b[0m\n\u001b[0m",
      "\u001b[0;32m<ipython-input-162-a1714b43f202>\u001b[0m in \u001b[0;36mrdf_to_pandas\u001b[0;34m(kv)\u001b[0m\n\u001b[1;32m      5\u001b[0m     \u001b[0mVALUE\u001b[0m \u001b[0;34m=\u001b[0m \u001b[0;34m'https://www.iana.org/assignments/media-types/application/vnd.geo+json'\u001b[0m\u001b[0;34m\u001b[0m\u001b[0;34m\u001b[0m\u001b[0m\n\u001b[1;32m      6\u001b[0m     spatial = node.findall('{http://www.w3.org/ns/locn#}geometry'.format( #[@{}=\"{}\"]\n\u001b[0;32m----> 7\u001b[0;31m         ATTR, VALUE))\n\u001b[0m\u001b[1;32m      8\u001b[0m     \u001b[0;32mreturn\u001b[0m \u001b[0mspatial\u001b[0m\u001b[0;34m\u001b[0m\u001b[0;34m\u001b[0m\u001b[0m\n",
      "\u001b[0;31mKeyError\u001b[0m: 'http'"
     ]
    }
   ],
   "source": [
    "cd = next(annual_coords)\n",
    "v = rdf_to_pandas(cd)"
   ]
  },
  {
   "cell_type": "code",
   "execution_count": 145,
   "metadata": {},
   "outputs": [
    {
     "data": {
      "text/plain": [
       "{'{http://www.w3.org/1999/02/22-rdf-syntax-ns#}datatype': 'https://www.iana.org/assignments/media-types/application/vnd.geo+json'}"
      ]
     },
     "execution_count": 145,
     "metadata": {},
     "output_type": "execute_result"
    }
   ],
   "source": [
    "v[0].attrib"
   ]
  },
  {
   "cell_type": "code",
   "execution_count": 48,
   "metadata": {},
   "outputs": [],
   "source": [
    "dfcoord = pd.concat(map(rdf_to_pandas, annual_coords))"
   ]
  },
  {
   "cell_type": "code",
   "execution_count": null,
   "metadata": {},
   "outputs": [],
   "source": []
  }
 ],
 "metadata": {
  "kernelspec": {
   "display_name": "003",
   "language": "python",
   "name": "003"
  },
  "language_info": {
   "codemirror_mode": {
    "name": "ipython",
    "version": 3
   },
   "file_extension": ".py",
   "mimetype": "text/x-python",
   "name": "python",
   "nbconvert_exporter": "python",
   "pygments_lexer": "ipython3",
   "version": "3.7.4"
  }
 },
 "nbformat": 4,
 "nbformat_minor": 2
}
