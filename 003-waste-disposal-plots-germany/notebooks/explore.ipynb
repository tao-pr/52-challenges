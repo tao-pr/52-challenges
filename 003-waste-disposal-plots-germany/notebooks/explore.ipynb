{
 "cells": [
  {
   "cell_type": "code",
   "execution_count": 216,
   "metadata": {},
   "outputs": [],
   "source": [
    "import numpy as np\n",
    "import rdflib\n",
    "import json\n",
    "import xml\n",
    "import os\n",
    "import gmaps\n",
    "\n",
    "import xml.etree.ElementTree as Tree"
   ]
  },
  {
   "cell_type": "markdown",
   "metadata": {},
   "source": [
    "# Load data"
   ]
  },
  {
   "cell_type": "code",
   "execution_count": 18,
   "metadata": {},
   "outputs": [
    {
     "name": "stdout",
     "output_type": "stream",
     "text": [
      "Q_II_10_j15_SH_korr.xlsx\r\n",
      "Q_II_10_j16_SH_korr.xlsx\r\n",
      "Q_II_10_j17_SH.xlsx\r\n",
      "abfallentsorgung-in-schleswig-holstein-2015-anlagen-der-abfallentsorgung-korrektur.rdf\r\n",
      "abfallentsorgung-in-schleswig-holstein-2016-anlagen-der-abfallentsorgung-korrektur.rdf\r\n",
      "abfallentsorgung-in-schleswig-holstein-2017-anlagen-der-abfallentsorgung-korrektur.rdf\r\n"
     ]
    }
   ],
   "source": [
    "!ls ~/data/waste-disposal-schleswig-holstein/"
   ]
  },
  {
   "cell_type": "code",
   "execution_count": 82,
   "metadata": {},
   "outputs": [
    {
     "name": "stdout",
     "output_type": "stream",
     "text": [
      "<?xml version=\"1.0\" encoding=\"utf-8\"?>\r\n",
      "<rdf:RDF\r\n",
      "  xmlns:foaf=\"http://xmlns.com/foaf/0.1/\"\r\n",
      "  xmlns:locn=\"http://www.w3.org/ns/locn#\"\r\n",
      "  xmlns:rdf=\"http://www.w3.org/1999/02/22-rdf-syntax-ns#\"\r\n",
      "  xmlns:dcat=\"http://www.w3.org/ns/dcat#\"\r\n",
      "  xmlns:dct=\"http://purl.org/dc/terms/\"\r\n",
      "  xmlns:skos=\"http://www.w3.org/2004/02/skos/core#\"\r\n",
      "  xmlns:vcard=\"http://www.w3.org/2006/vcard/ns#\"\r\n",
      "  xmlns:dcatde=\"http://dcat-ap.de/def/dcatde/\"\r\n"
     ]
    }
   ],
   "source": [
    "!head -n10 ~/data/waste-disposal-schleswig-holstein/abfallentsorgung-in-schleswig-holstein-2015-anlagen-der-abfallentsorgung-korrektur.rdf"
   ]
  },
  {
   "cell_type": "code",
   "execution_count": 207,
   "metadata": {},
   "outputs": [],
   "source": [
    "DATA_PATH = os.path.join(\n",
    "    os. environ['HOME'],\n",
    "    'data/waste-disposal-schleswig-holstein/')\n",
    "YEARS = [2015,2016,2017]\n",
    "FILENAME = 'abfallentsorgung-in-schleswig-holstein-{}-anlagen-der-abfallentsorgung-korrektur.rdf'"
   ]
  },
  {
   "cell_type": "code",
   "execution_count": 240,
   "metadata": {},
   "outputs": [],
   "source": [
    "def load_rdf(year):\n",
    "    XPATH_DATASET = '{http://www.w3.org/ns/dcat#}Dataset[1]' \n",
    "    XPATH_SPATIAL = '{http://purl.org/dc/terms/}spatial[1]'\n",
    "    XPATH_LOCATION = '{http://purl.org/dc/terms/}Location[1]'\n",
    "    XPATH_GEOMETRY = '{http://www.w3.org/ns/locn#}geometry'\n",
    "    XPATH_ATTR_DATATYPE = '{http://www.w3.org/1999/02/22-rdf-syntax-ns#}datatype'\n",
    "    OPENGIS = 'https://www.iana.org/assignments/media-types/application/vnd.geo+json'\n",
    "    \n",
    "    filename = FILENAME.format(year)\n",
    "    tree = Tree.parse(os.path.join(DATA_PATH, filename))\n",
    "    node = tree.getroot().findall('{}/{}/{}/{}[@{}=\"{}\"]'.format(\n",
    "        XPATH_DATASET, \n",
    "        XPATH_SPATIAL,\n",
    "        XPATH_LOCATION,\n",
    "        XPATH_GEOMETRY,\n",
    "        XPATH_ATTR_DATATYPE,\n",
    "        OPENGIS))[0]\n",
    "    jsondata = json.loads(node.text)\n",
    "    features = {\n",
    "        \"type\": \"FeatureCollection\",\n",
    "        \"features\": [{\n",
    "            \"type\": \"Feature\",\n",
    "            \"geometry\": {\n",
    "                \"type\": \"MultiPolygon\",\n",
    "                \"coordinates\": jsondata['coordinates']\n",
    "            }\n",
    "        }]\n",
    "    }\n",
    "    return (year, features)\n",
    "\n",
    "annual_coords = map(load_rdf, YEARS)"
   ]
  },
  {
   "cell_type": "code",
   "execution_count": 242,
   "metadata": {},
   "outputs": [
    {
     "data": {
      "text/plain": [
       "\"\\n(2015,\\n {'type': 'FeatureCollection',\\n  'features': [{'type': 'Feature',\\n    'geometry': {'type': 'MultiPolygon',\\n     'coordinates': [[[[8.5633, 54.7523],\\n        [8.5859, 54.744],\\n        [8.5887, 54.741],\\n        [8.5843, 54.7304],\\n        [8.597, 54.719],\\n        [8.5818, 54.7102],\\n        ...\\n        ...\\n\""
      ]
     },
     "execution_count": 242,
     "metadata": {},
     "output_type": "execute_result"
    }
   ],
   "source": [
    "# next(annual_coords)\n",
    "\"\"\"\n",
    "(2015,\n",
    " {'type': 'FeatureCollection',\n",
    "  'features': [{'type': 'Feature',\n",
    "    'geometry': {'type': 'MultiPolygon',\n",
    "     'coordinates': [[[[8.5633, 54.7523],\n",
    "        [8.5859, 54.744],\n",
    "        [8.5887, 54.741],\n",
    "        [8.5843, 54.7304],\n",
    "        [8.597, 54.719],\n",
    "        [8.5818, 54.7102],\n",
    "        ...\n",
    "        ...\n",
    "\"\"\""
   ]
  },
  {
   "cell_type": "markdown",
   "metadata": {},
   "source": [
    "# Plot coordinates on GoogleMap"
   ]
  },
  {
   "cell_type": "code",
   "execution_count": 222,
   "metadata": {},
   "outputs": [],
   "source": [
    "# Configure Google API key\n",
    "# gmaps.configure(api_key='AI...')"
   ]
  },
  {
   "cell_type": "code",
   "execution_count": 233,
   "metadata": {},
   "outputs": [
    {
     "ename": "InvalidGeoJson",
     "evalue": "Could not convert document to GeoJSON.",
     "output_type": "error",
     "traceback": [
      "\u001b[0;31m----------------------------\u001b[0m",
      "\u001b[0;31mInvalidGeoJson\u001b[0mTraceback (most recent call last)",
      "\u001b[0;32m<ipython-input-233-e600e2b5d898>\u001b[0m in \u001b[0;36m<module>\u001b[0;34m\u001b[0m\n\u001b[1;32m      6\u001b[0m             \u001b[0;31m#fill_color=colors,\u001b[0m\u001b[0;34m\u001b[0m\u001b[0;34m\u001b[0m\u001b[0;34m\u001b[0m\u001b[0m\n\u001b[1;32m      7\u001b[0m             \u001b[0;31m#stroke_color=colors,\u001b[0m\u001b[0;34m\u001b[0m\u001b[0;34m\u001b[0m\u001b[0;34m\u001b[0m\u001b[0m\n\u001b[0;32m----> 8\u001b[0;31m             fill_opacity=0.8)\n\u001b[0m\u001b[1;32m      9\u001b[0m         \u001b[0mfig\u001b[0m\u001b[0;34m.\u001b[0m\u001b[0madd_layer\u001b[0m\u001b[0;34m(\u001b[0m\u001b[0mlayer\u001b[0m\u001b[0;34m)\u001b[0m\u001b[0;34m\u001b[0m\u001b[0;34m\u001b[0m\u001b[0m\n\u001b[1;32m     10\u001b[0m     \u001b[0;32mbreak\u001b[0m\u001b[0;34m\u001b[0m\u001b[0;34m\u001b[0m\u001b[0m\n",
      "\u001b[0;32m~/code/52-challenges/003-waste-disposal-plots-germany/003/lib/python3.7/site-packages/gmaps/geojson_layer.py\u001b[0m in \u001b[0;36mgeojson_layer\u001b[0;34m(geojson, fill_color, fill_opacity, stroke_color, stroke_opacity, stroke_weight)\u001b[0m\n\u001b[1;32m    220\u001b[0m         \u001b[0mA\u001b[0m \u001b[0;34m:\u001b[0m\u001b[0;32mclass\u001b[0m\u001b[0;34m:\u001b[0m\u001b[0;31m`\u001b[0m\u001b[0mgmaps\u001b[0m\u001b[0;34m.\u001b[0m\u001b[0mGeoJson\u001b[0m\u001b[0;31m`\u001b[0m \u001b[0minstance\u001b[0m\u001b[0;34m.\u001b[0m\u001b[0;34m\u001b[0m\u001b[0;34m\u001b[0m\u001b[0m\n\u001b[1;32m    221\u001b[0m     \"\"\"\n\u001b[0;32m--> 222\u001b[0;31m     \u001b[0m_validate_geojson\u001b[0m\u001b[0;34m(\u001b[0m\u001b[0mgeojson\u001b[0m\u001b[0;34m)\u001b[0m\u001b[0;34m\u001b[0m\u001b[0;34m\u001b[0m\u001b[0m\n\u001b[0m\u001b[1;32m    223\u001b[0m     \u001b[0mstyled_geojson\u001b[0m \u001b[0;34m=\u001b[0m \u001b[0mcopy\u001b[0m\u001b[0;34m.\u001b[0m\u001b[0mdeepcopy\u001b[0m\u001b[0;34m(\u001b[0m\u001b[0mgeojson\u001b[0m\u001b[0;34m)\u001b[0m\u001b[0;34m\u001b[0m\u001b[0;34m\u001b[0m\u001b[0m\n\u001b[1;32m    224\u001b[0m     \u001b[0mraw_features\u001b[0m \u001b[0;34m=\u001b[0m \u001b[0mstyled_geojson\u001b[0m\u001b[0;34m[\u001b[0m\u001b[0;34m\"features\"\u001b[0m\u001b[0;34m]\u001b[0m\u001b[0;34m\u001b[0m\u001b[0;34m\u001b[0m\u001b[0m\n",
      "\u001b[0;32m~/code/52-challenges/003-waste-disposal-plots-germany/003/lib/python3.7/site-packages/gmaps/geojson_layer.py\u001b[0m in \u001b[0;36m_validate_geojson\u001b[0;34m(geojson_document)\u001b[0m\n\u001b[1;32m    119\u001b[0m         \u001b[0;31m# the original type, rather than validation errors.\u001b[0m\u001b[0;34m\u001b[0m\u001b[0;34m\u001b[0m\u001b[0;34m\u001b[0m\u001b[0m\n\u001b[1;32m    120\u001b[0m         \u001b[0;31m# Try with, e.g. an empty dictionary.\u001b[0m\u001b[0;34m\u001b[0m\u001b[0;34m\u001b[0m\u001b[0;34m\u001b[0m\u001b[0m\n\u001b[0;32m--> 121\u001b[0;31m         \u001b[0;32mraise\u001b[0m \u001b[0mInvalidGeoJson\u001b[0m\u001b[0;34m(\u001b[0m\u001b[0;34m'Could not convert document to GeoJSON.'\u001b[0m\u001b[0;34m)\u001b[0m\u001b[0;34m\u001b[0m\u001b[0;34m\u001b[0m\u001b[0m\n\u001b[0m\u001b[1;32m    122\u001b[0m     \u001b[0;32mif\u001b[0m \u001b[0;32mnot\u001b[0m \u001b[0mgeojson_instance\u001b[0m\u001b[0;34m.\u001b[0m\u001b[0mis_valid\u001b[0m\u001b[0;34m:\u001b[0m\u001b[0;34m\u001b[0m\u001b[0;34m\u001b[0m\u001b[0m\n\u001b[1;32m    123\u001b[0m         \u001b[0;32mraise\u001b[0m \u001b[0mInvalidGeoJson\u001b[0m\u001b[0;34m(\u001b[0m\u001b[0;34m\", \"\u001b[0m\u001b[0;34m.\u001b[0m\u001b[0mjoin\u001b[0m\u001b[0;34m(\u001b[0m\u001b[0mgeojson_instance\u001b[0m\u001b[0;34m.\u001b[0m\u001b[0merrors\u001b[0m\u001b[0;34m(\u001b[0m\u001b[0;34m)\u001b[0m\u001b[0;34m)\u001b[0m\u001b[0;34m)\u001b[0m\u001b[0;34m\u001b[0m\u001b[0;34m\u001b[0m\u001b[0m\n",
      "\u001b[0;31mInvalidGeoJson\u001b[0m: Could not convert document to GeoJSON."
     ]
    }
   ],
   "source": [
    "fig = gmaps.figure()\n",
    "for year, poly in annual_coords:\n",
    "    for shape in poly:\n",
    "        layer = gmaps.geojson_layer(\n",
    "            poly,\n",
    "            #fill_color=colors,\n",
    "            #stroke_color=colors,\n",
    "            fill_opacity=0.8)\n",
    "        fig.add_layer(layer)\n",
    "    break"
   ]
  },
  {
   "cell_type": "code",
   "execution_count": null,
   "metadata": {},
   "outputs": [],
   "source": []
  }
 ],
 "metadata": {
  "kernelspec": {
   "display_name": "003",
   "language": "python",
   "name": "003"
  },
  "language_info": {
   "codemirror_mode": {
    "name": "ipython",
    "version": 3
   },
   "file_extension": ".py",
   "mimetype": "text/x-python",
   "name": "python",
   "nbconvert_exporter": "python",
   "pygments_lexer": "ipython3",
   "version": "3.7.4"
  }
 },
 "nbformat": 4,
 "nbformat_minor": 2
}
