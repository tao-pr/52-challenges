{
 "cells": [
  {
   "cell_type": "code",
   "execution_count": 51,
   "metadata": {},
   "outputs": [],
   "source": [
    "import numpy as np\n",
    "import pandas as pd\n",
    "import rdflib\n",
    "import xml\n",
    "import os\n",
    "\n",
    "import xml.etree.ElementTree as Tree"
   ]
  },
  {
   "cell_type": "markdown",
   "metadata": {},
   "source": [
    "# Load data"
   ]
  },
  {
   "cell_type": "code",
   "execution_count": 18,
   "metadata": {},
   "outputs": [
    {
     "name": "stdout",
     "output_type": "stream",
     "text": [
      "Q_II_10_j15_SH_korr.xlsx\r\n",
      "Q_II_10_j16_SH_korr.xlsx\r\n",
      "Q_II_10_j17_SH.xlsx\r\n",
      "abfallentsorgung-in-schleswig-holstein-2015-anlagen-der-abfallentsorgung-korrektur.rdf\r\n",
      "abfallentsorgung-in-schleswig-holstein-2016-anlagen-der-abfallentsorgung-korrektur.rdf\r\n",
      "abfallentsorgung-in-schleswig-holstein-2017-anlagen-der-abfallentsorgung-korrektur.rdf\r\n"
     ]
    }
   ],
   "source": [
    "!ls ~/data/waste-disposal-schleswig-holstein/"
   ]
  },
  {
   "cell_type": "code",
   "execution_count": 82,
   "metadata": {},
   "outputs": [
    {
     "name": "stdout",
     "output_type": "stream",
     "text": [
      "<?xml version=\"1.0\" encoding=\"utf-8\"?>\r\n",
      "<rdf:RDF\r\n",
      "  xmlns:foaf=\"http://xmlns.com/foaf/0.1/\"\r\n",
      "  xmlns:locn=\"http://www.w3.org/ns/locn#\"\r\n",
      "  xmlns:rdf=\"http://www.w3.org/1999/02/22-rdf-syntax-ns#\"\r\n",
      "  xmlns:dcat=\"http://www.w3.org/ns/dcat#\"\r\n",
      "  xmlns:dct=\"http://purl.org/dc/terms/\"\r\n",
      "  xmlns:skos=\"http://www.w3.org/2004/02/skos/core#\"\r\n",
      "  xmlns:vcard=\"http://www.w3.org/2006/vcard/ns#\"\r\n",
      "  xmlns:dcatde=\"http://dcat-ap.de/def/dcatde/\"\r\n"
     ]
    }
   ],
   "source": [
    "!head -n10 ~/data/waste-disposal-schleswig-holstein/abfallentsorgung-in-schleswig-holstein-2015-anlagen-der-abfallentsorgung-korrektur.rdf"
   ]
  },
  {
   "cell_type": "code",
   "execution_count": 41,
   "metadata": {},
   "outputs": [],
   "source": [
    "DATA_PATH = os.path.join(\n",
    "    os. environ['HOME'],\n",
    "    'data/waste-disposal-schleswig-holstein/')\n",
    "YEARS = [2015,2016,2017]\n",
    "FILENAME = 'abfallentsorgung-in-schleswig-holstein-$-anlagen-der-abfallentsorgung-korrektur.rdf'"
   ]
  },
  {
   "cell_type": "code",
   "execution_count": 121,
   "metadata": {},
   "outputs": [],
   "source": [
    "def load_rdf(year):\n",
    "    XPATH_DATASET = '{http://www.w3.org/ns/dcat#}Dataset' \n",
    "    XPATH_SPATIAL = '{http://purl.org/dc/terms/}spatial'\n",
    "    XPATH_LOCATION = '{http://purl.org/dc/terms/}Location'\n",
    "    filename = FILENAME.replace('$', str(year))\n",
    "    tree = Tree.parse(os.path.join(DATA_PATH, filename))\n",
    "    return tree.getroot().findall('{}[1]/{}[1]/{}'.format(\n",
    "        XPATH_DATASET, \n",
    "        XPATH_SPATIAL,\n",
    "        XPATH_LOCATION))[0]\n",
    "\n",
    "\"\"\"\n",
    "Each of the `rdfs` will contain following elements\n",
    "[<Element '{http://www.w3.org/2004/02/skos/core#}prefLabel' at 0x11b03f470>,\n",
    " <Element '{http://www.w3.org/ns/locn#}geometry' at 0x11b03f590>,\n",
    " <Element '{http://www.w3.org/ns/locn#}geometry' at 0x11b03f5f0>]\n",
    "\"\"\"\n",
    "\n",
    "rdfs = map(load_rdf, YEARS)"
   ]
  },
  {
   "cell_type": "code",
   "execution_count": 120,
   "metadata": {},
   "outputs": [
    {
     "data": {
      "text/plain": [
       "[<Element '{http://www.w3.org/2004/02/skos/core#}prefLabel' at 0x11b03f470>,\n",
       " <Element '{http://www.w3.org/ns/locn#}geometry' at 0x11b03f590>,\n",
       " <Element '{http://www.w3.org/ns/locn#}geometry' at 0x11b03f5f0>]"
      ]
     },
     "execution_count": 120,
     "metadata": {},
     "output_type": "execute_result"
    }
   ],
   "source": [
    "#r = next(rdfs)\n",
    "r.findall('*')"
   ]
  },
  {
   "cell_type": "markdown",
   "metadata": {},
   "source": [
    "# Parse RDF into Pandas"
   ]
  },
  {
   "cell_type": "code",
   "execution_count": 47,
   "metadata": {},
   "outputs": [],
   "source": [
    "def parse_rdf(rdf):\n",
    "    # Read spatial coordinates\n",
    "    spatial = rdf.findall('')\n",
    "    pass"
   ]
  },
  {
   "cell_type": "code",
   "execution_count": 48,
   "metadata": {},
   "outputs": [],
   "source": [
    "dframes = map(parse_rdf, rdfs)"
   ]
  },
  {
   "cell_type": "code",
   "execution_count": null,
   "metadata": {},
   "outputs": [],
   "source": []
  }
 ],
 "metadata": {
  "kernelspec": {
   "display_name": "003",
   "language": "python",
   "name": "003"
  },
  "language_info": {
   "codemirror_mode": {
    "name": "ipython",
    "version": 3
   },
   "file_extension": ".py",
   "mimetype": "text/x-python",
   "name": "python",
   "nbconvert_exporter": "python",
   "pygments_lexer": "ipython3",
   "version": "3.7.4"
  }
 },
 "nbformat": 4,
 "nbformat_minor": 2
}
