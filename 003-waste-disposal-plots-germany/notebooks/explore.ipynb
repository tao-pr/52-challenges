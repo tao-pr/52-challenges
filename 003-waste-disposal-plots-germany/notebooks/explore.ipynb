{
 "cells": [
  {
   "cell_type": "code",
   "execution_count": 1,
   "metadata": {},
   "outputs": [],
   "source": [
    "import numpy as np\n",
    "import pandas as pd"
   ]
  },
  {
   "cell_type": "markdown",
   "metadata": {},
   "source": [
    "# Load data"
   ]
  },
  {
   "cell_type": "code",
   "execution_count": 5,
   "metadata": {},
   "outputs": [
    {
     "name": "stdout",
     "output_type": "stream",
     "text": [
      "Q_II_10_j15_SH_korr.xlsx\r\n",
      "Q_II_10_j16_SH_korr.xlsx\r\n",
      "Q_II_10_j17_SH.xlsx\r\n",
      "abfallentsorgung-in-schleswig-holstein-2015-anlagen-der-abfallentsorgung-korrektur.rdf\r\n",
      "abfallentsorgung-in-schleswig-holstein-2016-anlagen-der-abfallentsorgung-korrektur.rdf\r\n",
      "abfallentsorgung-in-schleswig-holstein-2017-anlagen-der-abfallentsorgung.rdf\r\n"
     ]
    }
   ],
   "source": [
    "!ls ~/data/waste-disposal-schleswig-holstein/"
   ]
  },
  {
   "cell_type": "code",
   "execution_count": null,
   "metadata": {},
   "outputs": [],
   "source": []
  }
 ],
 "metadata": {
  "kernelspec": {
   "display_name": "Python 3",
   "language": "python",
   "name": "python3"
  },
  "language_info": {
   "codemirror_mode": {
    "name": "ipython",
    "version": 3
   },
   "file_extension": ".py",
   "mimetype": "text/x-python",
   "name": "python",
   "nbconvert_exporter": "python",
   "pygments_lexer": "ipython3",
   "version": "3.7.4"
  }
 },
 "nbformat": 4,
 "nbformat_minor": 2
}
