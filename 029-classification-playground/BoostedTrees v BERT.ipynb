{
 "cells": [
  {
   "cell_type": "code",
   "execution_count": 1,
   "id": "super-ground",
   "metadata": {},
   "outputs": [],
   "source": [
    "import pandas as pd\n",
    "import numpy as np\n",
    "from xgboost import XGBRFClassifier\n",
    "import lightgbm\n",
    "import seaborn as sns\n",
    "import os\n",
    "from timeit import timeit"
   ]
  },
  {
   "cell_type": "markdown",
   "id": "pregnant-freedom",
   "metadata": {},
   "source": [
    "# 1. Load data\n",
    "Load twitter data"
   ]
  },
  {
   "cell_type": "code",
   "execution_count": 2,
   "id": "dirty-bikini",
   "metadata": {},
   "outputs": [
    {
     "name": "stderr",
     "output_type": "stream",
     "text": [
      "/Users/pataoengineer/opt/miniconda3/lib/python3.7/site-packages/dateutil/parser/_parser.py:1218: UnknownTimezoneWarning: tzname PDT identified but not understood.  Pass `tzinfos` argument in order to correctly return a timezone-aware datetime.  In a future version, this will raise an exception.\n",
      "  category=UnknownTimezoneWarning)\n"
     ]
    },
    {
     "data": {
      "text/plain": [
       "sentiment             int64\n",
       "date         datetime64[ns]\n",
       "user                 object\n",
       "text                 object\n",
       "dtype: object"
      ]
     },
     "execution_count": 2,
     "metadata": {},
     "output_type": "execute_result"
    }
   ],
   "source": [
    "data = pd.read_csv(\n",
    "    os.path.join(os.environ['HOME'], 'data', 'tweets', 'training.1600000.processed.noemoticon.csv'),\n",
    "    header=None, usecols=[0,2,4,5], names=['sentiment','date','user','text'],\n",
    "    parse_dates=['date'])\n",
    "data.dtypes"
   ]
  },
  {
   "cell_type": "code",
   "execution_count": 3,
   "id": "sticky-billion",
   "metadata": {},
   "outputs": [
    {
     "data": {
      "text/plain": [
       "1600000"
      ]
     },
     "execution_count": 3,
     "metadata": {},
     "output_type": "execute_result"
    }
   ],
   "source": [
    "len(data)"
   ]
  },
  {
   "cell_type": "code",
   "execution_count": 4,
   "id": "cordless-interval",
   "metadata": {},
   "outputs": [],
   "source": [
    "twt = pd.concat([\n",
    "    data[data['sentiment']==0].sample(n=100000),\n",
    "    data[data['sentiment']==4].sample(n=100000)])"
   ]
  },
  {
   "cell_type": "code",
   "execution_count": 5,
   "id": "stainless-democrat",
   "metadata": {},
   "outputs": [
    {
     "data": {
      "text/plain": [
       "<AxesSubplot:xlabel='sentiment', ylabel='Count'>"
      ]
     },
     "execution_count": 5,
     "metadata": {},
     "output_type": "execute_result"
    },
    {
     "data": {
      "image/png": "[encoded data removed]",
      "text/plain": [
       "<Figure size 432x288 with 1 Axes>"
      ]
     },
     "metadata": {
      "needs_background": "light"
     },
     "output_type": "display_data"
    }
   ],
   "source": [
    "sns.histplot(twt.sentiment)"
   ]
  },
  {
   "cell_type": "code",
   "execution_count": 6,
   "id": "hungry-command",
   "metadata": {},
   "outputs": [],
   "source": [
    "from sklearn.model_selection import train_test_split"
   ]
  },
  {
   "cell_type": "code",
   "execution_count": 7,
   "id": "premier-attack",
   "metadata": {},
   "outputs": [],
   "source": [
    "train, test = train_test_split(twt, test_size=0.3)"
   ]
  },
  {
   "cell_type": "code",
   "execution_count": 8,
   "id": "armed-automation",
   "metadata": {},
   "outputs": [
    {
     "data": {
      "text/plain": [
       "(140000, 60000)"
      ]
     },
     "execution_count": 8,
     "metadata": {},
     "output_type": "execute_result"
    }
   ],
   "source": [
    "len(train), len(test)"
   ]
  },
  {
   "cell_type": "markdown",
   "id": "hearing-candy",
   "metadata": {},
   "source": [
    "# 2. Feature Engineering\n",
    "- Encode text features (TFIDF)\n",
    "- Encode datetime features"
   ]
  },
  {
   "cell_type": "code",
   "execution_count": 9,
   "id": "extreme-seating",
   "metadata": {},
   "outputs": [],
   "source": [
    "from sklearn.feature_extraction.text import TfidfVectorizer\n",
    "from sklearn.feature_extraction.text import CountVectorizer # for letter n-gram"
   ]
  },
  {
   "cell_type": "markdown",
   "id": "traditional-victorian",
   "metadata": {},
   "source": [
    "## Text features"
   ]
  },
  {
   "cell_type": "code",
   "execution_count": 10,
   "id": "radio-edgar",
   "metadata": {},
   "outputs": [],
   "source": [
    "tfidf = TfidfVectorizer(stop_words='english', lowercase=True, ngram_range=(1,2))\n",
    "letterngram = CountVectorizer(analyzer='char_wb', ngram_range=(2,4))"
   ]
  },
  {
   "cell_type": "code",
   "execution_count": 11,
   "id": "twelve-catholic",
   "metadata": {},
   "outputs": [],
   "source": [
    "tfidf = tfidf.fit(train['text'])\n",
    "letterngram = letterngram.fit(train['text'])"
   ]
  },
  {
   "cell_type": "code",
   "execution_count": 12,
   "id": "valued-knock",
   "metadata": {},
   "outputs": [],
   "source": [
    "feat_tfidf = tfidf.transform(train.loc[:,'text'])\n",
    "feat_letterngram = letterngram.transform(train['text'])"
   ]
  },
  {
   "cell_type": "code",
   "execution_count": 13,
   "id": "automotive-sunday",
   "metadata": {},
   "outputs": [
    {
     "data": {
      "text/plain": [
       "((140000, 725864), (140000, 287630))"
      ]
     },
     "execution_count": 13,
     "metadata": {},
     "output_type": "execute_result"
    }
   ],
   "source": [
    "feat_tfidf.shape, feat_letterngram.shape"
   ]
  },
  {
   "cell_type": "code",
   "execution_count": 14,
   "id": "comparable-success",
   "metadata": {},
   "outputs": [
    {
     "data": {
      "text/plain": [
       "scipy.sparse.csr.csr_matrix"
      ]
     },
     "execution_count": 14,
     "metadata": {},
     "output_type": "execute_result"
    }
   ],
   "source": [
    "type(feat_tfidf)"
   ]
  },
  {
   "cell_type": "code",
   "execution_count": 15,
   "id": "precious-amount",
   "metadata": {},
   "outputs": [],
   "source": [
    "feat_tfidf_test = tfidf.transform(test.loc[:,'text'])\n",
    "feat_letterngram_test = letterngram.transform(test['text'])"
   ]
  },
  {
   "cell_type": "markdown",
   "id": "fancy-brazil",
   "metadata": {},
   "source": [
    "# 3. Basic Models\n",
    "Base without feature selection or regularisation"
   ]
  },
  {
   "cell_type": "code",
   "execution_count": 16,
   "id": "narrow-nowhere",
   "metadata": {},
   "outputs": [],
   "source": [
    "labels = train['sentiment']\n",
    "labels_test = test['sentiment']"
   ]
  },
  {
   "cell_type": "code",
   "execution_count": 17,
   "id": "incoming-composition",
   "metadata": {},
   "outputs": [],
   "source": [
    "from sklearn.ensemble import RandomForestClassifier"
   ]
  },
  {
   "cell_type": "markdown",
   "id": "amazing-peoples",
   "metadata": {},
   "source": [
    "## Random Forest\n",
    "Limit max depth so they're not too overfitted"
   ]
  },
  {
   "cell_type": "code",
   "execution_count": 18,
   "id": "sustainable-mentor",
   "metadata": {},
   "outputs": [],
   "source": [
    "rf_tfidf = RandomForestClassifier(\n",
    "    n_estimators=100, criterion='gini',\n",
    "    max_depth=4,\n",
    "    bootstrap=True, min_samples_leaf=10)\n",
    "rf_letterngram = RandomForestClassifier(\n",
    "    n_estimators=100, criterion='gini',\n",
    "    max_depth=4,\n",
    "    bootstrap=True, min_samples_leaf=10)"
   ]
  },
  {
   "cell_type": "code",
   "execution_count": 19,
   "id": "municipal-samuel",
   "metadata": {},
   "outputs": [
    {
     "data": {
      "text/plain": [
       "RandomForestClassifier(max_depth=4, min_samples_leaf=10)"
      ]
     },
     "execution_count": 19,
     "metadata": {},
     "output_type": "execute_result"
    }
   ],
   "source": [
    "rf_tfidf.fit(feat_tfidf, labels)\n",
    "rf_letterngram.fit(feat_letterngram, labels)"
   ]
  },
  {
   "cell_type": "code",
   "execution_count": 20,
   "id": "charged-relief",
   "metadata": {},
   "outputs": [
    {
     "data": {
      "text/plain": [
       "((140000, 725864), (60000, 725864))"
      ]
     },
     "execution_count": 20,
     "metadata": {},
     "output_type": "execute_result"
    }
   ],
   "source": [
    "feat_tfidf.shape, feat_tfidf_test.shape"
   ]
  },
  {
   "cell_type": "code",
   "execution_count": 21,
   "id": "successful-creativity",
   "metadata": {},
   "outputs": [],
   "source": [
    "pred_rf_tfidf = rf_tfidf.predict(feat_tfidf_test)\n",
    "pred_rf_letterngram = rf_letterngram.predict(feat_letterngram_test)\n",
    "\n",
    "ppred_rf_tfidf = rf_tfidf.predict_proba(feat_tfidf_test)\n",
    "ppred_rf_letterngram = rf_letterngram.predict_proba(feat_letterngram_test)"
   ]
  },
  {
   "cell_type": "code",
   "execution_count": 22,
   "id": "divine-planner",
   "metadata": {},
   "outputs": [],
   "source": [
    "from sklearn.metrics import precision_score, recall_score\n",
    "from sklearn.metrics import confusion_matrix\n",
    "from sklearn.metrics import roc_auc_score"
   ]
  },
  {
   "cell_type": "code",
   "execution_count": 23,
   "id": "theoretical-extent",
   "metadata": {},
   "outputs": [
    {
     "name": "stdout",
     "output_type": "stream",
     "text": [
      "TFIDF + RandomForest\n",
      "Class = 0 : Precision = 0.754, Recall = 0.345\n",
      "Class = 4 : Precision = 0.573, Recall = 0.887\n",
      "AUC = 0.685\n"
     ]
    }
   ],
   "source": [
    "print('TFIDF + RandomForest')\n",
    "for lbl in [0,4]:\n",
    "    pc = precision_score(labels_test, pred_rf_tfidf, pos_label=lbl)\n",
    "    rc = recall_score(labels_test, pred_rf_tfidf, pos_label=lbl)\n",
    "    print(f'Class = {lbl} : Precision = {pc:.3f}, Recall = {rc:.3f}')\n",
    "auc = roc_auc_score(labels_test, ppred_rf_tfidf[:,1], labels=[0,4])\n",
    "print(f'AUC = {auc:.3f}')"
   ]
  },
  {
   "cell_type": "code",
   "execution_count": 24,
   "id": "unlike-professor",
   "metadata": {},
   "outputs": [
    {
     "name": "stdout",
     "output_type": "stream",
     "text": [
      "Letter-n-gram + RandomForest\n",
      "Class = 0 : Precision = 0.707, Recall = 0.674\n",
      "Class = 4 : Precision = 0.686, Recall = 0.718\n",
      "AUC = 0.762\n"
     ]
    }
   ],
   "source": [
    "print('Letter-n-gram + RandomForest')\n",
    "for lbl in [0,4]:\n",
    "    pc = precision_score(labels_test, pred_rf_letterngram, pos_label=lbl)\n",
    "    rc = recall_score(labels_test, pred_rf_letterngram, pos_label=lbl)\n",
    "    print(f'Class = {lbl} : Precision = {pc:.3f}, Recall = {rc:.3f}')\n",
    "auc = roc_auc_score(labels_test, ppred_rf_letterngram[:,1], labels=[0,4])\n",
    "print(f'AUC = {auc:.3f}')"
   ]
  },
  {
   "cell_type": "markdown",
   "id": "forbidden-divide",
   "metadata": {},
   "source": [
    "## XGBoost\n",
    "Limit overfitting with regularisation"
   ]
  },
  {
   "cell_type": "code",
   "execution_count": 25,
   "id": "upper-probability",
   "metadata": {},
   "outputs": [],
   "source": [
    "params = {\n",
    "    'use_label_encoder': False,\n",
    "    'objective': 'binary:logistic',\n",
    "    'n_estimators': 100, 'max_depth': 5, 'learning_rate': 0.01,\n",
    "    'reg_lambda': 0.1 # L2 regularisation\n",
    "}"
   ]
  },
  {
   "cell_type": "code",
   "execution_count": 26,
   "id": "public-disaster",
   "metadata": {},
   "outputs": [],
   "source": [
    "# XGB requires labels to start from [0,1,..,NCLASS-1]\n",
    "labels_xgb = labels/4\n",
    "labels_xgb_test = labels_test/4"
   ]
  },
  {
   "cell_type": "code",
   "execution_count": 27,
   "id": "cathedral-defensive",
   "metadata": {},
   "outputs": [
    {
     "name": "stdout",
     "output_type": "stream",
     "text": [
      "[14:58:22] WARNING: /Users/travis/build/dmlc/xgboost/src/learner.cc:1095: Starting in XGBoost 1.3.0, the default evaluation metric used with the objective 'binary:logistic' was changed from 'error' to 'logloss'. Explicitly set eval_metric if you'd like to restore the old behavior.\n"
     ]
    },
    {
     "data": {
      "text/plain": [
       "XGBRFClassifier(base_score=0.5, booster='gbtree', colsample_bylevel=1,\n",
       "                colsample_bytree=1, gamma=0, gpu_id=-1, importance_type='gain',\n",
       "                interaction_constraints='', learning_rate=0.01,\n",
       "                max_delta_step=0, max_depth=5, min_child_weight=1, missing=nan,\n",
       "                monotone_constraints='()', n_estimators=100, n_jobs=8,\n",
       "                num_parallel_tree=100, objective='binary:logistic',\n",
       "                random_state=0, reg_alpha=0, reg_lambda=0.1, scale_pos_weight=1,\n",
       "                tree_method='exact', use_label_encoder=False,\n",
       "                validate_parameters=1, verbosity=None)"
      ]
     },
     "execution_count": 27,
     "metadata": {},
     "output_type": "execute_result"
    }
   ],
   "source": [
    "xgb_tfidf = XGBRFClassifier(**params)\n",
    "xgb_tfidf.fit(feat_tfidf, labels_xgb)"
   ]
  },
  {
   "cell_type": "code",
   "execution_count": 28,
   "id": "gross-workplace",
   "metadata": {},
   "outputs": [
    {
     "name": "stdout",
     "output_type": "stream",
     "text": [
      "[14:59:30] WARNING: /Users/travis/build/dmlc/xgboost/src/learner.cc:1095: Starting in XGBoost 1.3.0, the default evaluation metric used with the objective 'binary:logistic' was changed from 'error' to 'logloss'. Explicitly set eval_metric if you'd like to restore the old behavior.\n"
     ]
    },
    {
     "data": {
      "text/plain": [
       "XGBRFClassifier(base_score=0.5, booster='gbtree', colsample_bylevel=1,\n",
       "                colsample_bytree=1, gamma=0, gpu_id=-1, importance_type='gain',\n",
       "                interaction_constraints='', learning_rate=0.01,\n",
       "                max_delta_step=0, max_depth=5, min_child_weight=1, missing=nan,\n",
       "                monotone_constraints='()', n_estimators=100, n_jobs=8,\n",
       "                num_parallel_tree=100, objective='binary:logistic',\n",
       "                random_state=0, reg_alpha=0, reg_lambda=0.1, scale_pos_weight=1,\n",
       "                tree_method='exact', use_label_encoder=False,\n",
       "                validate_parameters=1, verbosity=None)"
      ]
     },
     "execution_count": 28,
     "metadata": {},
     "output_type": "execute_result"
    }
   ],
   "source": [
    "xgb_letterngram = XGBRFClassifier(**params)\n",
    "xgb_letterngram.fit(feat_letterngram, labels_xgb)"
   ]
  },
  {
   "cell_type": "code",
   "execution_count": 29,
   "id": "municipal-uzbekistan",
   "metadata": {},
   "outputs": [],
   "source": [
    "pred_xgb_tfidf = xgb_tfidf.predict(feat_tfidf_test) * 4\n",
    "pred_xgb_letterngram = xgb_letterngram.predict(feat_letterngram_test) * 4\n",
    "\n",
    "ppred_xgb_tfidf = xgb_tfidf.predict_proba(feat_tfidf_test) * 4\n",
    "ppred_xgb_letterngram = xgb_letterngram.predict_proba(feat_letterngram_test) * 4"
   ]
  },
  {
   "cell_type": "code",
   "execution_count": 30,
   "id": "sticky-draft",
   "metadata": {},
   "outputs": [
    {
     "name": "stdout",
     "output_type": "stream",
     "text": [
      "TFIDF + XGBoost\n",
      "Class = 0 : Precision = 0.801, Recall = 0.138\n",
      "Class = 4 : Precision = 0.526, Recall = 0.965\n",
      "AUC = 0.685\n"
     ]
    }
   ],
   "source": [
    "print('TFIDF + XGBoost')\n",
    "for lbl in [0,4]:\n",
    "    pc = precision_score(labels_test, pred_xgb_tfidf, pos_label=lbl)\n",
    "    rc = recall_score(labels_test, pred_xgb_tfidf, pos_label=lbl)\n",
    "    print(f'Class = {lbl} : Precision = {pc:.3f}, Recall = {rc:.3f}')\n",
    "auc = roc_auc_score(labels_test, ppred_rf_tfidf[:,1], labels=[0,4])\n",
    "print(f'AUC = {auc:.3f}')"
   ]
  },
  {
   "cell_type": "code",
   "execution_count": 31,
   "id": "uniform-variable",
   "metadata": {},
   "outputs": [
    {
     "name": "stdout",
     "output_type": "stream",
     "text": [
      "Letter-n-gram + XGBoost\n",
      "Class = 0 : Precision = 0.626, Recall = 0.746\n",
      "Class = 4 : Precision = 0.682, Recall = 0.551\n",
      "AUC = 0.685\n"
     ]
    }
   ],
   "source": [
    "print('Letter-n-gram + XGBoost')\n",
    "for lbl in [0,4]:\n",
    "    pc = precision_score(labels_test, pred_xgb_letterngram, pos_label=lbl)\n",
    "    rc = recall_score(labels_test, pred_xgb_letterngram, pos_label=lbl)\n",
    "    print(f'Class = {lbl} : Precision = {pc:.3f}, Recall = {rc:.3f}')\n",
    "auc = roc_auc_score(labels_test, ppred_rf_tfidf[:,1], labels=[0,4])\n",
    "print(f'AUC = {auc:.3f}')"
   ]
  },
  {
   "cell_type": "code",
   "execution_count": null,
   "id": "pressing-creek",
   "metadata": {},
   "outputs": [],
   "source": []
  },
  {
   "cell_type": "code",
   "execution_count": null,
   "id": "massive-plain",
   "metadata": {},
   "outputs": [],
   "source": []
  },
  {
   "cell_type": "markdown",
   "id": "honey-effect",
   "metadata": {},
   "source": [
    "## Leaky ReLu"
   ]
  },
  {
   "cell_type": "code",
   "execution_count": 32,
   "id": "japanese-grounds",
   "metadata": {},
   "outputs": [],
   "source": [
    "x = np.arange(-30, 5, 0.5)\n",
    "y1 = [w*0.01 if w<0 else w for w in x]\n",
    "y2 = [w*0.025 if w<0 else w for w in x]"
   ]
  },
  {
   "cell_type": "code",
   "execution_count": 33,
   "id": "interpreted-colombia",
   "metadata": {},
   "outputs": [
    {
     "name": "stderr",
     "output_type": "stream",
     "text": [
      "/Users/pataoengineer/opt/miniconda3/lib/python3.7/site-packages/seaborn/_decorators.py:43: FutureWarning: Pass the following variables as keyword args: x, y. From version 0.12, the only valid positional argument will be `data`, and passing other arguments without an explicit keyword will result in an error or misinterpretation.\n",
      "  FutureWarning\n",
      "/Users/pataoengineer/opt/miniconda3/lib/python3.7/site-packages/seaborn/_decorators.py:43: FutureWarning: Pass the following variables as keyword args: x, y. From version 0.12, the only valid positional argument will be `data`, and passing other arguments without an explicit keyword will result in an error or misinterpretation.\n",
      "  FutureWarning\n"
     ]
    },
    {
     "data": {
      "text/plain": [
       "<AxesSubplot:>"
      ]
     },
     "execution_count": 33,
     "metadata": {},
     "output_type": "execute_result"
    },
    {
     "data": {
      "image/png": "[encoded data removed]",
      "text/plain": [
       "<Figure size 432x288 with 1 Axes>"
      ]
     },
     "metadata": {
      "needs_background": "light"
     },
     "output_type": "display_data"
    }
   ],
   "source": [
    "sns.lineplot(x, y1, label='alpha=0.01')\n",
    "sns.lineplot(x, y2, label='alpha=0.025')"
   ]
  },
  {
   "cell_type": "code",
   "execution_count": null,
   "id": "champion-seventh",
   "metadata": {},
   "outputs": [],
   "source": []
  },
  {
   "cell_type": "code",
   "execution_count": null,
   "id": "verbal-integration",
   "metadata": {},
   "outputs": [],
   "source": []
  },
  {
   "cell_type": "markdown",
   "id": "senior-collectible",
   "metadata": {},
   "source": [
    "## LightGBM\n",
    "\n",
    "A Microsoft's speedy gradient boosted tree"
   ]
  },
  {
   "cell_type": "code",
   "execution_count": 34,
   "id": "bridal-coverage",
   "metadata": {},
   "outputs": [
    {
     "data": {
      "text/plain": [
       "LGBMClassifier(max_depth=3, n_estimators=50, n_jobs=2, num_leaves=20)"
      ]
     },
     "execution_count": 34,
     "metadata": {},
     "output_type": "execute_result"
    }
   ],
   "source": [
    "lgb_tfidf = lightgbm.LGBMClassifier(\n",
    "    boosting_type='gbdt',\n",
    "    num_leaves=20,\n",
    "    max_depth=3,\n",
    "    learning_rate=0.1,\n",
    "    n_estimators=50,\n",
    "    n_jobs=2)\n",
    "lgb_tfidf.fit(feat_tfidf, labels)"
   ]
  },
  {
   "cell_type": "code",
   "execution_count": 35,
   "id": "labeled-landscape",
   "metadata": {},
   "outputs": [
    {
     "data": {
      "text/plain": [
       "LGBMClassifier(max_depth=3, n_estimators=50, n_jobs=2, num_leaves=20)"
      ]
     },
     "execution_count": 35,
     "metadata": {},
     "output_type": "execute_result"
    }
   ],
   "source": [
    "lgb_letterngram = lightgbm.LGBMClassifier(\n",
    "    boosting_type='gbdt',\n",
    "    num_leaves=20,\n",
    "    max_depth=3,\n",
    "    learning_rate=0.1,\n",
    "    n_estimators=50,\n",
    "    n_jobs=2)\n",
    "lgb_letterngram.fit(feat_letterngram.astype('float32'), labels)"
   ]
  },
  {
   "cell_type": "markdown",
   "id": "simplified-species",
   "metadata": {},
   "source": [
    "Validate models"
   ]
  },
  {
   "cell_type": "code",
   "execution_count": 36,
   "id": "existing-poison",
   "metadata": {},
   "outputs": [],
   "source": [
    "pred_lgb_tfidf = lgb_tfidf.predict(feat_tfidf_test)\n",
    "pred_lgb_letterngram = lgb_letterngram.predict(feat_letterngram_test.astype('float32'))"
   ]
  },
  {
   "cell_type": "code",
   "execution_count": 37,
   "id": "toxic-natural",
   "metadata": {},
   "outputs": [
    {
     "name": "stdout",
     "output_type": "stream",
     "text": [
      "TFIDF + LightGBM\n",
      "Class = 0 : Precision = 0.794, Recall = 0.370\n",
      "Class = 4 : Precision = 0.587, Recall = 0.903\n",
      "AUC = 0.636\n"
     ]
    }
   ],
   "source": [
    "print('TFIDF + LightGBM')\n",
    "for lbl in [0,4]:\n",
    "    pc = precision_score(labels_test, pred_lgb_tfidf, pos_label=lbl)\n",
    "    rc = recall_score(labels_test, pred_lgb_tfidf, pos_label=lbl)\n",
    "    print(f'Class = {lbl} : Precision = {pc:.3f}, Recall = {rc:.3f}')\n",
    "auc = roc_auc_score(labels_test, pred_lgb_tfidf, labels=[0,4])\n",
    "print(f'AUC = {auc:.3f}')"
   ]
  },
  {
   "cell_type": "code",
   "execution_count": 38,
   "id": "turkish-classic",
   "metadata": {},
   "outputs": [
    {
     "name": "stdout",
     "output_type": "stream",
     "text": [
      "Letter-ngram + LightGBM\n",
      "Class = 0 : Precision = 0.692, Recall = 0.721\n",
      "Class = 4 : Precision = 0.706, Recall = 0.676\n",
      "AUC = 0.698\n"
     ]
    }
   ],
   "source": [
    "print('Letter-ngram + LightGBM')\n",
    "for lbl in [0,4]:\n",
    "    pc = precision_score(labels_test, pred_lgb_letterngram, pos_label=lbl)\n",
    "    rc = recall_score(labels_test, pred_lgb_letterngram, pos_label=lbl)\n",
    "    print(f'Class = {lbl} : Precision = {pc:.3f}, Recall = {rc:.3f}')\n",
    "auc = roc_auc_score(labels_test, pred_lgb_letterngram, labels=[0,4])\n",
    "print(f'AUC = {auc:.3f}')"
   ]
  },
  {
   "cell_type": "code",
   "execution_count": null,
   "id": "enclosed-talent",
   "metadata": {},
   "outputs": [],
   "source": []
  },
  {
   "cell_type": "code",
   "execution_count": null,
   "id": "satellite-while",
   "metadata": {},
   "outputs": [],
   "source": []
  },
  {
   "cell_type": "markdown",
   "id": "early-allocation",
   "metadata": {},
   "source": [
    "# 3. BERT based models\n",
    "\n",
    "Try variants of transformers"
   ]
  },
  {
   "cell_type": "code",
   "execution_count": 39,
   "id": "reverse-canon",
   "metadata": {},
   "outputs": [],
   "source": [
    "from transformers import BertTokenizer, TFBertModel\n",
    "import tensorflow as tf\n",
    "from tensorflow import keras"
   ]
  },
  {
   "cell_type": "markdown",
   "id": "loved-frank",
   "metadata": {},
   "source": [
    "Load pretrained BERT models"
   ]
  },
  {
   "cell_type": "code",
   "execution_count": 40,
   "id": "julian-wings",
   "metadata": {},
   "outputs": [
    {
     "name": "stderr",
     "output_type": "stream",
     "text": [
      "Some layers from the model checkpoint at bert-base-uncased were not used when initializing TFBertModel: ['mlm___cls', 'nsp___cls']\n",
      "- This IS expected if you are initializing TFBertModel from the checkpoint of a model trained on another task or with another architecture (e.g. initializing a BertForSequenceClassification model from a BertForPreTraining model).\n",
      "- This IS NOT expected if you are initializing TFBertModel from the checkpoint of a model that you expect to be exactly identical (initializing a BertForSequenceClassification model from a BertForSequenceClassification model).\n",
      "All the layers of TFBertModel were initialized from the model checkpoint at bert-base-uncased.\n",
      "If your task is similar to the task the model of the checkpoint was trained on, you can already use TFBertModel for predictions without further training.\n"
     ]
    }
   ],
   "source": [
    "tokeniser = BertTokenizer.from_pretrained('bert-base-uncased')\n",
    "mbert = TFBertModel.from_pretrained('bert-base-uncased')"
   ]
  },
  {
   "cell_type": "markdown",
   "id": "documentary-slovakia",
   "metadata": {},
   "source": [
    "Allow BERT layers training during fine-tuning step"
   ]
  },
  {
   "cell_type": "code",
   "execution_count": 41,
   "id": "assisted-essex",
   "metadata": {},
   "outputs": [],
   "source": [
    "mbert.trainable = True"
   ]
  },
  {
   "cell_type": "code",
   "execution_count": 42,
   "id": "lesbian-taylor",
   "metadata": {},
   "outputs": [
    {
     "name": "stdout",
     "output_type": "stream",
     "text": [
      "Model: \"tf_bert_model\"\n",
      "_________________________________________________________________\n",
      "Layer (type)                 Output Shape              Param #   \n",
      "=================================================================\n",
      "bert (TFBertMainLayer)       multiple                  109482240 \n",
      "=================================================================\n",
      "Total params: 109,482,240\n",
      "Trainable params: 109,482,240\n",
      "Non-trainable params: 0\n",
      "_________________________________________________________________\n"
     ]
    }
   ],
   "source": [
    "mbert.summary()"
   ]
  },
  {
   "cell_type": "markdown",
   "id": "higher-fitness",
   "metadata": {},
   "source": [
    "Encode tweet dataset"
   ]
  },
  {
   "cell_type": "code",
   "execution_count": 43,
   "id": "original-domain",
   "metadata": {},
   "outputs": [],
   "source": [
    "def tokenise(text): # tokenise str and convert to token IDs\n",
    "    words = ['[CLS]'] + tokeniser.tokenize(text) + ['[SEP]']\n",
    "    return tokeniser.convert_tokens_to_ids(words)\n",
    "\n",
    "def create_mask(enctext):\n",
    "    return [1]*len(enctext)"
   ]
  },
  {
   "cell_type": "code",
   "execution_count": 44,
   "id": "continent-worry",
   "metadata": {},
   "outputs": [],
   "source": [
    "enc_train = train['text'].apply(tokenise)\n",
    "mask_train = enc_train.map(create_mask)"
   ]
  },
  {
   "cell_type": "code",
   "execution_count": 45,
   "id": "dying-neutral",
   "metadata": {},
   "outputs": [],
   "source": [
    "enc_test = test['text'].apply(tokenise)\n",
    "mask_test = enc_test.map(create_mask)"
   ]
  },
  {
   "cell_type": "code",
   "execution_count": 46,
   "id": "based-queue",
   "metadata": {},
   "outputs": [
    {
     "data": {
      "text/plain": [
       "691306     (tf.Tensor(16, shape=(), dtype=int32))\n",
       "466096     (tf.Tensor(34, shape=(), dtype=int32))\n",
       "899887     (tf.Tensor(13, shape=(), dtype=int32))\n",
       "1459096    (tf.Tensor(14, shape=(), dtype=int32))\n",
       "40321      (tf.Tensor(31, shape=(), dtype=int32))\n",
       "Name: text, dtype: object"
      ]
     },
     "execution_count": 46,
     "metadata": {},
     "output_type": "execute_result"
    }
   ],
   "source": [
    "enc_train[:5].map(tf.shape) # Shape of each ID vector is different, need padding"
   ]
  },
  {
   "cell_type": "markdown",
   "id": "remarkable-mixture",
   "metadata": {},
   "source": [
    "Find out max length of sequence"
   ]
  },
  {
   "cell_type": "code",
   "execution_count": 47,
   "id": "combined-amino",
   "metadata": {},
   "outputs": [
    {
     "data": {
      "text/plain": [
       "156"
      ]
     },
     "execution_count": 47,
     "metadata": {},
     "output_type": "execute_result"
    }
   ],
   "source": [
    "max(enc_train.map(len))"
   ]
  },
  {
   "cell_type": "code",
   "execution_count": 48,
   "id": "processed-marshall",
   "metadata": {},
   "outputs": [
    {
     "name": "stderr",
     "output_type": "stream",
     "text": [
      "/Users/pataoengineer/opt/miniconda3/lib/python3.7/site-packages/seaborn/_decorators.py:43: FutureWarning: Pass the following variable as a keyword arg: x. From version 0.12, the only valid positional argument will be `data`, and passing other arguments without an explicit keyword will result in an error or misinterpretation.\n",
      "  FutureWarning\n"
     ]
    },
    {
     "data": {
      "text/plain": [
       "<AxesSubplot:xlabel='text', ylabel='Count'>"
      ]
     },
     "execution_count": 48,
     "metadata": {},
     "output_type": "execute_result"
    },
    {
     "data": {
      "image/png": "[encoded data removed]",
      "text/plain": [
       "<Figure size 432x288 with 1 Axes>"
      ]
     },
     "metadata": {
      "needs_background": "light"
     },
     "output_type": "display_data"
    }
   ],
   "source": [
    "lt = enc_train.map(len)\n",
    "sns.histplot(lt)\n",
    "sns.boxplot(lt)"
   ]
  },
  {
   "cell_type": "markdown",
   "id": "direct-calvin",
   "metadata": {},
   "source": [
    "Padd all IDs"
   ]
  },
  {
   "cell_type": "code",
   "execution_count": 49,
   "id": "further-transparency",
   "metadata": {},
   "outputs": [],
   "source": [
    "MAX_LEN = max(enc_train.map(len)) + 2 # plus CLS+SEP\n",
    "\n",
    "def pad(seq):\n",
    "    return seq + [0]*(MAX_LEN - len(seq))"
   ]
  },
  {
   "cell_type": "code",
   "execution_count": 50,
   "id": "friendly-marking",
   "metadata": {},
   "outputs": [],
   "source": [
    "enc_train = enc_train.apply(pad)\n",
    "mask_train = mask_train.apply(pad)"
   ]
  },
  {
   "cell_type": "code",
   "execution_count": 51,
   "id": "returning-notebook",
   "metadata": {},
   "outputs": [],
   "source": [
    "# Filter test set, excessive lengths go away\n",
    "enc_test[enc_test.map(len)<MAX_LEN-2]\n",
    "mask_test[mask_test.map(len)<MAX_LEN-2]\n",
    "\n",
    "enc_test = enc_test.apply(pad)\n",
    "mask_test = mask_test.apply(pad)"
   ]
  },
  {
   "cell_type": "markdown",
   "id": "proved-belarus",
   "metadata": {},
   "source": [
    "Build classification model from BERT"
   ]
  },
  {
   "cell_type": "code",
   "execution_count": 52,
   "id": "resident-disposal",
   "metadata": {},
   "outputs": [
    {
     "name": "stdout",
     "output_type": "stream",
     "text": [
      "WARNING:tensorflow:The parameters `output_attentions`, `output_hidden_states` and `use_cache` cannot be updated when calling a model.They have to be set to True/False in the config object (i.e.: `config=XConfig.from_pretrained('name', output_attentions=True)`).\n",
      "WARNING:tensorflow:AutoGraph could not transform <bound method Socket.send of <zmq.sugar.socket.Socket object at 0x7fd57f92f600>> and will run it as-is.\n",
      "Please report this to the TensorFlow team. When filing the bug, set the verbosity to 10 (on Linux, `export AUTOGRAPH_VERBOSITY=10`) and attach the full output.\n",
      "Cause: module, class, method, function, traceback, frame, or code object was expected, got cython_function_or_method\n",
      "To silence this warning, decorate the function with @tf.autograph.experimental.do_not_convert\n",
      "WARNING: AutoGraph could not transform <bound method Socket.send of <zmq.sugar.socket.Socket object at 0x7fd57f92f600>> and will run it as-is.\n",
      "Please report this to the TensorFlow team. When filing the bug, set the verbosity to 10 (on Linux, `export AUTOGRAPH_VERBOSITY=10`) and attach the full output.\n",
      "Cause: module, class, method, function, traceback, frame, or code object was expected, got cython_function_or_method\n",
      "To silence this warning, decorate the function with @tf.autograph.experimental.do_not_convert\n",
      "WARNING:tensorflow:The parameter `return_dict` cannot be set in graph mode and will always be set to `True`.\n"
     ]
    }
   ],
   "source": [
    "linput = keras.layers.Input(shape=(MAX_LEN, ), dtype=tf.int32, name=\"inputs\")\n",
    "mask = keras.layers.Input(shape=(MAX_LEN, ), dtype=tf.int32, name=\"attention_mask\")\n",
    "ttypes = keras.layers.Input(shape=(MAX_LEN, ), dtype=tf.int32, name=\"token_types\")\n",
    "\n",
    "output = mbert(linput, attention_mask=mask, token_type_ids=ttypes)\n",
    "\n",
    "logit = keras.layers.Dense(128, name=\"fc1\")(output[1]) # pooled output of BERT\n",
    "logit = keras.layers.Dense(64, activation='relu', name='relu')(logit) \n",
    "logit = keras.layers.Dropout(0.2, name='dropout')(logit)\n",
    "\n",
    "lg = keras.regularizers.L2(0.1)\n",
    "logit = keras.layers.Dense(1, activation='sigmoid', kernel_regularizer=lg)(logit)\n",
    "\n",
    "# Model\n",
    "model = keras.models.Model(inputs=[linput,mask,ttypes], outputs=[logit], name='BERT')"
   ]
  },
  {
   "cell_type": "code",
   "execution_count": 53,
   "id": "modern-portrait",
   "metadata": {},
   "outputs": [],
   "source": [
    "model.compile(\n",
    "    loss='binary_crossentropy',\n",
    "    optimizer=tf.keras.optimizers.Adam(1e-3), # low learning rate to suit BERT\n",
    "    metrics=[keras.metrics.SparseCategoricalAccuracy('accuracy', dtype=tf.float32)])"
   ]
  },
  {
   "cell_type": "code",
   "execution_count": 54,
   "id": "organized-ecology",
   "metadata": {},
   "outputs": [],
   "source": [
    "#model.summary()"
   ]
  },
  {
   "cell_type": "code",
   "execution_count": null,
   "id": "suburban-anthony",
   "metadata": {},
   "outputs": [],
   "source": []
  },
  {
   "cell_type": "markdown",
   "id": "neither-marshall",
   "metadata": {},
   "source": [
    "Prepare tensor dataset"
   ]
  },
  {
   "cell_type": "code",
   "execution_count": 71,
   "id": "heavy-proposition",
   "metadata": {},
   "outputs": [
    {
     "name": "stderr",
     "output_type": "stream",
     "text": [
      "/Users/pataoengineer/opt/miniconda3/lib/python3.7/site-packages/ipykernel_launcher.py:3: VisibleDeprecationWarning: Creating an ndarray from ragged nested sequences (which is a list-or-tuple of lists-or-tuples-or ndarrays with different lengths or shapes) is deprecated. If you meant to do this, you must specify 'dtype=object' when creating the ndarray\n",
      "  This is separate from the ipykernel package so we can avoid doing imports until\n",
      "/Users/pataoengineer/opt/miniconda3/lib/python3.7/site-packages/ipykernel_launcher.py:6: VisibleDeprecationWarning: Creating an ndarray from ragged nested sequences (which is a list-or-tuple of lists-or-tuples-or ndarrays with different lengths or shapes) is deprecated. If you meant to do this, you must specify 'dtype=object' when creating the ndarray\n",
      "  \n"
     ]
    }
   ],
   "source": [
    "# Make numpy ndarray out of \"series\" of \"list\"\n",
    "dtrain = np.array(list(map(np.array, enc_train)))\n",
    "dtest = np.array(list(map(np.array, enc_test)))\n",
    "\n",
    "dmask = np.array(list(map(np.array, mask_train)))\n",
    "dmasktest = np.array(list(map(np.array, mask_test)))\n",
    "\n",
    "dtype = dmask.copy()\n",
    "dtypetest = dmasktest.copy()"
   ]
  },
  {
   "cell_type": "code",
   "execution_count": 72,
   "id": "starting-communist",
   "metadata": {},
   "outputs": [],
   "source": [
    "# dtrain = tf.convert_to_tensor(enc_train.values.tolist())\n",
    "# dtest = tf.convert_to_tensor(enc_test.values.tolist())\n",
    "\n",
    "# dmask = tf.convert_to_tensor(mask_train.values.tolist())\n",
    "# dmasktest = tf.convert_to_tensor(mask_test.values.tolist())\n",
    "\n",
    "# dtype = tf.convert_to_tensor(mask_train[:].values.tolist())\n",
    "# dtypetest = tf.convert_to_tensor(mask_test[:].values.tolist())"
   ]
  },
  {
   "cell_type": "code",
   "execution_count": 73,
   "id": "typical-triumph",
   "metadata": {},
   "outputs": [],
   "source": [
    "dlabels = (labels.astype('float32')/4).values\n",
    "dlabeltest = (labels_test.astype('float32')/4).values"
   ]
  },
  {
   "cell_type": "code",
   "execution_count": null,
   "id": "heard-oregon",
   "metadata": {},
   "outputs": [],
   "source": []
  },
  {
   "cell_type": "code",
   "execution_count": null,
   "id": "occasional-masters",
   "metadata": {},
   "outputs": [],
   "source": []
  },
  {
   "cell_type": "code",
   "execution_count": 74,
   "id": "going-blocking",
   "metadata": {},
   "outputs": [
    {
     "data": {
      "text/plain": [
       "(dtype('int64'), dtype('int64'), dtype('int64'))"
      ]
     },
     "execution_count": 74,
     "metadata": {},
     "output_type": "execute_result"
    }
   ],
   "source": [
    "dtrain.dtype, dmask.dtype, dtype.dtype"
   ]
  },
  {
   "cell_type": "code",
   "execution_count": 75,
   "id": "provincial-juice",
   "metadata": {},
   "outputs": [
    {
     "data": {
      "text/plain": [
       "((140000, 158), (140000, 158), (140000, 158))"
      ]
     },
     "execution_count": 75,
     "metadata": {},
     "output_type": "execute_result"
    }
   ],
   "source": [
    "dtrain.shape, dmask.shape, dtype.shape"
   ]
  },
  {
   "cell_type": "code",
   "execution_count": null,
   "id": "classified-flood",
   "metadata": {},
   "outputs": [],
   "source": []
  },
  {
   "cell_type": "code",
   "execution_count": 76,
   "id": "spectacular-disaster",
   "metadata": {
    "scrolled": false
   },
   "outputs": [
    {
     "name": "stdout",
     "output_type": "stream",
     "text": [
      "Epoch 1/5\n",
      "WARNING:tensorflow:The parameters `output_attentions`, `output_hidden_states` and `use_cache` cannot be updated when calling a model.They have to be set to True/False in the config object (i.e.: `config=XConfig.from_pretrained('name', output_attentions=True)`).\n",
      "WARNING:tensorflow:The parameter `return_dict` cannot be set in graph mode and will always be set to `True`.\n",
      "WARNING:tensorflow:The parameters `output_attentions`, `output_hidden_states` and `use_cache` cannot be updated when calling a model.They have to be set to True/False in the config object (i.e.: `config=XConfig.from_pretrained('name', output_attentions=True)`).\n",
      "WARNING:tensorflow:The parameter `return_dict` cannot be set in graph mode and will always be set to `True`.\n",
      " 176/4375 [>.............................] - ETA: 26:09:04 - loss: 1.0305 - accuracy: 0.5006"
     ]
    },
    {
     "ename": "KeyboardInterrupt",
     "evalue": "",
     "output_type": "error",
     "traceback": [
      "\u001b[0;31m---------------------------------------------------------------------------\u001b[0m",
      "\u001b[0;31mKeyboardInterrupt\u001b[0m                         Traceback (most recent call last)",
      "\u001b[0;32m<ipython-input-76-c969fd0cad9a>\u001b[0m in \u001b[0;36m<module>\u001b[0;34m\u001b[0m\n\u001b[1;32m      2\u001b[0m          \u001b[0mvalidation_data\u001b[0m\u001b[0;34m=\u001b[0m\u001b[0;34m(\u001b[0m\u001b[0;34m[\u001b[0m\u001b[0mdtest\u001b[0m\u001b[0;34m,\u001b[0m \u001b[0mdmasktest\u001b[0m\u001b[0;34m,\u001b[0m \u001b[0mdtypetest\u001b[0m\u001b[0;34m]\u001b[0m\u001b[0;34m,\u001b[0m \u001b[0mdlabeltest\u001b[0m\u001b[0;34m)\u001b[0m\u001b[0;34m,\u001b[0m\u001b[0;34m\u001b[0m\u001b[0;34m\u001b[0m\u001b[0m\n\u001b[1;32m      3\u001b[0m          \u001b[0mbatch_size\u001b[0m\u001b[0;34m=\u001b[0m\u001b[0;36m32\u001b[0m\u001b[0;34m,\u001b[0m\u001b[0;34m\u001b[0m\u001b[0;34m\u001b[0m\u001b[0m\n\u001b[0;32m----> 4\u001b[0;31m          epochs=5)\n\u001b[0m",
      "\u001b[0;32m~/opt/miniconda3/lib/python3.7/site-packages/tensorflow/python/keras/engine/training.py\u001b[0m in \u001b[0;36mfit\u001b[0;34m(self, x, y, batch_size, epochs, verbose, callbacks, validation_split, validation_data, shuffle, class_weight, sample_weight, initial_epoch, steps_per_epoch, validation_steps, validation_batch_size, validation_freq, max_queue_size, workers, use_multiprocessing)\u001b[0m\n\u001b[1;32m   1098\u001b[0m                 _r=1):\n\u001b[1;32m   1099\u001b[0m               \u001b[0mcallbacks\u001b[0m\u001b[0;34m.\u001b[0m\u001b[0mon_train_batch_begin\u001b[0m\u001b[0;34m(\u001b[0m\u001b[0mstep\u001b[0m\u001b[0;34m)\u001b[0m\u001b[0;34m\u001b[0m\u001b[0;34m\u001b[0m\u001b[0m\n\u001b[0;32m-> 1100\u001b[0;31m               \u001b[0mtmp_logs\u001b[0m \u001b[0;34m=\u001b[0m \u001b[0mself\u001b[0m\u001b[0;34m.\u001b[0m\u001b[0mtrain_function\u001b[0m\u001b[0;34m(\u001b[0m\u001b[0miterator\u001b[0m\u001b[0;34m)\u001b[0m\u001b[0;34m\u001b[0m\u001b[0;34m\u001b[0m\u001b[0m\n\u001b[0m\u001b[1;32m   1101\u001b[0m               \u001b[0;32mif\u001b[0m \u001b[0mdata_handler\u001b[0m\u001b[0;34m.\u001b[0m\u001b[0mshould_sync\u001b[0m\u001b[0;34m:\u001b[0m\u001b[0;34m\u001b[0m\u001b[0;34m\u001b[0m\u001b[0m\n\u001b[1;32m   1102\u001b[0m                 \u001b[0mcontext\u001b[0m\u001b[0;34m.\u001b[0m\u001b[0masync_wait\u001b[0m\u001b[0;34m(\u001b[0m\u001b[0;34m)\u001b[0m\u001b[0;34m\u001b[0m\u001b[0;34m\u001b[0m\u001b[0m\n",
      "\u001b[0;32m~/opt/miniconda3/lib/python3.7/site-packages/tensorflow/python/eager/def_function.py\u001b[0m in \u001b[0;36m__call__\u001b[0;34m(self, *args, **kwds)\u001b[0m\n\u001b[1;32m    826\u001b[0m     \u001b[0mtracing_count\u001b[0m \u001b[0;34m=\u001b[0m \u001b[0mself\u001b[0m\u001b[0;34m.\u001b[0m\u001b[0mexperimental_get_tracing_count\u001b[0m\u001b[0;34m(\u001b[0m\u001b[0;34m)\u001b[0m\u001b[0;34m\u001b[0m\u001b[0;34m\u001b[0m\u001b[0m\n\u001b[1;32m    827\u001b[0m     \u001b[0;32mwith\u001b[0m \u001b[0mtrace\u001b[0m\u001b[0;34m.\u001b[0m\u001b[0mTrace\u001b[0m\u001b[0;34m(\u001b[0m\u001b[0mself\u001b[0m\u001b[0;34m.\u001b[0m\u001b[0m_name\u001b[0m\u001b[0;34m)\u001b[0m \u001b[0;32mas\u001b[0m \u001b[0mtm\u001b[0m\u001b[0;34m:\u001b[0m\u001b[0;34m\u001b[0m\u001b[0;34m\u001b[0m\u001b[0m\n\u001b[0;32m--> 828\u001b[0;31m       \u001b[0mresult\u001b[0m \u001b[0;34m=\u001b[0m \u001b[0mself\u001b[0m\u001b[0;34m.\u001b[0m\u001b[0m_call\u001b[0m\u001b[0;34m(\u001b[0m\u001b[0;34m*\u001b[0m\u001b[0margs\u001b[0m\u001b[0;34m,\u001b[0m \u001b[0;34m**\u001b[0m\u001b[0mkwds\u001b[0m\u001b[0;34m)\u001b[0m\u001b[0;34m\u001b[0m\u001b[0;34m\u001b[0m\u001b[0m\n\u001b[0m\u001b[1;32m    829\u001b[0m       \u001b[0mcompiler\u001b[0m \u001b[0;34m=\u001b[0m \u001b[0;34m\"xla\"\u001b[0m \u001b[0;32mif\u001b[0m \u001b[0mself\u001b[0m\u001b[0;34m.\u001b[0m\u001b[0m_experimental_compile\u001b[0m \u001b[0;32melse\u001b[0m \u001b[0;34m\"nonXla\"\u001b[0m\u001b[0;34m\u001b[0m\u001b[0;34m\u001b[0m\u001b[0m\n\u001b[1;32m    830\u001b[0m       \u001b[0mnew_tracing_count\u001b[0m \u001b[0;34m=\u001b[0m \u001b[0mself\u001b[0m\u001b[0;34m.\u001b[0m\u001b[0mexperimental_get_tracing_count\u001b[0m\u001b[0;34m(\u001b[0m\u001b[0;34m)\u001b[0m\u001b[0;34m\u001b[0m\u001b[0;34m\u001b[0m\u001b[0m\n",
      "\u001b[0;32m~/opt/miniconda3/lib/python3.7/site-packages/tensorflow/python/eager/def_function.py\u001b[0m in \u001b[0;36m_call\u001b[0;34m(self, *args, **kwds)\u001b[0m\n\u001b[1;32m    853\u001b[0m       \u001b[0;31m# In this case we have created variables on the first call, so we run the\u001b[0m\u001b[0;34m\u001b[0m\u001b[0;34m\u001b[0m\u001b[0;34m\u001b[0m\u001b[0m\n\u001b[1;32m    854\u001b[0m       \u001b[0;31m# defunned version which is guaranteed to never create variables.\u001b[0m\u001b[0;34m\u001b[0m\u001b[0;34m\u001b[0m\u001b[0;34m\u001b[0m\u001b[0m\n\u001b[0;32m--> 855\u001b[0;31m       \u001b[0;32mreturn\u001b[0m \u001b[0mself\u001b[0m\u001b[0;34m.\u001b[0m\u001b[0m_stateless_fn\u001b[0m\u001b[0;34m(\u001b[0m\u001b[0;34m*\u001b[0m\u001b[0margs\u001b[0m\u001b[0;34m,\u001b[0m \u001b[0;34m**\u001b[0m\u001b[0mkwds\u001b[0m\u001b[0;34m)\u001b[0m  \u001b[0;31m# pylint: disable=not-callable\u001b[0m\u001b[0;34m\u001b[0m\u001b[0;34m\u001b[0m\u001b[0m\n\u001b[0m\u001b[1;32m    856\u001b[0m     \u001b[0;32melif\u001b[0m \u001b[0mself\u001b[0m\u001b[0;34m.\u001b[0m\u001b[0m_stateful_fn\u001b[0m \u001b[0;32mis\u001b[0m \u001b[0;32mnot\u001b[0m \u001b[0;32mNone\u001b[0m\u001b[0;34m:\u001b[0m\u001b[0;34m\u001b[0m\u001b[0;34m\u001b[0m\u001b[0m\n\u001b[1;32m    857\u001b[0m       \u001b[0;31m# Release the lock early so that multiple threads can perform the call\u001b[0m\u001b[0;34m\u001b[0m\u001b[0;34m\u001b[0m\u001b[0;34m\u001b[0m\u001b[0m\n",
      "\u001b[0;32m~/opt/miniconda3/lib/python3.7/site-packages/tensorflow/python/eager/function.py\u001b[0m in \u001b[0;36m__call__\u001b[0;34m(self, *args, **kwargs)\u001b[0m\n\u001b[1;32m   2941\u001b[0m        filtered_flat_args) = self._maybe_define_function(args, kwargs)\n\u001b[1;32m   2942\u001b[0m     return graph_function._call_flat(\n\u001b[0;32m-> 2943\u001b[0;31m         filtered_flat_args, captured_inputs=graph_function.captured_inputs)  # pylint: disable=protected-access\n\u001b[0m\u001b[1;32m   2944\u001b[0m \u001b[0;34m\u001b[0m\u001b[0m\n\u001b[1;32m   2945\u001b[0m   \u001b[0;34m@\u001b[0m\u001b[0mproperty\u001b[0m\u001b[0;34m\u001b[0m\u001b[0;34m\u001b[0m\u001b[0m\n",
      "\u001b[0;32m~/opt/miniconda3/lib/python3.7/site-packages/tensorflow/python/eager/function.py\u001b[0m in \u001b[0;36m_call_flat\u001b[0;34m(self, args, captured_inputs, cancellation_manager)\u001b[0m\n\u001b[1;32m   1917\u001b[0m       \u001b[0;31m# No tape is watching; skip to running the function.\u001b[0m\u001b[0;34m\u001b[0m\u001b[0;34m\u001b[0m\u001b[0;34m\u001b[0m\u001b[0m\n\u001b[1;32m   1918\u001b[0m       return self._build_call_outputs(self._inference_function.call(\n\u001b[0;32m-> 1919\u001b[0;31m           ctx, args, cancellation_manager=cancellation_manager))\n\u001b[0m\u001b[1;32m   1920\u001b[0m     forward_backward = self._select_forward_and_backward_functions(\n\u001b[1;32m   1921\u001b[0m         \u001b[0margs\u001b[0m\u001b[0;34m,\u001b[0m\u001b[0;34m\u001b[0m\u001b[0;34m\u001b[0m\u001b[0m\n",
      "\u001b[0;32m~/opt/miniconda3/lib/python3.7/site-packages/tensorflow/python/eager/function.py\u001b[0m in \u001b[0;36mcall\u001b[0;34m(self, ctx, args, cancellation_manager)\u001b[0m\n\u001b[1;32m    558\u001b[0m               \u001b[0minputs\u001b[0m\u001b[0;34m=\u001b[0m\u001b[0margs\u001b[0m\u001b[0;34m,\u001b[0m\u001b[0;34m\u001b[0m\u001b[0;34m\u001b[0m\u001b[0m\n\u001b[1;32m    559\u001b[0m               \u001b[0mattrs\u001b[0m\u001b[0;34m=\u001b[0m\u001b[0mattrs\u001b[0m\u001b[0;34m,\u001b[0m\u001b[0;34m\u001b[0m\u001b[0;34m\u001b[0m\u001b[0m\n\u001b[0;32m--> 560\u001b[0;31m               ctx=ctx)\n\u001b[0m\u001b[1;32m    561\u001b[0m         \u001b[0;32melse\u001b[0m\u001b[0;34m:\u001b[0m\u001b[0;34m\u001b[0m\u001b[0;34m\u001b[0m\u001b[0m\n\u001b[1;32m    562\u001b[0m           outputs = execute.execute_with_cancellation(\n",
      "\u001b[0;32m~/opt/miniconda3/lib/python3.7/site-packages/tensorflow/python/eager/execute.py\u001b[0m in \u001b[0;36mquick_execute\u001b[0;34m(op_name, num_outputs, inputs, attrs, ctx, name)\u001b[0m\n\u001b[1;32m     58\u001b[0m     \u001b[0mctx\u001b[0m\u001b[0;34m.\u001b[0m\u001b[0mensure_initialized\u001b[0m\u001b[0;34m(\u001b[0m\u001b[0;34m)\u001b[0m\u001b[0;34m\u001b[0m\u001b[0;34m\u001b[0m\u001b[0m\n\u001b[1;32m     59\u001b[0m     tensors = pywrap_tfe.TFE_Py_Execute(ctx._handle, device_name, op_name,\n\u001b[0;32m---> 60\u001b[0;31m                                         inputs, attrs, num_outputs)\n\u001b[0m\u001b[1;32m     61\u001b[0m   \u001b[0;32mexcept\u001b[0m \u001b[0mcore\u001b[0m\u001b[0;34m.\u001b[0m\u001b[0m_NotOkStatusException\u001b[0m \u001b[0;32mas\u001b[0m \u001b[0me\u001b[0m\u001b[0;34m:\u001b[0m\u001b[0;34m\u001b[0m\u001b[0;34m\u001b[0m\u001b[0m\n\u001b[1;32m     62\u001b[0m     \u001b[0;32mif\u001b[0m \u001b[0mname\u001b[0m \u001b[0;32mis\u001b[0m \u001b[0;32mnot\u001b[0m \u001b[0;32mNone\u001b[0m\u001b[0;34m:\u001b[0m\u001b[0;34m\u001b[0m\u001b[0;34m\u001b[0m\u001b[0m\n",
      "\u001b[0;31mKeyboardInterrupt\u001b[0m: "
     ]
    }
   ],
   "source": [
    "model.fit([dtrain, dmask, dtype], dlabels,\n",
    "         validation_data=([dtest, dmasktest, dtypetest], dlabeltest),\n",
    "         batch_size=32,\n",
    "         epochs=5)"
   ]
  },
  {
   "cell_type": "code",
   "execution_count": null,
   "id": "personalized-training",
   "metadata": {},
   "outputs": [],
   "source": []
  },
  {
   "cell_type": "code",
   "execution_count": null,
   "id": "loving-alignment",
   "metadata": {},
   "outputs": [],
   "source": []
  },
  {
   "cell_type": "code",
   "execution_count": null,
   "id": "developed-fifth",
   "metadata": {},
   "outputs": [],
   "source": []
  }
 ],
 "metadata": {
  "kernelspec": {
   "display_name": "Python 3",
   "language": "python",
   "name": "python3"
  },
  "language_info": {
   "codemirror_mode": {
    "name": "ipython",
    "version": 3
   },
   "file_extension": ".py",
   "mimetype": "text/x-python",
   "name": "python",
   "nbconvert_exporter": "python",
   "pygments_lexer": "ipython3",
   "version": "3.7.6"
  }
 },
 "nbformat": 4,
 "nbformat_minor": 5
}
