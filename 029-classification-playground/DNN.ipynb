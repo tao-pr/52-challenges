{
 "cells": [
  {
   "cell_type": "code",
   "execution_count": 1,
   "id": "acoustic-transmission",
   "metadata": {},
   "outputs": [],
   "source": [
    "import numpy as np\n",
    "import pandas as pd\n",
    "import seaborn as sns\n",
    "import os"
   ]
  },
  {
   "cell_type": "markdown",
   "id": "political-dragon",
   "metadata": {},
   "source": [
    "# Exploring Dataset"
   ]
  },
  {
   "cell_type": "code",
   "execution_count": 2,
   "id": "tough-activity",
   "metadata": {},
   "outputs": [
    {
     "data": {
      "text/html": [
       "<div>\n",
       "<style scoped>\n",
       "    .dataframe tbody tr th:only-of-type {\n",
       "        vertical-align: middle;\n",
       "    }\n",
       "\n",
       "    .dataframe tbody tr th {\n",
       "        vertical-align: top;\n",
       "    }\n",
       "\n",
       "    .dataframe thead th {\n",
       "        text-align: right;\n",
       "    }\n",
       "</style>\n",
       "<table border=\"1\" class=\"dataframe\">\n",
       "  <thead>\n",
       "    <tr style=\"text-align: right;\">\n",
       "      <th></th>\n",
       "      <th>video_id</th>\n",
       "      <th>trending_date</th>\n",
       "      <th>title</th>\n",
       "      <th>channel_title</th>\n",
       "      <th>category_id</th>\n",
       "      <th>publish_time</th>\n",
       "      <th>tags</th>\n",
       "      <th>views</th>\n",
       "      <th>likes</th>\n",
       "      <th>dislikes</th>\n",
       "      <th>comment_count</th>\n",
       "      <th>thumbnail_link</th>\n",
       "      <th>comments_disabled</th>\n",
       "      <th>ratings_disabled</th>\n",
       "      <th>video_error_or_removed</th>\n",
       "      <th>description</th>\n",
       "      <th>origin</th>\n",
       "    </tr>\n",
       "  </thead>\n",
       "  <tbody>\n",
       "    <tr>\n",
       "      <th>0</th>\n",
       "      <td>n1WpP7iowLc</td>\n",
       "      <td>17.14.11</td>\n",
       "      <td>Eminem - Walk On Water (Audio) ft. Beyoncé</td>\n",
       "      <td>EminemVEVO</td>\n",
       "      <td>10</td>\n",
       "      <td>2017-11-10 17:00:03+00:00</td>\n",
       "      <td>Eminem|\"Walk\"|\"On\"|\"Water\"|\"Aftermath/Shady/In...</td>\n",
       "      <td>17158579</td>\n",
       "      <td>787425</td>\n",
       "      <td>43420</td>\n",
       "      <td>125882</td>\n",
       "      <td>https://i.ytimg.com/vi/n1WpP7iowLc/default.jpg</td>\n",
       "      <td>False</td>\n",
       "      <td>False</td>\n",
       "      <td>False</td>\n",
       "      <td>Eminem's new track Walk on Water ft. Beyoncé i...</td>\n",
       "      <td>CA</td>\n",
       "    </tr>\n",
       "    <tr>\n",
       "      <th>1</th>\n",
       "      <td>0dBIkQ4Mz1M</td>\n",
       "      <td>17.14.11</td>\n",
       "      <td>PLUSH - Bad Unboxing Fan Mail</td>\n",
       "      <td>iDubbbzTV</td>\n",
       "      <td>23</td>\n",
       "      <td>2017-11-13 17:00:00+00:00</td>\n",
       "      <td>plush|\"bad unboxing\"|\"unboxing\"|\"fan mail\"|\"id...</td>\n",
       "      <td>1014651</td>\n",
       "      <td>127794</td>\n",
       "      <td>1688</td>\n",
       "      <td>13030</td>\n",
       "      <td>https://i.ytimg.com/vi/0dBIkQ4Mz1M/default.jpg</td>\n",
       "      <td>False</td>\n",
       "      <td>False</td>\n",
       "      <td>False</td>\n",
       "      <td>STill got a lot of packages. Probably will las...</td>\n",
       "      <td>CA</td>\n",
       "    </tr>\n",
       "    <tr>\n",
       "      <th>2</th>\n",
       "      <td>5qpjK5DgCt4</td>\n",
       "      <td>17.14.11</td>\n",
       "      <td>Racist Superman | Rudy Mancuso, King Bach &amp; Le...</td>\n",
       "      <td>Rudy Mancuso</td>\n",
       "      <td>23</td>\n",
       "      <td>2017-11-12 19:05:24+00:00</td>\n",
       "      <td>racist superman|\"rudy\"|\"mancuso\"|\"king\"|\"bach\"...</td>\n",
       "      <td>3191434</td>\n",
       "      <td>146035</td>\n",
       "      <td>5339</td>\n",
       "      <td>8181</td>\n",
       "      <td>https://i.ytimg.com/vi/5qpjK5DgCt4/default.jpg</td>\n",
       "      <td>False</td>\n",
       "      <td>False</td>\n",
       "      <td>False</td>\n",
       "      <td>WATCH MY PREVIOUS VIDEO ▶ \\n\\nSUBSCRIBE ► http...</td>\n",
       "      <td>CA</td>\n",
       "    </tr>\n",
       "  </tbody>\n",
       "</table>\n",
       "</div>"
      ],
      "text/plain": [
       "      video_id trending_date  \\\n",
       "0  n1WpP7iowLc      17.14.11   \n",
       "1  0dBIkQ4Mz1M      17.14.11   \n",
       "2  5qpjK5DgCt4      17.14.11   \n",
       "\n",
       "                                               title channel_title  \\\n",
       "0         Eminem - Walk On Water (Audio) ft. Beyoncé    EminemVEVO   \n",
       "1                      PLUSH - Bad Unboxing Fan Mail     iDubbbzTV   \n",
       "2  Racist Superman | Rudy Mancuso, King Bach & Le...  Rudy Mancuso   \n",
       "\n",
       "   category_id              publish_time  \\\n",
       "0           10 2017-11-10 17:00:03+00:00   \n",
       "1           23 2017-11-13 17:00:00+00:00   \n",
       "2           23 2017-11-12 19:05:24+00:00   \n",
       "\n",
       "                                                tags     views   likes  \\\n",
       "0  Eminem|\"Walk\"|\"On\"|\"Water\"|\"Aftermath/Shady/In...  17158579  787425   \n",
       "1  plush|\"bad unboxing\"|\"unboxing\"|\"fan mail\"|\"id...   1014651  127794   \n",
       "2  racist superman|\"rudy\"|\"mancuso\"|\"king\"|\"bach\"...   3191434  146035   \n",
       "\n",
       "   dislikes  comment_count                                  thumbnail_link  \\\n",
       "0     43420         125882  https://i.ytimg.com/vi/n1WpP7iowLc/default.jpg   \n",
       "1      1688          13030  https://i.ytimg.com/vi/0dBIkQ4Mz1M/default.jpg   \n",
       "2      5339           8181  https://i.ytimg.com/vi/5qpjK5DgCt4/default.jpg   \n",
       "\n",
       "   comments_disabled  ratings_disabled  video_error_or_removed  \\\n",
       "0              False             False                   False   \n",
       "1              False             False                   False   \n",
       "2              False             False                   False   \n",
       "\n",
       "                                         description origin  \n",
       "0  Eminem's new track Walk on Water ft. Beyoncé i...     CA  \n",
       "1  STill got a lot of packages. Probably will las...     CA  \n",
       "2  WATCH MY PREVIOUS VIDEO ▶ \\n\\nSUBSCRIBE ► http...     CA  "
      ]
     },
     "execution_count": 2,
     "metadata": {},
     "output_type": "execute_result"
    }
   ],
   "source": [
    "countries = ['CA','US']\n",
    "\n",
    "video = []\n",
    "for cnt in countries:\n",
    "    path_video = os.path.join(os.environ['HOME'],'data','youtube-trending',f'{cnt}videos.csv')\n",
    "    video.append(pd.read_csv(\n",
    "        path_video,\n",
    "        parse_dates=['trending_date','publish_time'],\n",
    "        dtype={'title': 'str', 'channel_title': 'str', 'description': 'str'}))\n",
    "    video[-1].loc[:,'origin'] = cnt\n",
    "    \n",
    "video = pd.concat(video)\n",
    "video.set_index('video_id')\n",
    "video = video[(~video['video_error_or_removed']) & (~video['ratings_disabled'])]\n",
    "video[:3]"
   ]
  },
  {
   "cell_type": "code",
   "execution_count": 3,
   "id": "alternate-approach",
   "metadata": {},
   "outputs": [
    {
     "data": {
      "text/plain": [
       "video_id                               object\n",
       "trending_date                          object\n",
       "title                                  object\n",
       "channel_title                          object\n",
       "category_id                             int64\n",
       "publish_time              datetime64[ns, UTC]\n",
       "tags                                   object\n",
       "views                                   int64\n",
       "likes                                   int64\n",
       "dislikes                                int64\n",
       "comment_count                           int64\n",
       "thumbnail_link                         object\n",
       "comments_disabled                        bool\n",
       "ratings_disabled                         bool\n",
       "video_error_or_removed                   bool\n",
       "description                            object\n",
       "origin                                 object\n",
       "dtype: object"
      ]
     },
     "execution_count": 3,
     "metadata": {},
     "output_type": "execute_result"
    }
   ],
   "source": [
    "video.dtypes"
   ]
  },
  {
   "cell_type": "code",
   "execution_count": 4,
   "id": "attractive-monster",
   "metadata": {},
   "outputs": [
    {
     "data": {
      "text/plain": [
       "video_id                               object\n",
       "trending_date                  datetime64[ns]\n",
       "title                                  object\n",
       "channel_title                          object\n",
       "category_id                             int64\n",
       "publish_time              datetime64[ns, UTC]\n",
       "tags                                   object\n",
       "views                                   int64\n",
       "likes                                   int64\n",
       "dislikes                                int64\n",
       "comment_count                           int64\n",
       "thumbnail_link                         object\n",
       "comments_disabled                        bool\n",
       "ratings_disabled                         bool\n",
       "video_error_or_removed                   bool\n",
       "description                            object\n",
       "origin                                 object\n",
       "dtype: object"
      ]
     },
     "execution_count": 4,
     "metadata": {},
     "output_type": "execute_result"
    }
   ],
   "source": [
    "video.loc[:,'trending_date'] = pd.to_datetime(\n",
    "    video['trending_date'],\n",
    "    format='%y.%d.%m')\n",
    "video.dtypes"
   ]
  },
  {
   "cell_type": "markdown",
   "id": "judicial-finding",
   "metadata": {},
   "source": [
    "## Clean text (title, description)\n",
    "\n",
    "Removing non-English letters and remove videos with short description or title"
   ]
  },
  {
   "cell_type": "code",
   "execution_count": 5,
   "id": "historic-bryan",
   "metadata": {},
   "outputs": [
    {
     "data": {
      "text/html": [
       "<div>\n",
       "<style scoped>\n",
       "    .dataframe tbody tr th:only-of-type {\n",
       "        vertical-align: middle;\n",
       "    }\n",
       "\n",
       "    .dataframe tbody tr th {\n",
       "        vertical-align: top;\n",
       "    }\n",
       "\n",
       "    .dataframe thead th {\n",
       "        text-align: right;\n",
       "    }\n",
       "</style>\n",
       "<table border=\"1\" class=\"dataframe\">\n",
       "  <thead>\n",
       "    <tr style=\"text-align: right;\">\n",
       "      <th></th>\n",
       "      <th>title</th>\n",
       "      <th>description</th>\n",
       "    </tr>\n",
       "  </thead>\n",
       "  <tbody>\n",
       "    <tr>\n",
       "      <th>0</th>\n",
       "      <td>Eminem - Walk On Water (Audio) ft. Beyoncé</td>\n",
       "      <td>Eminem's new track Walk on Water ft. Beyoncé i...</td>\n",
       "    </tr>\n",
       "    <tr>\n",
       "      <th>1</th>\n",
       "      <td>PLUSH - Bad Unboxing Fan Mail</td>\n",
       "      <td>STill got a lot of packages. Probably will las...</td>\n",
       "    </tr>\n",
       "    <tr>\n",
       "      <th>2</th>\n",
       "      <td>Racist Superman | Rudy Mancuso, King Bach &amp; Le...</td>\n",
       "      <td>WATCH MY PREVIOUS VIDEO  SUBSCRIBE  https://ww...</td>\n",
       "    </tr>\n",
       "    <tr>\n",
       "      <th>3</th>\n",
       "      <td>I Dare You: GOING BALD!?</td>\n",
       "      <td>I know it's been a while since we did this sho...</td>\n",
       "    </tr>\n",
       "    <tr>\n",
       "      <th>4</th>\n",
       "      <td>Ed Sheeran - Perfect (Official Music Video)</td>\n",
       "      <td>: https://ad.gt/yt-perfect: https://atlanti.cr...</td>\n",
       "    </tr>\n",
       "    <tr>\n",
       "      <th>...</th>\n",
       "      <td>...</td>\n",
       "      <td>...</td>\n",
       "    </tr>\n",
       "    <tr>\n",
       "      <th>40944</th>\n",
       "      <td>The Cat Who Caught the Laser</td>\n",
       "      <td>The Cat Who Caught the Laser - Aaron's Animals</td>\n",
       "    </tr>\n",
       "    <tr>\n",
       "      <th>40945</th>\n",
       "      <td>True Facts : Ant Mutualism</td>\n",
       "      <td>nan</td>\n",
       "    </tr>\n",
       "    <tr>\n",
       "      <th>40946</th>\n",
       "      <td>I GAVE SAFIYA NYGAARD A PERFECT HAIR MAKEOVER ...</td>\n",
       "      <td>I had so much fun transforming Safiyas hair in...</td>\n",
       "    </tr>\n",
       "    <tr>\n",
       "      <th>40947</th>\n",
       "      <td>How Black Panther Should Have Ended</td>\n",
       "      <td>How Black Panther Should Have EndedWatch More ...</td>\n",
       "    </tr>\n",
       "    <tr>\n",
       "      <th>40948</th>\n",
       "      <td>Official Call of Duty®: Black Ops 4  Multiplay...</td>\n",
       "      <td>Call of Duty: Black Ops 4 Multiplayer raises t...</td>\n",
       "    </tr>\n",
       "  </tbody>\n",
       "</table>\n",
       "<p>80557 rows × 2 columns</p>\n",
       "</div>"
      ],
      "text/plain": [
       "                                                   title  \\\n",
       "0             Eminem - Walk On Water (Audio) ft. Beyoncé   \n",
       "1                          PLUSH - Bad Unboxing Fan Mail   \n",
       "2      Racist Superman | Rudy Mancuso, King Bach & Le...   \n",
       "3                               I Dare You: GOING BALD!?   \n",
       "4            Ed Sheeran - Perfect (Official Music Video)   \n",
       "...                                                  ...   \n",
       "40944                       The Cat Who Caught the Laser   \n",
       "40945                         True Facts : Ant Mutualism   \n",
       "40946  I GAVE SAFIYA NYGAARD A PERFECT HAIR MAKEOVER ...   \n",
       "40947                How Black Panther Should Have Ended   \n",
       "40948  Official Call of Duty®: Black Ops 4  Multiplay...   \n",
       "\n",
       "                                             description  \n",
       "0      Eminem's new track Walk on Water ft. Beyoncé i...  \n",
       "1      STill got a lot of packages. Probably will las...  \n",
       "2      WATCH MY PREVIOUS VIDEO  SUBSCRIBE  https://ww...  \n",
       "3      I know it's been a while since we did this sho...  \n",
       "4      : https://ad.gt/yt-perfect: https://atlanti.cr...  \n",
       "...                                                  ...  \n",
       "40944     The Cat Who Caught the Laser - Aaron's Animals  \n",
       "40945                                                nan  \n",
       "40946  I had so much fun transforming Safiyas hair in...  \n",
       "40947  How Black Panther Should Have EndedWatch More ...  \n",
       "40948  Call of Duty: Black Ops 4 Multiplayer raises t...  \n",
       "\n",
       "[80557 rows x 2 columns]"
      ]
     },
     "execution_count": 5,
     "metadata": {},
     "output_type": "execute_result"
    }
   ],
   "source": [
    "for tcol in ['title','description']:\n",
    "    video.loc[:,tcol] = video[tcol].str.replace(\n",
    "        '[^\\x00-\\x7F\\x80-\\xFF\\u0100-\\u017F\\u0180-\\u024F\\u1E00-\\u1EFF]', \n",
    "        '', regex=True)\n",
    "    video.loc[:,tcol] = video[tcol].str.replace(\n",
    "        r'\\\\n', '', regex=True)\n",
    "    video.loc[:,tcol] = video[tcol].astype(str)\n",
    "    \n",
    "video = video[video['title'].str.len() > 8]\n",
    "video[['title','description']]"
   ]
  },
  {
   "cell_type": "markdown",
   "id": "twelve-valley",
   "metadata": {},
   "source": [
    "## Distribution of video release dates over time"
   ]
  },
  {
   "cell_type": "code",
   "execution_count": 6,
   "id": "placed-monthly",
   "metadata": {},
   "outputs": [
    {
     "data": {
      "text/plain": [
       "0        201711\n",
       "1        201711\n",
       "2        201711\n",
       "3        201711\n",
       "4        201711\n",
       "          ...  \n",
       "40944    201805\n",
       "40945    201805\n",
       "40946    201805\n",
       "40947    201805\n",
       "40948    201805\n",
       "Name: release, Length: 80557, dtype: object"
      ]
     },
     "execution_count": 6,
     "metadata": {},
     "output_type": "execute_result"
    }
   ],
   "source": [
    "video.loc[:,'release'] = video['publish_time'].dt.strftime('%Y%m')\n",
    "video.release"
   ]
  },
  {
   "cell_type": "code",
   "execution_count": 8,
   "id": "legitimate-conservation",
   "metadata": {},
   "outputs": [
    {
     "name": "stderr",
     "output_type": "stream",
     "text": [
      "/Users/pataoengineer/opt/miniconda3/lib/python3.7/site-packages/ipykernel_launcher.py:3: UserWarning: FixedFormatter should only be used together with FixedLocator\n",
      "  This is separate from the ipykernel package so we can avoid doing imports until\n"
     ]
    },
    {
     "data": {
      "text/plain": [
       "[Text(0, 0, '200607'),\n",
       " Text(1, 0, '200801'),\n",
       " Text(2, 0, '200804'),\n",
       " Text(3, 0, '200806'),\n",
       " Text(4, 0, '200808'),\n",
       " Text(5, 0, '200902'),\n",
       " Text(6, 0, '200903'),\n",
       " Text(7, 0, '200906'),\n",
       " Text(8, 0, '200909'),\n",
       " Text(9, 0, '200912'),\n",
       " Text(10, 0, '201001'),\n",
       " Text(11, 0, '201004'),\n",
       " Text(12, 0, '201005'),\n",
       " Text(13, 0, '201009'),\n",
       " Text(14, 0, '201103'),\n",
       " Text(15, 0, '201105'),\n",
       " Text(16, 0, '201108'),\n",
       " Text(17, 0, '201111'),\n",
       " Text(18, 0, '201201'),\n",
       " Text(19, 0, '201202'),\n",
       " Text(20, 0, '201203'),\n",
       " Text(21, 0, '201206'),\n",
       " Text(22, 0, '201209'),\n",
       " Text(23, 0, '201212'),\n",
       " Text(24, 0, '201303'),\n",
       " Text(25, 0, '201305'),\n",
       " Text(26, 0, '201307'),\n",
       " Text(27, 0, '201309'),\n",
       " Text(28, 0, '201310'),\n",
       " Text(29, 0, '201311'),\n",
       " Text(30, 0, '201401'),\n",
       " Text(31, 0, '201402'),\n",
       " Text(32, 0, '201403'),\n",
       " Text(33, 0, '201406'),\n",
       " Text(34, 0, '201408'),\n",
       " Text(35, 0, '201409'),\n",
       " Text(36, 0, '201411'),\n",
       " Text(37, 0, '201412'),\n",
       " Text(38, 0, '201501'),\n",
       " Text(39, 0, '201503'),\n",
       " Text(40, 0, '201504'),\n",
       " Text(41, 0, '201505'),\n",
       " Text(42, 0, '201506'),\n",
       " Text(43, 0, '201507'),\n",
       " Text(44, 0, '201509'),\n",
       " Text(45, 0, '201510'),\n",
       " Text(46, 0, '201512'),\n",
       " Text(47, 0, '201603'),\n",
       " Text(48, 0, '201605'),\n",
       " Text(49, 0, '201606'),\n",
       " Text(50, 0, '201609'),\n",
       " Text(51, 0, '201610'),\n",
       " Text(52, 0, '201611'),\n",
       " Text(53, 0, '201612'),\n",
       " Text(54, 0, '201702'),\n",
       " Text(55, 0, '201703'),\n",
       " Text(56, 0, '201704'),\n",
       " Text(57, 0, '201705'),\n",
       " Text(58, 0, '201706'),\n",
       " Text(59, 0, '201708'),\n",
       " Text(60, 0, '201709'),\n",
       " Text(61, 0, '201710'),\n",
       " Text(62, 0, '201711'),\n",
       " Text(63, 0, '201712'),\n",
       " Text(64, 0, '201801'),\n",
       " Text(65, 0, '201802'),\n",
       " Text(66, 0, '201803'),\n",
       " Text(67, 0, '201804'),\n",
       " Text(68, 0, '201805'),\n",
       " Text(69, 0, '201806')]"
      ]
     },
     "execution_count": 8,
     "metadata": {},
     "output_type": "execute_result"
    },
    {
     "data": {
      "image/png": "[encoded data removed]",
      "text/plain": [
       "<Figure size 432x288 with 1 Axes>"
      ]
     },
     "metadata": {
      "needs_background": "light"
     },
     "output_type": "display_data"
    }
   ],
   "source": [
    "g1 = sns.histplot(video[video.origin=='US'].release, color='blue')\n",
    "g2 = sns.histplot(video[video.origin=='CA'].release, color='red')\n",
    "g1.set_xticklabels(labels=np.sort(video.release.unique()), rotation=270)"
   ]
  },
  {
   "cell_type": "code",
   "execution_count": 9,
   "id": "chronic-joseph",
   "metadata": {},
   "outputs": [
    {
     "data": {
      "text/plain": [
       "US    40326\n",
       "CA    39845\n",
       "Name: origin, dtype: int64"
      ]
     },
     "execution_count": 9,
     "metadata": {},
     "output_type": "execute_result"
    }
   ],
   "source": [
    "latest_video = video[video['publish_time'].dt.strftime('%Y%m')>='201711']\n",
    "latest_video['origin'].value_counts()"
   ]
  },
  {
   "cell_type": "markdown",
   "id": "breathing-accuracy",
   "metadata": {},
   "source": [
    "## Distribution of engagement\n",
    "\n",
    "Turns out \"views\" and \"likes\" of videos are extremely skewed."
   ]
  },
  {
   "cell_type": "code",
   "execution_count": 177,
   "id": "closed-stage",
   "metadata": {},
   "outputs": [
    {
     "data": {
      "text/plain": [
       "<AxesSubplot:xlabel='origin', ylabel='views'>"
      ]
     },
     "execution_count": 177,
     "metadata": {},
     "output_type": "execute_result"
    },
    {
     "data": {
      "image/png": "[encoded data removed]",
      "text/plain": [
       "<Figure size 432x288 with 1 Axes>"
      ]
     },
     "metadata": {
      "needs_background": "light"
     },
     "output_type": "display_data"
    }
   ],
   "source": [
    "sns.boxplot(data=latest_video, y='views', x='origin')"
   ]
  },
  {
   "cell_type": "code",
   "execution_count": 11,
   "id": "exact-coral",
   "metadata": {},
   "outputs": [
    {
     "data": {
      "text/plain": [
       "<AxesSubplot:xlabel='origin', ylabel='likes'>"
      ]
     },
     "execution_count": 11,
     "metadata": {},
     "output_type": "execute_result"
    },
    {
     "data": {
      "image/png": "[encoded data removed]",
      "text/plain": [
       "<Figure size 432x288 with 1 Axes>"
      ]
     },
     "metadata": {
      "needs_background": "light"
     },
     "output_type": "display_data"
    }
   ],
   "source": [
    "sns.boxplot(data=latest_video, y='likes', x='origin')"
   ]
  },
  {
   "cell_type": "code",
   "execution_count": 204,
   "id": "attempted-gospel",
   "metadata": {},
   "outputs": [
    {
     "name": "stderr",
     "output_type": "stream",
     "text": [
      "/Users/pataoengineer/opt/miniconda3/lib/python3.7/site-packages/pandas/core/indexing.py:1597: SettingWithCopyWarning: \n",
      "A value is trying to be set on a copy of a slice from a DataFrame.\n",
      "Try using .loc[row_indexer,col_indexer] = value instead\n",
      "\n",
      "See the caveats in the documentation: https://pandas.pydata.org/pandas-docs/stable/user_guide/indexing.html#returning-a-view-versus-a-copy\n",
      "  self.obj[key] = value\n",
      "/Users/pataoengineer/opt/miniconda3/lib/python3.7/site-packages/pandas/core/indexing.py:1676: SettingWithCopyWarning: \n",
      "A value is trying to be set on a copy of a slice from a DataFrame.\n",
      "Try using .loc[row_indexer,col_indexer] = value instead\n",
      "\n",
      "See the caveats in the documentation: https://pandas.pydata.org/pandas-docs/stable/user_guide/indexing.html#returning-a-view-versus-a-copy\n",
      "  self._setitem_single_column(ilocs[0], value, pi)\n"
     ]
    },
    {
     "data": {
      "text/plain": [
       "<AxesSubplot:xlabel='origin', ylabel='logviews'>"
      ]
     },
     "execution_count": 204,
     "metadata": {},
     "output_type": "execute_result"
    },
    {
     "data": {
      "image/png": "[encoded data removed]",
      "text/plain": [
       "<Figure size 432x288 with 1 Axes>"
      ]
     },
     "metadata": {
      "needs_background": "light"
     },
     "output_type": "display_data"
    }
   ],
   "source": [
    "# Log views\n",
    "latest_video.loc[:,'logviews'] = np.log(latest_video['views'])\n",
    "sns.boxplot(data=latest_video, y='logviews', x='origin')"
   ]
  },
  {
   "cell_type": "code",
   "execution_count": 12,
   "id": "sufficient-contributor",
   "metadata": {},
   "outputs": [
    {
     "data": {
      "text/plain": [
       "<AxesSubplot:xlabel='views', ylabel='Count'>"
      ]
     },
     "execution_count": 12,
     "metadata": {},
     "output_type": "execute_result"
    },
    {
     "data": {
      "image/png": "[encoded data removed]",
      "text/plain": [
       "<Figure size 432x288 with 1 Axes>"
      ]
     },
     "metadata": {
      "needs_background": "light"
     },
     "output_type": "display_data"
    }
   ],
   "source": [
    "sns.histplot(latest_video.views[latest_video.views < 20e6])"
   ]
  },
  {
   "cell_type": "markdown",
   "id": "concrete-discipline",
   "metadata": {},
   "source": [
    "## Engagement \n",
    "\n",
    "- is_hated : Videos with \"dislikes\" >= 0.8 * \"likes + dislikes\"\n",
    "- is_pop : Videos with more than 1M views\n",
    " "
   ]
  },
  {
   "cell_type": "code",
   "execution_count": 196,
   "id": "hindu-socket",
   "metadata": {},
   "outputs": [
    {
     "name": "stderr",
     "output_type": "stream",
     "text": [
      "/Users/pataoengineer/opt/miniconda3/lib/python3.7/site-packages/pandas/core/indexing.py:1676: SettingWithCopyWarning: \n",
      "A value is trying to be set on a copy of a slice from a DataFrame.\n",
      "Try using .loc[row_indexer,col_indexer] = value instead\n",
      "\n",
      "See the caveats in the documentation: https://pandas.pydata.org/pandas-docs/stable/user_guide/indexing.html#returning-a-view-versus-a-copy\n",
      "  self._setitem_single_column(ilocs[0], value, pi)\n",
      "/Users/pataoengineer/opt/miniconda3/lib/python3.7/site-packages/pandas/core/indexing.py:1676: SettingWithCopyWarning: \n",
      "A value is trying to be set on a copy of a slice from a DataFrame.\n",
      "Try using .loc[row_indexer,col_indexer] = value instead\n",
      "\n",
      "See the caveats in the documentation: https://pandas.pydata.org/pandas-docs/stable/user_guide/indexing.html#returning-a-view-versus-a-copy\n",
      "  self._setitem_single_column(ilocs[0], value, pi)\n"
     ]
    },
    {
     "data": {
      "text/html": [
       "<div>\n",
       "<style scoped>\n",
       "    .dataframe tbody tr th:only-of-type {\n",
       "        vertical-align: middle;\n",
       "    }\n",
       "\n",
       "    .dataframe tbody tr th {\n",
       "        vertical-align: top;\n",
       "    }\n",
       "\n",
       "    .dataframe thead th {\n",
       "        text-align: right;\n",
       "    }\n",
       "</style>\n",
       "<table border=\"1\" class=\"dataframe\">\n",
       "  <thead>\n",
       "    <tr style=\"text-align: right;\">\n",
       "      <th></th>\n",
       "      <th>title</th>\n",
       "      <th>is_hated</th>\n",
       "      <th>is_pop</th>\n",
       "      <th>likes</th>\n",
       "      <th>dislikes</th>\n",
       "      <th>views</th>\n",
       "    </tr>\n",
       "  </thead>\n",
       "  <tbody>\n",
       "    <tr>\n",
       "      <th>0</th>\n",
       "      <td>Eminem - Walk On Water (Audio) ft. Beyoncé</td>\n",
       "      <td>False</td>\n",
       "      <td>True</td>\n",
       "      <td>787425</td>\n",
       "      <td>43420</td>\n",
       "      <td>17158579</td>\n",
       "    </tr>\n",
       "    <tr>\n",
       "      <th>1</th>\n",
       "      <td>PLUSH - Bad Unboxing Fan Mail</td>\n",
       "      <td>False</td>\n",
       "      <td>True</td>\n",
       "      <td>127794</td>\n",
       "      <td>1688</td>\n",
       "      <td>1014651</td>\n",
       "    </tr>\n",
       "    <tr>\n",
       "      <th>2</th>\n",
       "      <td>Racist Superman | Rudy Mancuso, King Bach &amp; Le...</td>\n",
       "      <td>False</td>\n",
       "      <td>True</td>\n",
       "      <td>146035</td>\n",
       "      <td>5339</td>\n",
       "      <td>3191434</td>\n",
       "    </tr>\n",
       "    <tr>\n",
       "      <th>3</th>\n",
       "      <td>I Dare You: GOING BALD!?</td>\n",
       "      <td>False</td>\n",
       "      <td>True</td>\n",
       "      <td>132239</td>\n",
       "      <td>1989</td>\n",
       "      <td>2095828</td>\n",
       "    </tr>\n",
       "    <tr>\n",
       "      <th>4</th>\n",
       "      <td>Ed Sheeran - Perfect (Official Music Video)</td>\n",
       "      <td>False</td>\n",
       "      <td>True</td>\n",
       "      <td>1634130</td>\n",
       "      <td>21082</td>\n",
       "      <td>33523622</td>\n",
       "    </tr>\n",
       "    <tr>\n",
       "      <th>5</th>\n",
       "      <td>Jake Paul Says Alissa Violet CHEATED with LOGA...</td>\n",
       "      <td>False</td>\n",
       "      <td>True</td>\n",
       "      <td>103755</td>\n",
       "      <td>4613</td>\n",
       "      <td>1309699</td>\n",
       "    </tr>\n",
       "    <tr>\n",
       "      <th>6</th>\n",
       "      <td>Vanoss Superhero School - New Students</td>\n",
       "      <td>False</td>\n",
       "      <td>True</td>\n",
       "      <td>187464</td>\n",
       "      <td>9850</td>\n",
       "      <td>2987945</td>\n",
       "    </tr>\n",
       "    <tr>\n",
       "      <th>7</th>\n",
       "      <td>WE WANT TO TALK ABOUT OUR MARRIAGE</td>\n",
       "      <td>False</td>\n",
       "      <td>False</td>\n",
       "      <td>57534</td>\n",
       "      <td>2967</td>\n",
       "      <td>748374</td>\n",
       "    </tr>\n",
       "    <tr>\n",
       "      <th>8</th>\n",
       "      <td>THE LOGANG MADE HISTORY. LOL. AGAIN.</td>\n",
       "      <td>False</td>\n",
       "      <td>True</td>\n",
       "      <td>292837</td>\n",
       "      <td>4123</td>\n",
       "      <td>4477587</td>\n",
       "    </tr>\n",
       "    <tr>\n",
       "      <th>9</th>\n",
       "      <td>Finally Sheldon is winning an argument about t...</td>\n",
       "      <td>False</td>\n",
       "      <td>False</td>\n",
       "      <td>4135</td>\n",
       "      <td>976</td>\n",
       "      <td>505161</td>\n",
       "    </tr>\n",
       "  </tbody>\n",
       "</table>\n",
       "</div>"
      ],
      "text/plain": [
       "                                               title  is_hated  is_pop  \\\n",
       "0         Eminem - Walk On Water (Audio) ft. Beyoncé     False    True   \n",
       "1                      PLUSH - Bad Unboxing Fan Mail     False    True   \n",
       "2  Racist Superman | Rudy Mancuso, King Bach & Le...     False    True   \n",
       "3                           I Dare You: GOING BALD!?     False    True   \n",
       "4        Ed Sheeran - Perfect (Official Music Video)     False    True   \n",
       "5  Jake Paul Says Alissa Violet CHEATED with LOGA...     False    True   \n",
       "6             Vanoss Superhero School - New Students     False    True   \n",
       "7                 WE WANT TO TALK ABOUT OUR MARRIAGE     False   False   \n",
       "8               THE LOGANG MADE HISTORY. LOL. AGAIN.     False    True   \n",
       "9  Finally Sheldon is winning an argument about t...     False   False   \n",
       "\n",
       "     likes  dislikes     views  \n",
       "0   787425     43420  17158579  \n",
       "1   127794      1688   1014651  \n",
       "2   146035      5339   3191434  \n",
       "3   132239      1989   2095828  \n",
       "4  1634130     21082  33523622  \n",
       "5   103755      4613   1309699  \n",
       "6   187464      9850   2987945  \n",
       "7    57534      2967    748374  \n",
       "8   292837      4123   4477587  \n",
       "9     4135       976    505161  "
      ]
     },
     "execution_count": 196,
     "metadata": {},
     "output_type": "execute_result"
    }
   ],
   "source": [
    "latest_video.loc[:,'is_hated'] = latest_video.loc[:,'dislikes'] >= 0.8*latest_video.loc[:,'likes']\n",
    "latest_video.loc[:,'is_pop'] = latest_video.loc[:,'views'] >= 1e6\n",
    "\n",
    "latest_video[['title','is_hated','is_pop','likes','dislikes','views']][:10]"
   ]
  },
  {
   "cell_type": "code",
   "execution_count": 197,
   "id": "commercial-header",
   "metadata": {},
   "outputs": [
    {
     "name": "stderr",
     "output_type": "stream",
     "text": [
      "<string>:6: RuntimeWarning: Converting input from bool to <class 'numpy.uint8'> for compatibility.\n",
      "<string>:6: RuntimeWarning: Converting input from bool to <class 'numpy.uint8'> for compatibility.\n"
     ]
    },
    {
     "data": {
      "image/png": "[encoded data removed]",
      "text/plain": [
       "<Figure size 432x288 with 1 Axes>"
      ]
     },
     "metadata": {
      "needs_background": "light"
     },
     "output_type": "display_data"
    }
   ],
   "source": [
    "g = sns.histplot(latest_video['is_hated'])"
   ]
  },
  {
   "cell_type": "code",
   "execution_count": 199,
   "id": "liberal-harvey",
   "metadata": {},
   "outputs": [
    {
     "data": {
      "text/plain": [
       "(80171, 1116, 25985)"
      ]
     },
     "execution_count": 199,
     "metadata": {},
     "output_type": "execute_result"
    }
   ],
   "source": [
    "(len(latest_video),\n",
    "len(latest_video[latest_video['is_hated']]),\n",
    "len(latest_video[latest_video['is_pop']]))"
   ]
  },
  {
   "cell_type": "markdown",
   "id": "critical-respondent",
   "metadata": {},
   "source": [
    "## Stratified sampling\n",
    "\n",
    "based on 'is_pop' attribute"
   ]
  },
  {
   "cell_type": "code",
   "execution_count": 205,
   "id": "sunrise-gamma",
   "metadata": {},
   "outputs": [
    {
     "name": "stdout",
     "output_type": "stream",
     "text": [
      "Sampling 5000 rows from is_pop = True\n",
      "Sampling 5000 rows from is_pop = False\n"
     ]
    }
   ],
   "source": [
    "dfstr = []\n",
    "bins = latest_video['is_pop'].unique().tolist()\n",
    "N = 5000\n",
    "for b in bins:\n",
    "    print(f'Sampling {N} rows from is_pop = {b}')\n",
    "    dfstr.append(latest_video[latest_video['is_pop']==b].sample(n=N,replace=True))\n",
    "dfstr = pd.concat(dfstr)"
   ]
  },
  {
   "cell_type": "code",
   "execution_count": 206,
   "id": "stable-easter",
   "metadata": {},
   "outputs": [
    {
     "name": "stderr",
     "output_type": "stream",
     "text": [
      "<string>:6: RuntimeWarning: Converting input from bool to <class 'numpy.uint8'> for compatibility.\n",
      "<string>:6: RuntimeWarning: Converting input from bool to <class 'numpy.uint8'> for compatibility.\n"
     ]
    },
    {
     "data": {
      "text/plain": [
       "<AxesSubplot:xlabel='is_pop', ylabel='Count'>"
      ]
     },
     "execution_count": 206,
     "metadata": {},
     "output_type": "execute_result"
    },
    {
     "data": {
      "image/png": "[encoded data removed]",
      "text/plain": [
       "<Figure size 432x288 with 1 Axes>"
      ]
     },
     "metadata": {
      "needs_background": "light"
     },
     "output_type": "display_data"
    }
   ],
   "source": [
    "sns.histplot(dfstr['is_pop'])"
   ]
  },
  {
   "cell_type": "code",
   "execution_count": 207,
   "id": "fancy-danish",
   "metadata": {},
   "outputs": [
    {
     "name": "stderr",
     "output_type": "stream",
     "text": [
      "<string>:6: RuntimeWarning: Converting input from bool to <class 'numpy.uint8'> for compatibility.\n",
      "<string>:6: RuntimeWarning: Converting input from bool to <class 'numpy.uint8'> for compatibility.\n"
     ]
    },
    {
     "data": {
      "text/plain": [
       "<AxesSubplot:xlabel='is_hated', ylabel='Count'>"
      ]
     },
     "execution_count": 207,
     "metadata": {},
     "output_type": "execute_result"
    },
    {
     "data": {
      "image/png": "[encoded data removed]",
      "text/plain": [
       "<Figure size 432x288 with 1 Axes>"
      ]
     },
     "metadata": {
      "needs_background": "light"
     },
     "output_type": "display_data"
    }
   ],
   "source": [
    "sns.histplot(dfstr['is_hated'])"
   ]
  },
  {
   "cell_type": "code",
   "execution_count": 208,
   "id": "environmental-browser",
   "metadata": {},
   "outputs": [
    {
     "data": {
      "text/plain": [
       "10000"
      ]
     },
     "execution_count": 208,
     "metadata": {},
     "output_type": "execute_result"
    }
   ],
   "source": [
    "len(dfstr)"
   ]
  },
  {
   "cell_type": "markdown",
   "id": "tracked-jesus",
   "metadata": {},
   "source": [
    "## Explore channel features"
   ]
  },
  {
   "cell_type": "code",
   "execution_count": 209,
   "id": "swedish-massage",
   "metadata": {},
   "outputs": [
    {
     "data": {
      "text/html": [
       "<div>\n",
       "<style scoped>\n",
       "    .dataframe tbody tr th:only-of-type {\n",
       "        vertical-align: middle;\n",
       "    }\n",
       "\n",
       "    .dataframe tbody tr th {\n",
       "        vertical-align: top;\n",
       "    }\n",
       "\n",
       "    .dataframe thead th {\n",
       "        text-align: right;\n",
       "    }\n",
       "</style>\n",
       "<table border=\"1\" class=\"dataframe\">\n",
       "  <thead>\n",
       "    <tr style=\"text-align: right;\">\n",
       "      <th></th>\n",
       "      <th>channel_title</th>\n",
       "      <th>num_videos</th>\n",
       "    </tr>\n",
       "  </thead>\n",
       "  <tbody>\n",
       "    <tr>\n",
       "      <th>0</th>\n",
       "      <td>The Late Show with Stephen Colbert</td>\n",
       "      <td>60</td>\n",
       "    </tr>\n",
       "    <tr>\n",
       "      <th>1</th>\n",
       "      <td>BuzzFeedVideo</td>\n",
       "      <td>57</td>\n",
       "    </tr>\n",
       "    <tr>\n",
       "      <th>2</th>\n",
       "      <td>TheEllenShow</td>\n",
       "      <td>56</td>\n",
       "    </tr>\n",
       "    <tr>\n",
       "      <th>3</th>\n",
       "      <td>Late Night with Seth Meyers</td>\n",
       "      <td>54</td>\n",
       "    </tr>\n",
       "    <tr>\n",
       "      <th>4</th>\n",
       "      <td>Screen Junkies</td>\n",
       "      <td>51</td>\n",
       "    </tr>\n",
       "    <tr>\n",
       "      <th>...</th>\n",
       "      <td>...</td>\n",
       "      <td>...</td>\n",
       "    </tr>\n",
       "    <tr>\n",
       "      <th>2426</th>\n",
       "      <td>Matthias Wandel</td>\n",
       "      <td>1</td>\n",
       "    </tr>\n",
       "    <tr>\n",
       "      <th>2427</th>\n",
       "      <td>WADIM</td>\n",
       "      <td>1</td>\n",
       "    </tr>\n",
       "    <tr>\n",
       "      <th>2428</th>\n",
       "      <td>Special Books by Special Kids</td>\n",
       "      <td>1</td>\n",
       "    </tr>\n",
       "    <tr>\n",
       "      <th>2429</th>\n",
       "      <td>Chappell Roan</td>\n",
       "      <td>1</td>\n",
       "    </tr>\n",
       "    <tr>\n",
       "      <th>2430</th>\n",
       "      <td>Chris Ramsay</td>\n",
       "      <td>1</td>\n",
       "    </tr>\n",
       "  </tbody>\n",
       "</table>\n",
       "<p>2431 rows × 2 columns</p>\n",
       "</div>"
      ],
      "text/plain": [
       "                           channel_title  num_videos\n",
       "0     The Late Show with Stephen Colbert          60\n",
       "1                          BuzzFeedVideo          57\n",
       "2                           TheEllenShow          56\n",
       "3            Late Night with Seth Meyers          54\n",
       "4                         Screen Junkies          51\n",
       "...                                  ...         ...\n",
       "2426                     Matthias Wandel           1\n",
       "2427                               WADIM           1\n",
       "2428       Special Books by Special Kids           1\n",
       "2429                       Chappell Roan           1\n",
       "2430                        Chris Ramsay           1\n",
       "\n",
       "[2431 rows x 2 columns]"
      ]
     },
     "execution_count": 209,
     "metadata": {},
     "output_type": "execute_result"
    }
   ],
   "source": [
    "channel_size = dfstr['channel_title'].value_counts()\n",
    "channel_size = channel_size.reset_index(drop=False)\n",
    "channel_size.columns = ['channel_title','num_videos']\n",
    "channel_size"
   ]
  },
  {
   "cell_type": "code",
   "execution_count": 210,
   "id": "designing-tablet",
   "metadata": {},
   "outputs": [
    {
     "data": {
      "text/plain": [
       "<AxesSubplot:>"
      ]
     },
     "execution_count": 210,
     "metadata": {},
     "output_type": "execute_result"
    },
    {
     "data": {
      "image/png": "[encoded data removed]",
      "text/plain": [
       "<Figure size 432x288 with 1 Axes>"
      ]
     },
     "metadata": {
      "needs_background": "light"
     },
     "output_type": "display_data"
    }
   ],
   "source": [
    "sns.boxplot(data=channel_size['num_videos'])"
   ]
  },
  {
   "cell_type": "code",
   "execution_count": 211,
   "id": "commercial-daniel",
   "metadata": {},
   "outputs": [],
   "source": [
    "def bin_size(vn):\n",
    "    if vn<=10:\n",
    "        return '0-10'\n",
    "    elif vn<25:\n",
    "        return '10-25'\n",
    "    elif vn<50:\n",
    "        return '25-50'\n",
    "    elif vn<100:\n",
    "        return '50-100'\n",
    "    else:\n",
    "        return 'over100'\n",
    "channel_size.loc[:,'channel_size'] = channel_size['num_videos'].apply(bin_size)"
   ]
  },
  {
   "cell_type": "code",
   "execution_count": 212,
   "id": "relative-china",
   "metadata": {},
   "outputs": [
    {
     "data": {
      "text/html": [
       "<div>\n",
       "<style scoped>\n",
       "    .dataframe tbody tr th:only-of-type {\n",
       "        vertical-align: middle;\n",
       "    }\n",
       "\n",
       "    .dataframe tbody tr th {\n",
       "        vertical-align: top;\n",
       "    }\n",
       "\n",
       "    .dataframe thead th {\n",
       "        text-align: right;\n",
       "    }\n",
       "</style>\n",
       "<table border=\"1\" class=\"dataframe\">\n",
       "  <thead>\n",
       "    <tr style=\"text-align: right;\">\n",
       "      <th></th>\n",
       "      <th>channel_title</th>\n",
       "      <th>num_videos</th>\n",
       "      <th>channel_size</th>\n",
       "    </tr>\n",
       "  </thead>\n",
       "  <tbody>\n",
       "    <tr>\n",
       "      <th>0</th>\n",
       "      <td>The Late Show with Stephen Colbert</td>\n",
       "      <td>60</td>\n",
       "      <td>50-100</td>\n",
       "    </tr>\n",
       "    <tr>\n",
       "      <th>1</th>\n",
       "      <td>BuzzFeedVideo</td>\n",
       "      <td>57</td>\n",
       "      <td>50-100</td>\n",
       "    </tr>\n",
       "    <tr>\n",
       "      <th>2</th>\n",
       "      <td>TheEllenShow</td>\n",
       "      <td>56</td>\n",
       "      <td>50-100</td>\n",
       "    </tr>\n",
       "    <tr>\n",
       "      <th>3</th>\n",
       "      <td>Late Night with Seth Meyers</td>\n",
       "      <td>54</td>\n",
       "      <td>50-100</td>\n",
       "    </tr>\n",
       "  </tbody>\n",
       "</table>\n",
       "</div>"
      ],
      "text/plain": [
       "                        channel_title  num_videos channel_size\n",
       "0  The Late Show with Stephen Colbert          60       50-100\n",
       "1                       BuzzFeedVideo          57       50-100\n",
       "2                        TheEllenShow          56       50-100\n",
       "3         Late Night with Seth Meyers          54       50-100"
      ]
     },
     "execution_count": 212,
     "metadata": {},
     "output_type": "execute_result"
    }
   ],
   "source": [
    "channel_size[:4]"
   ]
  },
  {
   "cell_type": "code",
   "execution_count": 213,
   "id": "southeast-emperor",
   "metadata": {},
   "outputs": [
    {
     "data": {
      "text/plain": [
       "<AxesSubplot:xlabel='channel_size', ylabel='Count'>"
      ]
     },
     "execution_count": 213,
     "metadata": {},
     "output_type": "execute_result"
    },
    {
     "data": {
      "image/png": "[encoded data removed]",
      "text/plain": [
       "<Figure size 432x288 with 1 Axes>"
      ]
     },
     "metadata": {
      "needs_background": "light"
     },
     "output_type": "display_data"
    }
   ],
   "source": [
    "sns.histplot(channel_size, x='channel_size')"
   ]
  },
  {
   "cell_type": "code",
   "execution_count": 214,
   "id": "fatty-instrument",
   "metadata": {},
   "outputs": [],
   "source": [
    "dfstr = dfstr.merge(\n",
    "    channel_size[['channel_size','channel_title']], \n",
    "    on=['channel_title'], how='inner')"
   ]
  },
  {
   "cell_type": "markdown",
   "id": "transparent-advisory",
   "metadata": {},
   "source": [
    "## Explore text features"
   ]
  },
  {
   "cell_type": "code",
   "execution_count": 215,
   "id": "broken-feedback",
   "metadata": {},
   "outputs": [
    {
     "data": {
      "text/html": [
       "<div>\n",
       "<style scoped>\n",
       "    .dataframe tbody tr th:only-of-type {\n",
       "        vertical-align: middle;\n",
       "    }\n",
       "\n",
       "    .dataframe tbody tr th {\n",
       "        vertical-align: top;\n",
       "    }\n",
       "\n",
       "    .dataframe thead th {\n",
       "        text-align: right;\n",
       "    }\n",
       "</style>\n",
       "<table border=\"1\" class=\"dataframe\">\n",
       "  <thead>\n",
       "    <tr style=\"text-align: right;\">\n",
       "      <th></th>\n",
       "      <th>channel_size</th>\n",
       "      <th>title</th>\n",
       "      <th>description</th>\n",
       "    </tr>\n",
       "  </thead>\n",
       "  <tbody>\n",
       "    <tr>\n",
       "      <th>0</th>\n",
       "      <td>10-25</td>\n",
       "      <td>Yanny vs Laurel video: which name do you hear?...</td>\n",
       "      <td>A computer-generated voice has become perhaps ...</td>\n",
       "    </tr>\n",
       "    <tr>\n",
       "      <th>1</th>\n",
       "      <td>10-25</td>\n",
       "      <td>Donald Trump's hair blown apart by the wind</td>\n",
       "      <td>The reality of Donald Trump's unique combover ...</td>\n",
       "    </tr>\n",
       "    <tr>\n",
       "      <th>2</th>\n",
       "      <td>10-25</td>\n",
       "      <td>Paris hero climbs four-storey building to resc...</td>\n",
       "      <td>Mamoudou Gassama has been hailed as the Spider...</td>\n",
       "    </tr>\n",
       "    <tr>\n",
       "      <th>3</th>\n",
       "      <td>10-25</td>\n",
       "      <td>Duke and Duchess of Cambridge leave hospital w...</td>\n",
       "      <td>The Duke and Duchess of Cambridge were all smi...</td>\n",
       "    </tr>\n",
       "    <tr>\n",
       "      <th>4</th>\n",
       "      <td>10-25</td>\n",
       "      <td>Footage shows plane stuck on cliff edge after ...</td>\n",
       "      <td>A passenger plane has skidded off the runway o...</td>\n",
       "    </tr>\n",
       "    <tr>\n",
       "      <th>...</th>\n",
       "      <td>...</td>\n",
       "      <td>...</td>\n",
       "      <td>...</td>\n",
       "    </tr>\n",
       "    <tr>\n",
       "      <th>9995</th>\n",
       "      <td>0-10</td>\n",
       "      <td>Live PD: She's Witholding What?! (Season 2) | A&amp;E</td>\n",
       "      <td>An officer works to resolve a confusing issue ...</td>\n",
       "    </tr>\n",
       "    <tr>\n",
       "      <th>9996</th>\n",
       "      <td>0-10</td>\n",
       "      <td>GOING FISHING. A Stop motion Animation by Guldies</td>\n",
       "      <td>2500 still pictures (4530 taken) played in 18 ...</td>\n",
       "    </tr>\n",
       "    <tr>\n",
       "      <th>9997</th>\n",
       "      <td>0-10</td>\n",
       "      <td>Stephen Colbert Monologue 2/16/2018 | Russia T...</td>\n",
       "      <td>Stephen Colbert Monologue 2/16/2018 | Russia T...</td>\n",
       "    </tr>\n",
       "    <tr>\n",
       "      <th>9998</th>\n",
       "      <td>0-10</td>\n",
       "      <td>All Hell is About to Break Loose this Week - S...</td>\n",
       "      <td>News that FBI Deputy Director Andrew McCabe, w...</td>\n",
       "    </tr>\n",
       "    <tr>\n",
       "      <th>9999</th>\n",
       "      <td>0-10</td>\n",
       "      <td>Trace the Father of Meghan Markle? The informa...</td>\n",
       "      <td>however, though more than a year has passed si...</td>\n",
       "    </tr>\n",
       "  </tbody>\n",
       "</table>\n",
       "<p>10000 rows × 3 columns</p>\n",
       "</div>"
      ],
      "text/plain": [
       "     channel_size                                              title  \\\n",
       "0           10-25  Yanny vs Laurel video: which name do you hear?...   \n",
       "1           10-25        Donald Trump's hair blown apart by the wind   \n",
       "2           10-25  Paris hero climbs four-storey building to resc...   \n",
       "3           10-25  Duke and Duchess of Cambridge leave hospital w...   \n",
       "4           10-25  Footage shows plane stuck on cliff edge after ...   \n",
       "...           ...                                                ...   \n",
       "9995         0-10  Live PD: She's Witholding What?! (Season 2) | A&E   \n",
       "9996         0-10  GOING FISHING. A Stop motion Animation by Guldies   \n",
       "9997         0-10  Stephen Colbert Monologue 2/16/2018 | Russia T...   \n",
       "9998         0-10  All Hell is About to Break Loose this Week - S...   \n",
       "9999         0-10  Trace the Father of Meghan Markle? The informa...   \n",
       "\n",
       "                                            description  \n",
       "0     A computer-generated voice has become perhaps ...  \n",
       "1     The reality of Donald Trump's unique combover ...  \n",
       "2     Mamoudou Gassama has been hailed as the Spider...  \n",
       "3     The Duke and Duchess of Cambridge were all smi...  \n",
       "4     A passenger plane has skidded off the runway o...  \n",
       "...                                                 ...  \n",
       "9995  An officer works to resolve a confusing issue ...  \n",
       "9996  2500 still pictures (4530 taken) played in 18 ...  \n",
       "9997  Stephen Colbert Monologue 2/16/2018 | Russia T...  \n",
       "9998  News that FBI Deputy Director Andrew McCabe, w...  \n",
       "9999  however, though more than a year has passed si...  \n",
       "\n",
       "[10000 rows x 3 columns]"
      ]
     },
     "execution_count": 215,
     "metadata": {},
     "output_type": "execute_result"
    }
   ],
   "source": [
    "dfstr[['channel_size','title','description']]"
   ]
  },
  {
   "cell_type": "code",
   "execution_count": 216,
   "id": "durable-facility",
   "metadata": {},
   "outputs": [],
   "source": [
    "text = dfstr['title'] + ' ' + dfstr['description']"
   ]
  },
  {
   "cell_type": "code",
   "execution_count": 217,
   "id": "basic-voltage",
   "metadata": {},
   "outputs": [
    {
     "data": {
      "text/plain": [
       "123695"
      ]
     },
     "execution_count": 217,
     "metadata": {},
     "output_type": "execute_result"
    }
   ],
   "source": [
    "len(text.str.split(' ').explode().unique())"
   ]
  },
  {
   "cell_type": "code",
   "execution_count": null,
   "id": "athletic-tonight",
   "metadata": {},
   "outputs": [],
   "source": []
  },
  {
   "cell_type": "code",
   "execution_count": null,
   "id": "indian-cradle",
   "metadata": {},
   "outputs": [],
   "source": []
  },
  {
   "cell_type": "markdown",
   "id": "inclusive-diving",
   "metadata": {},
   "source": [
    "# Build the first CNN"
   ]
  },
  {
   "cell_type": "markdown",
   "id": "initial-melbourne",
   "metadata": {},
   "source": [
    "## Split dataset"
   ]
  },
  {
   "cell_type": "code",
   "execution_count": 218,
   "id": "wrapped-profile",
   "metadata": {},
   "outputs": [],
   "source": [
    "from sklearn.model_selection import train_test_split\n",
    "train, test = train_test_split(dfstr, test_size=0.1)"
   ]
  },
  {
   "cell_type": "code",
   "execution_count": 219,
   "id": "little-chinese",
   "metadata": {},
   "outputs": [
    {
     "data": {
      "text/plain": [
       "(9000, 1000)"
      ]
     },
     "execution_count": 219,
     "metadata": {},
     "output_type": "execute_result"
    }
   ],
   "source": [
    "len(train), len(test)"
   ]
  },
  {
   "cell_type": "markdown",
   "id": "molecular-elements",
   "metadata": {},
   "source": [
    "## Text Vectorisation Layer"
   ]
  },
  {
   "cell_type": "code",
   "execution_count": 220,
   "id": "south-arrow",
   "metadata": {},
   "outputs": [],
   "source": [
    "# Layer : Text encoder for title + description\n",
    "VOCAB_SIZE = 2500\n",
    "SEQ_LEN = 256\n",
    "import tensorflow as tf\n",
    "\n",
    "encoder_layer = tf.keras.layers.experimental.preprocessing.TextVectorization(\n",
    "    max_tokens=VOCAB_SIZE,\n",
    "    output_sequence_length=SEQ_LEN)\n",
    "\n",
    "# Adapt encoder to the vocab list from pandas\n",
    "text_train = train['title'] + ' ' + train['description']\n",
    "text_train = text_train.str.split(' ').explode().reset_index(drop=True)\n",
    "encoder_layer.adapt(tf.data.Dataset.from_tensor_slices(\n",
    "    text_train.values).batch(256))"
   ]
  },
  {
   "cell_type": "code",
   "execution_count": 221,
   "id": "mental-toyota",
   "metadata": {},
   "outputs": [
    {
     "data": {
      "text/plain": [
       "['', '[UNK]', 'the', 'to', 'and', 'on', 'a', 'of', 'in', 'for']"
      ]
     },
     "execution_count": 221,
     "metadata": {},
     "output_type": "execute_result"
    }
   ],
   "source": [
    "encoder_layer.get_vocabulary()[:10]"
   ]
  },
  {
   "cell_type": "code",
   "execution_count": 222,
   "id": "reduced-california",
   "metadata": {},
   "outputs": [],
   "source": [
    "# Layer : text encoder for channel size\n",
    "channel_encoder_layer = tf.keras.layers.experimental.preprocessing.TextVectorization(\n",
    "    max_tokens=10, # need to preserve +2 for [UNK, '']\n",
    "    output_sequence_length=2,\n",
    ")\n",
    "\n",
    "# Adapt encoder to channel size list from pandas\n",
    "channel_sizes = train['channel_size']\n",
    "channel_encoder_layer.adapt(tf.data.Dataset.from_tensor_slices(\n",
    "    channel_sizes.values\n",
    "))"
   ]
  },
  {
   "cell_type": "code",
   "execution_count": 223,
   "id": "enabling-summit",
   "metadata": {},
   "outputs": [
    {
     "data": {
      "text/plain": [
       "['', '[UNK]', '010', '1025', '2550', '50100']"
      ]
     },
     "execution_count": 223,
     "metadata": {},
     "output_type": "execute_result"
    }
   ],
   "source": [
    "channel_encoder_layer.get_vocabulary()"
   ]
  },
  {
   "cell_type": "markdown",
   "id": "necessary-cheat",
   "metadata": {},
   "source": [
    "## Simple Sequential Model\n",
    "Using title+description text input only\n",
    "\n",
    "> Text input -> Encoder -> Embedding -> LSTM -> ReLu"
   ]
  },
  {
   "cell_type": "code",
   "execution_count": 224,
   "id": "invalid-stevens",
   "metadata": {},
   "outputs": [],
   "source": [
    "model = tf.keras.models.Sequential()\n",
    "model.add(encoder_layer)\n",
    "model.add(tf.keras.layers.Embedding(\n",
    "    input_dim=len(encoder_layer.get_vocabulary()),\n",
    "    output_dim=64,\n",
    "    # Use masking to handle the variable sequence lengths\n",
    "    mask_zero=True))\n",
    "model.add(tf.keras.layers.Bidirectional(\n",
    "    tf.keras.layers.LSTM(64, dropout=0.2)))\n",
    "model.add(tf.keras.layers.Dense(64, activation='sigmoid'))\n",
    "model.add(tf.keras.layers.Dense(1))"
   ]
  },
  {
   "cell_type": "code",
   "execution_count": 257,
   "id": "developed-robert",
   "metadata": {},
   "outputs": [
    {
     "name": "stdout",
     "output_type": "stream",
     "text": [
      "Model: \"sequential_4\"\n",
      "_________________________________________________________________\n",
      "Layer (type)                 Output Shape              Param #   \n",
      "=================================================================\n",
      "text_vectorization_4 (TextVe (None, 256)               0         \n",
      "_________________________________________________________________\n",
      "embedding_4 (Embedding)      (None, 256, 64)           160000    \n",
      "_________________________________________________________________\n",
      "bidirectional_4 (Bidirection (None, 128)               66048     \n",
      "_________________________________________________________________\n",
      "dense_8 (Dense)              (None, 64)                8256      \n",
      "_________________________________________________________________\n",
      "dense_9 (Dense)              (None, 1)                 65        \n",
      "=================================================================\n",
      "Total params: 234,369\n",
      "Trainable params: 234,369\n",
      "Non-trainable params: 0\n",
      "_________________________________________________________________\n"
     ]
    }
   ],
   "source": [
    "model.summary()"
   ]
  },
  {
   "cell_type": "code",
   "execution_count": 231,
   "id": "diagnostic-murder",
   "metadata": {},
   "outputs": [],
   "source": [
    "model.compile(\n",
    "    loss='binary_crossentropy',\n",
    "    optimizer=tf.keras.optimizers.Adam(1e-4),\n",
    "    metrics=['accuracy'])"
   ]
  },
  {
   "cell_type": "code",
   "execution_count": 233,
   "id": "mysterious-aruba",
   "metadata": {},
   "outputs": [
    {
     "name": "stdout",
     "output_type": "stream",
     "text": [
      "Epoch 1/10\n",
      "71/71 [==============================] - 21s 303ms/step - loss: 0.6184 - accuracy: 0.6446\n",
      "Epoch 2/10\n",
      "71/71 [==============================] - 21s 299ms/step - loss: 0.5984 - accuracy: 0.6909\n",
      "Epoch 3/10\n",
      "71/71 [==============================] - 22s 304ms/step - loss: 0.5581 - accuracy: 0.7309\n",
      "Epoch 4/10\n",
      "71/71 [==============================] - 22s 310ms/step - loss: 0.5317 - accuracy: 0.7503\n",
      "Epoch 5/10\n",
      "71/71 [==============================] - 22s 308ms/step - loss: 0.5091 - accuracy: 0.7660\n",
      "Epoch 6/10\n",
      "71/71 [==============================] - 22s 309ms/step - loss: 0.4880 - accuracy: 0.7766\n",
      "Epoch 7/10\n",
      "71/71 [==============================] - 22s 303ms/step - loss: 0.4727 - accuracy: 0.7828\n",
      "Epoch 8/10\n",
      "71/71 [==============================] - 23s 330ms/step - loss: 0.4605 - accuracy: 0.7916\n",
      "Epoch 9/10\n",
      "71/71 [==============================] - 23s 328ms/step - loss: 0.4383 - accuracy: 0.7996\n",
      "Epoch 10/10\n",
      "71/71 [==============================] - 24s 339ms/step - loss: 0.4198 - accuracy: 0.8050\n"
     ]
    },
    {
     "data": {
      "text/plain": [
       "<tensorflow.python.keras.callbacks.History at 0x7fef79278dd0>"
      ]
     },
     "execution_count": 233,
     "metadata": {},
     "output_type": "execute_result"
    }
   ],
   "source": [
    "logdir = os.path.join(os.getcwd(), 'logs')\n",
    "tensorboard_callback = tf.keras.callbacks.TensorBoard(log_dir=logdir)\n",
    "\n",
    "text_train = train['title'] + ' ' + train['description']\n",
    "assert len(text_train) == len(train['is_pop'])\n",
    "\n",
    "model.fit(\n",
    "    text_train,\n",
    "    train['is_pop'], \n",
    "    batch_size=128,\n",
    "    epochs=10, \n",
    "    callbacks=[tensorboard_callback])\n"
   ]
  },
  {
   "cell_type": "code",
   "execution_count": 234,
   "id": "received-approach",
   "metadata": {},
   "outputs": [
    {
     "data": {
      "text/plain": [
       "Reusing TensorBoard on port 6006 (pid 12462), started 1 day, 3:57:09 ago. (Use '!kill 12462' to kill it.)"
      ]
     },
     "metadata": {},
     "output_type": "display_data"
    },
    {
     "data": {
      "text/html": [
       "\n",
       "      <iframe id=\"tensorboard-frame-fe0f06730cdbc34c\" width=\"100%\" height=\"800\" frameborder=\"0\">\n",
       "      </iframe>\n",
       "      <script>\n",
       "        (function() {\n",
       "          const frame = document.getElementById(\"tensorboard-frame-fe0f06730cdbc34c\");\n",
       "          const url = new URL(\"/\", window.location);\n",
       "          const port = 6006;\n",
       "          if (port) {\n",
       "            url.port = port;\n",
       "          }\n",
       "          frame.src = url;\n",
       "        })();\n",
       "      </script>\n",
       "    "
      ],
      "text/plain": [
       "<IPython.core.display.HTML object>"
      ]
     },
     "metadata": {},
     "output_type": "display_data"
    }
   ],
   "source": [
    "%tensorboard --logdir logs"
   ]
  },
  {
   "cell_type": "markdown",
   "id": "usual-conclusion",
   "metadata": {},
   "source": [
    "## Test model in action"
   ]
  },
  {
   "cell_type": "code",
   "execution_count": 235,
   "id": "affecting-wiring",
   "metadata": {},
   "outputs": [
    {
     "data": {
      "text/plain": [
       "862     James Bay - Us Us (Official Video)Song Availab...\n",
       "4006    Hoda Kotb Joins Savannah Guthrie As Co-Anchor ...\n",
       "9506    New Eritrean Drama 2018 Nabrana  Part 22 Faceb...\n",
       "2348    Official Call of Duty®: Black Ops 4 Teaser For...\n",
       "3170    Snoop Dogg Talks Clout Chasing, Kanye West, Sm...\n",
       "dtype: object"
      ]
     },
     "execution_count": 235,
     "metadata": {},
     "output_type": "execute_result"
    }
   ],
   "source": [
    "test_text = test['title'] + ' ' + test['description']\n",
    "test_text[:5]"
   ]
  },
  {
   "cell_type": "code",
   "execution_count": 238,
   "id": "horizontal-relay",
   "metadata": {},
   "outputs": [
    {
     "data": {
      "text/plain": [
       "[(array([0.9658835], dtype=float32), True),\n",
       " (array([0.07162126], dtype=float32), False),\n",
       " (array([0.25898892], dtype=float32), False),\n",
       " (array([0.48406914], dtype=float32), True),\n",
       " (array([0.31786406], dtype=float32), False)]"
      ]
     },
     "execution_count": 238,
     "metadata": {},
     "output_type": "execute_result"
    }
   ],
   "source": [
    "list(zip(model.predict(test_text[:5]), test[:5]['is_pop']))"
   ]
  },
  {
   "cell_type": "markdown",
   "id": "assured-writing",
   "metadata": {},
   "source": [
    "## Multi-input Model Diagram\n",
    "\n",
    "Now concatenating text input with other numerical features\n",
    "\n",
    "```\n",
    "Text input -> Encoder -> Embedding -> LSTM\n",
    "                                      /\n",
    "                                     /\n",
    "Channel size input -> Onehot ----->> concatenate --> ReLU\n",
    "                                   /\n",
    "                                  /\n",
    "Other numerical input ------------\n",
    "```"
   ]
  },
  {
   "cell_type": "code",
   "execution_count": 240,
   "id": "ancient-gambling",
   "metadata": {},
   "outputs": [
    {
     "data": {
      "text/plain": [
       "<function tensorflow.python.keras.layers.merge.concatenate(inputs, axis=-1, **kwargs)>"
      ]
     },
     "execution_count": 240,
     "metadata": {},
     "output_type": "execute_result"
    }
   ],
   "source": [
    "tf.keras.layers.concatenate"
   ]
  },
  {
   "cell_type": "code",
   "execution_count": 276,
   "id": "selective-uganda",
   "metadata": {},
   "outputs": [
    {
     "data": {
      "text/plain": [
       "<tensorflow.python.keras.engine.functional.Functional at 0x7fef8ef67550>"
      ]
     },
     "execution_count": 276,
     "metadata": {},
     "output_type": "execute_result"
    }
   ],
   "source": [
    "# Input 1 : title + descrption\n",
    "input_text = tf.keras.layers.Input(shape=(1,), dtype=tf.string, name=\"text\")\n",
    "t = encoder_layer(input_text)\n",
    "t = tf.keras.layers.Embedding(\n",
    "    input_dim=len(encoder_layer.get_vocabulary()),\n",
    "    output_dim=64,\n",
    "    mask_zero=True)(t)\n",
    "t = tf.keras.layers.Bidirectional(\n",
    "     tf.keras.layers.LSTM(64, dropout=0.2))(t)\n",
    "t = tf.keras.layers.Flatten()(t)\n",
    "t = tf.keras.models.Model(inputs=input_text, outputs=t)\n",
    "t"
   ]
  },
  {
   "cell_type": "code",
   "execution_count": 280,
   "id": "registered-armstrong",
   "metadata": {},
   "outputs": [
    {
     "data": {
      "text/plain": [
       "<tensorflow.python.keras.engine.functional.Functional at 0x7fef8da29ad0>"
      ]
     },
     "execution_count": 280,
     "metadata": {},
     "output_type": "execute_result"
    }
   ],
   "source": [
    "# Input 2 : Channel size\n",
    "input_channel = tf.keras.layers.Input(shape=(1,), dtype=tf.float32, name=\"channel\")\n",
    "c = tf.keras.layers.Dense(1, activation=\"relu\")(input_channel)\n",
    "c = tf.keras.models.Model(inputs=input_channel, outputs=c)\n",
    "c"
   ]
  },
  {
   "cell_type": "code",
   "execution_count": 282,
   "id": "artistic-writer",
   "metadata": {},
   "outputs": [
    {
     "data": {
      "text/plain": [
       "<tensorflow.python.keras.engine.functional.Functional at 0x7fef777ea650>"
      ]
     },
     "execution_count": 282,
     "metadata": {},
     "output_type": "execute_result"
    }
   ],
   "source": [
    "# Input 3 : Cnt origin\n",
    "input_origin = tf.keras.layers.Input(\n",
    "    shape=(1,), dtype=tf.float32, name=\"origin\")\n",
    "g = tf.keras.layers.Dense(1, activation='relu')(input_origin)\n",
    "g = tf.keras.models.Model(inputs=input_origin, outputs=g)\n",
    "g"
   ]
  },
  {
   "cell_type": "code",
   "execution_count": 283,
   "id": "secondary-birmingham",
   "metadata": {},
   "outputs": [],
   "source": [
    "# Concatenated Inputs\n",
    "\n",
    "concat = tf.keras.layers.concatenate([\n",
    "    t.output, c.output, g.output\n",
    "])\n",
    "# -------------\n",
    "\n",
    "out = tf.keras.layers.Dense(64, activation='sigmoid')(concat)\n",
    "out = tf.keras.layers.Dense(1)(out)\n",
    "\n",
    "model_concat = tf.keras.models.Model(\n",
    "    inputs=[input_text, input_channel, input_origin],\n",
    "    outputs=out)"
   ]
  },
  {
   "cell_type": "code",
   "execution_count": 284,
   "id": "hearing-duplicate",
   "metadata": {},
   "outputs": [
    {
     "name": "stdout",
     "output_type": "stream",
     "text": [
      "Model: \"model_8\"\n",
      "__________________________________________________________________________________________________\n",
      "Layer (type)                    Output Shape         Param #     Connected to                     \n",
      "==================================================================================================\n",
      "text (InputLayer)               [(None, 1)]          0                                            \n",
      "__________________________________________________________________________________________________\n",
      "text_vectorization_4 (TextVecto (None, 256)          0           text[0][0]                       \n",
      "__________________________________________________________________________________________________\n",
      "embedding_26 (Embedding)        (None, 256, 64)      160000      text_vectorization_4[20][0]      \n",
      "__________________________________________________________________________________________________\n",
      "bidirectional_22 (Bidirectional (None, 128)          66048       embedding_26[0][0]               \n",
      "__________________________________________________________________________________________________\n",
      "channel (InputLayer)            [(None, 1)]          0                                            \n",
      "__________________________________________________________________________________________________\n",
      "origin (InputLayer)             [(None, 1)]          0                                            \n",
      "__________________________________________________________________________________________________\n",
      "flatten_3 (Flatten)             (None, 128)          0           bidirectional_22[0][0]           \n",
      "__________________________________________________________________________________________________\n",
      "dense_26 (Dense)                (None, 1)            2           channel[0][0]                    \n",
      "__________________________________________________________________________________________________\n",
      "dense_28 (Dense)                (None, 1)            2           origin[0][0]                     \n",
      "__________________________________________________________________________________________________\n",
      "concatenate_10 (Concatenate)    (None, 130)          0           flatten_3[0][0]                  \n",
      "                                                                 dense_26[0][0]                   \n",
      "                                                                 dense_28[0][0]                   \n",
      "__________________________________________________________________________________________________\n",
      "dense_29 (Dense)                (None, 64)           8384        concatenate_10[0][0]             \n",
      "__________________________________________________________________________________________________\n",
      "dense_30 (Dense)                (None, 1)            65          dense_29[0][0]                   \n",
      "==================================================================================================\n",
      "Total params: 234,501\n",
      "Trainable params: 234,501\n",
      "Non-trainable params: 0\n",
      "__________________________________________________________________________________________________\n"
     ]
    }
   ],
   "source": [
    "model_concat.summary()"
   ]
  },
  {
   "cell_type": "code",
   "execution_count": 285,
   "id": "bottom-israel",
   "metadata": {},
   "outputs": [],
   "source": [
    "model_concat.compile(\n",
    "    loss='binary_crossentropy',\n",
    "    optimizer=tf.keras.optimizers.Adam(1e-4),\n",
    "    metrics=['accuracy'])"
   ]
  },
  {
   "cell_type": "code",
   "execution_count": 302,
   "id": "civil-romance",
   "metadata": {},
   "outputs": [
    {
     "data": {
      "text/plain": [
       "True"
      ]
     },
     "execution_count": 302,
     "metadata": {},
     "output_type": "execute_result"
    }
   ],
   "source": [
    "model.trainable"
   ]
  },
  {
   "cell_type": "code",
   "execution_count": 297,
   "id": "impossible-executive",
   "metadata": {},
   "outputs": [
    {
     "name": "stdout",
     "output_type": "stream",
     "text": [
      "Epoch 1/10\n",
      "71/71 [==============================] - 21s 296ms/step - loss: 7.6043 - accuracy: 0.5013\n",
      "Epoch 2/10\n",
      "71/71 [==============================] - 21s 289ms/step - loss: 7.6043 - accuracy: 0.5013\n",
      "Epoch 3/10\n",
      "71/71 [==============================] - 21s 297ms/step - loss: 7.6043 - accuracy: 0.5013\n",
      "Epoch 4/10\n",
      "71/71 [==============================] - 22s 303ms/step - loss: 7.6043 - accuracy: 0.5013\n",
      "Epoch 5/10\n",
      "71/71 [==============================] - 22s 303ms/step - loss: 7.6043 - accuracy: 0.5013\n",
      "Epoch 6/10\n",
      "71/71 [==============================] - 21s 296ms/step - loss: 7.6043 - accuracy: 0.5013\n",
      "Epoch 7/10\n",
      "71/71 [==============================] - 24s 331ms/step - loss: 7.6043 - accuracy: 0.5013\n",
      "Epoch 8/10\n",
      "71/71 [==============================] - 23s 319ms/step - loss: 7.6043 - accuracy: 0.5013\n",
      "Epoch 9/10\n",
      "71/71 [==============================] - 23s 324ms/step - loss: 7.6043 - accuracy: 0.5013\n",
      "Epoch 10/10\n",
      "71/71 [==============================] - 23s 323ms/step - loss: 7.6043 - accuracy: 0.5013\n"
     ]
    }
   ],
   "source": [
    "logdir = os.path.join(os.getcwd(), 'logs')\n",
    "tensorboard_callback = tf.keras.callbacks.TensorBoard(log_dir=logdir)\n",
    "\n",
    "train.loc[:,'txt'] = train['title'] + ' ' + train['description']\n",
    "train.loc[:,'encoded_channel_size'] = LabelEncoder().fit_transform(train['channel_size'])\n",
    "train.loc[:,'encoded_origin'] = LabelEncoder().fit_transform(train['origin'])\n",
    "\n",
    "train.loc[:,'encoded_channel_size'] = train.loc[:,'encoded_channel_size'].astype(float)\n",
    "train.loc[:,'encoded_origin'] = train.loc[:,'encoded_origin'].astype(float)\n",
    "\n",
    "session = model_concat.fit(\n",
    "    [train['txt'], train['encoded_channel_size'], train['encoded_origin']],\n",
    "    train['is_pop'], \n",
    "    batch_size=128,\n",
    "    epochs=10, \n",
    "    callbacks=[tensorboard_callback])"
   ]
  },
  {
   "cell_type": "code",
   "execution_count": 299,
   "id": "flush-strain",
   "metadata": {},
   "outputs": [
    {
     "data": {
      "text/plain": [
       "{'loss': [7.604287147521973,\n",
       "  7.604285717010498,\n",
       "  7.6042866706848145,\n",
       "  7.6042866706848145,\n",
       "  7.6042890548706055,\n",
       "  7.6042866706848145,\n",
       "  7.604287147521973,\n",
       "  7.604287147521973,\n",
       "  7.604288101196289,\n",
       "  7.6042890548706055],\n",
       " 'accuracy': [0.5013333559036255,\n",
       "  0.5013333559036255,\n",
       "  0.5013333559036255,\n",
       "  0.5013333559036255,\n",
       "  0.5013333559036255,\n",
       "  0.5013333559036255,\n",
       "  0.5013333559036255,\n",
       "  0.5013333559036255,\n",
       "  0.5013333559036255,\n",
       "  0.5013333559036255]}"
      ]
     },
     "execution_count": 299,
     "metadata": {},
     "output_type": "execute_result"
    }
   ],
   "source": [
    "session.history"
   ]
  },
  {
   "cell_type": "code",
   "execution_count": 301,
   "id": "intensive-watts",
   "metadata": {},
   "outputs": [
    {
     "data": {
      "text/plain": [
       "Reusing TensorBoard on port 6006 (pid 12462), started 2 days, 1:52:11 ago. (Use '!kill 12462' to kill it.)"
      ]
     },
     "metadata": {},
     "output_type": "display_data"
    },
    {
     "data": {
      "text/html": [
       "\n",
       "      <iframe id=\"tensorboard-frame-2b64b47d95063452\" width=\"100%\" height=\"800\" frameborder=\"0\">\n",
       "      </iframe>\n",
       "      <script>\n",
       "        (function() {\n",
       "          const frame = document.getElementById(\"tensorboard-frame-2b64b47d95063452\");\n",
       "          const url = new URL(\"/\", window.location);\n",
       "          const port = 6006;\n",
       "          if (port) {\n",
       "            url.port = port;\n",
       "          }\n",
       "          frame.src = url;\n",
       "        })();\n",
       "      </script>\n",
       "    "
      ],
      "text/plain": [
       "<IPython.core.display.HTML object>"
      ]
     },
     "metadata": {},
     "output_type": "display_data"
    }
   ],
   "source": [
    "%tensorboard  --logdir logs"
   ]
  },
  {
   "cell_type": "markdown",
   "id": "accurate-contents",
   "metadata": {},
   "source": [
    "## BERT\n",
    "\n",
    "Try masked language model"
   ]
  },
  {
   "cell_type": "code",
   "execution_count": null,
   "id": "floral-marijuana",
   "metadata": {},
   "outputs": [],
   "source": []
  }
 ],
 "metadata": {
  "celltoolbar": "Raw Cell Format",
  "kernelspec": {
   "display_name": "Python 3",
   "language": "python",
   "name": "python3"
  },
  "language_info": {
   "codemirror_mode": {
    "name": "ipython",
    "version": 3
   },
   "file_extension": ".py",
   "mimetype": "text/x-python",
   "name": "python",
   "nbconvert_exporter": "python",
   "pygments_lexer": "ipython3",
   "version": "3.7.6"
  }
 },
 "nbformat": 4,
 "nbformat_minor": 5
}
