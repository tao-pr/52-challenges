{
 "cells": [
  {
   "cell_type": "code",
   "execution_count": 59,
   "id": "adapted-discretion",
   "metadata": {},
   "outputs": [],
   "source": [
    "import seaborn\n",
    "import numpy as np\n",
    "import pandas as pd\n",
    "import seaborn as sns\n",
    "\n",
    "import os"
   ]
  },
  {
   "cell_type": "markdown",
   "id": "executed-testament",
   "metadata": {},
   "source": [
    "# A. Data Exploration"
   ]
  },
  {
   "cell_type": "code",
   "execution_count": 139,
   "id": "domestic-intelligence",
   "metadata": {},
   "outputs": [],
   "source": [
    "path_csv = os.path.join(os.environ['HOME'], 'data', 'netflix', 'netflix_titles.csv')\n",
    "dfNetflix = pd.read_csv(path_csv, parse_dates=['date_added'])\n",
    "dfNetflix.loc[:,'lastnyear'] = 2021-dfNetflix['release_year']\n",
    "dfNetflix = dfNetflix[dfNetflix.lastnyear <= 15]"
   ]
  },
  {
   "cell_type": "code",
   "execution_count": 140,
   "id": "located-serum",
   "metadata": {},
   "outputs": [
    {
     "data": {
      "text/plain": [
       "7042"
      ]
     },
     "execution_count": 140,
     "metadata": {},
     "output_type": "execute_result"
    }
   ],
   "source": [
    "len(dfNetflix)"
   ]
  },
  {
   "cell_type": "code",
   "execution_count": 141,
   "id": "meaningful-strain",
   "metadata": {},
   "outputs": [
    {
     "data": {
      "text/plain": [
       "show_id                 object\n",
       "type                    object\n",
       "title                   object\n",
       "director                object\n",
       "cast                    object\n",
       "country                 object\n",
       "date_added      datetime64[ns]\n",
       "release_year             int64\n",
       "rating                  object\n",
       "duration                object\n",
       "listed_in               object\n",
       "description             object\n",
       "lastnyear                int64\n",
       "dtype: object"
      ]
     },
     "execution_count": 141,
     "metadata": {},
     "output_type": "execute_result"
    }
   ],
   "source": [
    "dfNetflix.dtypes"
   ]
  },
  {
   "cell_type": "code",
   "execution_count": 142,
   "id": "minus-kinase",
   "metadata": {},
   "outputs": [
    {
     "data": {
      "text/html": [
       "<div>\n",
       "<style scoped>\n",
       "    .dataframe tbody tr th:only-of-type {\n",
       "        vertical-align: middle;\n",
       "    }\n",
       "\n",
       "    .dataframe tbody tr th {\n",
       "        vertical-align: top;\n",
       "    }\n",
       "\n",
       "    .dataframe thead th {\n",
       "        text-align: right;\n",
       "    }\n",
       "</style>\n",
       "<table border=\"1\" class=\"dataframe\">\n",
       "  <thead>\n",
       "    <tr style=\"text-align: right;\">\n",
       "      <th></th>\n",
       "      <th>show_id</th>\n",
       "      <th>type</th>\n",
       "      <th>title</th>\n",
       "      <th>director</th>\n",
       "      <th>cast</th>\n",
       "      <th>country</th>\n",
       "      <th>date_added</th>\n",
       "      <th>release_year</th>\n",
       "      <th>rating</th>\n",
       "      <th>duration</th>\n",
       "      <th>listed_in</th>\n",
       "      <th>description</th>\n",
       "      <th>lastnyear</th>\n",
       "    </tr>\n",
       "  </thead>\n",
       "  <tbody>\n",
       "    <tr>\n",
       "      <th>0</th>\n",
       "      <td>s1</td>\n",
       "      <td>TV Show</td>\n",
       "      <td>3%</td>\n",
       "      <td>NaN</td>\n",
       "      <td>João Miguel, Bianca Comparato, Michel Gomes, R...</td>\n",
       "      <td>Brazil</td>\n",
       "      <td>2020-08-14</td>\n",
       "      <td>2020</td>\n",
       "      <td>TV-MA</td>\n",
       "      <td>4 Seasons</td>\n",
       "      <td>International TV Shows, TV Dramas, TV Sci-Fi &amp;...</td>\n",
       "      <td>In a future where the elite inhabit an island ...</td>\n",
       "      <td>1</td>\n",
       "    </tr>\n",
       "    <tr>\n",
       "      <th>1</th>\n",
       "      <td>s2</td>\n",
       "      <td>Movie</td>\n",
       "      <td>7:19</td>\n",
       "      <td>Jorge Michel Grau</td>\n",
       "      <td>Demián Bichir, Héctor Bonilla, Oscar Serrano, ...</td>\n",
       "      <td>Mexico</td>\n",
       "      <td>2016-12-23</td>\n",
       "      <td>2016</td>\n",
       "      <td>TV-MA</td>\n",
       "      <td>93 min</td>\n",
       "      <td>Dramas, International Movies</td>\n",
       "      <td>After a devastating earthquake hits Mexico Cit...</td>\n",
       "      <td>5</td>\n",
       "    </tr>\n",
       "    <tr>\n",
       "      <th>2</th>\n",
       "      <td>s3</td>\n",
       "      <td>Movie</td>\n",
       "      <td>23:59</td>\n",
       "      <td>Gilbert Chan</td>\n",
       "      <td>Tedd Chan, Stella Chung, Henley Hii, Lawrence ...</td>\n",
       "      <td>Singapore</td>\n",
       "      <td>2018-12-20</td>\n",
       "      <td>2011</td>\n",
       "      <td>R</td>\n",
       "      <td>78 min</td>\n",
       "      <td>Horror Movies, International Movies</td>\n",
       "      <td>When an army recruit is found dead, his fellow...</td>\n",
       "      <td>10</td>\n",
       "    </tr>\n",
       "  </tbody>\n",
       "</table>\n",
       "</div>"
      ],
      "text/plain": [
       "  show_id     type  title           director  \\\n",
       "0      s1  TV Show     3%                NaN   \n",
       "1      s2    Movie   7:19  Jorge Michel Grau   \n",
       "2      s3    Movie  23:59       Gilbert Chan   \n",
       "\n",
       "                                                cast    country date_added  \\\n",
       "0  João Miguel, Bianca Comparato, Michel Gomes, R...     Brazil 2020-08-14   \n",
       "1  Demián Bichir, Héctor Bonilla, Oscar Serrano, ...     Mexico 2016-12-23   \n",
       "2  Tedd Chan, Stella Chung, Henley Hii, Lawrence ...  Singapore 2018-12-20   \n",
       "\n",
       "   release_year rating   duration  \\\n",
       "0          2020  TV-MA  4 Seasons   \n",
       "1          2016  TV-MA     93 min   \n",
       "2          2011      R     78 min   \n",
       "\n",
       "                                           listed_in  \\\n",
       "0  International TV Shows, TV Dramas, TV Sci-Fi &...   \n",
       "1                       Dramas, International Movies   \n",
       "2                Horror Movies, International Movies   \n",
       "\n",
       "                                         description  lastnyear  \n",
       "0  In a future where the elite inhabit an island ...          1  \n",
       "1  After a devastating earthquake hits Mexico Cit...          5  \n",
       "2  When an army recruit is found dead, his fellow...         10  "
      ]
     },
     "execution_count": 142,
     "metadata": {},
     "output_type": "execute_result"
    }
   ],
   "source": [
    "dfNetflix[:3]"
   ]
  },
  {
   "cell_type": "markdown",
   "id": "loved-province",
   "metadata": {},
   "source": [
    "## Types of media"
   ]
  },
  {
   "cell_type": "code",
   "execution_count": 143,
   "id": "regulation-conservation",
   "metadata": {},
   "outputs": [
    {
     "data": {
      "text/plain": [
       "<AxesSubplot:xlabel='type', ylabel='count'>"
      ]
     },
     "execution_count": 143,
     "metadata": {},
     "output_type": "execute_result"
    },
    {
     "data": {
      "image/png": "[encoded data removed]",
      "text/plain": [
       "<Figure size 432x288 with 1 Axes>"
      ]
     },
     "metadata": {
      "needs_background": "light"
     },
     "output_type": "display_data"
    }
   ],
   "source": [
    "sns.countplot(x=dfNetflix['type'])"
   ]
  },
  {
   "cell_type": "markdown",
   "id": "together-milton",
   "metadata": {},
   "source": [
    "## Country of origins"
   ]
  },
  {
   "cell_type": "code",
   "execution_count": 144,
   "id": "planned-potato",
   "metadata": {},
   "outputs": [
    {
     "data": {
      "text/html": [
       "<div>\n",
       "<style scoped>\n",
       "    .dataframe tbody tr th:only-of-type {\n",
       "        vertical-align: middle;\n",
       "    }\n",
       "\n",
       "    .dataframe tbody tr th {\n",
       "        vertical-align: top;\n",
       "    }\n",
       "\n",
       "    .dataframe thead th {\n",
       "        text-align: right;\n",
       "    }\n",
       "</style>\n",
       "<table border=\"1\" class=\"dataframe\">\n",
       "  <thead>\n",
       "    <tr style=\"text-align: right;\">\n",
       "      <th></th>\n",
       "      <th>country</th>\n",
       "      <th>count</th>\n",
       "      <th>%</th>\n",
       "    </tr>\n",
       "  </thead>\n",
       "  <tbody>\n",
       "    <tr>\n",
       "      <th>519</th>\n",
       "      <td>United States</td>\n",
       "      <td>2255</td>\n",
       "      <td>34.406469</td>\n",
       "    </tr>\n",
       "    <tr>\n",
       "      <th>215</th>\n",
       "      <td>India</td>\n",
       "      <td>774</td>\n",
       "      <td>11.809582</td>\n",
       "    </tr>\n",
       "    <tr>\n",
       "      <th>437</th>\n",
       "      <td>United Kingdom</td>\n",
       "      <td>372</td>\n",
       "      <td>5.675923</td>\n",
       "    </tr>\n",
       "    <tr>\n",
       "      <th>274</th>\n",
       "      <td>Japan</td>\n",
       "      <td>207</td>\n",
       "      <td>3.158377</td>\n",
       "    </tr>\n",
       "    <tr>\n",
       "      <th>372</th>\n",
       "      <td>South Korea</td>\n",
       "      <td>182</td>\n",
       "      <td>2.776930</td>\n",
       "    </tr>\n",
       "    <tr>\n",
       "      <th>49</th>\n",
       "      <td>Canada</td>\n",
       "      <td>174</td>\n",
       "      <td>2.654867</td>\n",
       "    </tr>\n",
       "    <tr>\n",
       "      <th>380</th>\n",
       "      <td>Spain</td>\n",
       "      <td>134</td>\n",
       "      <td>2.044553</td>\n",
       "    </tr>\n",
       "    <tr>\n",
       "      <th>142</th>\n",
       "      <td>France</td>\n",
       "      <td>112</td>\n",
       "      <td>1.708880</td>\n",
       "    </tr>\n",
       "    <tr>\n",
       "      <th>423</th>\n",
       "      <td>Turkey</td>\n",
       "      <td>94</td>\n",
       "      <td>1.434239</td>\n",
       "    </tr>\n",
       "    <tr>\n",
       "      <th>289</th>\n",
       "      <td>Mexico</td>\n",
       "      <td>93</td>\n",
       "      <td>1.418981</td>\n",
       "    </tr>\n",
       "  </tbody>\n",
       "</table>\n",
       "</div>"
      ],
      "text/plain": [
       "            country  count          %\n",
       "519   United States   2255  34.406469\n",
       "215           India    774  11.809582\n",
       "437  United Kingdom    372   5.675923\n",
       "274           Japan    207   3.158377\n",
       "372     South Korea    182   2.776930\n",
       "49           Canada    174   2.654867\n",
       "380           Spain    134   2.044553\n",
       "142          France    112   1.708880\n",
       "423          Turkey     94   1.434239\n",
       "289          Mexico     93   1.418981"
      ]
     },
     "execution_count": 144,
     "metadata": {},
     "output_type": "execute_result"
    }
   ],
   "source": [
    "dfCnt = dfNetflix.groupby('country')['show_id'].count()\\\n",
    "    .reset_index(name='count')\\\n",
    "    .sort_values('count',ascending=False)\n",
    "\n",
    "sumall = dfCnt[\"count\"].sum()\n",
    "dfCnt.loc[:, \"%\"] = dfCnt[\"count\"] * 100 / sumall\n",
    "dfCnt[:10]"
   ]
  },
  {
   "cell_type": "markdown",
   "id": "expected-juice",
   "metadata": {},
   "source": [
    "## Recency of movies/shows being added each Quarter"
   ]
  },
  {
   "cell_type": "code",
   "execution_count": 187,
   "id": "specific-quarterly",
   "metadata": {},
   "outputs": [
    {
     "data": {
      "image/png": "[encoded data removed]",
      "text/plain": [
       "<Figure size 900x360 with 1 Axes>"
      ]
     },
     "metadata": {
      "needs_background": "light"
     },
     "output_type": "display_data"
    }
   ],
   "source": [
    "def getQ(dt):\n",
    "    q = 1+(dt.month-1)//3\n",
    "    return f'{dt.year}-Q{q}'\n",
    "\n",
    "def recency(rel_year, dt):\n",
    "    return dt.year - rel_year\n",
    "\n",
    "dfAdded = dfNetflix[['release_year','date_added']]\n",
    "dfAdded = dfAdded[dfAdded['date_added'].notna()]\n",
    "dfAdded.loc[:,'Q_added'] = dfAdded['date_added'].apply(getQ)\n",
    "dfAdded.loc[:,'recency'] = dfAdded['date_added'].dt.year - dfAdded['release_year']\n",
    "dfAdded = dfAdded.sort_values(['Q_added'])\n",
    "\n",
    "g = sns.catplot(data=dfAdded[dfAdded['Q_added']>='2016-Q1'], x='Q_added', y='recency')\n",
    "g.set_xticklabels(rotation=315)\n",
    "g.fig.set_figwidth(12.5)"
   ]
  },
  {
   "cell_type": "markdown",
   "id": "antique-lending",
   "metadata": {},
   "source": [
    "## Description v Genre"
   ]
  },
  {
   "cell_type": "code",
   "execution_count": 203,
   "id": "chubby-karma",
   "metadata": {},
   "outputs": [
    {
     "data": {
      "text/html": [
       "<div>\n",
       "<style scoped>\n",
       "    .dataframe tbody tr th:only-of-type {\n",
       "        vertical-align: middle;\n",
       "    }\n",
       "\n",
       "    .dataframe tbody tr th {\n",
       "        vertical-align: top;\n",
       "    }\n",
       "\n",
       "    .dataframe thead th {\n",
       "        text-align: right;\n",
       "    }\n",
       "</style>\n",
       "<table border=\"1\" class=\"dataframe\">\n",
       "  <thead>\n",
       "    <tr style=\"text-align: right;\">\n",
       "      <th></th>\n",
       "      <th>description</th>\n",
       "      <th>title</th>\n",
       "      <th>genre</th>\n",
       "    </tr>\n",
       "  </thead>\n",
       "  <tbody>\n",
       "    <tr>\n",
       "      <th>20</th>\n",
       "      <td>After accidentally connecting over the Interne...</td>\n",
       "      <td>​​Kuch Bheege Alfaaz</td>\n",
       "      <td>[Dramas, Independent Movies, International Mov...</td>\n",
       "    </tr>\n",
       "    <tr>\n",
       "      <th>21</th>\n",
       "      <td>A taxi driver, a gangster and an athlete strug...</td>\n",
       "      <td>​Goli Soda 2</td>\n",
       "      <td>[Action &amp; Adventure, Dramas, International Mov...</td>\n",
       "    </tr>\n",
       "    <tr>\n",
       "      <th>22</th>\n",
       "      <td>A successful writer returns to the town that l...</td>\n",
       "      <td>​Maj Rati ​​Keteki</td>\n",
       "      <td>[Dramas, International Movies]</td>\n",
       "    </tr>\n",
       "    <tr>\n",
       "      <th>23</th>\n",
       "      <td>When a middle-aged divorcee returns to Kolkata...</td>\n",
       "      <td>​Mayurakshi</td>\n",
       "      <td>[Dramas, International Movies]</td>\n",
       "    </tr>\n",
       "    <tr>\n",
       "      <th>24</th>\n",
       "      <td>Seiya and the Knights of the Zodiac rise again...</td>\n",
       "      <td>​SAINT SEIYA: Knights of the Zodiac</td>\n",
       "      <td>[Anime Series, International TV Shows]</td>\n",
       "    </tr>\n",
       "    <tr>\n",
       "      <th>...</th>\n",
       "      <td>...</td>\n",
       "      <td>...</td>\n",
       "      <td>...</td>\n",
       "    </tr>\n",
       "    <tr>\n",
       "      <th>7778</th>\n",
       "      <td>Looking to survive in a world taken over by zo...</td>\n",
       "      <td>Zombieland</td>\n",
       "      <td>[Comedies, Horror Movies]</td>\n",
       "    </tr>\n",
       "    <tr>\n",
       "      <th>7779</th>\n",
       "      <td>An assortment of talent takes the stage for a ...</td>\n",
       "      <td>Zona Rosa</td>\n",
       "      <td>[International TV Shows, Spanish-Language TV S...</td>\n",
       "    </tr>\n",
       "    <tr>\n",
       "      <th>7784</th>\n",
       "      <td>In this documentary, South African rapper Nast...</td>\n",
       "      <td>Zulu Man in Japan</td>\n",
       "      <td>[Documentaries, International Movies, Music &amp; ...</td>\n",
       "    </tr>\n",
       "    <tr>\n",
       "      <th>7785</th>\n",
       "      <td>Dessert wizard Adriano Zumbo looks for the nex...</td>\n",
       "      <td>Zumbo's Just Desserts</td>\n",
       "      <td>[International TV Shows, Reality TV]</td>\n",
       "    </tr>\n",
       "    <tr>\n",
       "      <th>7786</th>\n",
       "      <td>This documentary delves into the mystique behi...</td>\n",
       "      <td>ZZ TOP: THAT LITTLE OL' BAND FROM TEXAS</td>\n",
       "      <td>[Documentaries, Music &amp; Musicals]</td>\n",
       "    </tr>\n",
       "  </tbody>\n",
       "</table>\n",
       "<p>5839 rows × 3 columns</p>\n",
       "</div>"
      ],
      "text/plain": [
       "                                            description  \\\n",
       "20    After accidentally connecting over the Interne...   \n",
       "21    A taxi driver, a gangster and an athlete strug...   \n",
       "22    A successful writer returns to the town that l...   \n",
       "23    When a middle-aged divorcee returns to Kolkata...   \n",
       "24    Seiya and the Knights of the Zodiac rise again...   \n",
       "...                                                 ...   \n",
       "7778  Looking to survive in a world taken over by zo...   \n",
       "7779  An assortment of talent takes the stage for a ...   \n",
       "7784  In this documentary, South African rapper Nast...   \n",
       "7785  Dessert wizard Adriano Zumbo looks for the nex...   \n",
       "7786  This documentary delves into the mystique behi...   \n",
       "\n",
       "                                        title  \\\n",
       "20                       ​​Kuch Bheege Alfaaz   \n",
       "21                               ​Goli Soda 2   \n",
       "22                         ​Maj Rati ​​Keteki   \n",
       "23                                ​Mayurakshi   \n",
       "24        ​SAINT SEIYA: Knights of the Zodiac   \n",
       "...                                       ...   \n",
       "7778                               Zombieland   \n",
       "7779                                Zona Rosa   \n",
       "7784                        Zulu Man in Japan   \n",
       "7785                    Zumbo's Just Desserts   \n",
       "7786  ZZ TOP: THAT LITTLE OL' BAND FROM TEXAS   \n",
       "\n",
       "                                                  genre  \n",
       "20    [Dramas, Independent Movies, International Mov...  \n",
       "21    [Action & Adventure, Dramas, International Mov...  \n",
       "22                       [Dramas, International Movies]  \n",
       "23                       [Dramas, International Movies]  \n",
       "24               [Anime Series, International TV Shows]  \n",
       "...                                                 ...  \n",
       "7778                          [Comedies, Horror Movies]  \n",
       "7779  [International TV Shows, Spanish-Language TV S...  \n",
       "7784  [Documentaries, International Movies, Music & ...  \n",
       "7785               [International TV Shows, Reality TV]  \n",
       "7786                  [Documentaries, Music & Musicals]  \n",
       "\n",
       "[5839 rows x 3 columns]"
      ]
     },
     "execution_count": 203,
     "metadata": {},
     "output_type": "execute_result"
    }
   ],
   "source": [
    "dfDG = dfNetflix[['description','listed_in','title']]\n",
    "dfDG = dfDG[dfDG.title.str.len()>8]\n",
    "dfDG.loc[:,'genre'] = dfDG['listed_in'].str.split(', ')\n",
    "dfDG.drop('listed_in',inplace=True,axis=1)\n",
    "dfDG"
   ]
  },
  {
   "cell_type": "markdown",
   "id": "featured-action",
   "metadata": {},
   "source": [
    "## Genres"
   ]
  },
  {
   "cell_type": "code",
   "execution_count": 209,
   "id": "statistical-intellectual",
   "metadata": {},
   "outputs": [
    {
     "data": {
      "text/plain": [
       "International Movies            1668\n",
       "Dramas                          1355\n",
       "Comedies                        1062\n",
       "International TV Shows           965\n",
       "Documentaries                    677\n",
       "TV Dramas                        525\n",
       "Independent Movies               454\n",
       "TV Comedies                      435\n",
       "Children & Family Movies         427\n",
       "Action & Adventure               409\n",
       "Romantic Movies                  378\n",
       "Kids' TV                         345\n",
       "Thrillers                        328\n",
       "Docuseries                       323\n",
       "Crime TV Shows                   320\n",
       "Stand-Up Comedy                  310\n",
       "Romantic TV Shows                284\n",
       "Music & Musicals                 239\n",
       "Horror Movies                    206\n",
       "Reality TV                       205\n",
       "British TV Shows                 191\n",
       "Sports Movies                    145\n",
       "Sci-Fi & Fantasy                 138\n",
       "Korean TV Shows                  123\n",
       "Anime Series                     121\n",
       "Spanish-Language TV Shows        116\n",
       "TV Action & Adventure            113\n",
       "Science & Nature TV               81\n",
       "LGBTQ Movies                      75\n",
       "TV Mysteries                      62\n",
       "TV Sci-Fi & Fantasy               59\n",
       "Movies                            52\n",
       "Faith & Spirituality              50\n",
       "Stand-Up Comedy & Talk Shows      50\n",
       "TV Horror                         45\n",
       "Anime Features                    44\n",
       "Teen TV Shows                     44\n",
       "TV Thrillers                      35\n",
       "Classic & Cult TV                 12\n",
       "Cult Movies                       12\n",
       "TV Shows                           7\n",
       "Classic Movies                     1\n",
       "Name: genre, dtype: int64"
      ]
     },
     "execution_count": 209,
     "metadata": {},
     "output_type": "execute_result"
    }
   ],
   "source": [
    "dfGenres = dfDG['genre'].explode()\n",
    "dfGenres.value_counts()"
   ]
  },
  {
   "cell_type": "markdown",
   "id": "protective-radio",
   "metadata": {},
   "source": [
    "# B. Basic Text Classification Model"
   ]
  },
  {
   "cell_type": "markdown",
   "id": "sustainable-grocery",
   "metadata": {},
   "source": [
    "Let's try to classify `genre` of the movie/show based on just `title`"
   ]
  },
  {
   "cell_type": "code",
   "execution_count": 212,
   "id": "seasonal-south",
   "metadata": {},
   "outputs": [
    {
     "data": {
      "text/plain": [
       "5839"
      ]
     },
     "execution_count": 212,
     "metadata": {},
     "output_type": "execute_result"
    }
   ],
   "source": [
    "len(dfDG)"
   ]
  },
  {
   "cell_type": "markdown",
   "id": "light-relay",
   "metadata": {},
   "source": [
    "## Explore vocaborary size\n",
    "\n",
    "All text from title and description are taken into account"
   ]
  },
  {
   "cell_type": "code",
   "execution_count": 225,
   "id": "listed-stamp",
   "metadata": {},
   "outputs": [
    {
     "data": {
      "text/plain": [
       "153056"
      ]
     },
     "execution_count": 225,
     "metadata": {},
     "output_type": "execute_result"
    }
   ],
   "source": [
    "alltext = dfDG['description'] + dfDG['title']\n",
    "alltext = alltext.str.split(' ').explode(ignore_index=True)\n",
    "alltext = alltext.str.lower()\n",
    "len(alltext) # number of distinct words in vocab"
   ]
  },
  {
   "cell_type": "markdown",
   "id": "integrated-asset",
   "metadata": {},
   "source": [
    "Top 50 most frequent words"
   ]
  },
  {
   "cell_type": "code",
   "execution_count": 223,
   "id": "arabic-drain",
   "metadata": {},
   "outputs": [
    {
     "data": {
      "text/plain": [
       "a              7489\n",
       "the            6264\n",
       "and            4508\n",
       "to             4345\n",
       "of             4090\n",
       "in             3082\n",
       "his            2126\n",
       "with           1588\n",
       "her            1385\n",
       "an             1278\n",
       "for            1247\n",
       "on             1244\n",
       "their          1118\n",
       "this            974\n",
       "when            926\n",
       "from            876\n",
       "as              796\n",
       "is              733\n",
       "by              623\n",
       "after           619\n",
       "who             551\n",
       "he              545\n",
       "that            545\n",
       "at              538\n",
       "new             494\n",
       "but             479\n",
       "into            452\n",
       "–               450\n",
       "life            437\n",
       "young           430\n",
       "up              416\n",
       "they            354\n",
       "man             340\n",
       "family          323\n",
       "two             321\n",
       "love            318\n",
       "world           316\n",
       "she             305\n",
       "out             293\n",
       "woman           275\n",
       "about           271\n",
       "are             267\n",
       "friends         266\n",
       "while           240\n",
       "documentary     240\n",
       "series          239\n",
       "must            234\n",
       "find            229\n",
       "one             228\n",
       "be              210\n",
       "dtype: int64"
      ]
     },
     "execution_count": 223,
     "metadata": {},
     "output_type": "execute_result"
    }
   ],
   "source": [
    "topwords = alltext.value_counts()[:50]\n",
    "topwords"
   ]
  },
  {
   "cell_type": "markdown",
   "id": "automotive-embassy",
   "metadata": {},
   "source": [
    "## Text cleaning\n",
    "Clean text for featurisation\n",
    "- Removing articles\n",
    "- Neutralise all capital cases"
   ]
  },
  {
   "cell_type": "code",
   "execution_count": 237,
   "id": "behavioral-cotton",
   "metadata": {},
   "outputs": [
    {
     "data": {
      "text/plain": [
       "20      [​​kuch, bheege, alfaazafter, accidentally, co...\n",
       "21      [​goli, soda, 2a, taxi, driver,, gangster, and...\n",
       "22      [​maj, rati, ​​ketekia, successful, writer, re...\n",
       "23      [​mayurakshiwhen, middle-aged, divorcee, retur...\n",
       "24      [​saint, seiya:, knights, of, zodiacseiya, and...\n",
       "                              ...                        \n",
       "7778    [zombielandlooking, to, survive, in, world, ta...\n",
       "7779    [zona, rosaan, assortment, of, talent, takes, ...\n",
       "7784    [zulu, man, in, japanin, this, documentary,, s...\n",
       "7785    [zumbo's, just, dessertsdessert, wizard, adria...\n",
       "7786    [zz, top:, that, little, ol', band, from, texa...\n",
       "Length: 5839, dtype: object"
      ]
     },
     "execution_count": 237,
     "metadata": {},
     "output_type": "execute_result"
    }
   ],
   "source": [
    "text = dfDG['title'] + dfDG['description']\n",
    "text = text.str.lower().str.split(' ')\n",
    "text = text.apply(lambda x: [s for s in x if s not in ['a','the']])\n",
    "text"
   ]
  },
  {
   "cell_type": "code",
   "execution_count": 236,
   "id": "lesbian-subscriber",
   "metadata": {},
   "outputs": [
    {
     "data": {
      "text/plain": [
       "<bound method Series.apply of 20      [​​kuch, bheege, alfaazafter, accidentally, co...\n",
       "21      [​goli, soda, 2a, taxi, driver,, a, gangster, ...\n",
       "22      [​maj, rati, ​​ketekia, successful, writer, re...\n",
       "23      [​mayurakshiwhen, a, middle-aged, divorcee, re...\n",
       "24      [​saint, seiya:, knights, of, the, zodiacseiya...\n",
       "                              ...                        \n",
       "7778    [zombielandlooking, to, survive, in, a, world,...\n",
       "7779    [zona, rosaan, assortment, of, talent, takes, ...\n",
       "7784    [zulu, man, in, japanin, this, documentary,, s...\n",
       "7785    [zumbo's, just, dessertsdessert, wizard, adria...\n",
       "7786    [zz, top:, that, little, ol', band, from, texa...\n",
       "Length: 5839, dtype: object>"
      ]
     },
     "execution_count": 236,
     "metadata": {},
     "output_type": "execute_result"
    }
   ],
   "source": []
  },
  {
   "cell_type": "code",
   "execution_count": null,
   "id": "metropolitan-aaron",
   "metadata": {},
   "outputs": [],
   "source": []
  }
 ],
 "metadata": {
  "kernelspec": {
   "display_name": "Python 3",
   "language": "python",
   "name": "python3"
  },
  "language_info": {
   "codemirror_mode": {
    "name": "ipython",
    "version": 3
   },
   "file_extension": ".py",
   "mimetype": "text/x-python",
   "name": "python",
   "nbconvert_exporter": "python",
   "pygments_lexer": "ipython3",
   "version": "3.9.1"
  }
 },
 "nbformat": 4,
 "nbformat_minor": 5
}
