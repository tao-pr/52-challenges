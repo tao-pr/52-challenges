{
 "cells": [
  {
   "cell_type": "code",
   "execution_count": 1,
   "id": "affiliated-athens",
   "metadata": {},
   "outputs": [],
   "source": [
    "import seaborn\n",
    "import numpy as np\n",
    "import pandas as pd\n",
    "import seaborn as sns\n",
    "\n",
    "import nltk\n",
    "from sklearn.model_selection import train_test_split\n",
    "\n",
    "import os"
   ]
  },
  {
   "cell_type": "code",
   "execution_count": 40,
   "id": "cleared-passport",
   "metadata": {},
   "outputs": [
    {
     "name": "stderr",
     "output_type": "stream",
     "text": [
      "[nltk_data] Downloading package averaged_perceptron_tagger to\n",
      "[nltk_data]     /Users/pataoengineer/nltk_data...\n",
      "[nltk_data]   Package averaged_perceptron_tagger is already up-to-\n",
      "[nltk_data]       date!\n",
      "[nltk_data] Downloading package punkt to\n",
      "[nltk_data]     /Users/pataoengineer/nltk_data...\n",
      "[nltk_data]   Unzipping tokenizers/punkt.zip.\n"
     ]
    },
    {
     "data": {
      "text/plain": [
       "True"
      ]
     },
     "execution_count": 40,
     "metadata": {},
     "output_type": "execute_result"
    }
   ],
   "source": [
    "nltk.download('averaged_perceptron_tagger')\n",
    "nltk.download('punkt')"
   ]
  },
  {
   "cell_type": "markdown",
   "id": "sharp-liver",
   "metadata": {},
   "source": [
    "# A. Data Exploration"
   ]
  },
  {
   "cell_type": "code",
   "execution_count": 2,
   "id": "social-headset",
   "metadata": {},
   "outputs": [],
   "source": [
    "path_csv = os.path.join(os.environ['HOME'], 'data', 'netflix', 'netflix_titles.csv')\n",
    "dfNetflix = pd.read_csv(path_csv, parse_dates=['date_added'])\n",
    "dfNetflix.loc[:,'lastnyear'] = 2021-dfNetflix['release_year']\n",
    "dfNetflix = dfNetflix[dfNetflix.lastnyear <= 15]"
   ]
  },
  {
   "cell_type": "code",
   "execution_count": 3,
   "id": "adaptive-batman",
   "metadata": {},
   "outputs": [
    {
     "data": {
      "text/plain": [
       "7042"
      ]
     },
     "execution_count": 3,
     "metadata": {},
     "output_type": "execute_result"
    }
   ],
   "source": [
    "len(dfNetflix)"
   ]
  },
  {
   "cell_type": "code",
   "execution_count": 4,
   "id": "descending-cycle",
   "metadata": {},
   "outputs": [
    {
     "data": {
      "text/plain": [
       "show_id                 object\n",
       "type                    object\n",
       "title                   object\n",
       "director                object\n",
       "cast                    object\n",
       "country                 object\n",
       "date_added      datetime64[ns]\n",
       "release_year             int64\n",
       "rating                  object\n",
       "duration                object\n",
       "listed_in               object\n",
       "description             object\n",
       "lastnyear                int64\n",
       "dtype: object"
      ]
     },
     "execution_count": 4,
     "metadata": {},
     "output_type": "execute_result"
    }
   ],
   "source": [
    "dfNetflix.dtypes"
   ]
  },
  {
   "cell_type": "code",
   "execution_count": 5,
   "id": "african-reggae",
   "metadata": {},
   "outputs": [
    {
     "data": {
      "text/html": [
       "<div>\n",
       "<style scoped>\n",
       "    .dataframe tbody tr th:only-of-type {\n",
       "        vertical-align: middle;\n",
       "    }\n",
       "\n",
       "    .dataframe tbody tr th {\n",
       "        vertical-align: top;\n",
       "    }\n",
       "\n",
       "    .dataframe thead th {\n",
       "        text-align: right;\n",
       "    }\n",
       "</style>\n",
       "<table border=\"1\" class=\"dataframe\">\n",
       "  <thead>\n",
       "    <tr style=\"text-align: right;\">\n",
       "      <th></th>\n",
       "      <th>show_id</th>\n",
       "      <th>type</th>\n",
       "      <th>title</th>\n",
       "      <th>director</th>\n",
       "      <th>cast</th>\n",
       "      <th>country</th>\n",
       "      <th>date_added</th>\n",
       "      <th>release_year</th>\n",
       "      <th>rating</th>\n",
       "      <th>duration</th>\n",
       "      <th>listed_in</th>\n",
       "      <th>description</th>\n",
       "      <th>lastnyear</th>\n",
       "    </tr>\n",
       "  </thead>\n",
       "  <tbody>\n",
       "    <tr>\n",
       "      <th>0</th>\n",
       "      <td>s1</td>\n",
       "      <td>TV Show</td>\n",
       "      <td>3%</td>\n",
       "      <td>NaN</td>\n",
       "      <td>João Miguel, Bianca Comparato, Michel Gomes, R...</td>\n",
       "      <td>Brazil</td>\n",
       "      <td>2020-08-14</td>\n",
       "      <td>2020</td>\n",
       "      <td>TV-MA</td>\n",
       "      <td>4 Seasons</td>\n",
       "      <td>International TV Shows, TV Dramas, TV Sci-Fi &amp;...</td>\n",
       "      <td>In a future where the elite inhabit an island ...</td>\n",
       "      <td>1</td>\n",
       "    </tr>\n",
       "    <tr>\n",
       "      <th>1</th>\n",
       "      <td>s2</td>\n",
       "      <td>Movie</td>\n",
       "      <td>7:19</td>\n",
       "      <td>Jorge Michel Grau</td>\n",
       "      <td>Demián Bichir, Héctor Bonilla, Oscar Serrano, ...</td>\n",
       "      <td>Mexico</td>\n",
       "      <td>2016-12-23</td>\n",
       "      <td>2016</td>\n",
       "      <td>TV-MA</td>\n",
       "      <td>93 min</td>\n",
       "      <td>Dramas, International Movies</td>\n",
       "      <td>After a devastating earthquake hits Mexico Cit...</td>\n",
       "      <td>5</td>\n",
       "    </tr>\n",
       "    <tr>\n",
       "      <th>2</th>\n",
       "      <td>s3</td>\n",
       "      <td>Movie</td>\n",
       "      <td>23:59</td>\n",
       "      <td>Gilbert Chan</td>\n",
       "      <td>Tedd Chan, Stella Chung, Henley Hii, Lawrence ...</td>\n",
       "      <td>Singapore</td>\n",
       "      <td>2018-12-20</td>\n",
       "      <td>2011</td>\n",
       "      <td>R</td>\n",
       "      <td>78 min</td>\n",
       "      <td>Horror Movies, International Movies</td>\n",
       "      <td>When an army recruit is found dead, his fellow...</td>\n",
       "      <td>10</td>\n",
       "    </tr>\n",
       "  </tbody>\n",
       "</table>\n",
       "</div>"
      ],
      "text/plain": [
       "  show_id     type  title           director  \\\n",
       "0      s1  TV Show     3%                NaN   \n",
       "1      s2    Movie   7:19  Jorge Michel Grau   \n",
       "2      s3    Movie  23:59       Gilbert Chan   \n",
       "\n",
       "                                                cast    country date_added  \\\n",
       "0  João Miguel, Bianca Comparato, Michel Gomes, R...     Brazil 2020-08-14   \n",
       "1  Demián Bichir, Héctor Bonilla, Oscar Serrano, ...     Mexico 2016-12-23   \n",
       "2  Tedd Chan, Stella Chung, Henley Hii, Lawrence ...  Singapore 2018-12-20   \n",
       "\n",
       "   release_year rating   duration  \\\n",
       "0          2020  TV-MA  4 Seasons   \n",
       "1          2016  TV-MA     93 min   \n",
       "2          2011      R     78 min   \n",
       "\n",
       "                                           listed_in  \\\n",
       "0  International TV Shows, TV Dramas, TV Sci-Fi &...   \n",
       "1                       Dramas, International Movies   \n",
       "2                Horror Movies, International Movies   \n",
       "\n",
       "                                         description  lastnyear  \n",
       "0  In a future where the elite inhabit an island ...          1  \n",
       "1  After a devastating earthquake hits Mexico Cit...          5  \n",
       "2  When an army recruit is found dead, his fellow...         10  "
      ]
     },
     "execution_count": 5,
     "metadata": {},
     "output_type": "execute_result"
    }
   ],
   "source": [
    "dfNetflix[:3]"
   ]
  },
  {
   "cell_type": "markdown",
   "id": "expanded-guitar",
   "metadata": {},
   "source": [
    "## Types of media"
   ]
  },
  {
   "cell_type": "code",
   "execution_count": 6,
   "id": "abstract-rotation",
   "metadata": {},
   "outputs": [
    {
     "data": {
      "text/plain": [
       "<AxesSubplot:xlabel='type', ylabel='count'>"
      ]
     },
     "execution_count": 6,
     "metadata": {},
     "output_type": "execute_result"
    },
    {
     "data": {
      "image/png": "[encoded data removed]",
      "text/plain": [
       "<Figure size 432x288 with 1 Axes>"
      ]
     },
     "metadata": {
      "needs_background": "light"
     },
     "output_type": "display_data"
    }
   ],
   "source": [
    "sns.countplot(x=dfNetflix['type'])"
   ]
  },
  {
   "cell_type": "markdown",
   "id": "coastal-emerald",
   "metadata": {},
   "source": [
    "## Country of origins"
   ]
  },
  {
   "cell_type": "code",
   "execution_count": 7,
   "id": "departmental-street",
   "metadata": {},
   "outputs": [
    {
     "data": {
      "text/html": [
       "<div>\n",
       "<style scoped>\n",
       "    .dataframe tbody tr th:only-of-type {\n",
       "        vertical-align: middle;\n",
       "    }\n",
       "\n",
       "    .dataframe tbody tr th {\n",
       "        vertical-align: top;\n",
       "    }\n",
       "\n",
       "    .dataframe thead th {\n",
       "        text-align: right;\n",
       "    }\n",
       "</style>\n",
       "<table border=\"1\" class=\"dataframe\">\n",
       "  <thead>\n",
       "    <tr style=\"text-align: right;\">\n",
       "      <th></th>\n",
       "      <th>country</th>\n",
       "      <th>count</th>\n",
       "      <th>%</th>\n",
       "    </tr>\n",
       "  </thead>\n",
       "  <tbody>\n",
       "    <tr>\n",
       "      <th>519</th>\n",
       "      <td>United States</td>\n",
       "      <td>2255</td>\n",
       "      <td>34.406469</td>\n",
       "    </tr>\n",
       "    <tr>\n",
       "      <th>215</th>\n",
       "      <td>India</td>\n",
       "      <td>774</td>\n",
       "      <td>11.809582</td>\n",
       "    </tr>\n",
       "    <tr>\n",
       "      <th>437</th>\n",
       "      <td>United Kingdom</td>\n",
       "      <td>372</td>\n",
       "      <td>5.675923</td>\n",
       "    </tr>\n",
       "    <tr>\n",
       "      <th>274</th>\n",
       "      <td>Japan</td>\n",
       "      <td>207</td>\n",
       "      <td>3.158377</td>\n",
       "    </tr>\n",
       "    <tr>\n",
       "      <th>372</th>\n",
       "      <td>South Korea</td>\n",
       "      <td>182</td>\n",
       "      <td>2.776930</td>\n",
       "    </tr>\n",
       "    <tr>\n",
       "      <th>49</th>\n",
       "      <td>Canada</td>\n",
       "      <td>174</td>\n",
       "      <td>2.654867</td>\n",
       "    </tr>\n",
       "    <tr>\n",
       "      <th>380</th>\n",
       "      <td>Spain</td>\n",
       "      <td>134</td>\n",
       "      <td>2.044553</td>\n",
       "    </tr>\n",
       "    <tr>\n",
       "      <th>142</th>\n",
       "      <td>France</td>\n",
       "      <td>112</td>\n",
       "      <td>1.708880</td>\n",
       "    </tr>\n",
       "    <tr>\n",
       "      <th>423</th>\n",
       "      <td>Turkey</td>\n",
       "      <td>94</td>\n",
       "      <td>1.434239</td>\n",
       "    </tr>\n",
       "    <tr>\n",
       "      <th>289</th>\n",
       "      <td>Mexico</td>\n",
       "      <td>93</td>\n",
       "      <td>1.418981</td>\n",
       "    </tr>\n",
       "  </tbody>\n",
       "</table>\n",
       "</div>"
      ],
      "text/plain": [
       "            country  count          %\n",
       "519   United States   2255  34.406469\n",
       "215           India    774  11.809582\n",
       "437  United Kingdom    372   5.675923\n",
       "274           Japan    207   3.158377\n",
       "372     South Korea    182   2.776930\n",
       "49           Canada    174   2.654867\n",
       "380           Spain    134   2.044553\n",
       "142          France    112   1.708880\n",
       "423          Turkey     94   1.434239\n",
       "289          Mexico     93   1.418981"
      ]
     },
     "execution_count": 7,
     "metadata": {},
     "output_type": "execute_result"
    }
   ],
   "source": [
    "dfCnt = dfNetflix.groupby('country')['show_id'].count()\\\n",
    "    .reset_index(name='count')\\\n",
    "    .sort_values('count',ascending=False)\n",
    "\n",
    "sumall = dfCnt[\"count\"].sum()\n",
    "dfCnt.loc[:, \"%\"] = dfCnt[\"count\"] * 100 / sumall\n",
    "dfCnt[:10]"
   ]
  },
  {
   "cell_type": "markdown",
   "id": "cross-calendar",
   "metadata": {},
   "source": [
    "## Recency of movies/shows being added each Quarter"
   ]
  },
  {
   "cell_type": "code",
   "execution_count": 8,
   "id": "finnish-newsletter",
   "metadata": {},
   "outputs": [
    {
     "data": {
      "image/png": "[encoded data removed]",
      "text/plain": [
       "<Figure size 900x360 with 1 Axes>"
      ]
     },
     "metadata": {
      "needs_background": "light"
     },
     "output_type": "display_data"
    }
   ],
   "source": [
    "def getQ(dt):\n",
    "    q = 1+(dt.month-1)//3\n",
    "    return f'{dt.year}-Q{q}'\n",
    "\n",
    "def recency(rel_year, dt):\n",
    "    return dt.year - rel_year\n",
    "\n",
    "dfAdded = dfNetflix[['release_year','date_added']]\n",
    "dfAdded = dfAdded[dfAdded['date_added'].notna()]\n",
    "dfAdded.loc[:,'Q_added'] = dfAdded['date_added'].apply(getQ)\n",
    "dfAdded.loc[:,'recency'] = dfAdded['date_added'].dt.year - dfAdded['release_year']\n",
    "dfAdded = dfAdded.sort_values(['Q_added'])\n",
    "\n",
    "g = sns.catplot(data=dfAdded[dfAdded['Q_added']>='2016-Q1'], x='Q_added', y='recency')\n",
    "g.set_xticklabels(rotation=315)\n",
    "g.fig.set_figwidth(12.5)"
   ]
  },
  {
   "cell_type": "markdown",
   "id": "mechanical-folks",
   "metadata": {},
   "source": [
    "## Description v Genre"
   ]
  },
  {
   "cell_type": "code",
   "execution_count": 9,
   "id": "canadian-civilization",
   "metadata": {},
   "outputs": [
    {
     "data": {
      "text/html": [
       "<div>\n",
       "<style scoped>\n",
       "    .dataframe tbody tr th:only-of-type {\n",
       "        vertical-align: middle;\n",
       "    }\n",
       "\n",
       "    .dataframe tbody tr th {\n",
       "        vertical-align: top;\n",
       "    }\n",
       "\n",
       "    .dataframe thead th {\n",
       "        text-align: right;\n",
       "    }\n",
       "</style>\n",
       "<table border=\"1\" class=\"dataframe\">\n",
       "  <thead>\n",
       "    <tr style=\"text-align: right;\">\n",
       "      <th></th>\n",
       "      <th>description</th>\n",
       "      <th>title</th>\n",
       "      <th>genre</th>\n",
       "    </tr>\n",
       "  </thead>\n",
       "  <tbody>\n",
       "    <tr>\n",
       "      <th>20</th>\n",
       "      <td>After accidentally connecting over the Interne...</td>\n",
       "      <td>​​Kuch Bheege Alfaaz</td>\n",
       "      <td>[Dramas, Independent Movies, International Mov...</td>\n",
       "    </tr>\n",
       "    <tr>\n",
       "      <th>21</th>\n",
       "      <td>A taxi driver, a gangster and an athlete strug...</td>\n",
       "      <td>​Goli Soda 2</td>\n",
       "      <td>[Action &amp; Adventure, Dramas, International Mov...</td>\n",
       "    </tr>\n",
       "    <tr>\n",
       "      <th>22</th>\n",
       "      <td>A successful writer returns to the town that l...</td>\n",
       "      <td>​Maj Rati ​​Keteki</td>\n",
       "      <td>[Dramas, International Movies]</td>\n",
       "    </tr>\n",
       "    <tr>\n",
       "      <th>23</th>\n",
       "      <td>When a middle-aged divorcee returns to Kolkata...</td>\n",
       "      <td>​Mayurakshi</td>\n",
       "      <td>[Dramas, International Movies]</td>\n",
       "    </tr>\n",
       "    <tr>\n",
       "      <th>24</th>\n",
       "      <td>Seiya and the Knights of the Zodiac rise again...</td>\n",
       "      <td>​SAINT SEIYA: Knights of the Zodiac</td>\n",
       "      <td>[Anime Series, International TV Shows]</td>\n",
       "    </tr>\n",
       "    <tr>\n",
       "      <th>...</th>\n",
       "      <td>...</td>\n",
       "      <td>...</td>\n",
       "      <td>...</td>\n",
       "    </tr>\n",
       "    <tr>\n",
       "      <th>7778</th>\n",
       "      <td>Looking to survive in a world taken over by zo...</td>\n",
       "      <td>Zombieland</td>\n",
       "      <td>[Comedies, Horror Movies]</td>\n",
       "    </tr>\n",
       "    <tr>\n",
       "      <th>7779</th>\n",
       "      <td>An assortment of talent takes the stage for a ...</td>\n",
       "      <td>Zona Rosa</td>\n",
       "      <td>[International TV Shows, Spanish-Language TV S...</td>\n",
       "    </tr>\n",
       "    <tr>\n",
       "      <th>7784</th>\n",
       "      <td>In this documentary, South African rapper Nast...</td>\n",
       "      <td>Zulu Man in Japan</td>\n",
       "      <td>[Documentaries, International Movies, Music &amp; ...</td>\n",
       "    </tr>\n",
       "    <tr>\n",
       "      <th>7785</th>\n",
       "      <td>Dessert wizard Adriano Zumbo looks for the nex...</td>\n",
       "      <td>Zumbo's Just Desserts</td>\n",
       "      <td>[International TV Shows, Reality TV]</td>\n",
       "    </tr>\n",
       "    <tr>\n",
       "      <th>7786</th>\n",
       "      <td>This documentary delves into the mystique behi...</td>\n",
       "      <td>ZZ TOP: THAT LITTLE OL' BAND FROM TEXAS</td>\n",
       "      <td>[Documentaries, Music &amp; Musicals]</td>\n",
       "    </tr>\n",
       "  </tbody>\n",
       "</table>\n",
       "<p>5839 rows × 3 columns</p>\n",
       "</div>"
      ],
      "text/plain": [
       "                                            description  \\\n",
       "20    After accidentally connecting over the Interne...   \n",
       "21    A taxi driver, a gangster and an athlete strug...   \n",
       "22    A successful writer returns to the town that l...   \n",
       "23    When a middle-aged divorcee returns to Kolkata...   \n",
       "24    Seiya and the Knights of the Zodiac rise again...   \n",
       "...                                                 ...   \n",
       "7778  Looking to survive in a world taken over by zo...   \n",
       "7779  An assortment of talent takes the stage for a ...   \n",
       "7784  In this documentary, South African rapper Nast...   \n",
       "7785  Dessert wizard Adriano Zumbo looks for the nex...   \n",
       "7786  This documentary delves into the mystique behi...   \n",
       "\n",
       "                                        title  \\\n",
       "20                       ​​Kuch Bheege Alfaaz   \n",
       "21                               ​Goli Soda 2   \n",
       "22                         ​Maj Rati ​​Keteki   \n",
       "23                                ​Mayurakshi   \n",
       "24        ​SAINT SEIYA: Knights of the Zodiac   \n",
       "...                                       ...   \n",
       "7778                               Zombieland   \n",
       "7779                                Zona Rosa   \n",
       "7784                        Zulu Man in Japan   \n",
       "7785                    Zumbo's Just Desserts   \n",
       "7786  ZZ TOP: THAT LITTLE OL' BAND FROM TEXAS   \n",
       "\n",
       "                                                  genre  \n",
       "20    [Dramas, Independent Movies, International Mov...  \n",
       "21    [Action & Adventure, Dramas, International Mov...  \n",
       "22                       [Dramas, International Movies]  \n",
       "23                       [Dramas, International Movies]  \n",
       "24               [Anime Series, International TV Shows]  \n",
       "...                                                 ...  \n",
       "7778                          [Comedies, Horror Movies]  \n",
       "7779  [International TV Shows, Spanish-Language TV S...  \n",
       "7784  [Documentaries, International Movies, Music & ...  \n",
       "7785               [International TV Shows, Reality TV]  \n",
       "7786                  [Documentaries, Music & Musicals]  \n",
       "\n",
       "[5839 rows x 3 columns]"
      ]
     },
     "execution_count": 9,
     "metadata": {},
     "output_type": "execute_result"
    }
   ],
   "source": [
    "dfDG = dfNetflix[['description','listed_in','title']]\n",
    "dfDG = dfDG[dfDG.title.str.len()>8]\n",
    "dfDG.loc[:,'genre'] = dfDG['listed_in'].str.split(', ')\n",
    "dfDG.drop('listed_in',inplace=True,axis=1)\n",
    "dfDG"
   ]
  },
  {
   "cell_type": "markdown",
   "id": "likely-psychology",
   "metadata": {},
   "source": [
    "## Genres"
   ]
  },
  {
   "cell_type": "code",
   "execution_count": 10,
   "id": "greenhouse-davis",
   "metadata": {},
   "outputs": [
    {
     "data": {
      "text/plain": [
       "International Movies            1668\n",
       "Dramas                          1355\n",
       "Comedies                        1062\n",
       "International TV Shows           965\n",
       "Documentaries                    677\n",
       "TV Dramas                        525\n",
       "Independent Movies               454\n",
       "TV Comedies                      435\n",
       "Children & Family Movies         427\n",
       "Action & Adventure               409\n",
       "Romantic Movies                  378\n",
       "Kids' TV                         345\n",
       "Thrillers                        328\n",
       "Docuseries                       323\n",
       "Crime TV Shows                   320\n",
       "Stand-Up Comedy                  310\n",
       "Romantic TV Shows                284\n",
       "Music & Musicals                 239\n",
       "Horror Movies                    206\n",
       "Reality TV                       205\n",
       "British TV Shows                 191\n",
       "Sports Movies                    145\n",
       "Sci-Fi & Fantasy                 138\n",
       "Korean TV Shows                  123\n",
       "Anime Series                     121\n",
       "Spanish-Language TV Shows        116\n",
       "TV Action & Adventure            113\n",
       "Science & Nature TV               81\n",
       "LGBTQ Movies                      75\n",
       "TV Mysteries                      62\n",
       "TV Sci-Fi & Fantasy               59\n",
       "Movies                            52\n",
       "Stand-Up Comedy & Talk Shows      50\n",
       "Faith & Spirituality              50\n",
       "TV Horror                         45\n",
       "Anime Features                    44\n",
       "Teen TV Shows                     44\n",
       "TV Thrillers                      35\n",
       "Classic & Cult TV                 12\n",
       "Cult Movies                       12\n",
       "TV Shows                           7\n",
       "Classic Movies                     1\n",
       "Name: genre, dtype: int64"
      ]
     },
     "execution_count": 10,
     "metadata": {},
     "output_type": "execute_result"
    }
   ],
   "source": [
    "dfGenres = dfDG['genre'].explode()\n",
    "dfGenres.value_counts()"
   ]
  },
  {
   "cell_type": "markdown",
   "id": "sixth-butterfly",
   "metadata": {},
   "source": [
    "# B. Basic Text Exploration"
   ]
  },
  {
   "cell_type": "markdown",
   "id": "laughing-alpha",
   "metadata": {},
   "source": [
    "Checking vocab from `title` and `description`"
   ]
  },
  {
   "cell_type": "code",
   "execution_count": 11,
   "id": "eight-length",
   "metadata": {},
   "outputs": [
    {
     "data": {
      "text/plain": [
       "5839"
      ]
     },
     "execution_count": 11,
     "metadata": {},
     "output_type": "execute_result"
    }
   ],
   "source": [
    "len(dfDG)"
   ]
  },
  {
   "cell_type": "markdown",
   "id": "developed-million",
   "metadata": {},
   "source": [
    "## Explore vocaborary size\n",
    "\n",
    "Removing articles from vocab first"
   ]
  },
  {
   "cell_type": "code",
   "execution_count": 41,
   "id": "civil-chrome",
   "metadata": {},
   "outputs": [
    {
     "data": {
      "text/plain": [
       "[('Up', 'IN'), ('among', 'IN'), ('the', 'DT'), ('star', 'NN')]"
      ]
     },
     "execution_count": 41,
     "metadata": {},
     "output_type": "execute_result"
    }
   ],
   "source": [
    "nltk.pos_tag(nltk.word_tokenize('Up among the star'))"
   ]
  },
  {
   "cell_type": "code",
   "execution_count": 47,
   "id": "separate-glasgow",
   "metadata": {},
   "outputs": [
    {
     "data": {
      "text/html": [
       "<div>\n",
       "<style scoped>\n",
       "    .dataframe tbody tr th:only-of-type {\n",
       "        vertical-align: middle;\n",
       "    }\n",
       "\n",
       "    .dataframe tbody tr th {\n",
       "        vertical-align: top;\n",
       "    }\n",
       "\n",
       "    .dataframe thead th {\n",
       "        text-align: right;\n",
       "    }\n",
       "</style>\n",
       "<table border=\"1\" class=\"dataframe\">\n",
       "  <thead>\n",
       "    <tr style=\"text-align: right;\">\n",
       "      <th></th>\n",
       "      <th>title-token</th>\n",
       "      <th>description-token</th>\n",
       "    </tr>\n",
       "  </thead>\n",
       "  <tbody>\n",
       "    <tr>\n",
       "      <th>20</th>\n",
       "      <td>​​kuch bheege alfaaz</td>\n",
       "      <td>after accidentally connecting over internet , ...</td>\n",
       "    </tr>\n",
       "    <tr>\n",
       "      <th>21</th>\n",
       "      <td>​goli soda 2</td>\n",
       "      <td>taxi driver , gangster and athlete struggle to...</td>\n",
       "    </tr>\n",
       "    <tr>\n",
       "      <th>22</th>\n",
       "      <td>​maj rati ​​keteki</td>\n",
       "      <td>successful writer returns to town that launche...</td>\n",
       "    </tr>\n",
       "    <tr>\n",
       "      <th>23</th>\n",
       "      <td>​mayurakshi</td>\n",
       "      <td>when middle-aged divorcee returns to kolkata t...</td>\n",
       "    </tr>\n",
       "    <tr>\n",
       "      <th>24</th>\n",
       "      <td>​saint seiya : knights of zodiac</td>\n",
       "      <td>seiya and knights of zodiac rise again to prot...</td>\n",
       "    </tr>\n",
       "    <tr>\n",
       "      <th>...</th>\n",
       "      <td>...</td>\n",
       "      <td>...</td>\n",
       "    </tr>\n",
       "    <tr>\n",
       "      <th>7778</th>\n",
       "      <td>zombieland</td>\n",
       "      <td>looking to survive in world taken over by zomb...</td>\n",
       "    </tr>\n",
       "    <tr>\n",
       "      <th>7779</th>\n",
       "      <td>zona rosa</td>\n",
       "      <td>assortment of talent takes stage for night of ...</td>\n",
       "    </tr>\n",
       "    <tr>\n",
       "      <th>7784</th>\n",
       "      <td>zulu man in japan</td>\n",
       "      <td>in documentary , south african rapper nasty c ...</td>\n",
       "    </tr>\n",
       "    <tr>\n",
       "      <th>7785</th>\n",
       "      <td>zumbo 's just desserts</td>\n",
       "      <td>dessert wizard adriano zumbo looks for next “ ...</td>\n",
       "    </tr>\n",
       "    <tr>\n",
       "      <th>7786</th>\n",
       "      <td>zz top : little ol ' band from texas</td>\n",
       "      <td>documentary delves into mystique behind blues-...</td>\n",
       "    </tr>\n",
       "  </tbody>\n",
       "</table>\n",
       "<p>5839 rows × 2 columns</p>\n",
       "</div>"
      ],
      "text/plain": [
       "                               title-token  \\\n",
       "20                    ​​kuch bheege alfaaz   \n",
       "21                            ​goli soda 2   \n",
       "22                      ​maj rati ​​keteki   \n",
       "23                             ​mayurakshi   \n",
       "24        ​saint seiya : knights of zodiac   \n",
       "...                                    ...   \n",
       "7778                            zombieland   \n",
       "7779                             zona rosa   \n",
       "7784                     zulu man in japan   \n",
       "7785                zumbo 's just desserts   \n",
       "7786  zz top : little ol ' band from texas   \n",
       "\n",
       "                                      description-token  \n",
       "20    after accidentally connecting over internet , ...  \n",
       "21    taxi driver , gangster and athlete struggle to...  \n",
       "22    successful writer returns to town that launche...  \n",
       "23    when middle-aged divorcee returns to kolkata t...  \n",
       "24    seiya and knights of zodiac rise again to prot...  \n",
       "...                                                 ...  \n",
       "7778  looking to survive in world taken over by zomb...  \n",
       "7779  assortment of talent takes stage for night of ...  \n",
       "7784  in documentary , south african rapper nasty c ...  \n",
       "7785  dessert wizard adriano zumbo looks for next “ ...  \n",
       "7786  documentary delves into mystique behind blues-...  \n",
       "\n",
       "[5839 rows x 2 columns]"
      ]
     },
     "execution_count": 47,
     "metadata": {},
     "output_type": "execute_result"
    }
   ],
   "source": [
    "def pos_tag(text):\n",
    "    negatives = ['DT']\n",
    "    return ' '.join([s.lower() for s,pos in \\\n",
    "                     nltk.pos_tag(nltk.word_tokenize(text)) \\\n",
    "                     if pos not in negatives])\n",
    "pos_tag = np.vectorize(pos_tag)\n",
    "dfDG.loc[:,'description-token'] = dfDG['description'].apply(pos_tag)\n",
    "dfDG.loc[:,'title-token'] = dfDG['title'].apply(pos_tag)\n",
    "dfDG[['title-token','description-token']]"
   ]
  },
  {
   "cell_type": "markdown",
   "id": "automatic-programmer",
   "metadata": {},
   "source": [
    "Combining title and description column as `text`"
   ]
  },
  {
   "cell_type": "code",
   "execution_count": 52,
   "id": "graphic-polymer",
   "metadata": {},
   "outputs": [],
   "source": [
    "dfDG.loc[:,'text'] = dfDG['title-token'] + dfDG['description-token']"
   ]
  },
  {
   "cell_type": "code",
   "execution_count": 53,
   "id": "coated-treasure",
   "metadata": {},
   "outputs": [
    {
     "data": {
      "text/plain": [
       "152794"
      ]
     },
     "execution_count": 53,
     "metadata": {},
     "output_type": "execute_result"
    }
   ],
   "source": [
    "alltext = dfDG['text']\n",
    "alltext = alltext.str.split(' ').explode(ignore_index=True)\n",
    "alltext = alltext.str.lower()\n",
    "len(alltext) # number of distinct words in vocab"
   ]
  },
  {
   "cell_type": "markdown",
   "id": "sporting-hands",
   "metadata": {},
   "source": [
    "Top 50 most frequent words"
   ]
  },
  {
   "cell_type": "code",
   "execution_count": 49,
   "id": "analyzed-dress",
   "metadata": {},
   "outputs": [
    {
     "data": {
      "text/plain": [
       ",              6071\n",
       "and            4524\n",
       "to             4346\n",
       "of             4094\n",
       "in             3097\n",
       "his            2129\n",
       "'s             1603\n",
       "with           1592\n",
       "her            1445\n",
       ":              1278\n",
       "on             1264\n",
       "for            1253\n",
       "their          1118\n",
       "when            929\n",
       "from            876\n",
       "as              796\n",
       "is              746\n",
       "he              665\n",
       ".               650\n",
       "who             627\n",
       "by              624\n",
       "after           618\n",
       "life            583\n",
       "that            550\n",
       "at              539\n",
       "new             493\n",
       "but             480\n",
       "into            454\n",
       "–               451\n",
       "family          436\n",
       "young           434\n",
       "world           433\n",
       "up              432\n",
       "they            417\n",
       "love            407\n",
       "man             380\n",
       "she             379\n",
       "’               324\n",
       "two             320\n",
       "woman           318\n",
       "friends         318\n",
       "series          313\n",
       "out             309\n",
       "it              291\n",
       "s               276\n",
       "documentary     274\n",
       "are             273\n",
       "about           270\n",
       "him             257\n",
       "``              255\n",
       "dtype: int64"
      ]
     },
     "execution_count": 49,
     "metadata": {},
     "output_type": "execute_result"
    }
   ],
   "source": [
    "topwords = alltext.value_counts()[:50]\n",
    "topwords"
   ]
  },
  {
   "cell_type": "markdown",
   "id": "practical-official",
   "metadata": {},
   "source": [
    "## Top words which appear mostly in each genre"
   ]
  },
  {
   "cell_type": "code",
   "execution_count": 50,
   "id": "painful-smart",
   "metadata": {},
   "outputs": [
    {
     "data": {
      "text/plain": [
       "['International Movies',\n",
       " 'Dramas',\n",
       " 'Comedies',\n",
       " 'International TV Shows',\n",
       " 'Documentaries',\n",
       " 'TV Dramas',\n",
       " 'Independent Movies',\n",
       " 'TV Comedies',\n",
       " 'Children & Family Movies',\n",
       " 'Action & Adventure']"
      ]
     },
     "execution_count": 50,
     "metadata": {},
     "output_type": "execute_result"
    }
   ],
   "source": [
    "topgenres = dfGenres.value_counts()[:10].index.tolist()\n",
    "topgenres"
   ]
  },
  {
   "cell_type": "code",
   "execution_count": 56,
   "id": "hungry-sponsorship",
   "metadata": {
    "scrolled": true
   },
   "outputs": [
    {
     "name": "stderr",
     "output_type": "stream",
     "text": [
      "/usr/local/lib/python3.9/site-packages/pandas/core/indexing.py:1843: SettingWithCopyWarning: \n",
      "A value is trying to be set on a copy of a slice from a DataFrame.\n",
      "Try using .loc[row_indexer,col_indexer] = value instead\n",
      "\n",
      "See the caveats in the documentation: https://pandas.pydata.org/pandas-docs/stable/user_guide/indexing.html#returning-a-view-versus-a-copy\n",
      "  self.obj[item_labels[indexer[info_axis]]] = value\n"
     ]
    },
    {
     "data": {
      "text/html": [
       "<div>\n",
       "<style scoped>\n",
       "    .dataframe tbody tr th:only-of-type {\n",
       "        vertical-align: middle;\n",
       "    }\n",
       "\n",
       "    .dataframe tbody tr th {\n",
       "        vertical-align: top;\n",
       "    }\n",
       "\n",
       "    .dataframe thead th {\n",
       "        text-align: right;\n",
       "    }\n",
       "</style>\n",
       "<table border=\"1\" class=\"dataframe\">\n",
       "  <thead>\n",
       "    <tr style=\"text-align: right;\">\n",
       "      <th></th>\n",
       "      <th>genre</th>\n",
       "      <th>text</th>\n",
       "    </tr>\n",
       "  </thead>\n",
       "  <tbody>\n",
       "    <tr>\n",
       "      <th>20</th>\n",
       "      <td>Dramas</td>\n",
       "      <td>​​kuch</td>\n",
       "    </tr>\n",
       "    <tr>\n",
       "      <th>20</th>\n",
       "      <td>Dramas</td>\n",
       "      <td>bheege</td>\n",
       "    </tr>\n",
       "    <tr>\n",
       "      <th>20</th>\n",
       "      <td>Dramas</td>\n",
       "      <td>alfaazafter</td>\n",
       "    </tr>\n",
       "  </tbody>\n",
       "</table>\n",
       "</div>"
      ],
      "text/plain": [
       "     genre         text\n",
       "20  Dramas       ​​kuch\n",
       "20  Dramas       bheege\n",
       "20  Dramas  alfaazafter"
      ]
     },
     "execution_count": 56,
     "metadata": {},
     "output_type": "execute_result"
    }
   ],
   "source": [
    "dfGenreText = dfDG[['genre','text']]\n",
    "dfGenreText.loc[:,'text'] = dfGenreText['text'].str.split(' ')\n",
    "dfGenreText = dfGenreText.explode(\"genre\").explode('text')\n",
    "dfGenreText = dfGenreText[dfGenreText['genre'].isin(topgenres)]\n",
    "dfGenreText[:3]"
   ]
  },
  {
   "cell_type": "code",
   "execution_count": 57,
   "id": "positive-tracy",
   "metadata": {},
   "outputs": [
    {
     "data": {
      "text/html": [
       "<div>\n",
       "<style scoped>\n",
       "    .dataframe tbody tr th:only-of-type {\n",
       "        vertical-align: middle;\n",
       "    }\n",
       "\n",
       "    .dataframe tbody tr th {\n",
       "        vertical-align: top;\n",
       "    }\n",
       "\n",
       "    .dataframe thead th {\n",
       "        text-align: right;\n",
       "    }\n",
       "</style>\n",
       "<table border=\"1\" class=\"dataframe\">\n",
       "  <thead>\n",
       "    <tr style=\"text-align: right;\">\n",
       "      <th></th>\n",
       "      <th>term</th>\n",
       "      <th>freq</th>\n",
       "      <th>genre</th>\n",
       "      <th>freq%</th>\n",
       "    </tr>\n",
       "  </thead>\n",
       "  <tbody>\n",
       "    <tr>\n",
       "      <th>0</th>\n",
       "      <td>.</td>\n",
       "      <td>436</td>\n",
       "      <td>Action &amp; Adventure</td>\n",
       "      <td>0.041552</td>\n",
       "    </tr>\n",
       "    <tr>\n",
       "      <th>1</th>\n",
       "      <td>,</td>\n",
       "      <td>371</td>\n",
       "      <td>Action &amp; Adventure</td>\n",
       "      <td>0.035357</td>\n",
       "    </tr>\n",
       "    <tr>\n",
       "      <th>2</th>\n",
       "      <td>to</td>\n",
       "      <td>355</td>\n",
       "      <td>Action &amp; Adventure</td>\n",
       "      <td>0.033832</td>\n",
       "    </tr>\n",
       "    <tr>\n",
       "      <th>3</th>\n",
       "      <td>of</td>\n",
       "      <td>297</td>\n",
       "      <td>Action &amp; Adventure</td>\n",
       "      <td>0.028305</td>\n",
       "    </tr>\n",
       "    <tr>\n",
       "      <th>4</th>\n",
       "      <td>and</td>\n",
       "      <td>208</td>\n",
       "      <td>Action &amp; Adventure</td>\n",
       "      <td>0.019823</td>\n",
       "    </tr>\n",
       "    <tr>\n",
       "      <th>...</th>\n",
       "      <td>...</td>\n",
       "      <td>...</td>\n",
       "      <td>...</td>\n",
       "      <td>...</td>\n",
       "    </tr>\n",
       "    <tr>\n",
       "      <th>95</th>\n",
       "      <td>in</td>\n",
       "      <td>253</td>\n",
       "      <td>TV Dramas</td>\n",
       "      <td>0.019133</td>\n",
       "    </tr>\n",
       "    <tr>\n",
       "      <th>96</th>\n",
       "      <td>her</td>\n",
       "      <td>185</td>\n",
       "      <td>TV Dramas</td>\n",
       "      <td>0.013991</td>\n",
       "    </tr>\n",
       "    <tr>\n",
       "      <th>97</th>\n",
       "      <td>his</td>\n",
       "      <td>135</td>\n",
       "      <td>TV Dramas</td>\n",
       "      <td>0.010209</td>\n",
       "    </tr>\n",
       "    <tr>\n",
       "      <th>98</th>\n",
       "      <td>'s</td>\n",
       "      <td>130</td>\n",
       "      <td>TV Dramas</td>\n",
       "      <td>0.009831</td>\n",
       "    </tr>\n",
       "    <tr>\n",
       "      <th>99</th>\n",
       "      <td>with</td>\n",
       "      <td>120</td>\n",
       "      <td>TV Dramas</td>\n",
       "      <td>0.009075</td>\n",
       "    </tr>\n",
       "  </tbody>\n",
       "</table>\n",
       "<p>100 rows × 4 columns</p>\n",
       "</div>"
      ],
      "text/plain": [
       "    term  freq               genre     freq%\n",
       "0      .   436  Action & Adventure  0.041552\n",
       "1      ,   371  Action & Adventure  0.035357\n",
       "2     to   355  Action & Adventure  0.033832\n",
       "3     of   297  Action & Adventure  0.028305\n",
       "4    and   208  Action & Adventure  0.019823\n",
       "..   ...   ...                 ...       ...\n",
       "95    in   253           TV Dramas  0.019133\n",
       "96   her   185           TV Dramas  0.013991\n",
       "97   his   135           TV Dramas  0.010209\n",
       "98    's   130           TV Dramas  0.009831\n",
       "99  with   120           TV Dramas  0.009075\n",
       "\n",
       "[100 rows x 4 columns]"
      ]
     },
     "execution_count": 57,
     "metadata": {},
     "output_type": "execute_result"
    }
   ],
   "source": [
    "top_words_genre = []\n",
    "for genre, df in dfGenreText.groupby('genre'):\n",
    "    top = df['text'].value_counts()[:10].reset_index()\n",
    "    top.columns = ['term','freq']\n",
    "    top.loc[:,'genre'] = genre\n",
    "    top.loc[:,'freq%'] = top['freq']/float(len(df))\n",
    "    top_words_genre.append(top)\n",
    "dfTopGenreWords = pd.concat(top_words_genre, ignore_index=True)\n",
    "dfTopGenreWords"
   ]
  },
  {
   "cell_type": "code",
   "execution_count": 58,
   "id": "basic-fruit",
   "metadata": {},
   "outputs": [
    {
     "data": {
      "text/html": [
       "<div>\n",
       "<style scoped>\n",
       "    .dataframe tbody tr th:only-of-type {\n",
       "        vertical-align: middle;\n",
       "    }\n",
       "\n",
       "    .dataframe tbody tr th {\n",
       "        vertical-align: top;\n",
       "    }\n",
       "\n",
       "    .dataframe thead th {\n",
       "        text-align: right;\n",
       "    }\n",
       "</style>\n",
       "<table border=\"1\" class=\"dataframe\">\n",
       "  <thead>\n",
       "    <tr style=\"text-align: right;\">\n",
       "      <th></th>\n",
       "      <th>term</th>\n",
       "      <th>freq</th>\n",
       "      <th>genre</th>\n",
       "      <th>freq%</th>\n",
       "    </tr>\n",
       "  </thead>\n",
       "  <tbody>\n",
       "    <tr>\n",
       "      <th>90</th>\n",
       "      <td>.</td>\n",
       "      <td>579</td>\n",
       "      <td>TV Dramas</td>\n",
       "      <td>0.043787</td>\n",
       "    </tr>\n",
       "    <tr>\n",
       "      <th>91</th>\n",
       "      <td>,</td>\n",
       "      <td>522</td>\n",
       "      <td>TV Dramas</td>\n",
       "      <td>0.039477</td>\n",
       "    </tr>\n",
       "    <tr>\n",
       "      <th>92</th>\n",
       "      <td>and</td>\n",
       "      <td>423</td>\n",
       "      <td>TV Dramas</td>\n",
       "      <td>0.031990</td>\n",
       "    </tr>\n",
       "    <tr>\n",
       "      <th>93</th>\n",
       "      <td>of</td>\n",
       "      <td>389</td>\n",
       "      <td>TV Dramas</td>\n",
       "      <td>0.029418</td>\n",
       "    </tr>\n",
       "    <tr>\n",
       "      <th>94</th>\n",
       "      <td>to</td>\n",
       "      <td>371</td>\n",
       "      <td>TV Dramas</td>\n",
       "      <td>0.028057</td>\n",
       "    </tr>\n",
       "    <tr>\n",
       "      <th>95</th>\n",
       "      <td>in</td>\n",
       "      <td>253</td>\n",
       "      <td>TV Dramas</td>\n",
       "      <td>0.019133</td>\n",
       "    </tr>\n",
       "    <tr>\n",
       "      <th>96</th>\n",
       "      <td>her</td>\n",
       "      <td>185</td>\n",
       "      <td>TV Dramas</td>\n",
       "      <td>0.013991</td>\n",
       "    </tr>\n",
       "    <tr>\n",
       "      <th>97</th>\n",
       "      <td>his</td>\n",
       "      <td>135</td>\n",
       "      <td>TV Dramas</td>\n",
       "      <td>0.010209</td>\n",
       "    </tr>\n",
       "    <tr>\n",
       "      <th>98</th>\n",
       "      <td>'s</td>\n",
       "      <td>130</td>\n",
       "      <td>TV Dramas</td>\n",
       "      <td>0.009831</td>\n",
       "    </tr>\n",
       "    <tr>\n",
       "      <th>99</th>\n",
       "      <td>with</td>\n",
       "      <td>120</td>\n",
       "      <td>TV Dramas</td>\n",
       "      <td>0.009075</td>\n",
       "    </tr>\n",
       "  </tbody>\n",
       "</table>\n",
       "</div>"
      ],
      "text/plain": [
       "    term  freq      genre     freq%\n",
       "90     .   579  TV Dramas  0.043787\n",
       "91     ,   522  TV Dramas  0.039477\n",
       "92   and   423  TV Dramas  0.031990\n",
       "93    of   389  TV Dramas  0.029418\n",
       "94    to   371  TV Dramas  0.028057\n",
       "95    in   253  TV Dramas  0.019133\n",
       "96   her   185  TV Dramas  0.013991\n",
       "97   his   135  TV Dramas  0.010209\n",
       "98    's   130  TV Dramas  0.009831\n",
       "99  with   120  TV Dramas  0.009075"
      ]
     },
     "execution_count": 58,
     "metadata": {},
     "output_type": "execute_result"
    }
   ],
   "source": [
    "dfTopGenreWords[dfTopGenreWords['genre'] == 'TV Dramas']"
   ]
  },
  {
   "cell_type": "markdown",
   "id": "smart-helena",
   "metadata": {},
   "source": [
    "# 3. Basic Text Classification Model\n",
    "Simple TFIDF model with POS"
   ]
  },
  {
   "cell_type": "code",
   "execution_count": 72,
   "id": "eleven-black",
   "metadata": {},
   "outputs": [
    {
     "name": "stderr",
     "output_type": "stream",
     "text": [
      "/usr/local/lib/python3.9/site-packages/pandas/core/indexing.py:1843: SettingWithCopyWarning: \n",
      "A value is trying to be set on a copy of a slice from a DataFrame.\n",
      "Try using .loc[row_indexer,col_indexer] = value instead\n",
      "\n",
      "See the caveats in the documentation: https://pandas.pydata.org/pandas-docs/stable/user_guide/indexing.html#returning-a-view-versus-a-copy\n",
      "  self.obj[item_labels[indexer[info_axis]]] = value\n"
     ]
    },
    {
     "data": {
      "text/html": [
       "<div>\n",
       "<style scoped>\n",
       "    .dataframe tbody tr th:only-of-type {\n",
       "        vertical-align: middle;\n",
       "    }\n",
       "\n",
       "    .dataframe tbody tr th {\n",
       "        vertical-align: top;\n",
       "    }\n",
       "\n",
       "    .dataframe thead th {\n",
       "        text-align: right;\n",
       "    }\n",
       "</style>\n",
       "<table border=\"1\" class=\"dataframe\">\n",
       "  <thead>\n",
       "    <tr style=\"text-align: right;\">\n",
       "      <th></th>\n",
       "      <th>genre</th>\n",
       "      <th>text</th>\n",
       "    </tr>\n",
       "  </thead>\n",
       "  <tbody>\n",
       "    <tr>\n",
       "      <th>20</th>\n",
       "      <td>[Dramas, Independent Movies, International Mov...</td>\n",
       "      <td>​​kuch bheege alfaazafter accidentally connect...</td>\n",
       "    </tr>\n",
       "    <tr>\n",
       "      <th>21</th>\n",
       "      <td>[Action &amp; Adventure, Dramas, International Mov...</td>\n",
       "      <td>​goli soda 2taxi driver , gangster and athlete...</td>\n",
       "    </tr>\n",
       "    <tr>\n",
       "      <th>22</th>\n",
       "      <td>[Dramas, International Movies]</td>\n",
       "      <td>​maj rati ​​ketekisuccessful writer returns to...</td>\n",
       "    </tr>\n",
       "    <tr>\n",
       "      <th>23</th>\n",
       "      <td>[Dramas, International Movies]</td>\n",
       "      <td>​mayurakshiwhen middle-aged divorcee returns t...</td>\n",
       "    </tr>\n",
       "  </tbody>\n",
       "</table>\n",
       "</div>"
      ],
      "text/plain": [
       "                                                genre  \\\n",
       "20  [Dramas, Independent Movies, International Mov...   \n",
       "21  [Action & Adventure, Dramas, International Mov...   \n",
       "22                     [Dramas, International Movies]   \n",
       "23                     [Dramas, International Movies]   \n",
       "\n",
       "                                                 text  \n",
       "20  ​​kuch bheege alfaazafter accidentally connect...  \n",
       "21  ​goli soda 2taxi driver , gangster and athlete...  \n",
       "22  ​maj rati ​​ketekisuccessful writer returns to...  \n",
       "23  ​mayurakshiwhen middle-aged divorcee returns t...  "
      ]
     },
     "execution_count": 72,
     "metadata": {},
     "output_type": "execute_result"
    }
   ],
   "source": [
    "dfBasic = dfDG[['genre','text']]\n",
    "dfBasic.loc[:,'text'] = dfBasic['text']\n",
    "dfBasic[:4]"
   ]
  },
  {
   "cell_type": "code",
   "execution_count": 76,
   "id": "extra-recovery",
   "metadata": {},
   "outputs": [],
   "source": [
    "from sklearn.feature_extraction.text import TfidfVectorizer\n",
    "from sklearn.pipeline import Pipeline\n",
    "from sklearn.linear_model import LogisticRegression\n",
    "from sklearn.model_selection import cross_validate"
   ]
  },
  {
   "cell_type": "code",
   "execution_count": 74,
   "id": "fluid-index",
   "metadata": {},
   "outputs": [],
   "source": [
    "pipe = Pipeline(steps=[\n",
    "    (\"vectoriser\",TfidfVectorizer(\n",
    "        lowercase=True, ngram_range=(1,3))),\n",
    "    (\"logit\", LogisticRegression(\n",
    "        penalty=\"l2\", solver='sag')) # stochastic average gradient descent\n",
    "])"
   ]
  },
  {
   "cell_type": "markdown",
   "id": "elect-boards",
   "metadata": {},
   "source": [
    "Train separate binary model for each genre"
   ]
  },
  {
   "cell_type": "code",
   "execution_count": 80,
   "id": "binary-ticket",
   "metadata": {},
   "outputs": [
    {
     "name": "stdout",
     "output_type": "stream",
     "text": [
      "Training model : International Movies"
     ]
    },
    {
     "name": "stderr",
     "output_type": "stream",
     "text": [
      "<ipython-input-80-85c80863ecc0>:10: SettingWithCopyWarning: \n",
      "A value is trying to be set on a copy of a slice from a DataFrame.\n",
      "Try using .loc[row_indexer,col_indexer] = value instead\n",
      "\n",
      "See the caveats in the documentation: https://pandas.pydata.org/pandas-docs/stable/user_guide/indexing.html#returning-a-view-versus-a-copy\n",
      "  dfTest['pred'] = model_collection[genre].predict(dfTest['text'])\n"
     ]
    },
    {
     "name": "stdout",
     "output_type": "stream",
     "text": [
      "....precision = 0.72\n",
      "Training model : Dramas"
     ]
    },
    {
     "name": "stderr",
     "output_type": "stream",
     "text": [
      "<ipython-input-80-85c80863ecc0>:10: SettingWithCopyWarning: \n",
      "A value is trying to be set on a copy of a slice from a DataFrame.\n",
      "Try using .loc[row_indexer,col_indexer] = value instead\n",
      "\n",
      "See the caveats in the documentation: https://pandas.pydata.org/pandas-docs/stable/user_guide/indexing.html#returning-a-view-versus-a-copy\n",
      "  dfTest['pred'] = model_collection[genre].predict(dfTest['text'])\n"
     ]
    },
    {
     "name": "stdout",
     "output_type": "stream",
     "text": [
      "....precision = 0.77\n",
      "Training model : Comedies"
     ]
    },
    {
     "name": "stderr",
     "output_type": "stream",
     "text": [
      "<ipython-input-80-85c80863ecc0>:10: SettingWithCopyWarning: \n",
      "A value is trying to be set on a copy of a slice from a DataFrame.\n",
      "Try using .loc[row_indexer,col_indexer] = value instead\n",
      "\n",
      "See the caveats in the documentation: https://pandas.pydata.org/pandas-docs/stable/user_guide/indexing.html#returning-a-view-versus-a-copy\n",
      "  dfTest['pred'] = model_collection[genre].predict(dfTest['text'])\n"
     ]
    },
    {
     "name": "stdout",
     "output_type": "stream",
     "text": [
      "....precision = 0.82\n",
      "Training model : International TV Shows"
     ]
    },
    {
     "name": "stderr",
     "output_type": "stream",
     "text": [
      "<ipython-input-80-85c80863ecc0>:10: SettingWithCopyWarning: \n",
      "A value is trying to be set on a copy of a slice from a DataFrame.\n",
      "Try using .loc[row_indexer,col_indexer] = value instead\n",
      "\n",
      "See the caveats in the documentation: https://pandas.pydata.org/pandas-docs/stable/user_guide/indexing.html#returning-a-view-versus-a-copy\n",
      "  dfTest['pred'] = model_collection[genre].predict(dfTest['text'])\n"
     ]
    },
    {
     "name": "stdout",
     "output_type": "stream",
     "text": [
      "....precision = 0.86\n",
      "Training model : Documentaries"
     ]
    },
    {
     "name": "stderr",
     "output_type": "stream",
     "text": [
      "<ipython-input-80-85c80863ecc0>:10: SettingWithCopyWarning: \n",
      "A value is trying to be set on a copy of a slice from a DataFrame.\n",
      "Try using .loc[row_indexer,col_indexer] = value instead\n",
      "\n",
      "See the caveats in the documentation: https://pandas.pydata.org/pandas-docs/stable/user_guide/indexing.html#returning-a-view-versus-a-copy\n",
      "  dfTest['pred'] = model_collection[genre].predict(dfTest['text'])\n"
     ]
    },
    {
     "name": "stdout",
     "output_type": "stream",
     "text": [
      "....precision = 0.87\n",
      "Training model : TV Dramas"
     ]
    },
    {
     "name": "stderr",
     "output_type": "stream",
     "text": [
      "<ipython-input-80-85c80863ecc0>:10: SettingWithCopyWarning: \n",
      "A value is trying to be set on a copy of a slice from a DataFrame.\n",
      "Try using .loc[row_indexer,col_indexer] = value instead\n",
      "\n",
      "See the caveats in the documentation: https://pandas.pydata.org/pandas-docs/stable/user_guide/indexing.html#returning-a-view-versus-a-copy\n",
      "  dfTest['pred'] = model_collection[genre].predict(dfTest['text'])\n"
     ]
    },
    {
     "name": "stdout",
     "output_type": "stream",
     "text": [
      "....precision = 0.91\n",
      "Training model : Independent Movies"
     ]
    },
    {
     "name": "stderr",
     "output_type": "stream",
     "text": [
      "<ipython-input-80-85c80863ecc0>:10: SettingWithCopyWarning: \n",
      "A value is trying to be set on a copy of a slice from a DataFrame.\n",
      "Try using .loc[row_indexer,col_indexer] = value instead\n",
      "\n",
      "See the caveats in the documentation: https://pandas.pydata.org/pandas-docs/stable/user_guide/indexing.html#returning-a-view-versus-a-copy\n",
      "  dfTest['pred'] = model_collection[genre].predict(dfTest['text'])\n"
     ]
    },
    {
     "name": "stdout",
     "output_type": "stream",
     "text": [
      "....precision = 0.93\n",
      "Training model : TV Comedies"
     ]
    },
    {
     "name": "stderr",
     "output_type": "stream",
     "text": [
      "<ipython-input-80-85c80863ecc0>:10: SettingWithCopyWarning: \n",
      "A value is trying to be set on a copy of a slice from a DataFrame.\n",
      "Try using .loc[row_indexer,col_indexer] = value instead\n",
      "\n",
      "See the caveats in the documentation: https://pandas.pydata.org/pandas-docs/stable/user_guide/indexing.html#returning-a-view-versus-a-copy\n",
      "  dfTest['pred'] = model_collection[genre].predict(dfTest['text'])\n"
     ]
    },
    {
     "name": "stdout",
     "output_type": "stream",
     "text": [
      "....precision = 0.92\n",
      "Training model : Children & Family Movies"
     ]
    },
    {
     "name": "stderr",
     "output_type": "stream",
     "text": [
      "<ipython-input-80-85c80863ecc0>:10: SettingWithCopyWarning: \n",
      "A value is trying to be set on a copy of a slice from a DataFrame.\n",
      "Try using .loc[row_indexer,col_indexer] = value instead\n",
      "\n",
      "See the caveats in the documentation: https://pandas.pydata.org/pandas-docs/stable/user_guide/indexing.html#returning-a-view-versus-a-copy\n",
      "  dfTest['pred'] = model_collection[genre].predict(dfTest['text'])\n"
     ]
    },
    {
     "name": "stdout",
     "output_type": "stream",
     "text": [
      "....precision = 0.92\n",
      "Training model : Action & Adventure....precision = 0.93\n"
     ]
    },
    {
     "name": "stderr",
     "output_type": "stream",
     "text": [
      "<ipython-input-80-85c80863ecc0>:10: SettingWithCopyWarning: \n",
      "A value is trying to be set on a copy of a slice from a DataFrame.\n",
      "Try using .loc[row_indexer,col_indexer] = value instead\n",
      "\n",
      "See the caveats in the documentation: https://pandas.pydata.org/pandas-docs/stable/user_guide/indexing.html#returning-a-view-versus-a-copy\n",
      "  dfTest['pred'] = model_collection[genre].predict(dfTest['text'])\n"
     ]
    }
   ],
   "source": [
    "model_collection = {}\n",
    "for genre in topgenres:\n",
    "    print(f'Training model : {genre}', end='')\n",
    "    def match_genre(gs):\n",
    "        return int(genre in gs)\n",
    "    dfLabelled = dfBasic[['genre','text']]\n",
    "    dfLabelled.loc[:, 'genre'] = dfLabelled['genre'].apply(match_genre)\n",
    "    # Split\n",
    "    dfTrain, dfTest = train_test_split(dfLabelled, test_size=0.2)\n",
    "    model_collection[genre] = pipe.fit(dfTrain['text'], dfTrain['genre'])\n",
    "    # Eval\n",
    "    dfTest['pred'] = model_collection[genre].predict(dfTest['text'])\n",
    "    precision = len(dfTest[dfTest['genre']==dfTest['pred']])/len(dfTest)\n",
    "    print(f'....precision = {precision:.2f}')\n"
   ]
  },
  {
   "cell_type": "code",
   "execution_count": null,
   "id": "latin-edwards",
   "metadata": {},
   "outputs": [],
   "source": []
  }
 ],
 "metadata": {
  "kernelspec": {
   "display_name": "Python 3",
   "language": "python",
   "name": "python3"
  },
  "language_info": {
   "codemirror_mode": {
    "name": "ipython",
    "version": 3
   },
   "file_extension": ".py",
   "mimetype": "text/x-python",
   "name": "python",
   "nbconvert_exporter": "python",
   "pygments_lexer": "ipython3",
   "version": "3.9.1"
  }
 },
 "nbformat": 4,
 "nbformat_minor": 5
}
