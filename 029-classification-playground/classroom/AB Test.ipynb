{
 "cells": [
  {
   "cell_type": "code",
   "execution_count": 1,
   "id": "sensitive-think",
   "metadata": {},
   "outputs": [],
   "source": [
    "import numpy as np\n",
    "import pandas as pd\n",
    "import seaborn as sns\n",
    "import scipy\n",
    "import matplotlib.pyplot as plt\n",
    "import os"
   ]
  },
  {
   "cell_type": "markdown",
   "id": "incorporated-boards",
   "metadata": {},
   "source": [
    "# Test 1 - Increase number of videos matched daily by a user\n",
    "with the new recommendation\n",
    "- Unit to measure : % increase of number videos watched daily\n",
    "- Variant A : Default recommendation\n",
    "- Variant B : New recommendation\n",
    "- Allocation : UserID"
   ]
  },
  {
   "cell_type": "code",
   "execution_count": 67,
   "id": "quick-softball",
   "metadata": {},
   "outputs": [],
   "source": [
    "sample_per_day = 10_000 # person\n",
    "num_days = 30\n",
    "C_level = 0.98 # Target confidence level"
   ]
  },
  {
   "cell_type": "code",
   "execution_count": 68,
   "id": "engaging-provider",
   "metadata": {},
   "outputs": [
    {
     "data": {
      "text/plain": [
       "(150000, 150000)"
      ]
     },
     "execution_count": 68,
     "metadata": {},
     "output_type": "execute_result"
    }
   ],
   "source": [
    "# Generate variant data\n",
    "samples = {'A': [], 'B': []}\n",
    "for n in range(num_days):\n",
    "    sample_size = int(sample_per_day // 2)\n",
    "    # sample below : num videos watched by a user given 10 shown\n",
    "    A = np.random.binomial(n=10, p=0.1, size=sample_size)\n",
    "    B = np.random.binomial(n=10, p=0.1053, size=sample_size)\n",
    "    samples['A'] = np.concatenate([samples['A'], A])\n",
    "    samples['B'] = np.concatenate([samples['B'], B])\n",
    "len(samples['A']), len(samples['B'])"
   ]
  },
  {
   "cell_type": "markdown",
   "id": "violent-privacy",
   "metadata": {},
   "source": [
    "## Bootstrap method"
   ]
  },
  {
   "cell_type": "code",
   "execution_count": 61,
   "id": "informative-district",
   "metadata": {},
   "outputs": [],
   "source": [
    "# Bootstrap\n",
    "def bootstrap(samples, N=5000, K=2500, cap=-1, measure=np.mean):\n",
    "    def draw(samples, K):\n",
    "        A = np.random.choice(samples['A'][:cap], size=K//2, replace=True)\n",
    "        B = np.random.choice(samples['B'][:cap], size=K//2, replace=True)\n",
    "        a = measure(A)\n",
    "        b = measure(B)\n",
    "        return a,b\n",
    "\n",
    "    bs = [draw(samples, K) for n in range(N)]\n",
    "    return bs"
   ]
  },
  {
   "cell_type": "code",
   "execution_count": 69,
   "id": "acute-inventory",
   "metadata": {},
   "outputs": [],
   "source": [
    "bs = bootstrap(samples, N=5000, K=2500)"
   ]
  },
  {
   "cell_type": "markdown",
   "id": "surface-preservation",
   "metadata": {},
   "source": [
    "### Plot of bootstrap samples\n",
    "A v B"
   ]
  },
  {
   "cell_type": "code",
   "execution_count": 70,
   "id": "closed-equipment",
   "metadata": {},
   "outputs": [
    {
     "data": {
      "text/plain": [
       "<matplotlib.legend.Legend at 0x7fb75f539dd0>"
      ]
     },
     "execution_count": 70,
     "metadata": {},
     "output_type": "execute_result"
    },
    {
     "data": {
      "image/png": "[encoded data removed]",
      "text/plain": [
       "<Figure size 432x288 with 1 Axes>"
      ]
     },
     "metadata": {
      "needs_background": "light"
     },
     "output_type": "display_data"
    }
   ],
   "source": [
    "A, B = zip(*bs)\n",
    "sns.histplot(data=A, color='lightblue', label='A', kde=True, bins=20, element='poly')\n",
    "sns.histplot(data=B, color='red', label='B', kde=True, bins=20, element='poly')\n",
    "plt.legend()"
   ]
  },
  {
   "cell_type": "markdown",
   "id": "corporate-williams",
   "metadata": {},
   "source": [
    "### Generate daily bootstrap samples\n",
    "Simulate A/B test daily run"
   ]
  },
  {
   "cell_type": "code",
   "execution_count": 71,
   "id": "intensive-spiritual",
   "metadata": {},
   "outputs": [],
   "source": [
    "dailyrun = [bootstrap(samples, N=5000, K=2500, cap=d*sample_per_day) \\\n",
    "            for d in range(1,num_days+1)]"
   ]
  },
  {
   "cell_type": "markdown",
   "id": "herbal-faculty",
   "metadata": {},
   "source": [
    "### Evaluate significance level over time\n",
    "\n",
    "![image](ab.png)"
   ]
  },
  {
   "cell_type": "code",
   "execution_count": 41,
   "id": "solved-greenhouse",
   "metadata": {},
   "outputs": [
    {
     "data": {
      "text/plain": [
       "1.2815515655446004"
      ]
     },
     "execution_count": 41,
     "metadata": {},
     "output_type": "execute_result"
    }
   ],
   "source": [
    "scipy.stats.norm.ppf(0.9)"
   ]
  },
  {
   "cell_type": "code",
   "execution_count": 72,
   "id": "continent-outreach",
   "metadata": {},
   "outputs": [],
   "source": [
    "def confidence_interval(P, level):\n",
    "    z = scipy.stats.norm.ppf(level) # probability => z score\n",
    "    margin_err = z * np.std(P) / np.sqrt(len(P))\n",
    "    return np.mean(P), margin_err\n",
    "\n",
    "def significance(bs, level=0.95):\n",
    "    # find confidence interval of A\n",
    "    a, b = zip(*bs)\n",
    "    mean_a, margin_err = confidence_interval(a, level)\n",
    "    upperbound = mean_a + margin_err\n",
    "    \n",
    "    # find area of B, start from upperbound of A towards right tail\n",
    "    zb = (upperbound - np.mean(b)) / np.std(b)\n",
    "    sig = 1 - scipy.stats.norm.cdf(zb)\n",
    "    return sig"
   ]
  },
  {
   "cell_type": "code",
   "execution_count": 73,
   "id": "proud-vulnerability",
   "metadata": {},
   "outputs": [],
   "source": [
    "dailysig = [significance(bs, level=C_level) for bs in dailyrun]"
   ]
  },
  {
   "cell_type": "code",
   "execution_count": 74,
   "id": "gentle-negative",
   "metadata": {},
   "outputs": [
    {
     "name": "stderr",
     "output_type": "stream",
     "text": [
      "/Users/pataoengineer/opt/miniconda3/lib/python3.7/site-packages/seaborn/_decorators.py:43: FutureWarning: Pass the following variables as keyword args: x, y. From version 0.12, the only valid positional argument will be `data`, and passing other arguments without an explicit keyword will result in an error or misinterpretation.\n",
      "  FutureWarning\n"
     ]
    },
    {
     "data": {
      "text/plain": [
       "<matplotlib.lines.Line2D at 0x7fb761aaaf10>"
      ]
     },
     "execution_count": 74,
     "metadata": {},
     "output_type": "execute_result"
    },
    {
     "data": {
      "image/png": "[encoded data removed]",
      "text/plain": [
       "<Figure size 432x288 with 1 Axes>"
      ]
     },
     "metadata": {
      "needs_background": "light"
     },
     "output_type": "display_data"
    }
   ],
   "source": [
    "ax = sns.lineplot(np.arange(len(dailysig)), dailysig)\n",
    "ax.set(ylabel='Significance', xlabel='Day')\n",
    "ax.axhline(C_level, color='red')"
   ]
  },
  {
   "cell_type": "markdown",
   "id": "endangered-coating",
   "metadata": {},
   "source": [
    "# Test 2 - (High variance) Sale compaigns\n",
    "- A : Default pricing models\n",
    "- B : Added on campaigns"
   ]
  },
  {
   "cell_type": "code",
   "execution_count": 120,
   "id": "horizontal-hours",
   "metadata": {},
   "outputs": [],
   "source": [
    "sample_per_day = 50_000 # person\n",
    "num_days = 15\n",
    "C_level = 0.9 # Target confidence level"
   ]
  },
  {
   "cell_type": "code",
   "execution_count": 136,
   "id": "experimental-logging",
   "metadata": {},
   "outputs": [
    {
     "data": {
      "text/plain": [
       "(375000, 375000)"
      ]
     },
     "execution_count": 136,
     "metadata": {},
     "output_type": "execute_result"
    }
   ],
   "source": [
    "# Generate variant data\n",
    "samples = {'A': [], 'B': []}\n",
    "for n in range(num_days):\n",
    "    sample_size = int(sample_per_day // 2)\n",
    "    # sample below : margin revenues\n",
    "    A = np.random.normal(loc=4, scale=25, size=sample_size)\n",
    "    B = np.random.normal(loc=4.9, scale=50, size=sample_size)\n",
    "    samples['A'] = np.concatenate([samples['A'], A])\n",
    "    samples['B'] = np.concatenate([samples['B'], B])\n",
    "len(samples['A']), len(samples['B'])"
   ]
  },
  {
   "cell_type": "markdown",
   "id": "lonely-princeton",
   "metadata": {},
   "source": [
    "## Bootstrap"
   ]
  },
  {
   "cell_type": "code",
   "execution_count": 137,
   "id": "north-australian",
   "metadata": {},
   "outputs": [],
   "source": [
    "bs = bootstrap(samples, N=5000, K=3000)"
   ]
  },
  {
   "cell_type": "code",
   "execution_count": 138,
   "id": "certified-excellence",
   "metadata": {},
   "outputs": [
    {
     "data": {
      "text/plain": [
       "<matplotlib.legend.Legend at 0x7fb747529090>"
      ]
     },
     "execution_count": 138,
     "metadata": {},
     "output_type": "execute_result"
    },
    {
     "data": {
      "image/png": "[encoded data removed]",
      "text/plain": [
       "<Figure size 432x288 with 1 Axes>"
      ]
     },
     "metadata": {
      "needs_background": "light"
     },
     "output_type": "display_data"
    }
   ],
   "source": [
    "A, B = zip(*bs)\n",
    "sns.histplot(data=A, color='lightblue', label='A', kde=True, bins=20, element='poly')\n",
    "sns.histplot(data=B, color='red', label='B', kde=True, bins=20, element='poly')\n",
    "plt.legend()"
   ]
  },
  {
   "cell_type": "markdown",
   "id": "second-input",
   "metadata": {},
   "source": [
    "## Generate daily run\n",
    "Simulate A/B daily run"
   ]
  },
  {
   "cell_type": "code",
   "execution_count": 139,
   "id": "interested-parcel",
   "metadata": {},
   "outputs": [],
   "source": [
    "dailyrun = [bootstrap(samples, N=4000, K=5000, cap=d*sample_per_day) \\\n",
    "            for d in range(1,num_days+1)]"
   ]
  },
  {
   "cell_type": "markdown",
   "id": "rough-investor",
   "metadata": {},
   "source": [
    "## Measure significance over daily runs\n",
    "and plot daily observation"
   ]
  },
  {
   "cell_type": "code",
   "execution_count": 140,
   "id": "cordless-quantum",
   "metadata": {},
   "outputs": [],
   "source": [
    "dailysig = [significance(bs, level=C_level) for bs in dailyrun]"
   ]
  },
  {
   "cell_type": "code",
   "execution_count": 141,
   "id": "surprising-brake",
   "metadata": {},
   "outputs": [
    {
     "name": "stderr",
     "output_type": "stream",
     "text": [
      "/Users/pataoengineer/opt/miniconda3/lib/python3.7/site-packages/seaborn/_decorators.py:43: FutureWarning: Pass the following variables as keyword args: x, y. From version 0.12, the only valid positional argument will be `data`, and passing other arguments without an explicit keyword will result in an error or misinterpretation.\n",
      "  FutureWarning\n"
     ]
    },
    {
     "data": {
      "text/plain": [
       "<matplotlib.lines.Line2D at 0x7fb746727a50>"
      ]
     },
     "execution_count": 141,
     "metadata": {},
     "output_type": "execute_result"
    },
    {
     "data": {
      "image/png": "[encoded data removed]",
      "text/plain": [
       "<Figure size 432x288 with 1 Axes>"
      ]
     },
     "metadata": {
      "needs_background": "light"
     },
     "output_type": "display_data"
    }
   ],
   "source": [
    "ax = sns.lineplot(np.arange(len(dailysig)), dailysig)\n",
    "ax.set(ylabel='Significance', xlabel='Day')\n",
    "ax.axhline(C_level, color='red')"
   ]
  },
  {
   "cell_type": "code",
   "execution_count": null,
   "id": "surrounded-poultry",
   "metadata": {},
   "outputs": [],
   "source": []
  },
  {
   "cell_type": "code",
   "execution_count": null,
   "id": "finnish-ferry",
   "metadata": {},
   "outputs": [],
   "source": []
  }
 ],
 "metadata": {
  "kernelspec": {
   "display_name": "Python 3",
   "language": "python",
   "name": "python3"
  },
  "language_info": {
   "codemirror_mode": {
    "name": "ipython",
    "version": 3
   },
   "file_extension": ".py",
   "mimetype": "text/x-python",
   "name": "python",
   "nbconvert_exporter": "python",
   "pygments_lexer": "ipython3",
   "version": "3.7.6"
  }
 },
 "nbformat": 4,
 "nbformat_minor": 5
}
