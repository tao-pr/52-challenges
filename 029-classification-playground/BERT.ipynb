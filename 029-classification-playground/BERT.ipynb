{
 "cells": [
  {
   "cell_type": "code",
   "execution_count": 2,
   "id": "million-welcome",
   "metadata": {},
   "outputs": [],
   "source": [
    "import transformers\n",
    "import numpy as np\n",
    "import tensorflow as tf\n",
    "from tensorflow import keras\n",
    "import pandas as pd"
   ]
  },
  {
   "cell_type": "markdown",
   "id": "indian-madness",
   "metadata": {},
   "source": [
    "# 1. Load BERT Model\n",
    "\n",
    "Pretrained multi-lingual from HuggingFace\n",
    "\n",
    "https://huggingface.co/bert-base-uncased"
   ]
  },
  {
   "cell_type": "code",
   "execution_count": 19,
   "id": "random-latitude",
   "metadata": {
    "scrolled": true
   },
   "outputs": [
    {
     "name": "stderr",
     "output_type": "stream",
     "text": [
      "Some layers from the model checkpoint at bert-base-uncased were not used when initializing TFBertModel: ['nsp___cls', 'mlm___cls']\n",
      "- This IS expected if you are initializing TFBertModel from the checkpoint of a model trained on another task or with another architecture (e.g. initializing a BertForSequenceClassification model from a BertForPreTraining model).\n",
      "- This IS NOT expected if you are initializing TFBertModel from the checkpoint of a model that you expect to be exactly identical (initializing a BertForSequenceClassification model from a BertForSequenceClassification model).\n",
      "All the layers of TFBertModel were initialized from the model checkpoint at bert-base-uncased.\n",
      "If your task is similar to the task the model of the checkpoint was trained on, you can already use TFBertModel for predictions without further training.\n"
     ]
    }
   ],
   "source": [
    "from transformers import BertTokenizer, TFBertModel\n",
    "\n",
    "# Multi-lingual\n",
    "mbertTokeniser = BertTokenizer.from_pretrained('bert-base-uncased')\n",
    "mbertModel = TFBertModel.from_pretrained(\n",
    "    \"bert-base-uncased\")\n",
    "\n",
    "mbertModel.trainable = False"
   ]
  },
  {
   "cell_type": "code",
   "execution_count": 20,
   "id": "diverse-omaha",
   "metadata": {
    "scrolled": true
   },
   "outputs": [
    {
     "name": "stdout",
     "output_type": "stream",
     "text": [
      "Model: \"tf_bert_model_1\"\n",
      "_________________________________________________________________\n",
      "Layer (type)                 Output Shape              Param #   \n",
      "=================================================================\n",
      "bert (TFBertMainLayer)       multiple                  109482240 \n",
      "=================================================================\n",
      "Total params: 109,482,240\n",
      "Trainable params: 0\n",
      "Non-trainable params: 109,482,240\n",
      "_________________________________________________________________\n"
     ]
    }
   ],
   "source": [
    "mbertModel.summary()"
   ]
  },
  {
   "cell_type": "markdown",
   "id": "relative-mystery",
   "metadata": {},
   "source": [
    "## Test encoding text in various languages"
   ]
  },
  {
   "cell_type": "code",
   "execution_count": 21,
   "id": "preceding-spread",
   "metadata": {
    "scrolled": true
   },
   "outputs": [
    {
     "data": {
      "text/plain": [
       "{'input_ids': <tf.Tensor: shape=(1, 7), dtype=int32, numpy=array([[ 101, 2054, 2515, 1996, 4419, 2360,  102]], dtype=int32)>, 'token_type_ids': <tf.Tensor: shape=(1, 7), dtype=int32, numpy=array([[0, 0, 0, 0, 0, 0, 0]], dtype=int32)>, 'attention_mask': <tf.Tensor: shape=(1, 7), dtype=int32, numpy=array([[1, 1, 1, 1, 1, 1, 1]], dtype=int32)>}"
      ]
     },
     "execution_count": 21,
     "metadata": {},
     "output_type": "execute_result"
    }
   ],
   "source": [
    "sentences = [\n",
    "    'What does the fox say',\n",
    "    'A dog barks at the farmer',\n",
    "    'The patient has a bad condition',\n",
    "    'The doctor rang me last night',\n",
    "    'Good one'\n",
    "]\n",
    "\n",
    "tensors = [mbertTokeniser(s, return_tensors='tf') for s in sentences]\n",
    "\n",
    "\n",
    "tensors[0]"
   ]
  },
  {
   "cell_type": "code",
   "execution_count": 22,
   "id": "loose-chart",
   "metadata": {},
   "outputs": [],
   "source": [
    "wouts = [mbertModel(t) for t in tensors]"
   ]
  },
  {
   "cell_type": "code",
   "execution_count": 36,
   "id": "appreciated-floating",
   "metadata": {},
   "outputs": [
    {
     "data": {
      "text/plain": [
       "['last_hidden_state', 'pooler_output']"
      ]
     },
     "execution_count": 36,
     "metadata": {},
     "output_type": "execute_result"
    }
   ],
   "source": [
    "[w for w in wouts[0]] # output structure of BERT"
   ]
  },
  {
   "cell_type": "code",
   "execution_count": 53,
   "id": "vital-castle",
   "metadata": {},
   "outputs": [
    {
     "data": {
      "text/plain": [
       "[(1, 7, 768), (1, 9, 768), (1, 8, 768), (1, 8, 768), (1, 4, 768)]"
      ]
     },
     "execution_count": 53,
     "metadata": {},
     "output_type": "execute_result"
    }
   ],
   "source": [
    "[w[0].numpy().shape for w in wouts] # dim of hidden states output"
   ]
  },
  {
   "cell_type": "code",
   "execution_count": 63,
   "id": "lined-midwest",
   "metadata": {},
   "outputs": [
    {
     "data": {
      "text/plain": [
       "[(1, 1, 768), (1, 1, 768), (1, 1, 768), (1, 1, 768), (1, 1, 768)]"
      ]
     },
     "execution_count": 63,
     "metadata": {},
     "output_type": "execute_result"
    }
   ],
   "source": [
    "# Flatten hidden states of N words in each sentence\n",
    "# by averaging\n",
    "fseqs = [np.mean(w[0].numpy(), axis=1, keepdims=True) for w in wouts]\n",
    "list(map(lambda f: f.shape, fseqs))"
   ]
  },
  {
   "cell_type": "code",
   "execution_count": 37,
   "id": "ambient-kazakhstan",
   "metadata": {},
   "outputs": [
    {
     "data": {
      "text/plain": [
       "['[CLS]', 'do', 'you', 'know', 'who', 'i', 'am', '[SEP]']"
      ]
     },
     "execution_count": 37,
     "metadata": {},
     "output_type": "execute_result"
    }
   ],
   "source": [
    "encoded = mbertTokeniser.encode('Do you know who i am') # str -> ids\n",
    "mbertTokeniser.convert_ids_to_tokens(encoded) # ids -> tokens"
   ]
  },
  {
   "cell_type": "code",
   "execution_count": 38,
   "id": "about-scotland",
   "metadata": {},
   "outputs": [
    {
     "data": {
      "text/plain": [
       "[101, 2054, 2515, 1996, 4419, 2360, 102]"
      ]
     },
     "execution_count": 38,
     "metadata": {},
     "output_type": "execute_result"
    }
   ],
   "source": [
    "sentence_ids = list(map(mbertTokeniser.encode, sentences))\n",
    "\n",
    "sentence_ids[0] # [CLS] first token"
   ]
  },
  {
   "cell_type": "markdown",
   "id": "knowing-terminal",
   "metadata": {},
   "source": [
    "Distance between each pair of sentences"
   ]
  },
  {
   "cell_type": "code",
   "execution_count": 67,
   "id": "greenhouse-right",
   "metadata": {},
   "outputs": [],
   "source": [
    "from sklearn.metrics.pairwise import cosine_similarity\n",
    "from heapq import heappush, heappop\n",
    "\n",
    "zs = list(zip(sentences, fseqs))\n",
    "\n",
    "closest = []\n",
    "for i,(s1,v1) in enumerate(zs):\n",
    "    for j,(s2,v2) in enumerate(zs[i+1:]):\n",
    "        c = cosine_similarity(\n",
    "            np.atleast_2d(v1.flatten()),\n",
    "            np.atleast_2d(v2.flatten()))\n",
    "        heappush(closest, (-c, (s1,s2)))"
   ]
  },
  {
   "cell_type": "code",
   "execution_count": 68,
   "id": "sublime-testimony",
   "metadata": {},
   "outputs": [
    {
     "name": "stdout",
     "output_type": "stream",
     "text": [
      "Top 5 closest pairs\n",
      "==========================\n",
      "Rank #0, [[0.63417834]]\n",
      "What does the fox say\n",
      "A dog barks at the farmer\n",
      "==========================\n",
      "Rank #1, [[0.5795742]]\n",
      "What does the fox say\n",
      "Good one\n",
      "==========================\n",
      "Rank #2, [[0.55851924]]\n",
      "What does the fox say\n",
      "The patient has a bad condition\n",
      "==========================\n",
      "Rank #3, [[0.5556514]]\n",
      "A dog barks at the farmer\n",
      "The patient has a bad condition\n",
      "==========================\n",
      "Rank #4, [[0.55180717]]\n",
      "A dog barks at the farmer\n",
      "The doctor rang me last night\n"
     ]
    }
   ],
   "source": [
    "print('Top 5 closest pairs')\n",
    "for i in range(5):\n",
    "    c, (s1,s2) = heappop(closest)\n",
    "    print('==========================')\n",
    "    print(f'Rank #{i}, {-c}')\n",
    "    print(s1)\n",
    "    print(s2)"
   ]
  },
  {
   "cell_type": "markdown",
   "id": "exact-contact",
   "metadata": {},
   "source": [
    "These sentence similarities make no sense at all"
   ]
  },
  {
   "cell_type": "markdown",
   "id": "funded-miniature",
   "metadata": {},
   "source": [
    "## Build Classification based on BERT\n",
    "\n",
    "By freezing pretrained layer of BERT, and add a new softmax layer"
   ]
  },
  {
   "cell_type": "code",
   "execution_count": 72,
   "id": "equivalent-break",
   "metadata": {},
   "outputs": [],
   "source": [
    "mbertModel.trainable = False"
   ]
  },
  {
   "cell_type": "code",
   "execution_count": 73,
   "id": "interim-consent",
   "metadata": {},
   "outputs": [
    {
     "data": {
      "text/plain": [
       "<transformers.models.bert.modeling_tf_bert.TFBertModel at 0x7fb8d3b0a290>"
      ]
     },
     "execution_count": 73,
     "metadata": {},
     "output_type": "execute_result"
    }
   ],
   "source": [
    "mbertModel"
   ]
  },
  {
   "cell_type": "markdown",
   "id": "swiss-profile",
   "metadata": {},
   "source": [
    "Add custom smoothing & classification layers"
   ]
  },
  {
   "cell_type": "code",
   "execution_count": 74,
   "id": "talented-invitation",
   "metadata": {},
   "outputs": [],
   "source": [
    "MAX_LEN = 16"
   ]
  },
  {
   "cell_type": "code",
   "execution_count": 75,
   "id": "organizational-hebrew",
   "metadata": {},
   "outputs": [
    {
     "name": "stdout",
     "output_type": "stream",
     "text": [
      "WARNING:tensorflow:There are non-GPU devices in `tf.distribute.Strategy`, not using nccl allreduce.\n",
      "INFO:tensorflow:Using MirroredStrategy with devices ('/job:localhost/replica:0/task:0/device:CPU:0',)\n",
      "WARNING:tensorflow:The parameters `output_attentions`, `output_hidden_states` and `use_cache` cannot be updated when calling a model.They have to be set to True/False in the config object (i.e.: `config=XConfig.from_pretrained('name', output_attentions=True)`).\n",
      "WARNING:tensorflow:The parameter `return_dict` cannot be set in graph mode and will always be set to `True`.\n"
     ]
    },
    {
     "ename": "TypeError",
     "evalue": "Inputs to a layer should be tensors. Got: last_hidden_state",
     "output_type": "error",
     "traceback": [
      "\u001b[0;31m---------------------------------------------------------------------------\u001b[0m",
      "\u001b[0;31mTypeError\u001b[0m                                 Traceback (most recent call last)",
      "\u001b[0;32m<ipython-input-75-55227176ef9c>\u001b[0m in \u001b[0;36m<module>\u001b[0;34m\u001b[0m\n\u001b[1;32m     29\u001b[0m \u001b[0;34m\u001b[0m\u001b[0m\n\u001b[1;32m     30\u001b[0m     \u001b[0;31m# smoothening layers\u001b[0m\u001b[0;34m\u001b[0m\u001b[0;34m\u001b[0m\u001b[0;34m\u001b[0m\u001b[0m\n\u001b[0;32m---> 31\u001b[0;31m     \u001b[0mpool1\u001b[0m \u001b[0;34m=\u001b[0m \u001b[0mkeras\u001b[0m\u001b[0;34m.\u001b[0m\u001b[0mlayers\u001b[0m\u001b[0;34m.\u001b[0m\u001b[0mGlobalAveragePooling1D\u001b[0m\u001b[0;34m(\u001b[0m\u001b[0;34m)\u001b[0m\u001b[0;34m(\u001b[0m\u001b[0msequence_output\u001b[0m\u001b[0;34m)\u001b[0m\u001b[0;34m\u001b[0m\u001b[0;34m\u001b[0m\u001b[0m\n\u001b[0m\u001b[1;32m     32\u001b[0m \u001b[0;34m\u001b[0m\u001b[0m\n\u001b[1;32m     33\u001b[0m     \u001b[0;31m# Modeling\u001b[0m\u001b[0;34m\u001b[0m\u001b[0;34m\u001b[0m\u001b[0;34m\u001b[0m\u001b[0m\n",
      "\u001b[0;32m~/opt/miniconda3/lib/python3.7/site-packages/tensorflow/python/keras/engine/base_layer.py\u001b[0m in \u001b[0;36m__call__\u001b[0;34m(self, *args, **kwargs)\u001b[0m\n\u001b[1;32m    996\u001b[0m         \u001b[0minputs\u001b[0m \u001b[0;34m=\u001b[0m \u001b[0mself\u001b[0m\u001b[0;34m.\u001b[0m\u001b[0m_maybe_cast_inputs\u001b[0m\u001b[0;34m(\u001b[0m\u001b[0minputs\u001b[0m\u001b[0;34m,\u001b[0m \u001b[0minput_list\u001b[0m\u001b[0;34m)\u001b[0m\u001b[0;34m\u001b[0m\u001b[0;34m\u001b[0m\u001b[0m\n\u001b[1;32m    997\u001b[0m \u001b[0;34m\u001b[0m\u001b[0m\n\u001b[0;32m--> 998\u001b[0;31m       \u001b[0minput_spec\u001b[0m\u001b[0;34m.\u001b[0m\u001b[0massert_input_compatibility\u001b[0m\u001b[0;34m(\u001b[0m\u001b[0mself\u001b[0m\u001b[0;34m.\u001b[0m\u001b[0minput_spec\u001b[0m\u001b[0;34m,\u001b[0m \u001b[0minputs\u001b[0m\u001b[0;34m,\u001b[0m \u001b[0mself\u001b[0m\u001b[0;34m.\u001b[0m\u001b[0mname\u001b[0m\u001b[0;34m)\u001b[0m\u001b[0;34m\u001b[0m\u001b[0;34m\u001b[0m\u001b[0m\n\u001b[0m\u001b[1;32m    999\u001b[0m       \u001b[0;32mif\u001b[0m \u001b[0meager\u001b[0m\u001b[0;34m:\u001b[0m\u001b[0;34m\u001b[0m\u001b[0;34m\u001b[0m\u001b[0m\n\u001b[1;32m   1000\u001b[0m         \u001b[0mcall_fn\u001b[0m \u001b[0;34m=\u001b[0m \u001b[0mself\u001b[0m\u001b[0;34m.\u001b[0m\u001b[0mcall\u001b[0m\u001b[0;34m\u001b[0m\u001b[0;34m\u001b[0m\u001b[0m\n",
      "\u001b[0;32m~/opt/miniconda3/lib/python3.7/site-packages/tensorflow/python/keras/engine/input_spec.py\u001b[0m in \u001b[0;36massert_input_compatibility\u001b[0;34m(input_spec, inputs, layer_name)\u001b[0m\n\u001b[1;32m    199\u001b[0m     \u001b[0;31m# have a `shape` attribute.\u001b[0m\u001b[0;34m\u001b[0m\u001b[0;34m\u001b[0m\u001b[0;34m\u001b[0m\u001b[0m\n\u001b[1;32m    200\u001b[0m     \u001b[0;32mif\u001b[0m \u001b[0;32mnot\u001b[0m \u001b[0mhasattr\u001b[0m\u001b[0;34m(\u001b[0m\u001b[0mx\u001b[0m\u001b[0;34m,\u001b[0m \u001b[0;34m'shape'\u001b[0m\u001b[0;34m)\u001b[0m\u001b[0;34m:\u001b[0m\u001b[0;34m\u001b[0m\u001b[0;34m\u001b[0m\u001b[0m\n\u001b[0;32m--> 201\u001b[0;31m       \u001b[0;32mraise\u001b[0m \u001b[0mTypeError\u001b[0m\u001b[0;34m(\u001b[0m\u001b[0;34m'Inputs to a layer should be tensors. Got: %s'\u001b[0m \u001b[0;34m%\u001b[0m \u001b[0;34m(\u001b[0m\u001b[0mx\u001b[0m\u001b[0;34m,\u001b[0m\u001b[0;34m)\u001b[0m\u001b[0;34m)\u001b[0m\u001b[0;34m\u001b[0m\u001b[0;34m\u001b[0m\u001b[0m\n\u001b[0m\u001b[1;32m    202\u001b[0m \u001b[0;34m\u001b[0m\u001b[0m\n\u001b[1;32m    203\u001b[0m   \u001b[0;32mif\u001b[0m \u001b[0mlen\u001b[0m\u001b[0;34m(\u001b[0m\u001b[0minputs\u001b[0m\u001b[0;34m)\u001b[0m \u001b[0;34m!=\u001b[0m \u001b[0mlen\u001b[0m\u001b[0;34m(\u001b[0m\u001b[0minput_spec\u001b[0m\u001b[0;34m)\u001b[0m\u001b[0;34m:\u001b[0m\u001b[0;34m\u001b[0m\u001b[0;34m\u001b[0m\u001b[0m\n",
      "\u001b[0;31mTypeError\u001b[0m: Inputs to a layer should be tensors. Got: last_hidden_state"
     ]
    }
   ],
   "source": [
    "# Train with distribution over GPUs\n",
    "strategy = tf.distribute.MirroredStrategy()\n",
    "\n",
    "with strategy.scope():\n",
    "        \n",
    "    # input layer (1) taking tokenised words\n",
    "    input_ids = keras.layers.Input(\n",
    "        shape=(MAX_LEN,), \n",
    "        dtype=tf.int32,\n",
    "        name=\"input_ids\")\n",
    "    \n",
    "    # input layer (2) taking attention masks (masking paddings)\n",
    "    mask_ids = keras.layers.Input(\n",
    "        shape=(MAX_LEN,),\n",
    "        dtype=tf.int32,\n",
    "        name=\"attention_mask_ids\")\n",
    "\n",
    "    # input layer (3) taking token types\n",
    "    token_type_ids = keras.layers.Input(\n",
    "        shape=(MAX_LEN,),\n",
    "        dtype=tf.int32,\n",
    "        name=\"token_type_ids\")\n",
    "    \n",
    "    # BERT layer\n",
    "    sequence_output, pooled_output = mbertModel(\n",
    "        input_ids, \n",
    "        attention_mask=mask_ids,\n",
    "        token_type_ids=token_type_ids)\n",
    "\n",
    "    # smoothening layers\n",
    "    pool1 = keras.layers.GlobalAveragePooling1D()(sequence_output)\n",
    "    \n",
    "    # Modeling\n",
    "    model = keras.models.Model(\n",
    "        inputs=[input_ids, mask_ids, token_type_ids],\n",
    "        outputs=[])\n",
    "    \n",
    "    model.compile(\n",
    "        loss='categorical_crossentropy',\n",
    "        metric='accuracy')"
   ]
  },
  {
   "cell_type": "code",
   "execution_count": null,
   "id": "separated-horse",
   "metadata": {},
   "outputs": [],
   "source": []
  },
  {
   "cell_type": "code",
   "execution_count": null,
   "id": "fantastic-ordinance",
   "metadata": {},
   "outputs": [],
   "source": []
  },
  {
   "cell_type": "code",
   "execution_count": null,
   "id": "unique-transparency",
   "metadata": {},
   "outputs": [],
   "source": []
  },
  {
   "cell_type": "code",
   "execution_count": null,
   "id": "acquired-palace",
   "metadata": {},
   "outputs": [],
   "source": []
  }
 ],
 "metadata": {
  "kernelspec": {
   "display_name": "Python 3",
   "language": "python",
   "name": "python3"
  },
  "language_info": {
   "codemirror_mode": {
    "name": "ipython",
    "version": 3
   },
   "file_extension": ".py",
   "mimetype": "text/x-python",
   "name": "python",
   "nbconvert_exporter": "python",
   "pygments_lexer": "ipython3",
   "version": "3.7.6"
  }
 },
 "nbformat": 4,
 "nbformat_minor": 5
}
