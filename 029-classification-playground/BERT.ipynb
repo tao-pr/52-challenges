{
 "cells": [
  {
   "cell_type": "code",
   "execution_count": 1,
   "id": "million-welcome",
   "metadata": {},
   "outputs": [],
   "source": [
    "import transformers\n",
    "import numpy as np\n",
    "import tensorflow as tf\n",
    "import pandas as pd"
   ]
  },
  {
   "cell_type": "markdown",
   "id": "indian-madness",
   "metadata": {},
   "source": [
    "# 1. Load BERT Model\n",
    "\n",
    "Pretrained multi-lingual from HuggerFace"
   ]
  },
  {
   "cell_type": "code",
   "execution_count": 7,
   "id": "random-latitude",
   "metadata": {},
   "outputs": [
    {
     "data": {
      "application/vnd.jupyter.widget-view+json": {
       "model_id": "1e5b818471454264b3065aa076de5a00",
       "version_major": 2,
       "version_minor": 0
      },
      "text/plain": [
       "HBox(children=(FloatProgress(value=0.0, description='Downloading', max=536063208.0, style=ProgressStyle(descri…"
      ]
     },
     "metadata": {},
     "output_type": "display_data"
    },
    {
     "name": "stdout",
     "output_type": "stream",
     "text": [
      "\n"
     ]
    },
    {
     "name": "stderr",
     "output_type": "stream",
     "text": [
      "Some layers from the model checkpoint at bert-base-uncased were not used when initializing TFBertModel: ['mlm___cls', 'nsp___cls']\n",
      "- This IS expected if you are initializing TFBertModel from the checkpoint of a model trained on another task or with another architecture (e.g. initializing a BertForSequenceClassification model from a BertForPreTraining model).\n",
      "- This IS NOT expected if you are initializing TFBertModel from the checkpoint of a model that you expect to be exactly identical (initializing a BertForSequenceClassification model from a BertForSequenceClassification model).\n",
      "All the layers of TFBertModel were initialized from the model checkpoint at bert-base-uncased.\n",
      "If your task is similar to the task the model of the checkpoint was trained on, you can already use TFBertModel for predictions without further training.\n"
     ]
    }
   ],
   "source": [
    "from transformers import BertTokenizer, TFBertModel\n",
    "\n",
    "# Multi-lingual\n",
    "bertMultTokeniser = BertTokenizer.from_pretrained('bert-base-uncased')\n",
    "bertMultModel = TFBertModel.from_pretrained(\"bert-base-uncased\")"
   ]
  },
  {
   "cell_type": "code",
   "execution_count": 11,
   "id": "diverse-omaha",
   "metadata": {
    "scrolled": true
   },
   "outputs": [
    {
     "name": "stdout",
     "output_type": "stream",
     "text": [
      "Model: \"tf_bert_model\"\n",
      "_________________________________________________________________\n",
      "Layer (type)                 Output Shape              Param #   \n",
      "=================================================================\n",
      "bert (TFBertMainLayer)       multiple                  109482240 \n",
      "=================================================================\n",
      "Total params: 109,482,240\n",
      "Trainable params: 109,482,240\n",
      "Non-trainable params: 0\n",
      "_________________________________________________________________\n"
     ]
    }
   ],
   "source": [
    "bertMultModel.summary()"
   ]
  },
  {
   "cell_type": "markdown",
   "id": "sunset-protocol",
   "metadata": {},
   "source": [
    "## Test encoding text in various languages"
   ]
  },
  {
   "cell_type": "code",
   "execution_count": 69,
   "id": "indonesian-semester",
   "metadata": {
    "scrolled": true
   },
   "outputs": [
    {
     "data": {
      "text/plain": [
       "{'input_ids': <tf.Tensor: shape=(1, 12), dtype=int32, numpy=\n",
       "array([[ 101, 2613, 6921, 2003, 1996, 2190, 2374, 2136, 1999, 1996, 2088,\n",
       "         102]], dtype=int32)>, 'token_type_ids': <tf.Tensor: shape=(1, 12), dtype=int32, numpy=array([[0, 0, 0, 0, 0, 0, 0, 0, 0, 0, 0, 0]], dtype=int32)>, 'attention_mask': <tf.Tensor: shape=(1, 12), dtype=int32, numpy=array([[1, 1, 1, 1, 1, 1, 1, 1, 1, 1, 1, 1]], dtype=int32)>}"
      ]
     },
     "execution_count": 69,
     "metadata": {},
     "output_type": "execute_result"
    }
   ],
   "source": [
    "sentences = [\n",
    "    'Real Madrid is the best football team in the world',\n",
    "    'Barcelona has a good team',\n",
    "    'The scientists are satisfied with the experimental results',\n",
    "    'The trip has been cancelled',\n",
    "    'My friends and I loved travelling around the world'\n",
    "]\n",
    "\n",
    "tensors = [bertMultTokeniser(s, return_tensors='tf') for s in sentences]\n",
    "\n",
    "\n",
    "tensors[0]"
   ]
  },
  {
   "cell_type": "code",
   "execution_count": 70,
   "id": "experienced-account",
   "metadata": {},
   "outputs": [],
   "source": [
    "wouts = [bertMultModel(t) for t in tensors]"
   ]
  },
  {
   "cell_type": "code",
   "execution_count": 71,
   "id": "objective-financing",
   "metadata": {},
   "outputs": [
    {
     "data": {
      "text/plain": [
       "[(1, 768), (1, 768), (1, 768), (1, 768), (1, 768)]"
      ]
     },
     "execution_count": 71,
     "metadata": {},
     "output_type": "execute_result"
    }
   ],
   "source": [
    "[w[-1].numpy().shape for w in wouts] # pooling output"
   ]
  },
  {
   "cell_type": "markdown",
   "id": "extended-force",
   "metadata": {},
   "source": [
    "Distance between each pair of sentences"
   ]
  },
  {
   "cell_type": "code",
   "execution_count": 80,
   "id": "bright-ordering",
   "metadata": {},
   "outputs": [],
   "source": [
    "from sklearn.metrics.pairwise import cosine_similarity\n",
    "\n",
    "# Take weights of last pooling output\n",
    "embeddings = [v[-1].numpy().flatten() for v in wouts]\n",
    "\n",
    "zs = list(zip(sentences, embeddings))\n",
    "from heapq import heappush, heappop\n",
    "\n",
    "closest = []\n",
    "for i,(s1,v1) in enumerate(zs):\n",
    "    for j,(s2,v2) in enumerate(zs[i+1:]):\n",
    "        c = cosine_similarity(\n",
    "            np.atleast_2d(v1),\n",
    "            np.atleast_2d(v2))\n",
    "        heappush(closest, (-c, (s1,s2)))"
   ]
  },
  {
   "cell_type": "code",
   "execution_count": 81,
   "id": "round-secretariat",
   "metadata": {},
   "outputs": [
    {
     "name": "stdout",
     "output_type": "stream",
     "text": [
      "Top 7 closes pairs\n",
      "==========================\n",
      "Rank #0, [[0.9878671]]\n",
      "Real Madrid is the best football team in the world\n",
      "Barcelona has a good team\n",
      "==========================\n",
      "Rank #1, [[0.9850803]]\n",
      "The scientists are satisfied with the experimental results\n",
      "The trip has been cancelled\n",
      "==========================\n",
      "Rank #2, [[0.9692514]]\n",
      "Barcelona has a good team\n",
      "My friends and I loved travelling around the world\n",
      "==========================\n",
      "Rank #3, [[0.96024734]]\n",
      "Real Madrid is the best football team in the world\n",
      "The trip has been cancelled\n",
      "==========================\n",
      "Rank #4, [[0.9584199]]\n",
      "Real Madrid is the best football team in the world\n",
      "My friends and I loved travelling around the world\n",
      "==========================\n",
      "Rank #5, [[0.9572299]]\n",
      "Real Madrid is the best football team in the world\n",
      "The scientists are satisfied with the experimental results\n",
      "==========================\n",
      "Rank #6, [[0.95030046]]\n",
      "Barcelona has a good team\n",
      "The scientists are satisfied with the experimental results\n"
     ]
    }
   ],
   "source": [
    "print('Top 7 closest pairs')\n",
    "for i in range(7):\n",
    "    c, (s1,s2) = heappop(closest)\n",
    "    print('==========================')\n",
    "    print(f'Rank #{i}, {-c}')\n",
    "    print(s1)\n",
    "    print(s2)"
   ]
  },
  {
   "cell_type": "code",
   "execution_count": null,
   "id": "derived-works",
   "metadata": {},
   "outputs": [],
   "source": []
  }
 ],
 "metadata": {
  "kernelspec": {
   "display_name": "Python 3",
   "language": "python",
   "name": "python3"
  },
  "language_info": {
   "codemirror_mode": {
    "name": "ipython",
    "version": 3
   },
   "file_extension": ".py",
   "mimetype": "text/x-python",
   "name": "python",
   "nbconvert_exporter": "python",
   "pygments_lexer": "ipython3",
   "version": "3.7.6"
  }
 },
 "nbformat": 4,
 "nbformat_minor": 5
}
