{
 "cells": [
  {
   "cell_type": "code",
   "execution_count": 1,
   "id": "million-welcome",
   "metadata": {},
   "outputs": [],
   "source": [
    "import transformers\n",
    "import numpy as np\n",
    "import tensorflow as tf\n",
    "import pandas as pd"
   ]
  },
  {
   "cell_type": "markdown",
   "id": "indian-madness",
   "metadata": {},
   "source": [
    "# 1. Load BERT Model\n",
    "\n",
    "Pretrained multi-lingual from HuggerFace\n",
    "\n",
    "https://huggingface.co/bert-base-uncased"
   ]
  },
  {
   "cell_type": "code",
   "execution_count": 102,
   "id": "random-latitude",
   "metadata": {},
   "outputs": [
    {
     "name": "stderr",
     "output_type": "stream",
     "text": [
      "Some layers from the model checkpoint at bert-base-uncased were not used when initializing TFBertModel: ['mlm___cls', 'nsp___cls']\n",
      "- This IS expected if you are initializing TFBertModel from the checkpoint of a model trained on another task or with another architecture (e.g. initializing a BertForSequenceClassification model from a BertForPreTraining model).\n",
      "- This IS NOT expected if you are initializing TFBertModel from the checkpoint of a model that you expect to be exactly identical (initializing a BertForSequenceClassification model from a BertForSequenceClassification model).\n",
      "All the layers of TFBertModel were initialized from the model checkpoint at bert-base-uncased.\n",
      "If your task is similar to the task the model of the checkpoint was trained on, you can already use TFBertModel for predictions without further training.\n"
     ]
    }
   ],
   "source": [
    "from transformers import BertTokenizer, TFBertModel\n",
    "\n",
    "# Multi-lingual\n",
    "bertMultTokeniser = BertTokenizer.from_pretrained('bert-base-uncased')\n",
    "bertMultModel = TFBertModel.from_pretrained(\n",
    "    \"bert-base-uncased\",\n",
    "    output_hidden_states=True)"
   ]
  },
  {
   "cell_type": "code",
   "execution_count": 103,
   "id": "diverse-omaha",
   "metadata": {
    "scrolled": true
   },
   "outputs": [
    {
     "name": "stdout",
     "output_type": "stream",
     "text": [
      "Model: \"tf_bert_model_1\"\n",
      "_________________________________________________________________\n",
      "Layer (type)                 Output Shape              Param #   \n",
      "=================================================================\n",
      "bert (TFBertMainLayer)       multiple                  109482240 \n",
      "=================================================================\n",
      "Total params: 109,482,240\n",
      "Trainable params: 109,482,240\n",
      "Non-trainable params: 0\n",
      "_________________________________________________________________\n"
     ]
    }
   ],
   "source": [
    "bertMultModel.summary()"
   ]
  },
  {
   "cell_type": "markdown",
   "id": "coral-exchange",
   "metadata": {},
   "source": [
    "## Test encoding text in various languages"
   ]
  },
  {
   "cell_type": "code",
   "execution_count": 122,
   "id": "honey-complaint",
   "metadata": {
    "scrolled": true
   },
   "outputs": [
    {
     "data": {
      "text/plain": [
       "{'input_ids': <tf.Tensor: shape=(1, 7), dtype=int32, numpy=array([[ 101, 2054, 2515, 1996, 4419, 2360,  102]], dtype=int32)>, 'token_type_ids': <tf.Tensor: shape=(1, 7), dtype=int32, numpy=array([[0, 0, 0, 0, 0, 0, 0]], dtype=int32)>, 'attention_mask': <tf.Tensor: shape=(1, 7), dtype=int32, numpy=array([[1, 1, 1, 1, 1, 1, 1]], dtype=int32)>}"
      ]
     },
     "execution_count": 122,
     "metadata": {},
     "output_type": "execute_result"
    }
   ],
   "source": [
    "sentences = [\n",
    "    'What does the fox say',\n",
    "    'A dog barks at the farmer',\n",
    "    'The patient has a bad condition',\n",
    "    'The doctor rang me last night',\n",
    "    'Good one'\n",
    "]\n",
    "\n",
    "tensors = [bertMultTokeniser(s, return_tensors='tf') for s in sentences]\n",
    "\n",
    "\n",
    "tensors[0]"
   ]
  },
  {
   "cell_type": "code",
   "execution_count": 123,
   "id": "current-importance",
   "metadata": {},
   "outputs": [
    {
     "data": {
      "text/plain": [
       "['[CLS]', 'do', 'you', 'know', 'who', 'i', 'am', '[SEP]']"
      ]
     },
     "execution_count": 123,
     "metadata": {},
     "output_type": "execute_result"
    }
   ],
   "source": [
    "encoded = bertMultTokeniser.encode('Do you know who i am') # str -> ids\n",
    "bertMultTokeniser.convert_ids_to_tokens(encoded) # ids -> tokens"
   ]
  },
  {
   "cell_type": "code",
   "execution_count": 124,
   "id": "virtual-metropolitan",
   "metadata": {},
   "outputs": [],
   "source": [
    "wouts = [bertMultModel(t) for t in tensors]"
   ]
  },
  {
   "cell_type": "code",
   "execution_count": 137,
   "id": "approximate-alert",
   "metadata": {},
   "outputs": [
    {
     "data": {
      "text/plain": [
       "[(7, 768), (9, 768), (8, 768), (8, 768), (4, 768)]"
      ]
     },
     "execution_count": 137,
     "metadata": {},
     "output_type": "execute_result"
    }
   ],
   "source": [
    "[w.hidden_states[-1].numpy()[0].shape for w in wouts] # hidden states"
   ]
  },
  {
   "cell_type": "markdown",
   "id": "inner-mistake",
   "metadata": {},
   "source": [
    "Distance between each pair of sentences"
   ]
  },
  {
   "cell_type": "code",
   "execution_count": 139,
   "id": "timely-overview",
   "metadata": {},
   "outputs": [],
   "source": [
    "from sklearn.metrics.pairwise import cosine_similarity\n",
    "\n",
    "# Take weights of last hidden state of [CLS] token\n",
    "embeddings = [v.hidden_states[-1].numpy()[0] for v in wouts]\n",
    "\n",
    "zs = list(zip(sentences, embeddings))\n",
    "from heapq import heappush, heappop\n",
    "\n",
    "closest = []\n",
    "for i,(s1,v1) in enumerate(zs):\n",
    "    for j,(s2,v2) in enumerate(zs[i+1:]):\n",
    "        c = cosine_similarity(\n",
    "            np.atleast_2d(v1[0].flatten()),\n",
    "            np.atleast_2d(v2[0].flatten()))\n",
    "        heappush(closest, (-c, (s1,s2)))"
   ]
  },
  {
   "cell_type": "code",
   "execution_count": 140,
   "id": "oriented-mailing",
   "metadata": {},
   "outputs": [
    {
     "name": "stdout",
     "output_type": "stream",
     "text": [
      "Top 5 closest pairs\n",
      "==========================\n",
      "Rank #0, [[0.9283186]]\n",
      "What does the fox say\n",
      "Good one\n",
      "==========================\n",
      "Rank #1, [[0.9103328]]\n",
      "What does the fox say\n",
      "The doctor rang me last night\n",
      "==========================\n",
      "Rank #2, [[0.90115964]]\n",
      "The doctor rang me last night\n",
      "Good one\n",
      "==========================\n",
      "Rank #3, [[0.888417]]\n",
      "The patient has a bad condition\n",
      "Good one\n",
      "==========================\n",
      "Rank #4, [[0.8776811]]\n",
      "What does the fox say\n",
      "The patient has a bad condition\n"
     ]
    }
   ],
   "source": [
    "print('Top 5 closest pairs')\n",
    "for i in range(5):\n",
    "    c, (s1,s2) = heappop(closest)\n",
    "    print('==========================')\n",
    "    print(f'Rank #{i}, {-c}')\n",
    "    print(s1)\n",
    "    print(s2)"
   ]
  },
  {
   "cell_type": "markdown",
   "id": "addressed-eligibility",
   "metadata": {},
   "source": [
    "These sentence similarities make no sense at all"
   ]
  },
  {
   "cell_type": "code",
   "execution_count": null,
   "id": "communist-traffic",
   "metadata": {},
   "outputs": [],
   "source": []
  },
  {
   "cell_type": "code",
   "execution_count": null,
   "id": "average-marina",
   "metadata": {},
   "outputs": [],
   "source": []
  },
  {
   "cell_type": "code",
   "execution_count": null,
   "id": "hungry-recipient",
   "metadata": {},
   "outputs": [],
   "source": []
  },
  {
   "cell_type": "code",
   "execution_count": null,
   "id": "unknown-screening",
   "metadata": {},
   "outputs": [],
   "source": []
  },
  {
   "cell_type": "code",
   "execution_count": null,
   "id": "greenhouse-first",
   "metadata": {},
   "outputs": [],
   "source": []
  }
 ],
 "metadata": {
  "kernelspec": {
   "display_name": "Python 3",
   "language": "python",
   "name": "python3"
  },
  "language_info": {
   "codemirror_mode": {
    "name": "ipython",
    "version": 3
   },
   "file_extension": ".py",
   "mimetype": "text/x-python",
   "name": "python",
   "nbconvert_exporter": "python",
   "pygments_lexer": "ipython3",
   "version": "3.7.6"
  }
 },
 "nbformat": 4,
 "nbformat_minor": 5
}
