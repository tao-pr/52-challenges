{
 "cells": [
  {
   "cell_type": "code",
   "execution_count": 1,
   "id": "million-welcome",
   "metadata": {},
   "outputs": [],
   "source": [
    "import transformers\n",
    "import numpy as np\n",
    "import tensorflow as tf\n",
    "from tensorflow import keras\n",
    "import pandas as pd\n",
    "import seaborn as sns\n",
    "import os\n",
    "\n",
    "tf.get_logger().setLevel('ERROR')"
   ]
  },
  {
   "cell_type": "markdown",
   "id": "indian-madness",
   "metadata": {},
   "source": [
    "# 1. Load BERT Model\n",
    "\n",
    "Pretrained multi-lingual from HuggingFace\n",
    "\n",
    "https://huggingface.co/bert-base-uncased"
   ]
  },
  {
   "cell_type": "code",
   "execution_count": 2,
   "id": "random-latitude",
   "metadata": {
    "scrolled": true
   },
   "outputs": [
    {
     "name": "stderr",
     "output_type": "stream",
     "text": [
      "Some layers from the model checkpoint at bert-base-uncased were not used when initializing TFBertModel: ['nsp___cls', 'mlm___cls']\n",
      "- This IS expected if you are initializing TFBertModel from the checkpoint of a model trained on another task or with another architecture (e.g. initializing a BertForSequenceClassification model from a BertForPreTraining model).\n",
      "- This IS NOT expected if you are initializing TFBertModel from the checkpoint of a model that you expect to be exactly identical (initializing a BertForSequenceClassification model from a BertForSequenceClassification model).\n",
      "All the layers of TFBertModel were initialized from the model checkpoint at bert-base-uncased.\n",
      "If your task is similar to the task the model of the checkpoint was trained on, you can already use TFBertModel for predictions without further training.\n"
     ]
    }
   ],
   "source": [
    "from transformers import BertTokenizer, TFBertModel\n",
    "\n",
    "# Multi-lingual\n",
    "mbertTokeniser = BertTokenizer.from_pretrained('bert-base-uncased')\n",
    "mbertModel = TFBertModel.from_pretrained(\"bert-base-uncased\")\n",
    "\n",
    "mbertModel.trainable = False"
   ]
  },
  {
   "cell_type": "code",
   "execution_count": 3,
   "id": "diverse-omaha",
   "metadata": {
    "scrolled": true
   },
   "outputs": [
    {
     "name": "stdout",
     "output_type": "stream",
     "text": [
      "Model: \"tf_bert_model\"\n",
      "_________________________________________________________________\n",
      "Layer (type)                 Output Shape              Param #   \n",
      "=================================================================\n",
      "bert (TFBertMainLayer)       multiple                  109482240 \n",
      "=================================================================\n",
      "Total params: 109,482,240\n",
      "Trainable params: 0\n",
      "Non-trainable params: 109,482,240\n",
      "_________________________________________________________________\n"
     ]
    }
   ],
   "source": [
    "mbertModel.summary()"
   ]
  },
  {
   "cell_type": "markdown",
   "id": "plain-albert",
   "metadata": {},
   "source": [
    "## Test encoding text in various languages"
   ]
  },
  {
   "cell_type": "code",
   "execution_count": 4,
   "id": "appreciated-gabriel",
   "metadata": {
    "scrolled": true
   },
   "outputs": [
    {
     "data": {
      "text/plain": [
       "{'input_ids': <tf.Tensor: shape=(1, 7), dtype=int32, numpy=array([[ 101, 2026, 2047, 2338, 2003, 2417,  102]], dtype=int32)>, 'token_type_ids': <tf.Tensor: shape=(1, 7), dtype=int32, numpy=array([[0, 0, 0, 0, 0, 0, 0]], dtype=int32)>, 'attention_mask': <tf.Tensor: shape=(1, 7), dtype=int32, numpy=array([[1, 1, 1, 1, 1, 1, 1]], dtype=int32)>}"
      ]
     },
     "execution_count": 4,
     "metadata": {},
     "output_type": "execute_result"
    }
   ],
   "source": [
    "sentences = [\n",
    "    'My new book is red',\n",
    "    'The journal has been approved by the dean!',\n",
    "    'It was a dangerous explosion caused by chemical reaction',\n",
    "    'Potassium Nitrate'\n",
    "]\n",
    "\n",
    "tensors = [mbertTokeniser(s, return_tensors='tf') for s in sentences]\n",
    "\n",
    "tensors[0]"
   ]
  },
  {
   "cell_type": "code",
   "execution_count": 5,
   "id": "aerial-flush",
   "metadata": {},
   "outputs": [],
   "source": [
    "wouts = [mbertModel(t) for t in tensors]"
   ]
  },
  {
   "cell_type": "code",
   "execution_count": 6,
   "id": "blank-builder",
   "metadata": {},
   "outputs": [
    {
     "data": {
      "text/plain": [
       "['last_hidden_state', 'pooler_output']"
      ]
     },
     "execution_count": 6,
     "metadata": {},
     "output_type": "execute_result"
    }
   ],
   "source": [
    "[w for w in wouts[0]] # output structure of BERT"
   ]
  },
  {
   "cell_type": "code",
   "execution_count": 7,
   "id": "civilian-phrase",
   "metadata": {},
   "outputs": [
    {
     "data": {
      "text/plain": [
       "[(1, 7, 768), (1, 11, 768), (1, 11, 768), (1, 4, 768)]"
      ]
     },
     "execution_count": 7,
     "metadata": {},
     "output_type": "execute_result"
    }
   ],
   "source": [
    "[w[0].numpy().shape for w in wouts] # sequence output"
   ]
  },
  {
   "cell_type": "code",
   "execution_count": 8,
   "id": "assisted-fiber",
   "metadata": {},
   "outputs": [
    {
     "data": {
      "text/plain": [
       "[(1, 768), (1, 768), (1, 768), (1, 768)]"
      ]
     },
     "execution_count": 8,
     "metadata": {},
     "output_type": "execute_result"
    }
   ],
   "source": [
    "[w[1].numpy().shape for w in wouts] # CLS embedding (pooled) output"
   ]
  },
  {
   "cell_type": "code",
   "execution_count": 9,
   "id": "wireless-technical",
   "metadata": {},
   "outputs": [
    {
     "data": {
      "text/plain": [
       "[(1, 768), (1, 768), (1, 768), (1, 768)]"
      ]
     },
     "execution_count": 9,
     "metadata": {},
     "output_type": "execute_result"
    }
   ],
   "source": [
    "# Flatten hidden states of N words in each sentence\n",
    "# by averaging\n",
    "fseqs = [w[1].numpy() for w in wouts]\n",
    "list(map(lambda f: f.shape, fseqs))"
   ]
  },
  {
   "cell_type": "code",
   "execution_count": 10,
   "id": "accurate-trail",
   "metadata": {},
   "outputs": [
    {
     "data": {
      "text/plain": [
       "['[CLS]', 'do', 'you', 'know', 'who', 'i', 'am', '[SEP]']"
      ]
     },
     "execution_count": 10,
     "metadata": {},
     "output_type": "execute_result"
    }
   ],
   "source": [
    "encoded = mbertTokeniser.encode('Do you know who i am') # str -> ids\n",
    "mbertTokeniser.convert_ids_to_tokens(encoded) # ids -> tokens"
   ]
  },
  {
   "cell_type": "markdown",
   "id": "wound-reporter",
   "metadata": {},
   "source": [
    "Distance between each pair of sentences"
   ]
  },
  {
   "cell_type": "code",
   "execution_count": 11,
   "id": "solved-fight",
   "metadata": {},
   "outputs": [],
   "source": [
    "from sklearn.metrics.pairwise import cosine_similarity\n",
    "from heapq import heappush, heappop\n",
    "\n",
    "zs = list(zip(sentences, fseqs))\n",
    "\n",
    "closest = []\n",
    "for i,(s1,v1) in enumerate(zs):\n",
    "    for j,(s2,v2) in enumerate(zs[i+1:]):\n",
    "        c = cosine_similarity(\n",
    "            np.atleast_2d(v1.flatten()),\n",
    "            np.atleast_2d(v2.flatten()))\n",
    "        heappush(closest, (-c, (s1,s2)))"
   ]
  },
  {
   "cell_type": "code",
   "execution_count": 12,
   "id": "friendly-macro",
   "metadata": {},
   "outputs": [
    {
     "name": "stdout",
     "output_type": "stream",
     "text": [
      "Top 5 closest pairs\n",
      "==========================\n",
      "Rank #0, [[0.97097844]]\n",
      "It was a dangerous explosion caused by chemical reaction\n",
      "Potassium Nitrate\n",
      "==========================\n",
      "Rank #1, [[0.9686246]]\n",
      "The journal has been approved by the dean!\n",
      "It was a dangerous explosion caused by chemical reaction\n",
      "==========================\n",
      "Rank #2, [[0.9531851]]\n",
      "The journal has been approved by the dean!\n",
      "Potassium Nitrate\n",
      "==========================\n",
      "Rank #3, [[0.9341798]]\n",
      "My new book is red\n",
      "The journal has been approved by the dean!\n",
      "==========================\n",
      "Rank #4, [[0.8713379]]\n",
      "My new book is red\n",
      "It was a dangerous explosion caused by chemical reaction\n"
     ]
    }
   ],
   "source": [
    "print('Top 5 closest pairs')\n",
    "for i in range(5):\n",
    "    c, (s1,s2) = heappop(closest)\n",
    "    print('==========================')\n",
    "    print(f'Rank #{i}, {-c}')\n",
    "    print(s1)\n",
    "    print(s2)"
   ]
  },
  {
   "cell_type": "markdown",
   "id": "attractive-marketplace",
   "metadata": {},
   "source": [
    "These sentence similarities make no sense at all"
   ]
  },
  {
   "cell_type": "markdown",
   "id": "vital-florida",
   "metadata": {},
   "source": [
    "## Build Classification based on BERT\n",
    "\n",
    "By freezing pretrained layer of BERT, and add a new softmax layer"
   ]
  },
  {
   "cell_type": "code",
   "execution_count": 13,
   "id": "collect-addition",
   "metadata": {},
   "outputs": [],
   "source": [
    "mbertModel.trainable = False"
   ]
  },
  {
   "cell_type": "code",
   "execution_count": 14,
   "id": "received-justice",
   "metadata": {},
   "outputs": [
    {
     "data": {
      "text/plain": [
       "<transformers.models.bert.modeling_tf_bert.TFBertModel at 0x7ffe0d869f50>"
      ]
     },
     "execution_count": 14,
     "metadata": {},
     "output_type": "execute_result"
    }
   ],
   "source": [
    "mbertModel"
   ]
  },
  {
   "cell_type": "markdown",
   "id": "opening-operator",
   "metadata": {},
   "source": [
    "Add custom smoothing & classification layers"
   ]
  },
  {
   "cell_type": "code",
   "execution_count": 15,
   "id": "aware-alert",
   "metadata": {},
   "outputs": [],
   "source": [
    "MAX_LEN = 150"
   ]
  },
  {
   "cell_type": "code",
   "execution_count": 73,
   "id": "tropical-diamond",
   "metadata": {},
   "outputs": [],
   "source": [
    "# input layer (1) taking tokenised words\n",
    "input_ids = keras.layers.Input(\n",
    "    shape=(MAX_LEN,), \n",
    "    dtype=tf.int32,\n",
    "    name=\"input_ids\")\n",
    "\n",
    "# input layer (2) taking attention masks (masking paddings)\n",
    "mask_ids = keras.layers.Input(\n",
    "    shape=(MAX_LEN,),\n",
    "    dtype=tf.int32,\n",
    "    name=\"attention_mask_ids\")\n",
    "\n",
    "# input layer (3) taking token types\n",
    "token_type_ids = keras.layers.Input(\n",
    "    shape=(MAX_LEN,),\n",
    "    dtype=tf.int32,\n",
    "    name=\"token_type_ids\")\n",
    "\n",
    "# BERT layer, shape (768,)\n",
    "outputs = mbertModel(\n",
    "    input_ids,\n",
    "    attention_mask=mask_ids,\n",
    "    token_type_ids=token_type_ids)\n",
    "\n",
    "# smoothening layers\n",
    "logit = keras.layers.Dense(64, name=\"dense\")(outputs[1]) # feed BERT's pooled output\n",
    "logit = keras.layers.Flatten()(logit)\n",
    "logit = keras.layers.Dropout(0.2, name=\"dropout\")(logit)\n",
    "\n",
    "act = keras.layers.Dense(\n",
    "    1, name='softmax',\n",
    "    activation='softmax',\n",
    "    kernel_regularizer=tf.keras.regularizers.L2(0.01))(logit)\n",
    "\n",
    "# Modeling\n",
    "model = keras.models.Model(\n",
    "    inputs=[input_ids, mask_ids, token_type_ids],\n",
    "    outputs=[act],\n",
    "    name='BERT-clf')"
   ]
  },
  {
   "cell_type": "code",
   "execution_count": 74,
   "id": "integral-myrtle",
   "metadata": {},
   "outputs": [
    {
     "name": "stdout",
     "output_type": "stream",
     "text": [
      "Model: \"BERT-clf\"\n",
      "__________________________________________________________________________________________________\n",
      "Layer (type)                    Output Shape         Param #     Connected to                     \n",
      "==================================================================================================\n",
      "input_ids (InputLayer)          [(None, 150)]        0                                            \n",
      "__________________________________________________________________________________________________\n",
      "attention_mask_ids (InputLayer) [(None, 150)]        0                                            \n",
      "__________________________________________________________________________________________________\n",
      "token_type_ids (InputLayer)     [(None, 150)]        0                                            \n",
      "__________________________________________________________________________________________________\n",
      "tf_bert_model (TFBertModel)     TFBaseModelOutputWit 109482240   input_ids[0][0]                  \n",
      "                                                                 attention_mask_ids[0][0]         \n",
      "                                                                 token_type_ids[0][0]             \n",
      "__________________________________________________________________________________________________\n",
      "dense (Dense)                   (None, 64)           49216       tf_bert_model[6][1]              \n",
      "__________________________________________________________________________________________________\n",
      "flatten_3 (Flatten)             (None, 64)           0           dense[0][0]                      \n",
      "__________________________________________________________________________________________________\n",
      "dropout (Dropout)               (None, 64)           0           flatten_3[0][0]                  \n",
      "__________________________________________________________________________________________________\n",
      "softmax (Dense)                 (None, 1)            65          dropout[0][0]                    \n",
      "==================================================================================================\n",
      "Total params: 109,531,521\n",
      "Trainable params: 49,281\n",
      "Non-trainable params: 109,482,240\n",
      "__________________________________________________________________________________________________\n"
     ]
    }
   ],
   "source": [
    "model.summary()"
   ]
  },
  {
   "cell_type": "code",
   "execution_count": 75,
   "id": "supposed-intersection",
   "metadata": {},
   "outputs": [],
   "source": [
    "model.compile(\n",
    "    loss='mse',\n",
    "    optimizer=tf.keras.optimizers.Adam(1e-5), # use low LR for BERT\n",
    "    metrics=['accuracy'])"
   ]
  },
  {
   "cell_type": "code",
   "execution_count": 76,
   "id": "approved-stevens",
   "metadata": {},
   "outputs": [
    {
     "data": {
      "text/plain": [
       "[<KerasTensor: shape=(None, 150) dtype=int32 (created by layer 'input_ids')>,\n",
       " <KerasTensor: shape=(None, 150) dtype=int32 (created by layer 'attention_mask_ids')>,\n",
       " <KerasTensor: shape=(None, 150) dtype=int32 (created by layer 'token_type_ids')>]"
      ]
     },
     "execution_count": 76,
     "metadata": {},
     "output_type": "execute_result"
    }
   ],
   "source": [
    "model.inputs"
   ]
  },
  {
   "cell_type": "code",
   "execution_count": 77,
   "id": "institutional-bookmark",
   "metadata": {},
   "outputs": [
    {
     "data": {
      "text/plain": [
       "[<KerasTensor: shape=(None, 1) dtype=float32 (created by layer 'softmax')>]"
      ]
     },
     "execution_count": 77,
     "metadata": {},
     "output_type": "execute_result"
    }
   ],
   "source": [
    "model.outputs"
   ]
  },
  {
   "cell_type": "markdown",
   "id": "civil-pregnancy",
   "metadata": {},
   "source": [
    "## 2. Load tweets data\n",
    "For classification"
   ]
  },
  {
   "cell_type": "code",
   "execution_count": 19,
   "id": "widespread-flight",
   "metadata": {},
   "outputs": [
    {
     "name": "stdout",
     "output_type": "stream",
     "text": [
      "Loading pre-cached : /Users/pataoengineer/data/tweets/_cache/bert-tokenised.pkl\n"
     ]
    }
   ],
   "source": [
    "# Load pre-cached if exists\n",
    "path_cache = os.path.join(os.environ['HOME'], 'data', 'tweets', '_cache', 'bert-tokenised.pkl')\n",
    "if os.path.isfile(path_cache):\n",
    "    print(f'Loading pre-cached : {path_cache}')\n",
    "    tweets = pd.read_pickle(path_cache)\n",
    "else:\n",
    "    path_tweets = os.path.join(os.environ['HOME'], 'data', 'tweets', 'training.1600000.processed.noemoticon.csv')\n",
    "    cols = ['sentiment','user','tweet']\n",
    "    tweets = pd.read_csv(path_tweets, usecols=[0,4,5], header=None, index_col=None)\n",
    "    tweets.columns = cols\n",
    "    \n",
    "    # Take only small subset\n",
    "    pos = tweets[tweets['sentiment']==4].sample(n=10000, replace=False)\n",
    "    neg = tweets[tweets['sentiment']==0].sample(n=10000, replace=False)\n",
    "    tweets = pd.concat([pos,neg])\n",
    "    tweets[:10]"
   ]
  },
  {
   "cell_type": "markdown",
   "id": "textile-multimedia",
   "metadata": {},
   "source": [
    "Define attention mask and token types"
   ]
  },
  {
   "cell_type": "code",
   "execution_count": 20,
   "id": "steady-spine",
   "metadata": {},
   "outputs": [
    {
     "name": "stdout",
     "output_type": "stream",
     "text": [
      "Skipping tokenisation, already pre-computed\n"
     ]
    }
   ],
   "source": [
    "if 'token_user' not in tweets.columns:\n",
    "    def tokenise(w):\n",
    "        return mbertTokeniser.encode(w)\n",
    "    tokenise = np.vectorize(tokenise)\n",
    "    nrecords = len(tweets)\n",
    "    print(f'Tokenising users ... {nrecords}')\n",
    "    tweets.loc[:,'token_user'] = tweets.loc[:,'user'].apply(tokenise)\n",
    "    print(f'Tokenising tweets ... {nrecords}')\n",
    "    tweets.loc[:,'token_tweet'] = tweets.loc[:,'tweet'].apply(tokenise)\n",
    "    print(f'Saving to pre-cached : {path_cache}')\n",
    "    tweets.to_pickle(path_cache)\n",
    "else:\n",
    "    print('Skipping tokenisation, already pre-computed')"
   ]
  },
  {
   "cell_type": "code",
   "execution_count": 21,
   "id": "closing-casting",
   "metadata": {},
   "outputs": [
    {
     "data": {
      "text/plain": [
       "'CMGeekCrissa'"
      ]
     },
     "execution_count": 21,
     "metadata": {},
     "output_type": "execute_result"
    }
   ],
   "source": [
    "tweets.iloc[0]['user'] # original user"
   ]
  },
  {
   "cell_type": "code",
   "execution_count": 22,
   "id": "stock-attachment",
   "metadata": {},
   "outputs": [
    {
     "data": {
      "text/plain": [
       "'[CLS],cm,##gee,##k,##cr,##issa,[SEP]'"
      ]
     },
     "execution_count": 22,
     "metadata": {},
     "output_type": "execute_result"
    }
   ],
   "source": [
    "','.join(\n",
    "    mbertTokeniser.convert_ids_to_tokens(tweets.iloc[0]['token_user']))"
   ]
  },
  {
   "cell_type": "code",
   "execution_count": 23,
   "id": "traditional-experiment",
   "metadata": {},
   "outputs": [
    {
     "data": {
      "text/plain": [
       "'[CLS],@,ad,##ych,##ou,morning,ad,##y,[SEP]'"
      ]
     },
     "execution_count": 23,
     "metadata": {},
     "output_type": "execute_result"
    }
   ],
   "source": [
    "','.join(\n",
    "    mbertTokeniser.convert_ids_to_tokens(tweets.iloc[0]['token_tweet']))"
   ]
  },
  {
   "cell_type": "code",
   "execution_count": 24,
   "id": "least-toolbox",
   "metadata": {},
   "outputs": [
    {
     "data": {
      "text/plain": [
       "114"
      ]
     },
     "execution_count": 24,
     "metadata": {},
     "output_type": "execute_result"
    }
   ],
   "source": [
    "# find max length of vector\n",
    "def get_len(tw):\n",
    "    return len(tw)\n",
    "max(tweets['token_tweet'].apply(get_len))"
   ]
  },
  {
   "cell_type": "markdown",
   "id": "european-savings",
   "metadata": {},
   "source": [
    "Concatenate user tokens and tweet tokens altogether. \n",
    "Also pad the length and record"
   ]
  },
  {
   "cell_type": "code",
   "execution_count": 25,
   "id": "thirty-heather",
   "metadata": {},
   "outputs": [],
   "source": [
    "def concat_ids(u, t):\n",
    "    # exclude 1st [CLS] from `t`\n",
    "    return u.tolist() + t[1:].tolist()\n",
    "\n",
    "tweets.loc[:,'ids'] = tweets.apply(\n",
    "    lambda row: concat_ids(row['token_user'], row['token_tweet']), axis=1)"
   ]
  },
  {
   "cell_type": "code",
   "execution_count": 26,
   "id": "superior-printing",
   "metadata": {},
   "outputs": [
    {
     "name": "stderr",
     "output_type": "stream",
     "text": [
      "/Users/pataoengineer/opt/miniconda3/lib/python3.7/site-packages/seaborn/_decorators.py:43: FutureWarning: Pass the following variable as a keyword arg: x. From version 0.12, the only valid positional argument will be `data`, and passing other arguments without an explicit keyword will result in an error or misinterpretation.\n",
      "  FutureWarning\n"
     ]
    },
    {
     "data": {
      "text/plain": [
       "<AxesSubplot:xlabel='len_ids'>"
      ]
     },
     "execution_count": 26,
     "metadata": {},
     "output_type": "execute_result"
    },
    {
     "data": {
      "image/png": "[encoded data removed]",
      "text/plain": [
       "<Figure size 432x288 with 1 Axes>"
      ]
     },
     "metadata": {
      "needs_background": "light"
     },
     "output_type": "display_data"
    }
   ],
   "source": [
    "tweets.loc[:,'len_ids'] = tweets['ids'].apply(len)\n",
    "sns.boxplot(tweets['len_ids'])"
   ]
  },
  {
   "cell_type": "code",
   "execution_count": 27,
   "id": "general-hands",
   "metadata": {},
   "outputs": [],
   "source": [
    "# pad ids with zeros so all have same length\n",
    "tweets.loc[:,'ids'] = tweets.loc[:,'ids'].apply(lambda ids: \\\n",
    "    ids + [0]*(MAX_LEN-len(ids)))"
   ]
  },
  {
   "cell_type": "code",
   "execution_count": 28,
   "id": "excess-springer",
   "metadata": {},
   "outputs": [
    {
     "name": "stderr",
     "output_type": "stream",
     "text": [
      "/Users/pataoengineer/opt/miniconda3/lib/python3.7/site-packages/seaborn/_decorators.py:43: FutureWarning: Pass the following variable as a keyword arg: x. From version 0.12, the only valid positional argument will be `data`, and passing other arguments without an explicit keyword will result in an error or misinterpretation.\n",
      "  FutureWarning\n"
     ]
    },
    {
     "data": {
      "text/plain": [
       "<AxesSubplot:xlabel='ids'>"
      ]
     },
     "execution_count": 28,
     "metadata": {},
     "output_type": "execute_result"
    },
    {
     "data": {
      "image/png": "[encoded data removed]",
      "text/plain": [
       "<Figure size 432x288 with 1 Axes>"
      ]
     },
     "metadata": {
      "needs_background": "light"
     },
     "output_type": "display_data"
    }
   ],
   "source": [
    "sns.boxplot(tweets['ids'].apply(len)) # lengths after padding"
   ]
  },
  {
   "cell_type": "code",
   "execution_count": 52,
   "id": "transparent-forth",
   "metadata": {},
   "outputs": [],
   "source": [
    "tweets.loc[:,'attention_mask'] = tweets['len_ids'].apply(\n",
    "    lambda ld: [1]*ld + [0]*(MAX_LEN-ld))\n",
    "tweets.loc[:,'token_type'] = tweets['len_ids'].apply(\n",
    "    lambda ld: [1]*ld + [0]*(MAX_LEN-ld))\n",
    "\n",
    "#sns.boxplot(tweets['attention_mask'].apply(len))"
   ]
  },
  {
   "cell_type": "code",
   "execution_count": 53,
   "id": "moved-theta",
   "metadata": {},
   "outputs": [
    {
     "name": "stdout",
     "output_type": "stream",
     "text": [
      "[<class 'list'>, <class 'list'>, <class 'list'>]\n",
      "[150, 150, 150]\n"
     ]
    }
   ],
   "source": [
    "cols = ['ids','attention_mask','token_type']\n",
    "r = tweets.iloc[0][cols]\n",
    "print([type(r[c]) for c in cols])\n",
    "print([len(r[c]) for c in cols])"
   ]
  },
  {
   "cell_type": "markdown",
   "id": "expanded-evidence",
   "metadata": {},
   "source": [
    "# 3. Train first model\n",
    "for classification"
   ]
  },
  {
   "cell_type": "code",
   "execution_count": 54,
   "id": "existing-trance",
   "metadata": {},
   "outputs": [],
   "source": [
    "from sklearn.model_selection import train_test_split"
   ]
  },
  {
   "cell_type": "code",
   "execution_count": 55,
   "id": "neural-title",
   "metadata": {},
   "outputs": [
    {
     "data": {
      "text/plain": [
       "20000"
      ]
     },
     "execution_count": 55,
     "metadata": {},
     "output_type": "execute_result"
    }
   ],
   "source": [
    "len(tweets)"
   ]
  },
  {
   "cell_type": "markdown",
   "id": "connected-miller",
   "metadata": {},
   "source": [
    "## Prepare dataset for TF\n",
    "Dirty way. Putting all numpy vectors into ragged tensor"
   ]
  },
  {
   "cell_type": "code",
   "execution_count": null,
   "id": "angry-convert",
   "metadata": {},
   "outputs": [],
   "source": []
  },
  {
   "cell_type": "code",
   "execution_count": null,
   "id": "subsequent-lafayette",
   "metadata": {},
   "outputs": [],
   "source": []
  },
  {
   "cell_type": "code",
   "execution_count": null,
   "id": "leading-acrobat",
   "metadata": {},
   "outputs": [],
   "source": []
  },
  {
   "cell_type": "code",
   "execution_count": 78,
   "id": "electronic-plumbing",
   "metadata": {},
   "outputs": [
    {
     "data": {
      "text/plain": [
       "(14000, 6000)"
      ]
     },
     "execution_count": 78,
     "metadata": {},
     "output_type": "execute_result"
    }
   ],
   "source": [
    "train, test = train_test_split(tweets, test_size=0.3)\n",
    "len(train), len(test)"
   ]
  },
  {
   "cell_type": "code",
   "execution_count": 79,
   "id": "liked-symposium",
   "metadata": {},
   "outputs": [],
   "source": [
    "ids = tf.convert_to_tensor(train['ids'].values.tolist())\n",
    "mask = tf.convert_to_tensor(train['attention_mask'].values.tolist())\n",
    "types = tf.convert_to_tensor(train['token_type'].values.tolist())\n",
    "labels = tf.convert_to_tensor(train['sentiment'].values.tolist())"
   ]
  },
  {
   "cell_type": "code",
   "execution_count": 80,
   "id": "forty-maple",
   "metadata": {},
   "outputs": [
    {
     "data": {
      "text/plain": [
       "(TensorShape([14000, 150]),\n",
       " TensorShape([14000, 150]),\n",
       " TensorShape([14000, 150]),\n",
       " TensorShape([14000]))"
      ]
     },
     "execution_count": 80,
     "metadata": {},
     "output_type": "execute_result"
    }
   ],
   "source": [
    "ids.shape, mask.shape, types.shape, labels.shape"
   ]
  },
  {
   "cell_type": "code",
   "execution_count": null,
   "id": "active-footage",
   "metadata": {},
   "outputs": [],
   "source": []
  },
  {
   "cell_type": "code",
   "execution_count": null,
   "id": "educational-chess",
   "metadata": {},
   "outputs": [],
   "source": []
  },
  {
   "cell_type": "code",
   "execution_count": 81,
   "id": "historical-croatia",
   "metadata": {},
   "outputs": [
    {
     "data": {
      "text/plain": [
       "[<KerasTensor: shape=(None, 150) dtype=int32 (created by layer 'input_ids')>,\n",
       " <KerasTensor: shape=(None, 150) dtype=int32 (created by layer 'attention_mask_ids')>,\n",
       " <KerasTensor: shape=(None, 150) dtype=int32 (created by layer 'token_type_ids')>]"
      ]
     },
     "execution_count": 81,
     "metadata": {},
     "output_type": "execute_result"
    }
   ],
   "source": [
    "model.inputs"
   ]
  },
  {
   "cell_type": "code",
   "execution_count": 82,
   "id": "right-marshall",
   "metadata": {},
   "outputs": [
    {
     "data": {
      "text/plain": [
       "[<KerasTensor: shape=(None, 1) dtype=float32 (created by layer 'softmax')>]"
      ]
     },
     "execution_count": 82,
     "metadata": {},
     "output_type": "execute_result"
    }
   ],
   "source": [
    "model.outputs"
   ]
  },
  {
   "cell_type": "markdown",
   "id": "dirty-mobile",
   "metadata": {},
   "source": [
    "Train BERT-based classification model"
   ]
  },
  {
   "cell_type": "code",
   "execution_count": 83,
   "id": "conservative-convenience",
   "metadata": {},
   "outputs": [
    {
     "name": "stdout",
     "output_type": "stream",
     "text": [
      "Epoch 1/5\n",
      "70/70 [==============================] - 2650s 38s/step - loss: 5.0253 - accuracy: 0.0000e+00\n",
      "Epoch 2/5\n",
      "70/70 [==============================] - 2561s 37s/step - loss: 4.9667 - accuracy: 0.0000e+00\n",
      "Epoch 3/5\n",
      "70/70 [==============================] - 2552s 36s/step - loss: 5.0148 - accuracy: 0.0000e+00\n",
      "Epoch 4/5\n",
      "70/70 [==============================] - 2508s 36s/step - loss: 5.0011 - accuracy: 0.0000e+00\n",
      "Epoch 5/5\n",
      "70/70 [==============================] - 2486s 36s/step - loss: 5.0164 - accuracy: 0.0000e+00\n"
     ]
    },
    {
     "data": {
      "text/plain": [
       "<tensorflow.python.keras.callbacks.History at 0x7ffde458a7d0>"
      ]
     },
     "execution_count": 83,
     "metadata": {},
     "output_type": "execute_result"
    }
   ],
   "source": [
    "hist = model.fit(\n",
    "    [ids, mask, types],\n",
    "    labels,\n",
    "    epochs=5,\n",
    "    batch_size=200)"
   ]
  },
  {
   "cell_type": "code",
   "execution_count": null,
   "id": "assumed-costa",
   "metadata": {},
   "outputs": [],
   "source": []
  },
  {
   "cell_type": "markdown",
   "id": "underlying-spirit",
   "metadata": {},
   "source": [
    "## Evaluate model (offline)\n",
    "with test set"
   ]
  },
  {
   "cell_type": "code",
   "execution_count": null,
   "id": "gothic-drunk",
   "metadata": {},
   "outputs": [],
   "source": []
  },
  {
   "cell_type": "code",
   "execution_count": null,
   "id": "marine-egypt",
   "metadata": {},
   "outputs": [],
   "source": []
  }
 ],
 "metadata": {
  "kernelspec": {
   "display_name": "Python 3",
   "language": "python",
   "name": "python3"
  },
  "language_info": {
   "codemirror_mode": {
    "name": "ipython",
    "version": 3
   },
   "file_extension": ".py",
   "mimetype": "text/x-python",
   "name": "python",
   "nbconvert_exporter": "python",
   "pygments_lexer": "ipython3",
   "version": "3.7.6"
  }
 },
 "nbformat": 4,
 "nbformat_minor": 5
}
