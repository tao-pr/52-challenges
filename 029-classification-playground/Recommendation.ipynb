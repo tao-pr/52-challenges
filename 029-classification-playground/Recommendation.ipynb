{
 "cells": [
  {
   "cell_type": "code",
   "execution_count": 1,
   "id": "incredible-doctor",
   "metadata": {},
   "outputs": [],
   "source": [
    "import numpy as np\n",
    "import pandas as pd\n",
    "import tensorflow as tf\n",
    "import seaborn as sns"
   ]
  },
  {
   "cell_type": "markdown",
   "id": "least-letter",
   "metadata": {},
   "source": [
    "# 1. Generate user-product data"
   ]
  },
  {
   "cell_type": "code",
   "execution_count": 2,
   "id": "wanted-connectivity",
   "metadata": {},
   "outputs": [
    {
     "data": {
      "text/plain": [
       "1"
      ]
     },
     "execution_count": 2,
     "metadata": {},
     "output_type": "execute_result"
    }
   ],
   "source": [
    "np.random.binomial(n=3, p=0.1)"
   ]
  },
  {
   "cell_type": "code",
   "execution_count": 3,
   "id": "given-termination",
   "metadata": {},
   "outputs": [
    {
     "data": {
      "text/html": [
       "<div>\n",
       "<style scoped>\n",
       "    .dataframe tbody tr th:only-of-type {\n",
       "        vertical-align: middle;\n",
       "    }\n",
       "\n",
       "    .dataframe tbody tr th {\n",
       "        vertical-align: top;\n",
       "    }\n",
       "\n",
       "    .dataframe thead th {\n",
       "        text-align: right;\n",
       "    }\n",
       "</style>\n",
       "<table border=\"1\" class=\"dataframe\">\n",
       "  <thead>\n",
       "    <tr style=\"text-align: right;\">\n",
       "      <th></th>\n",
       "      <th>userid</th>\n",
       "      <th>p0</th>\n",
       "      <th>p1</th>\n",
       "      <th>p2</th>\n",
       "      <th>p3</th>\n",
       "      <th>p4</th>\n",
       "      <th>p5</th>\n",
       "      <th>p6</th>\n",
       "      <th>p7</th>\n",
       "    </tr>\n",
       "  </thead>\n",
       "  <tbody>\n",
       "    <tr>\n",
       "      <th>0</th>\n",
       "      <td>0</td>\n",
       "      <td>0</td>\n",
       "      <td>0</td>\n",
       "      <td>1</td>\n",
       "      <td>2</td>\n",
       "      <td>0</td>\n",
       "      <td>1</td>\n",
       "      <td>1</td>\n",
       "      <td>0</td>\n",
       "    </tr>\n",
       "    <tr>\n",
       "      <th>1</th>\n",
       "      <td>1</td>\n",
       "      <td>1</td>\n",
       "      <td>0</td>\n",
       "      <td>0</td>\n",
       "      <td>1</td>\n",
       "      <td>0</td>\n",
       "      <td>0</td>\n",
       "      <td>1</td>\n",
       "      <td>0</td>\n",
       "    </tr>\n",
       "    <tr>\n",
       "      <th>2</th>\n",
       "      <td>2</td>\n",
       "      <td>0</td>\n",
       "      <td>1</td>\n",
       "      <td>1</td>\n",
       "      <td>0</td>\n",
       "      <td>0</td>\n",
       "      <td>1</td>\n",
       "      <td>1</td>\n",
       "      <td>2</td>\n",
       "    </tr>\n",
       "    <tr>\n",
       "      <th>3</th>\n",
       "      <td>3</td>\n",
       "      <td>0</td>\n",
       "      <td>1</td>\n",
       "      <td>0</td>\n",
       "      <td>0</td>\n",
       "      <td>0</td>\n",
       "      <td>0</td>\n",
       "      <td>0</td>\n",
       "      <td>0</td>\n",
       "    </tr>\n",
       "    <tr>\n",
       "      <th>4</th>\n",
       "      <td>4</td>\n",
       "      <td>1</td>\n",
       "      <td>1</td>\n",
       "      <td>0</td>\n",
       "      <td>0</td>\n",
       "      <td>1</td>\n",
       "      <td>1</td>\n",
       "      <td>1</td>\n",
       "      <td>0</td>\n",
       "    </tr>\n",
       "    <tr>\n",
       "      <th>...</th>\n",
       "      <td>...</td>\n",
       "      <td>...</td>\n",
       "      <td>...</td>\n",
       "      <td>...</td>\n",
       "      <td>...</td>\n",
       "      <td>...</td>\n",
       "      <td>...</td>\n",
       "      <td>...</td>\n",
       "      <td>...</td>\n",
       "    </tr>\n",
       "    <tr>\n",
       "      <th>995</th>\n",
       "      <td>995</td>\n",
       "      <td>1</td>\n",
       "      <td>1</td>\n",
       "      <td>2</td>\n",
       "      <td>0</td>\n",
       "      <td>1</td>\n",
       "      <td>1</td>\n",
       "      <td>0</td>\n",
       "      <td>0</td>\n",
       "    </tr>\n",
       "    <tr>\n",
       "      <th>996</th>\n",
       "      <td>996</td>\n",
       "      <td>0</td>\n",
       "      <td>1</td>\n",
       "      <td>0</td>\n",
       "      <td>0</td>\n",
       "      <td>1</td>\n",
       "      <td>0</td>\n",
       "      <td>2</td>\n",
       "      <td>0</td>\n",
       "    </tr>\n",
       "    <tr>\n",
       "      <th>997</th>\n",
       "      <td>997</td>\n",
       "      <td>0</td>\n",
       "      <td>0</td>\n",
       "      <td>1</td>\n",
       "      <td>0</td>\n",
       "      <td>2</td>\n",
       "      <td>1</td>\n",
       "      <td>0</td>\n",
       "      <td>1</td>\n",
       "    </tr>\n",
       "    <tr>\n",
       "      <th>998</th>\n",
       "      <td>998</td>\n",
       "      <td>0</td>\n",
       "      <td>0</td>\n",
       "      <td>2</td>\n",
       "      <td>0</td>\n",
       "      <td>0</td>\n",
       "      <td>0</td>\n",
       "      <td>0</td>\n",
       "      <td>0</td>\n",
       "    </tr>\n",
       "    <tr>\n",
       "      <th>999</th>\n",
       "      <td>999</td>\n",
       "      <td>1</td>\n",
       "      <td>0</td>\n",
       "      <td>1</td>\n",
       "      <td>1</td>\n",
       "      <td>0</td>\n",
       "      <td>0</td>\n",
       "      <td>1</td>\n",
       "      <td>0</td>\n",
       "    </tr>\n",
       "  </tbody>\n",
       "</table>\n",
       "<p>1000 rows × 9 columns</p>\n",
       "</div>"
      ],
      "text/plain": [
       "     userid  p0  p1  p2  p3  p4  p5  p6  p7\n",
       "0         0   0   0   1   2   0   1   1   0\n",
       "1         1   1   0   0   1   0   0   1   0\n",
       "2         2   0   1   1   0   0   1   1   2\n",
       "3         3   0   1   0   0   0   0   0   0\n",
       "4         4   1   1   0   0   1   1   1   0\n",
       "..      ...  ..  ..  ..  ..  ..  ..  ..  ..\n",
       "995     995   1   1   2   0   1   1   0   0\n",
       "996     996   0   1   0   0   1   0   2   0\n",
       "997     997   0   0   1   0   2   1   0   1\n",
       "998     998   0   0   2   0   0   0   0   0\n",
       "999     999   1   0   1   1   0   0   1   0\n",
       "\n",
       "[1000 rows x 9 columns]"
      ]
     },
     "execution_count": 3,
     "metadata": {},
     "output_type": "execute_result"
    }
   ],
   "source": [
    "# 1. Generate data\n",
    "num_prod = 8\n",
    "num_users = 1000\n",
    "\n",
    "dt = []\n",
    "for n in range(num_users):\n",
    "    engag = [np.random.binomial(n=5, p=0.1) for i in range(num_prod)]\n",
    "    dt.append([n] + engag)\n",
    "dt = pd.DataFrame(dt, columns=['userid'] + [f'p{i}' for i in range(num_prod)])\n",
    "dt"
   ]
  },
  {
   "cell_type": "markdown",
   "id": "floating-cross",
   "metadata": {},
   "source": [
    "## Distribution of product engagement"
   ]
  },
  {
   "cell_type": "code",
   "execution_count": 4,
   "id": "brilliant-priority",
   "metadata": {},
   "outputs": [
    {
     "data": {
      "text/plain": [
       "<AxesSubplot:ylabel='Density'>"
      ]
     },
     "execution_count": 4,
     "metadata": {},
     "output_type": "execute_result"
    },
    {
     "data": {
      "image/png": "[encoded data removed]",
      "text/plain": [
       "<Figure size 432x288 with 1 Axes>"
      ]
     },
     "metadata": {
      "needs_background": "light"
     },
     "output_type": "display_data"
    }
   ],
   "source": [
    "ticks = [f'p{i}' for i in range(num_prod)]\n",
    "sns.histplot(data=dt[ticks], stat='density')"
   ]
  },
  {
   "cell_type": "markdown",
   "id": "dressed-being",
   "metadata": {},
   "source": [
    "# 2. RBM\n",
    "Two layers : visible variables and hidden variables"
   ]
  },
  {
   "cell_type": "code",
   "execution_count": 5,
   "id": "beautiful-knowing",
   "metadata": {},
   "outputs": [],
   "source": [
    "num_hiddens = num_prod + num_prod//2\n",
    "\n",
    "visibles = tf.Variable(tf.zeros([num_prod]), tf.float32)\n",
    "hiddens = tf.Variable(tf.zeros([num_hiddens]), tf.float32)\n",
    "\n",
    "W = tf.Variable(tf.zeros([num_prod, num_hiddens]), tf.float32) # initial weights"
   ]
  },
  {
   "cell_type": "code",
   "execution_count": 6,
   "id": "associate-apparel",
   "metadata": {},
   "outputs": [
    {
     "data": {
      "text/plain": [
       "<tf.Variable 'Variable:0' shape=(8, 12) dtype=float32, numpy=\n",
       "array([[0., 0., 0., 0., 0., 0., 0., 0., 0., 0., 0., 0.],\n",
       "       [0., 0., 0., 0., 0., 0., 0., 0., 0., 0., 0., 0.],\n",
       "       [0., 0., 0., 0., 0., 0., 0., 0., 0., 0., 0., 0.],\n",
       "       [0., 0., 0., 0., 0., 0., 0., 0., 0., 0., 0., 0.],\n",
       "       [0., 0., 0., 0., 0., 0., 0., 0., 0., 0., 0., 0.],\n",
       "       [0., 0., 0., 0., 0., 0., 0., 0., 0., 0., 0., 0.],\n",
       "       [0., 0., 0., 0., 0., 0., 0., 0., 0., 0., 0., 0.],\n",
       "       [0., 0., 0., 0., 0., 0., 0., 0., 0., 0., 0., 0.]], dtype=float32)>"
      ]
     },
     "execution_count": 6,
     "metadata": {},
     "output_type": "execute_result"
    }
   ],
   "source": [
    "W"
   ]
  },
  {
   "cell_type": "markdown",
   "id": "wicked-throat",
   "metadata": {},
   "source": [
    "Initial weights"
   ]
  },
  {
   "cell_type": "code",
   "execution_count": 7,
   "id": "intended-teens",
   "metadata": {},
   "outputs": [],
   "source": [
    "v0 = tf.zeros([num_prod], tf.float32)"
   ]
  },
  {
   "cell_type": "code",
   "execution_count": 8,
   "id": "voluntary-brass",
   "metadata": {},
   "outputs": [],
   "source": [
    "def hidden_layer(v0, W, hiddens, verbose=True): # forward propagation\n",
    "    pH_V = tf.nn.sigmoid(tf.matmul([v0], W) + hiddens) # probabilities\n",
    "    hstate = tf.nn.relu(pH_V - tf.random.uniform(tf.shape(pH_V))) # sampling H | x\n",
    "    if verbose:\n",
    "        print(f'p(H|V) shape  : {np.shape(pH_V)}')\n",
    "        print(f'h state shape : {np.shape(hstate)}')\n",
    "        print(f'hidden shape  : {np.shape(hiddens)}')\n",
    "    return hstate"
   ]
  },
  {
   "cell_type": "code",
   "execution_count": 9,
   "id": "driving-experiment",
   "metadata": {},
   "outputs": [],
   "source": [
    "def recon(h0, W, visibles, verbose=True): # backward propagation\n",
    "    pV_H = tf.nn.sigmoid(tf.matmul(h0, tf.transpose(W)) + visibles) # probabilities\n",
    "    vstate = tf.nn.relu(tf.sign(pV_H - tf.random.uniform(tf.shape(pV_H)))) # sampling v | H\n",
    "    if verbose:\n",
    "        print(f'p(V|H) shape  : {np.shape(pV_H)}')\n",
    "        print(f'v state shape : {np.shape(vstate)}')\n",
    "        print(f'visible shape : {np.shape(visibles)}')\n",
    "    return vstate[0]"
   ]
  },
  {
   "cell_type": "code",
   "execution_count": 10,
   "id": "conventional-valuable",
   "metadata": {},
   "outputs": [
    {
     "name": "stdout",
     "output_type": "stream",
     "text": [
      "p(H|V) shape  : (1, 12)\n",
      "h state shape : (1, 12)\n",
      "hidden shape  : (12,)\n"
     ]
    },
    {
     "data": {
      "text/plain": [
       "<tf.Tensor: shape=(1, 12), dtype=float32, numpy=\n",
       "array([[0.05637944, 0.11523974, 0.0671581 , 0.        , 0.4971062 ,\n",
       "        0.        , 0.        , 0.        , 0.03885484, 0.        ,\n",
       "        0.44675887, 0.33551705]], dtype=float32)>"
      ]
     },
     "execution_count": 10,
     "metadata": {},
     "output_type": "execute_result"
    }
   ],
   "source": [
    "h0 = hidden_layer(v0, W, hiddens)\n",
    "h0"
   ]
  },
  {
   "cell_type": "code",
   "execution_count": 11,
   "id": "designed-vitamin",
   "metadata": {},
   "outputs": [
    {
     "name": "stdout",
     "output_type": "stream",
     "text": [
      "p(V|H) shape  : (1, 8)\n",
      "v state shape : (1, 8)\n",
      "visible shape : (8,)\n"
     ]
    },
    {
     "data": {
      "text/plain": [
       "<tf.Tensor: shape=(8,), dtype=float32, numpy=array([0., 1., 0., 1., 0., 1., 1., 1.], dtype=float32)>"
      ]
     },
     "execution_count": 11,
     "metadata": {},
     "output_type": "execute_result"
    }
   ],
   "source": [
    "v0 = recon(h0, W, visibles)\n",
    "v0"
   ]
  },
  {
   "cell_type": "markdown",
   "id": "protective-diabetes",
   "metadata": {},
   "source": [
    "Training RBM"
   ]
  },
  {
   "cell_type": "code",
   "execution_count": 12,
   "id": "unknown-delivery",
   "metadata": {},
   "outputs": [],
   "source": [
    "num_epoch = 100\n",
    "batch_size = 250\n",
    "lr = 0.01"
   ]
  },
  {
   "cell_type": "code",
   "execution_count": 13,
   "id": "adaptive-surface",
   "metadata": {},
   "outputs": [],
   "source": [
    "if 'userid' in dt:\n",
    "    del dt['userid']\n",
    "norm_dt = dt.values / np.linalg.norm(dt.values)\n",
    "\n",
    "train = tf.data.Dataset.from_tensor_slices(\n",
    "    np.float32(norm_dt)).batch(batch_size)"
   ]
  },
  {
   "cell_type": "code",
   "execution_count": 14,
   "id": "artificial-battle",
   "metadata": {},
   "outputs": [],
   "source": [
    "hist = []\n",
    "for epoch in range(num_epoch):\n",
    "    for batch_id, batch in enumerate(train):\n",
    "        \n",
    "        accum_delta = []\n",
    "        accum_loss = []\n",
    "        for n in range(len(batch)):\n",
    "            v0 = batch[n]\n",
    "            h0 = hidden_layer(v0, W, hiddens, verbose=False)\n",
    "            v1 = recon(h0, W, visibles, verbose=False)\n",
    "            h1 = hidden_layer(v1, W, hiddens, verbose=False)\n",
    "\n",
    "            delta = tf.matmul(tf.transpose([v0]), h0) - tf.matmul(tf.transpose([v1]), h1)\n",
    "            accum_delta.append(delta)\n",
    "            accum_loss.append(v1 - batch[n])\n",
    "        \n",
    "        # update weights (gradient descent)\n",
    "        delta = np.mean(accum_delta, axis=0)\n",
    "        W = W + delta * lr\n",
    "        \n",
    "        # update nodes\n",
    "        visibles = visibles + lr * tf.reduce_mean(v0 - v1, 0)\n",
    "        hiddens = hiddens + lr * tf.reduce_mean(h0 - h1, 0)\n",
    "        \n",
    "    # measure error (actual values vs reconstructed visible nodes)\n",
    "    err = np.linalg.norm(np.mean(accum_loss))\n",
    "    hist.append(err)\n",
    "        \n",
    "    #print(f'Epoch {epoch+1:2d} : Loss = {err:.3f}')"
   ]
  },
  {
   "cell_type": "code",
   "execution_count": 15,
   "id": "advisory-massage",
   "metadata": {},
   "outputs": [
    {
     "name": "stderr",
     "output_type": "stream",
     "text": [
      "/Users/pataoengineer/opt/miniconda3/lib/python3.7/site-packages/seaborn/_decorators.py:43: FutureWarning: Pass the following variables as keyword args: x, y. From version 0.12, the only valid positional argument will be `data`, and passing other arguments without an explicit keyword will result in an error or misinterpretation.\n",
      "  FutureWarning\n"
     ]
    },
    {
     "data": {
      "text/plain": [
       "<AxesSubplot:>"
      ]
     },
     "execution_count": 15,
     "metadata": {},
     "output_type": "execute_result"
    },
    {
     "data": {
      "image/png": "[encoded data removed]",
      "text/plain": [
       "<Figure size 432x288 with 1 Axes>"
      ]
     },
     "metadata": {
      "needs_background": "light"
     },
     "output_type": "display_data"
    }
   ],
   "source": [
    "sns.lineplot(hist, np.arange(num_epoch))"
   ]
  },
  {
   "cell_type": "code",
   "execution_count": 16,
   "id": "informal-vertex",
   "metadata": {},
   "outputs": [
    {
     "data": {
      "text/plain": [
       "<tf.Tensor: shape=(8, 12), dtype=float32, numpy=\n",
       "array([[-0.12624288, -0.13076861, -0.12813702, -0.12818725, -0.13071075,\n",
       "        -0.12917918, -0.128032  , -0.12890904, -0.12481257, -0.12914237,\n",
       "        -0.1260244 , -0.13294582],\n",
       "       [-0.12575586, -0.12774177, -0.1254813 , -0.12752295, -0.13005468,\n",
       "        -0.12838814, -0.12673198, -0.12641747, -0.12324131, -0.1269685 ,\n",
       "        -0.123993  , -0.1306049 ],\n",
       "       [-0.1276756 , -0.12881753, -0.12707253, -0.12911375, -0.12960638,\n",
       "        -0.12939441, -0.12840253, -0.12810272, -0.12551583, -0.1272088 ,\n",
       "        -0.12702002, -0.13122799],\n",
       "       [-0.12867238, -0.13162299, -0.127779  , -0.13052039, -0.13148461,\n",
       "        -0.13130356, -0.13008943, -0.13006638, -0.12418298, -0.1267928 ,\n",
       "        -0.12608889, -0.13106805],\n",
       "       [-0.12621906, -0.12983583, -0.12924127, -0.12981819, -0.13012822,\n",
       "        -0.13046981, -0.12900133, -0.12880579, -0.12629409, -0.12817734,\n",
       "        -0.12547196, -0.13209817],\n",
       "       [-0.12557562, -0.13000476, -0.12703946, -0.12704168, -0.1303107 ,\n",
       "        -0.12973076, -0.12811708, -0.12739265, -0.12379148, -0.12736826,\n",
       "        -0.12536794, -0.12961324],\n",
       "       [-0.1265662 , -0.13068385, -0.12682839, -0.1272186 , -0.1297716 ,\n",
       "        -0.12777771, -0.12842347, -0.12626404, -0.12429276, -0.12696855,\n",
       "        -0.12480872, -0.13012299],\n",
       "       [-0.12732188, -0.12956803, -0.1280089 , -0.12909596, -0.13095342,\n",
       "        -0.1291681 , -0.13013175, -0.12996648, -0.12473104, -0.1267428 ,\n",
       "        -0.12578462, -0.1304908 ]], dtype=float32)>"
      ]
     },
     "execution_count": 16,
     "metadata": {},
     "output_type": "execute_result"
    }
   ],
   "source": [
    "W"
   ]
  },
  {
   "cell_type": "markdown",
   "id": "foster-feature",
   "metadata": {},
   "source": [
    "Test recommendation with RBM"
   ]
  },
  {
   "cell_type": "code",
   "execution_count": 17,
   "id": "political-london",
   "metadata": {},
   "outputs": [
    {
     "data": {
      "text/plain": [
       "<tf.Tensor: shape=(3, 8), dtype=float32, numpy=\n",
       "array([[0.57735026, 0.        , 0.        , 0.28867513, 0.28867513,\n",
       "        0.        , 0.28867513, 0.28867513],\n",
       "       [0.28867513, 0.        , 0.        , 0.        , 0.        ,\n",
       "        0.        , 0.        , 0.        ],\n",
       "       [0.        , 0.28867513, 0.        , 0.        , 0.28867513,\n",
       "        0.        , 0.        , 0.28867513]], dtype=float32)>"
      ]
     },
     "execution_count": 17,
     "metadata": {},
     "output_type": "execute_result"
    }
   ],
   "source": [
    "U = tf.convert_to_tensor([\n",
    "    [2, 0, 0, 1, 1, 0, 1, 1],\n",
    "    [1, 0, 0, 0, 0, 0, 0, 0],\n",
    "    [0, 1, 0, 0, 1, 0, 0, 1]\n",
    "], dtype=tf.float32)\n",
    "U = U / np.linalg.norm(U)\n",
    "U"
   ]
  },
  {
   "cell_type": "code",
   "execution_count": 18,
   "id": "vanilla-minimum",
   "metadata": {},
   "outputs": [],
   "source": [
    "vv = []\n",
    "for u in U:\n",
    "    h0 = hidden_layer(u, W, hiddens, verbose=False)\n",
    "    v1 = recon(h0, W, visibles, verbose=False)\n",
    "    vv.append(v1.numpy())"
   ]
  },
  {
   "cell_type": "code",
   "execution_count": 19,
   "id": "subsequent-bridal",
   "metadata": {},
   "outputs": [
    {
     "data": {
      "text/plain": [
       "<tf.Tensor: shape=(3, 8), dtype=float32, numpy=\n",
       "array([[0.57735026, 0.        , 0.        , 0.28867513, 0.28867513,\n",
       "        0.        , 0.28867513, 0.28867513],\n",
       "       [0.28867513, 0.        , 0.        , 0.        , 0.        ,\n",
       "        0.        , 0.        , 0.        ],\n",
       "       [0.        , 0.28867513, 0.        , 0.        , 0.28867513,\n",
       "        0.        , 0.        , 0.28867513]], dtype=float32)>"
      ]
     },
     "execution_count": 19,
     "metadata": {},
     "output_type": "execute_result"
    }
   ],
   "source": [
    "U # original"
   ]
  },
  {
   "cell_type": "code",
   "execution_count": 20,
   "id": "located-words",
   "metadata": {},
   "outputs": [
    {
     "data": {
      "text/plain": [
       "[array([0., 0., 0., 0., 0., 0., 1., 0.], dtype=float32),\n",
       " array([0., 0., 1., 0., 0., 0., 0., 0.], dtype=float32),\n",
       " array([1., 1., 1., 1., 0., 1., 0., 1.], dtype=float32)]"
      ]
     },
     "execution_count": 20,
     "metadata": {},
     "output_type": "execute_result"
    }
   ],
   "source": [
    "vv # prediction"
   ]
  },
  {
   "cell_type": "code",
   "execution_count": 21,
   "id": "increased-envelope",
   "metadata": {},
   "outputs": [
    {
     "data": {
      "text/plain": [
       "2.6959133"
      ]
     },
     "execution_count": 21,
     "metadata": {},
     "output_type": "execute_result"
    }
   ],
   "source": [
    "np.linalg.norm(U-vv)"
   ]
  },
  {
   "cell_type": "code",
   "execution_count": null,
   "id": "rocky-standing",
   "metadata": {},
   "outputs": [],
   "source": []
  }
 ],
 "metadata": {
  "kernelspec": {
   "display_name": "Python 3",
   "language": "python",
   "name": "python3"
  },
  "language_info": {
   "codemirror_mode": {
    "name": "ipython",
    "version": 3
   },
   "file_extension": ".py",
   "mimetype": "text/x-python",
   "name": "python",
   "nbconvert_exporter": "python",
   "pygments_lexer": "ipython3",
   "version": "3.7.6"
  }
 },
 "nbformat": 4,
 "nbformat_minor": 5
}
